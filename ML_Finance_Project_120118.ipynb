{
 "cells": [
  {
   "cell_type": "code",
   "execution_count": 120,
   "metadata": {},
   "outputs": [],
   "source": [
    "import matplotlib.pyplot as plt\n",
    "import numpy as np\n",
    "import pandas as pd\n",
    "from scipy import stats\n",
    "import seaborn as sns\n",
    "import pandas_profiling\n",
    "import math\n",
    "from sklearn import linear_model\n",
    "from sklearn.metrics import r2_score\n",
    "\n",
    "import plotly.graph_objs as go\n",
    "from datetime import datetime\n",
    "\n",
    "import plotly.tools as tls\n",
    "import plotly.plotly as py\n",
    "import cufflinks as cf\n",
    "# tls.set_credentials_file(username='VIvidh',api_key='5RTkH4bVaeoz7EkYo2ce')\n",
    "tls.set_credentials_file(username='khajanchi.a',api_key='wT2YKtKVrzkjNzaOGCrF')"
   ]
  },
  {
   "cell_type": "code",
   "execution_count": 121,
   "metadata": {},
   "outputs": [],
   "source": [
    "#Loading all the csv files\n",
    "df_bitcoin = pd.read_excel(\"BITCOIN_FINAL.xlsx\")\n",
    "df_ethereum = pd.read_excel(\"ETHEREUM.xlsx\")\n",
    "df_litecoin = pd.read_excel(\"LITECOIN.xlsx\")"
   ]
  },
  {
   "cell_type": "code",
   "execution_count": 122,
   "metadata": {
    "scrolled": false
   },
   "outputs": [
    {
     "data": {
      "text/html": [
       "<div>\n",
       "<style>\n",
       "    .dataframe thead tr:only-child th {\n",
       "        text-align: right;\n",
       "    }\n",
       "\n",
       "    .dataframe thead th {\n",
       "        text-align: left;\n",
       "    }\n",
       "\n",
       "    .dataframe tbody tr th {\n",
       "        vertical-align: top;\n",
       "    }\n",
       "</style>\n",
       "<table border=\"1\" class=\"dataframe\">\n",
       "  <thead>\n",
       "    <tr style=\"text-align: right;\">\n",
       "      <th></th>\n",
       "      <th>Open</th>\n",
       "      <th>High</th>\n",
       "      <th>Low</th>\n",
       "      <th>Close</th>\n",
       "      <th>Market Cap</th>\n",
       "    </tr>\n",
       "  </thead>\n",
       "  <tbody>\n",
       "    <tr>\n",
       "      <th>count</th>\n",
       "      <td>2048.000000</td>\n",
       "      <td>2048.000000</td>\n",
       "      <td>2048.000000</td>\n",
       "      <td>2048.000000</td>\n",
       "      <td>2.048000e+03</td>\n",
       "    </tr>\n",
       "    <tr>\n",
       "      <th>mean</th>\n",
       "      <td>2290.725952</td>\n",
       "      <td>2359.822891</td>\n",
       "      <td>2212.478809</td>\n",
       "      <td>2292.293672</td>\n",
       "      <td>3.794584e+10</td>\n",
       "    </tr>\n",
       "    <tr>\n",
       "      <th>std</th>\n",
       "      <td>3434.994489</td>\n",
       "      <td>3560.133187</td>\n",
       "      <td>3282.145547</td>\n",
       "      <td>3434.576427</td>\n",
       "      <td>5.847555e+10</td>\n",
       "    </tr>\n",
       "    <tr>\n",
       "      <th>min</th>\n",
       "      <td>68.500000</td>\n",
       "      <td>74.560000</td>\n",
       "      <td>65.530000</td>\n",
       "      <td>68.430000</td>\n",
       "      <td>7.784112e+08</td>\n",
       "    </tr>\n",
       "    <tr>\n",
       "      <th>25%</th>\n",
       "      <td>321.835000</td>\n",
       "      <td>329.505000</td>\n",
       "      <td>313.847500</td>\n",
       "      <td>322.402500</td>\n",
       "      <td>4.397783e+09</td>\n",
       "    </tr>\n",
       "    <tr>\n",
       "      <th>50%</th>\n",
       "      <td>600.780000</td>\n",
       "      <td>608.195000</td>\n",
       "      <td>587.685000</td>\n",
       "      <td>600.960000</td>\n",
       "      <td>8.194044e+09</td>\n",
       "    </tr>\n",
       "    <tr>\n",
       "      <th>75%</th>\n",
       "      <td>2680.025000</td>\n",
       "      <td>2764.075000</td>\n",
       "      <td>2582.065000</td>\n",
       "      <td>2675.537500</td>\n",
       "      <td>4.399961e+10</td>\n",
       "    </tr>\n",
       "    <tr>\n",
       "      <th>max</th>\n",
       "      <td>19475.800000</td>\n",
       "      <td>20089.000000</td>\n",
       "      <td>18974.100000</td>\n",
       "      <td>19497.400000</td>\n",
       "      <td>3.265025e+11</td>\n",
       "    </tr>\n",
       "  </tbody>\n",
       "</table>\n",
       "</div>"
      ],
      "text/plain": [
       "               Open          High           Low         Close    Market Cap\n",
       "count   2048.000000   2048.000000   2048.000000   2048.000000  2.048000e+03\n",
       "mean    2290.725952   2359.822891   2212.478809   2292.293672  3.794584e+10\n",
       "std     3434.994489   3560.133187   3282.145547   3434.576427  5.847555e+10\n",
       "min       68.500000     74.560000     65.530000     68.430000  7.784112e+08\n",
       "25%      321.835000    329.505000    313.847500    322.402500  4.397783e+09\n",
       "50%      600.780000    608.195000    587.685000    600.960000  8.194044e+09\n",
       "75%     2680.025000   2764.075000   2582.065000   2675.537500  4.399961e+10\n",
       "max    19475.800000  20089.000000  18974.100000  19497.400000  3.265025e+11"
      ]
     },
     "execution_count": 122,
     "metadata": {},
     "output_type": "execute_result"
    }
   ],
   "source": [
    "df_bitcoin.describe()"
   ]
  },
  {
   "cell_type": "code",
   "execution_count": 123,
   "metadata": {},
   "outputs": [
    {
     "data": {
      "text/html": [
       "<div>\n",
       "<style>\n",
       "    .dataframe thead tr:only-child th {\n",
       "        text-align: right;\n",
       "    }\n",
       "\n",
       "    .dataframe thead th {\n",
       "        text-align: left;\n",
       "    }\n",
       "\n",
       "    .dataframe tbody tr th {\n",
       "        vertical-align: top;\n",
       "    }\n",
       "</style>\n",
       "<table border=\"1\" class=\"dataframe\">\n",
       "  <thead>\n",
       "    <tr style=\"text-align: right;\">\n",
       "      <th></th>\n",
       "      <th>Date</th>\n",
       "      <th>Open</th>\n",
       "      <th>High</th>\n",
       "      <th>Low</th>\n",
       "      <th>Close</th>\n",
       "      <th>Volume</th>\n",
       "      <th>Market Cap</th>\n",
       "    </tr>\n",
       "  </thead>\n",
       "  <tbody>\n",
       "    <tr>\n",
       "      <th>0</th>\n",
       "      <td>2018-12-05</td>\n",
       "      <td>3958.89</td>\n",
       "      <td>3969.54</td>\n",
       "      <td>3753.99</td>\n",
       "      <td>3753.99</td>\n",
       "      <td>5302481574</td>\n",
       "      <td>65352496336</td>\n",
       "    </tr>\n",
       "    <tr>\n",
       "      <th>1</th>\n",
       "      <td>2018-12-04</td>\n",
       "      <td>3886.29</td>\n",
       "      <td>4075.63</td>\n",
       "      <td>3832.75</td>\n",
       "      <td>3956.89</td>\n",
       "      <td>5028069239</td>\n",
       "      <td>68878292608</td>\n",
       "    </tr>\n",
       "    <tr>\n",
       "      <th>2</th>\n",
       "      <td>2018-12-03</td>\n",
       "      <td>4147.32</td>\n",
       "      <td>4155.98</td>\n",
       "      <td>3840.45</td>\n",
       "      <td>3894.13</td>\n",
       "      <td>5089570994</td>\n",
       "      <td>67779050170</td>\n",
       "    </tr>\n",
       "    <tr>\n",
       "      <th>3</th>\n",
       "      <td>2018-12-02</td>\n",
       "      <td>4200.73</td>\n",
       "      <td>4301.52</td>\n",
       "      <td>4110.98</td>\n",
       "      <td>4139.88</td>\n",
       "      <td>5262697895</td>\n",
       "      <td>72050487506</td>\n",
       "    </tr>\n",
       "    <tr>\n",
       "      <th>4</th>\n",
       "      <td>2018-12-01</td>\n",
       "      <td>4024.46</td>\n",
       "      <td>4309.38</td>\n",
       "      <td>3969.71</td>\n",
       "      <td>4214.67</td>\n",
       "      <td>5375314093</td>\n",
       "      <td>73346194969</td>\n",
       "    </tr>\n",
       "  </tbody>\n",
       "</table>\n",
       "</div>"
      ],
      "text/plain": [
       "        Date     Open     High      Low    Close      Volume   Market Cap\n",
       "0 2018-12-05  3958.89  3969.54  3753.99  3753.99  5302481574  65352496336\n",
       "1 2018-12-04  3886.29  4075.63  3832.75  3956.89  5028069239  68878292608\n",
       "2 2018-12-03  4147.32  4155.98  3840.45  3894.13  5089570994  67779050170\n",
       "3 2018-12-02  4200.73  4301.52  4110.98  4139.88  5262697895  72050487506\n",
       "4 2018-12-01  4024.46  4309.38  3969.71  4214.67  5375314093  73346194969"
      ]
     },
     "execution_count": 123,
     "metadata": {},
     "output_type": "execute_result"
    }
   ],
   "source": [
    "df_bitcoin.head()"
   ]
  },
  {
   "cell_type": "code",
   "execution_count": 124,
   "metadata": {
    "collapsed": true
   },
   "outputs": [],
   "source": [
    "df_bitcoin = df_bitcoin[df_bitcoin[\"Volume\"] != '-']"
   ]
  },
  {
   "cell_type": "code",
   "execution_count": 125,
   "metadata": {},
   "outputs": [
    {
     "data": {
      "text/html": [
       "<div>\n",
       "<style>\n",
       "    .dataframe thead tr:only-child th {\n",
       "        text-align: right;\n",
       "    }\n",
       "\n",
       "    .dataframe thead th {\n",
       "        text-align: left;\n",
       "    }\n",
       "\n",
       "    .dataframe tbody tr th {\n",
       "        vertical-align: top;\n",
       "    }\n",
       "</style>\n",
       "<table border=\"1\" class=\"dataframe\">\n",
       "  <thead>\n",
       "    <tr style=\"text-align: right;\">\n",
       "      <th></th>\n",
       "      <th>Date</th>\n",
       "      <th>Open</th>\n",
       "      <th>High</th>\n",
       "      <th>Low</th>\n",
       "      <th>Close</th>\n",
       "      <th>Volume</th>\n",
       "      <th>Market Cap</th>\n",
       "    </tr>\n",
       "  </thead>\n",
       "  <tbody>\n",
       "    <tr>\n",
       "      <th>0</th>\n",
       "      <td>2018-12-05</td>\n",
       "      <td>3958.89</td>\n",
       "      <td>3969.54</td>\n",
       "      <td>3753.99</td>\n",
       "      <td>3753.99</td>\n",
       "      <td>5302481574</td>\n",
       "      <td>65352496336</td>\n",
       "    </tr>\n",
       "    <tr>\n",
       "      <th>1</th>\n",
       "      <td>2018-12-04</td>\n",
       "      <td>3886.29</td>\n",
       "      <td>4075.63</td>\n",
       "      <td>3832.75</td>\n",
       "      <td>3956.89</td>\n",
       "      <td>5028069239</td>\n",
       "      <td>68878292608</td>\n",
       "    </tr>\n",
       "    <tr>\n",
       "      <th>2</th>\n",
       "      <td>2018-12-03</td>\n",
       "      <td>4147.32</td>\n",
       "      <td>4155.98</td>\n",
       "      <td>3840.45</td>\n",
       "      <td>3894.13</td>\n",
       "      <td>5089570994</td>\n",
       "      <td>67779050170</td>\n",
       "    </tr>\n",
       "    <tr>\n",
       "      <th>3</th>\n",
       "      <td>2018-12-02</td>\n",
       "      <td>4200.73</td>\n",
       "      <td>4301.52</td>\n",
       "      <td>4110.98</td>\n",
       "      <td>4139.88</td>\n",
       "      <td>5262697895</td>\n",
       "      <td>72050487506</td>\n",
       "    </tr>\n",
       "    <tr>\n",
       "      <th>4</th>\n",
       "      <td>2018-12-01</td>\n",
       "      <td>4024.46</td>\n",
       "      <td>4309.38</td>\n",
       "      <td>3969.71</td>\n",
       "      <td>4214.67</td>\n",
       "      <td>5375314093</td>\n",
       "      <td>73346194969</td>\n",
       "    </tr>\n",
       "  </tbody>\n",
       "</table>\n",
       "</div>"
      ],
      "text/plain": [
       "        Date     Open     High      Low    Close      Volume   Market Cap\n",
       "0 2018-12-05  3958.89  3969.54  3753.99  3753.99  5302481574  65352496336\n",
       "1 2018-12-04  3886.29  4075.63  3832.75  3956.89  5028069239  68878292608\n",
       "2 2018-12-03  4147.32  4155.98  3840.45  3894.13  5089570994  67779050170\n",
       "3 2018-12-02  4200.73  4301.52  4110.98  4139.88  5262697895  72050487506\n",
       "4 2018-12-01  4024.46  4309.38  3969.71  4214.67  5375314093  73346194969"
      ]
     },
     "execution_count": 125,
     "metadata": {},
     "output_type": "execute_result"
    }
   ],
   "source": [
    "df_bitcoin.head()"
   ]
  },
  {
   "cell_type": "code",
   "execution_count": 126,
   "metadata": {},
   "outputs": [
    {
     "name": "stdout",
     "output_type": "stream",
     "text": [
      "<class 'pandas.core.frame.DataFrame'>\n",
      "Int64Index: 1805 entries, 0 to 1804\n",
      "Data columns (total 7 columns):\n",
      "Date          1805 non-null datetime64[ns]\n",
      "Open          1805 non-null float64\n",
      "High          1805 non-null float64\n",
      "Low           1805 non-null float64\n",
      "Close         1805 non-null float64\n",
      "Volume        1805 non-null object\n",
      "Market Cap    1805 non-null int64\n",
      "dtypes: datetime64[ns](1), float64(4), int64(1), object(1)\n",
      "memory usage: 112.8+ KB\n"
     ]
    }
   ],
   "source": [
    "df_bitcoin.info()"
   ]
  },
  {
   "cell_type": "code",
   "execution_count": 127,
   "metadata": {
    "collapsed": true
   },
   "outputs": [],
   "source": [
    "df_bitcoin['Volume'] = df_bitcoin['Volume'].astype(float)"
   ]
  },
  {
   "cell_type": "code",
   "execution_count": 128,
   "metadata": {
    "collapsed": true
   },
   "outputs": [],
   "source": [
    "df_bitcoin['Avg_Price'] = (2 * df_bitcoin['Close'] + df_bitcoin['High'] + df_bitcoin['Low']) / 4"
   ]
  },
  {
   "cell_type": "code",
   "execution_count": 129,
   "metadata": {},
   "outputs": [
    {
     "data": {
      "text/html": [
       "<div>\n",
       "<style>\n",
       "    .dataframe thead tr:only-child th {\n",
       "        text-align: right;\n",
       "    }\n",
       "\n",
       "    .dataframe thead th {\n",
       "        text-align: left;\n",
       "    }\n",
       "\n",
       "    .dataframe tbody tr th {\n",
       "        vertical-align: top;\n",
       "    }\n",
       "</style>\n",
       "<table border=\"1\" class=\"dataframe\">\n",
       "  <thead>\n",
       "    <tr style=\"text-align: right;\">\n",
       "      <th></th>\n",
       "      <th>Date</th>\n",
       "      <th>Open</th>\n",
       "      <th>High</th>\n",
       "      <th>Low</th>\n",
       "      <th>Close</th>\n",
       "      <th>Volume</th>\n",
       "      <th>Market Cap</th>\n",
       "      <th>Avg_Price</th>\n",
       "    </tr>\n",
       "  </thead>\n",
       "  <tbody>\n",
       "    <tr>\n",
       "      <th>0</th>\n",
       "      <td>2018-12-05</td>\n",
       "      <td>3958.89</td>\n",
       "      <td>3969.54</td>\n",
       "      <td>3753.99</td>\n",
       "      <td>3753.99</td>\n",
       "      <td>5.302482e+09</td>\n",
       "      <td>65352496336</td>\n",
       "      <td>3807.8775</td>\n",
       "    </tr>\n",
       "    <tr>\n",
       "      <th>1</th>\n",
       "      <td>2018-12-04</td>\n",
       "      <td>3886.29</td>\n",
       "      <td>4075.63</td>\n",
       "      <td>3832.75</td>\n",
       "      <td>3956.89</td>\n",
       "      <td>5.028069e+09</td>\n",
       "      <td>68878292608</td>\n",
       "      <td>3955.5400</td>\n",
       "    </tr>\n",
       "    <tr>\n",
       "      <th>2</th>\n",
       "      <td>2018-12-03</td>\n",
       "      <td>4147.32</td>\n",
       "      <td>4155.98</td>\n",
       "      <td>3840.45</td>\n",
       "      <td>3894.13</td>\n",
       "      <td>5.089571e+09</td>\n",
       "      <td>67779050170</td>\n",
       "      <td>3946.1725</td>\n",
       "    </tr>\n",
       "    <tr>\n",
       "      <th>3</th>\n",
       "      <td>2018-12-02</td>\n",
       "      <td>4200.73</td>\n",
       "      <td>4301.52</td>\n",
       "      <td>4110.98</td>\n",
       "      <td>4139.88</td>\n",
       "      <td>5.262698e+09</td>\n",
       "      <td>72050487506</td>\n",
       "      <td>4173.0650</td>\n",
       "    </tr>\n",
       "    <tr>\n",
       "      <th>4</th>\n",
       "      <td>2018-12-01</td>\n",
       "      <td>4024.46</td>\n",
       "      <td>4309.38</td>\n",
       "      <td>3969.71</td>\n",
       "      <td>4214.67</td>\n",
       "      <td>5.375314e+09</td>\n",
       "      <td>73346194969</td>\n",
       "      <td>4177.1075</td>\n",
       "    </tr>\n",
       "  </tbody>\n",
       "</table>\n",
       "</div>"
      ],
      "text/plain": [
       "        Date     Open     High      Low    Close        Volume   Market Cap  \\\n",
       "0 2018-12-05  3958.89  3969.54  3753.99  3753.99  5.302482e+09  65352496336   \n",
       "1 2018-12-04  3886.29  4075.63  3832.75  3956.89  5.028069e+09  68878292608   \n",
       "2 2018-12-03  4147.32  4155.98  3840.45  3894.13  5.089571e+09  67779050170   \n",
       "3 2018-12-02  4200.73  4301.52  4110.98  4139.88  5.262698e+09  72050487506   \n",
       "4 2018-12-01  4024.46  4309.38  3969.71  4214.67  5.375314e+09  73346194969   \n",
       "\n",
       "   Avg_Price  \n",
       "0  3807.8775  \n",
       "1  3955.5400  \n",
       "2  3946.1725  \n",
       "3  4173.0650  \n",
       "4  4177.1075  "
      ]
     },
     "execution_count": 129,
     "metadata": {},
     "output_type": "execute_result"
    }
   ],
   "source": [
    "df_bitcoin.head()"
   ]
  },
  {
   "cell_type": "code",
   "execution_count": 130,
   "metadata": {
    "collapsed": true,
    "scrolled": true
   },
   "outputs": [],
   "source": [
    "# from sklearn.preprocessing import StandardScaler\n",
    "# from math import sqrt\n",
    "# df_bitcoin_n = df_bitcoin.drop(['Date'], axis=1)\n",
    "# normalise = StandardScaler().fit_transform(df_bitcoin_n.values)\n",
    "# normalise"
   ]
  },
  {
   "cell_type": "code",
   "execution_count": 131,
   "metadata": {},
   "outputs": [
    {
     "data": {
      "text/html": [
       "<div>\n",
       "<style>\n",
       "    .dataframe thead tr:only-child th {\n",
       "        text-align: right;\n",
       "    }\n",
       "\n",
       "    .dataframe thead th {\n",
       "        text-align: left;\n",
       "    }\n",
       "\n",
       "    .dataframe tbody tr th {\n",
       "        vertical-align: top;\n",
       "    }\n",
       "</style>\n",
       "<table border=\"1\" class=\"dataframe\">\n",
       "  <thead>\n",
       "    <tr style=\"text-align: right;\">\n",
       "      <th></th>\n",
       "      <th>Open</th>\n",
       "      <th>High</th>\n",
       "      <th>Low</th>\n",
       "      <th>Close</th>\n",
       "      <th>Volume</th>\n",
       "      <th>Market Cap</th>\n",
       "      <th>Avg_Price</th>\n",
       "    </tr>\n",
       "  </thead>\n",
       "  <tbody>\n",
       "    <tr>\n",
       "      <th>count</th>\n",
       "      <td>1805.000000</td>\n",
       "      <td>1805.000000</td>\n",
       "      <td>1805.000000</td>\n",
       "      <td>1805.000000</td>\n",
       "      <td>1.805000e+03</td>\n",
       "      <td>1.805000e+03</td>\n",
       "      <td>1805.000000</td>\n",
       "    </tr>\n",
       "    <tr>\n",
       "      <th>mean</th>\n",
       "      <td>2566.128000</td>\n",
       "      <td>2642.618111</td>\n",
       "      <td>2479.409817</td>\n",
       "      <td>2567.579989</td>\n",
       "      <td>1.658336e+09</td>\n",
       "      <td>4.265898e+10</td>\n",
       "      <td>2564.296976</td>\n",
       "    </tr>\n",
       "    <tr>\n",
       "      <th>std</th>\n",
       "      <td>3569.236492</td>\n",
       "      <td>3700.883184</td>\n",
       "      <td>3408.055489</td>\n",
       "      <td>3568.838206</td>\n",
       "      <td>3.193376e+09</td>\n",
       "      <td>6.075554e+10</td>\n",
       "      <td>3560.177974</td>\n",
       "    </tr>\n",
       "    <tr>\n",
       "      <th>min</th>\n",
       "      <td>176.900000</td>\n",
       "      <td>211.730000</td>\n",
       "      <td>171.510000</td>\n",
       "      <td>178.100000</td>\n",
       "      <td>2.857830e+06</td>\n",
       "      <td>2.444379e+09</td>\n",
       "      <td>187.900000</td>\n",
       "    </tr>\n",
       "    <tr>\n",
       "      <th>25%</th>\n",
       "      <td>391.690000</td>\n",
       "      <td>402.810000</td>\n",
       "      <td>380.830000</td>\n",
       "      <td>391.440000</td>\n",
       "      <td>2.645690e+07</td>\n",
       "      <td>5.623196e+09</td>\n",
       "      <td>391.865000</td>\n",
       "    </tr>\n",
       "    <tr>\n",
       "      <th>50%</th>\n",
       "      <td>633.430000</td>\n",
       "      <td>643.950000</td>\n",
       "      <td>624.090000</td>\n",
       "      <td>633.020000</td>\n",
       "      <td>7.406470e+07</td>\n",
       "      <td>9.575632e+09</td>\n",
       "      <td>634.802500</td>\n",
       "    </tr>\n",
       "    <tr>\n",
       "      <th>75%</th>\n",
       "      <td>4137.600000</td>\n",
       "      <td>4255.780000</td>\n",
       "      <td>3969.710000</td>\n",
       "      <td>4139.880000</td>\n",
       "      <td>1.905040e+09</td>\n",
       "      <td>6.890735e+10</td>\n",
       "      <td>4145.015000</td>\n",
       "    </tr>\n",
       "    <tr>\n",
       "      <th>max</th>\n",
       "      <td>19475.800000</td>\n",
       "      <td>20089.000000</td>\n",
       "      <td>18974.100000</td>\n",
       "      <td>19497.400000</td>\n",
       "      <td>2.384090e+10</td>\n",
       "      <td>3.265025e+11</td>\n",
       "      <td>19336.175000</td>\n",
       "    </tr>\n",
       "  </tbody>\n",
       "</table>\n",
       "</div>"
      ],
      "text/plain": [
       "               Open          High           Low         Close        Volume  \\\n",
       "count   1805.000000   1805.000000   1805.000000   1805.000000  1.805000e+03   \n",
       "mean    2566.128000   2642.618111   2479.409817   2567.579989  1.658336e+09   \n",
       "std     3569.236492   3700.883184   3408.055489   3568.838206  3.193376e+09   \n",
       "min      176.900000    211.730000    171.510000    178.100000  2.857830e+06   \n",
       "25%      391.690000    402.810000    380.830000    391.440000  2.645690e+07   \n",
       "50%      633.430000    643.950000    624.090000    633.020000  7.406470e+07   \n",
       "75%     4137.600000   4255.780000   3969.710000   4139.880000  1.905040e+09   \n",
       "max    19475.800000  20089.000000  18974.100000  19497.400000  2.384090e+10   \n",
       "\n",
       "         Market Cap     Avg_Price  \n",
       "count  1.805000e+03   1805.000000  \n",
       "mean   4.265898e+10   2564.296976  \n",
       "std    6.075554e+10   3560.177974  \n",
       "min    2.444379e+09    187.900000  \n",
       "25%    5.623196e+09    391.865000  \n",
       "50%    9.575632e+09    634.802500  \n",
       "75%    6.890735e+10   4145.015000  \n",
       "max    3.265025e+11  19336.175000  "
      ]
     },
     "execution_count": 131,
     "metadata": {},
     "output_type": "execute_result"
    }
   ],
   "source": [
    "df_bitcoin.describe()"
   ]
  },
  {
   "cell_type": "code",
   "execution_count": 132,
   "metadata": {},
   "outputs": [
    {
     "data": {
      "text/html": [
       "<iframe id=\"igraph\" scrolling=\"no\" style=\"border:none;\" seamless=\"seamless\" src=\"https://plot.ly/~khajanchi.a/38.embed\" height=\"525px\" width=\"100%\"></iframe>"
      ],
      "text/plain": [
       "<plotly.tools.PlotlyDisplay object>"
      ]
     },
     "execution_count": 132,
     "metadata": {},
     "output_type": "execute_result"
    }
   ],
   "source": [
    "data = [go.Scatter(x=df_bitcoin.Date, y=df_bitcoin.Avg_Price)]\n",
    "py.iplot(data)"
   ]
  },
  {
   "cell_type": "code",
   "execution_count": 133,
   "metadata": {
    "collapsed": true
   },
   "outputs": [],
   "source": [
    "df_bitcoin['Date'] = pd.to_datetime(df_bitcoin['Date'])\n",
    "NewDf = df_bitcoin['Volume'].groupby(df_bitcoin.Date.dt.year).mean()"
   ]
  },
  {
   "cell_type": "code",
   "execution_count": 134,
   "metadata": {},
   "outputs": [
    {
     "data": {
      "text/plain": [
       "Date\n",
       "2013    2.799696e+07\n",
       "2014    2.509365e+07\n",
       "2015    3.390557e+07\n",
       "2016    8.592451e+07\n",
       "2017    2.382867e+09\n",
       "2018    6.107457e+09\n",
       "Name: Volume, dtype: float64"
      ]
     },
     "execution_count": 134,
     "metadata": {},
     "output_type": "execute_result"
    }
   ],
   "source": [
    "NewDf"
   ]
  },
  {
   "cell_type": "code",
   "execution_count": 135,
   "metadata": {},
   "outputs": [
    {
     "data": {
      "text/html": [
       "<iframe id=\"igraph\" scrolling=\"no\" style=\"border:none;\" seamless=\"seamless\" src=\"https://plot.ly/~khajanchi.a/40.embed\" height=\"525px\" width=\"100%\"></iframe>"
      ],
      "text/plain": [
       "<plotly.tools.PlotlyDisplay object>"
      ]
     },
     "execution_count": 135,
     "metadata": {},
     "output_type": "execute_result"
    }
   ],
   "source": [
    "NewDf.iplot(kind='bar')"
   ]
  },
  {
   "cell_type": "code",
   "execution_count": 136,
   "metadata": {},
   "outputs": [
    {
     "data": {
      "text/plain": [
       "Open          1.832561\n",
       "High          1.872715\n",
       "Low           1.762166\n",
       "Close         1.831441\n",
       "Volume        2.847629\n",
       "Market Cap    1.791423\n",
       "Avg_Price     1.821598\n",
       "dtype: float64"
      ]
     },
     "execution_count": 136,
     "metadata": {},
     "output_type": "execute_result"
    }
   ],
   "source": [
    "df_bitcoin.skew()"
   ]
  },
  {
   "cell_type": "code",
   "execution_count": 137,
   "metadata": {},
   "outputs": [
    {
     "data": {
      "text/plain": [
       "Open           3.108727\n",
       "High           3.328618\n",
       "Low            2.714206\n",
       "Close          3.106492\n",
       "Volume        10.094159\n",
       "Market Cap     2.863790\n",
       "Avg_Price      3.041798\n",
       "dtype: float64"
      ]
     },
     "execution_count": 137,
     "metadata": {},
     "output_type": "execute_result"
    }
   ],
   "source": [
    "df_bitcoin.kurt()"
   ]
  },
  {
   "cell_type": "code",
   "execution_count": 138,
   "metadata": {
    "collapsed": true
   },
   "outputs": [],
   "source": [
    "def normfun(x,mu,sigma):\n",
    "    pdf = np.exp(-((x - mu)**2)/(2*sigma**2)) / (sigma * np.sqrt(2*np.pi))\n",
    "    return pdf"
   ]
  },
  {
   "cell_type": "code",
   "execution_count": 139,
   "metadata": {
    "collapsed": true
   },
   "outputs": [],
   "source": [
    "mean = df_bitcoin.Avg_Price.mean()\n",
    "std = df_bitcoin.Avg_Price.std()"
   ]
  },
  {
   "cell_type": "code",
   "execution_count": 140,
   "metadata": {
    "scrolled": false
   },
   "outputs": [
    {
     "data": {
      "image/png": "[encoded data removed]",
      "text/plain": [
       "<matplotlib.figure.Figure at 0x1fc0daa3eb8>"
      ]
     },
     "metadata": {},
     "output_type": "display_data"
    }
   ],
   "source": [
    "plt.rcParams['figure.figsize'] = (15, 9)\n",
    "\n",
    "x = np.arange(-10000,20000,0.1)\n",
    "y = normfun(x, mean, std) \n",
    "plt.plot(x,y)\n",
    "plt.show()"
   ]
  },
  {
   "cell_type": "code",
   "execution_count": 141,
   "metadata": {},
   "outputs": [
    {
     "name": "stderr",
     "output_type": "stream",
     "text": [
      "C:\\ProgramData\\Anaconda3\\lib\\site-packages\\scipy\\stats\\stats.py:1633: FutureWarning:\n",
      "\n",
      "Using a non-tuple sequence for multidimensional indexing is deprecated; use `arr[tuple(seq)]` instead of `arr[seq]`. In the future this will be interpreted as an array index, `arr[np.array(seq)]`, which will result either in an error or a different result.\n",
      "\n"
     ]
    },
    {
     "data": {
      "image/png": "[encoded data removed]",
      "text/plain": [
       "<matplotlib.figure.Figure at 0x1fc0ac39ac8>"
      ]
     },
     "metadata": {},
     "output_type": "display_data"
    }
   ],
   "source": [
    "plt.rcParams['figure.figsize'] = (15, 9)\n",
    "\n",
    "sns.set(color_codes=True)\n",
    "ax = sns.kdeplot(df_bitcoin.Avg_Price)\n",
    "y = normfun(x, mean-1000, 0.12*std) \n",
    "plt.plot(x,y)\n",
    "plt.hist(df_bitcoin.Avg_Price, bins=400, rwidth=1, normed=True)\n",
    "plt.show()"
   ]
  },
  {
   "cell_type": "code",
   "execution_count": 142,
   "metadata": {},
   "outputs": [
    {
     "data": {
      "text/plain": [
       "Date          2018-01-05 00:00:00\n",
       "Open                      15477.2\n",
       "High                      17705.2\n",
       "Low                       15202.8\n",
       "Close                     17429.5\n",
       "Volume                2.38409e+10\n",
       "Market Cap           292544135538\n",
       "Avg_Price                 16941.8\n",
       "Name: 334, dtype: object"
      ]
     },
     "execution_count": 142,
     "metadata": {},
     "output_type": "execute_result"
    }
   ],
   "source": [
    "df_bitcoin.iloc[df_bitcoin[\"Volume\"].idxmax()]"
   ]
  },
  {
   "cell_type": "code",
   "execution_count": 143,
   "metadata": {},
   "outputs": [
    {
     "data": {
      "text/plain": [
       "Date          2014-05-18 00:00:00\n",
       "Open                        448.7\n",
       "High                       449.77\n",
       "Low                        444.78\n",
       "Close                      446.26\n",
       "Volume                2.85783e+06\n",
       "Market Cap             5706165793\n",
       "Avg_Price                 446.767\n",
       "Name: 1662, dtype: object"
      ]
     },
     "execution_count": 143,
     "metadata": {},
     "output_type": "execute_result"
    }
   ],
   "source": [
    "df_bitcoin.iloc[df_bitcoin[\"Volume\"].idxmin()]"
   ]
  },
  {
   "cell_type": "code",
   "execution_count": 144,
   "metadata": {},
   "outputs": [
    {
     "data": {
      "text/html": [
       "<div>\n",
       "<style>\n",
       "    .dataframe thead tr:only-child th {\n",
       "        text-align: right;\n",
       "    }\n",
       "\n",
       "    .dataframe thead th {\n",
       "        text-align: left;\n",
       "    }\n",
       "\n",
       "    .dataframe tbody tr th {\n",
       "        vertical-align: top;\n",
       "    }\n",
       "</style>\n",
       "<table border=\"1\" class=\"dataframe\">\n",
       "  <thead>\n",
       "    <tr style=\"text-align: right;\">\n",
       "      <th></th>\n",
       "      <th>Date</th>\n",
       "      <th>Open</th>\n",
       "      <th>High</th>\n",
       "      <th>Low</th>\n",
       "      <th>Close</th>\n",
       "      <th>Volume</th>\n",
       "      <th>Market Cap</th>\n",
       "      <th>Avg_Price</th>\n",
       "      <th>logVol</th>\n",
       "    </tr>\n",
       "  </thead>\n",
       "  <tbody>\n",
       "    <tr>\n",
       "      <th>0</th>\n",
       "      <td>2018-12-05</td>\n",
       "      <td>3958.89</td>\n",
       "      <td>3969.54</td>\n",
       "      <td>3753.99</td>\n",
       "      <td>3753.99</td>\n",
       "      <td>5.302482e+09</td>\n",
       "      <td>65352496336</td>\n",
       "      <td>3807.8775</td>\n",
       "      <td>22.391441</td>\n",
       "    </tr>\n",
       "    <tr>\n",
       "      <th>1</th>\n",
       "      <td>2018-12-04</td>\n",
       "      <td>3886.29</td>\n",
       "      <td>4075.63</td>\n",
       "      <td>3832.75</td>\n",
       "      <td>3956.89</td>\n",
       "      <td>5.028069e+09</td>\n",
       "      <td>68878292608</td>\n",
       "      <td>3955.5400</td>\n",
       "      <td>22.338302</td>\n",
       "    </tr>\n",
       "    <tr>\n",
       "      <th>2</th>\n",
       "      <td>2018-12-03</td>\n",
       "      <td>4147.32</td>\n",
       "      <td>4155.98</td>\n",
       "      <td>3840.45</td>\n",
       "      <td>3894.13</td>\n",
       "      <td>5.089571e+09</td>\n",
       "      <td>67779050170</td>\n",
       "      <td>3946.1725</td>\n",
       "      <td>22.350459</td>\n",
       "    </tr>\n",
       "    <tr>\n",
       "      <th>3</th>\n",
       "      <td>2018-12-02</td>\n",
       "      <td>4200.73</td>\n",
       "      <td>4301.52</td>\n",
       "      <td>4110.98</td>\n",
       "      <td>4139.88</td>\n",
       "      <td>5.262698e+09</td>\n",
       "      <td>72050487506</td>\n",
       "      <td>4173.0650</td>\n",
       "      <td>22.383910</td>\n",
       "    </tr>\n",
       "    <tr>\n",
       "      <th>4</th>\n",
       "      <td>2018-12-01</td>\n",
       "      <td>4024.46</td>\n",
       "      <td>4309.38</td>\n",
       "      <td>3969.71</td>\n",
       "      <td>4214.67</td>\n",
       "      <td>5.375314e+09</td>\n",
       "      <td>73346194969</td>\n",
       "      <td>4177.1075</td>\n",
       "      <td>22.405083</td>\n",
       "    </tr>\n",
       "  </tbody>\n",
       "</table>\n",
       "</div>"
      ],
      "text/plain": [
       "        Date     Open     High      Low    Close        Volume   Market Cap  \\\n",
       "0 2018-12-05  3958.89  3969.54  3753.99  3753.99  5.302482e+09  65352496336   \n",
       "1 2018-12-04  3886.29  4075.63  3832.75  3956.89  5.028069e+09  68878292608   \n",
       "2 2018-12-03  4147.32  4155.98  3840.45  3894.13  5.089571e+09  67779050170   \n",
       "3 2018-12-02  4200.73  4301.52  4110.98  4139.88  5.262698e+09  72050487506   \n",
       "4 2018-12-01  4024.46  4309.38  3969.71  4214.67  5.375314e+09  73346194969   \n",
       "\n",
       "   Avg_Price     logVol  \n",
       "0  3807.8775  22.391441  \n",
       "1  3955.5400  22.338302  \n",
       "2  3946.1725  22.350459  \n",
       "3  4173.0650  22.383910  \n",
       "4  4177.1075  22.405083  "
      ]
     },
     "execution_count": 144,
     "metadata": {},
     "output_type": "execute_result"
    }
   ],
   "source": [
    "df_bitcoin['logVol'] = np.log(df_bitcoin['Volume'])\n",
    "df_bitcoin.head()"
   ]
  },
  {
   "cell_type": "code",
   "execution_count": 145,
   "metadata": {
    "scrolled": false
   },
   "outputs": [
    {
     "data": {
      "text/html": [
       "<meta charset=\"UTF-8\">\n",
       "\n",
       "<style>\n",
       "\n",
       "        .variablerow {\n",
       "            border: 1px solid #e1e1e8;\n",
       "            border-top: hidden;\n",
       "            padding-top: 2em;\n",
       "            padding-bottom: 2em;\n",
       "            padding-left: 1em;\n",
       "            padding-right: 1em;\n",
       "        }\n",
       "\n",
       "        .headerrow {\n",
       "            border: 1px solid #e1e1e8;\n",
       "            background-color: #f5f5f5;\n",
       "            padding: 2em;\n",
       "        }\n",
       "        .namecol {\n",
       "            margin-top: -1em;\n",
       "            overflow-x: auto;\n",
       "        }\n",
       "\n",
       "        .dl-horizontal dt {\n",
       "            text-align: left;\n",
       "            padding-right: 1em;\n",
       "            white-space: normal;\n",
       "        }\n",
       "\n",
       "        .dl-horizontal dd {\n",
       "            margin-left: 0;\n",
       "        }\n",
       "\n",
       "        .ignore {\n",
       "            opacity: 0.4;\n",
       "        }\n",
       "\n",
       "        .container.pandas-profiling {\n",
       "            max-width:975px;\n",
       "        }\n",
       "\n",
       "        .col-md-12 {\n",
       "            padding-left: 2em;\n",
       "        }\n",
       "\n",
       "        .indent {\n",
       "            margin-left: 1em;\n",
       "        }\n",
       "\n",
       "        .center-img {\n",
       "            margin-left: auto !important;\n",
       "            margin-right: auto !important;\n",
       "            display: block;\n",
       "        }\n",
       "\n",
       "        /* Table example_values */\n",
       "            table.example_values {\n",
       "                border: 0;\n",
       "            }\n",
       "\n",
       "            .example_values th {\n",
       "                border: 0;\n",
       "                padding: 0 ;\n",
       "                color: #555;\n",
       "                font-weight: 600;\n",
       "            }\n",
       "\n",
       "            .example_values tr, .example_values td{\n",
       "                border: 0;\n",
       "                padding: 0;\n",
       "                color: #555;\n",
       "            }\n",
       "\n",
       "        /* STATS */\n",
       "            table.stats {\n",
       "                border: 0;\n",
       "            }\n",
       "\n",
       "            .stats th {\n",
       "                border: 0;\n",
       "                padding: 0 2em 0 0;\n",
       "                color: #555;\n",
       "                font-weight: 600;\n",
       "            }\n",
       "\n",
       "            .stats tr {\n",
       "                border: 0;\n",
       "            }\n",
       "\n",
       "            .stats td{\n",
       "                color: #555;\n",
       "                padding: 1px;\n",
       "                border: 0;\n",
       "            }\n",
       "\n",
       "\n",
       "        /* Sample table */\n",
       "            table.sample {\n",
       "                border: 0;\n",
       "                margin-bottom: 2em;\n",
       "                margin-left:1em;\n",
       "            }\n",
       "            .sample tr {\n",
       "                border:0;\n",
       "            }\n",
       "            .sample td, .sample th{\n",
       "                padding: 0.5em;\n",
       "                white-space: nowrap;\n",
       "                border: none;\n",
       "\n",
       "            }\n",
       "\n",
       "            .sample thead {\n",
       "                border-top: 0;\n",
       "                border-bottom: 2px solid #ddd;\n",
       "            }\n",
       "\n",
       "            .sample td {\n",
       "                width:100%;\n",
       "            }\n",
       "\n",
       "\n",
       "        /* There is no good solution available to make the divs equal height and then center ... */\n",
       "            .histogram {\n",
       "                margin-top: 3em;\n",
       "            }\n",
       "        /* Freq table */\n",
       "\n",
       "            table.freq {\n",
       "                margin-bottom: 2em;\n",
       "                border: 0;\n",
       "            }\n",
       "            table.freq th, table.freq tr, table.freq td {\n",
       "                border: 0;\n",
       "                padding: 0;\n",
       "            }\n",
       "\n",
       "            .freq thead {\n",
       "                font-weight: 600;\n",
       "                white-space: nowrap;\n",
       "                overflow: hidden;\n",
       "                text-overflow: ellipsis;\n",
       "\n",
       "            }\n",
       "\n",
       "            td.fillremaining{\n",
       "                width:auto;\n",
       "                max-width: none;\n",
       "            }\n",
       "\n",
       "            td.number, th.number {\n",
       "                text-align:right ;\n",
       "            }\n",
       "\n",
       "        /* Freq mini */\n",
       "            .freq.mini td{\n",
       "                width: 50%;\n",
       "                padding: 1px;\n",
       "                font-size: 12px;\n",
       "\n",
       "            }\n",
       "            table.freq.mini {\n",
       "                 width:100%;\n",
       "            }\n",
       "            .freq.mini th {\n",
       "                overflow: hidden;\n",
       "                text-overflow: ellipsis;\n",
       "                white-space: nowrap;\n",
       "                max-width: 5em;\n",
       "                font-weight: 400;\n",
       "                text-align:right;\n",
       "                padding-right: 0.5em;\n",
       "            }\n",
       "\n",
       "            .missing {\n",
       "                color: #a94442;\n",
       "            }\n",
       "            .alert, .alert > th, .alert > td {\n",
       "                color: #a94442;\n",
       "            }\n",
       "\n",
       "\n",
       "        /* Bars in tables */\n",
       "            .freq .bar{\n",
       "                float: left;\n",
       "                width: 0;\n",
       "                height: 100%;\n",
       "                line-height: 20px;\n",
       "                color: #fff;\n",
       "                text-align: center;\n",
       "                background-color: #337ab7;\n",
       "                border-radius: 3px;\n",
       "                margin-right: 4px;\n",
       "            }\n",
       "            .other .bar {\n",
       "                background-color: #999;\n",
       "            }\n",
       "            .missing .bar{\n",
       "                background-color: #a94442;\n",
       "            }\n",
       "            .tooltip-inner {\n",
       "                width: 100%;\n",
       "                white-space: nowrap;\n",
       "                text-align:left;\n",
       "            }\n",
       "\n",
       "            .extrapadding{\n",
       "                padding: 2em;\n",
       "            }\n",
       "\n",
       "            .pp-anchor{\n",
       "\n",
       "            }\n",
       "\n",
       "</style>\n",
       "\n",
       "<div class=\"container pandas-profiling\">\n",
       "    <div class=\"row headerrow highlight\">\n",
       "        <h1>Overview</h1>\n",
       "    </div>\n",
       "    <div class=\"row variablerow\">\n",
       "    <div class=\"col-md-6 namecol\">\n",
       "        <p class=\"h4\">Dataset info</p>\n",
       "        <table class=\"stats\" style=\"margin-left: 1em;\">\n",
       "            <tbody>\n",
       "            <tr>\n",
       "                <th>Number of variables</th>\n",
       "                <td>9 </td>\n",
       "            </tr>\n",
       "            <tr>\n",
       "                <th>Number of observations</th>\n",
       "                <td>1805 </td>\n",
       "            </tr>\n",
       "            <tr>\n",
       "                <th>Total Missing (%)</th>\n",
       "                <td>0.0% </td>\n",
       "            </tr>\n",
       "            <tr>\n",
       "                <th>Total size in memory</th>\n",
       "                <td>221.0 KiB </td>\n",
       "            </tr>\n",
       "            <tr>\n",
       "                <th>Average record size in memory</th>\n",
       "                <td>125.4 B </td>\n",
       "            </tr>\n",
       "            </tbody>\n",
       "        </table>\n",
       "    </div>\n",
       "    <div class=\"col-md-6 namecol\">\n",
       "        <p class=\"h4\">Variables types</p>\n",
       "        <table class=\"stats\" style=\"margin-left: 1em;\">\n",
       "            <tbody>\n",
       "            <tr>\n",
       "                <th>Numeric</th>\n",
       "                <td>2 </td>\n",
       "            </tr>\n",
       "            <tr>\n",
       "                <th>Categorical</th>\n",
       "                <td>0 </td>\n",
       "            </tr>\n",
       "            <tr>\n",
       "                <th>Boolean</th>\n",
       "                <td>0 </td>\n",
       "            </tr>\n",
       "            <tr>\n",
       "                <th>Date</th>\n",
       "                <td>1 </td>\n",
       "            </tr>\n",
       "            <tr>\n",
       "                <th>Text (Unique)</th>\n",
       "                <td>0 </td>\n",
       "            </tr>\n",
       "            <tr>\n",
       "                <th>Rejected</th>\n",
       "                <td>6 </td>\n",
       "            </tr>\n",
       "            <tr>\n",
       "                <th>Unsupported</th>\n",
       "                <td>0 </td>\n",
       "            </tr>\n",
       "            </tbody>\n",
       "        </table>\n",
       "    </div>\n",
       "    <div class=\"col-md-12\" style=\"padding-left: 1em;\">\n",
       "        \n",
       "        <p class=\"h4\">Warnings</p>\n",
       "        <ul class=\"list-unstyled\"><li><a href=\"#pp_var_Avg_Price\"><code>Avg_Price</code></a> is highly correlated with <a href=\"#pp_var_Market Cap\"><code>Market Cap</code></a> (ρ = 0.9997) <span class=\"label label-primary\">Rejected</span></li><li><a href=\"#pp_var_Close\"><code>Close</code></a> is highly correlated with <a href=\"#pp_var_Low\"><code>Low</code></a> (ρ = 0.99866) <span class=\"label label-primary\">Rejected</span></li><li><a href=\"#pp_var_High\"><code>High</code></a> is highly correlated with <a href=\"#pp_var_Open\"><code>Open</code></a> (ρ = 0.99887) <span class=\"label label-primary\">Rejected</span></li><li><a href=\"#pp_var_Low\"><code>Low</code></a> is highly correlated with <a href=\"#pp_var_High\"><code>High</code></a> (ρ = 0.99781) <span class=\"label label-primary\">Rejected</span></li><li><a href=\"#pp_var_Market Cap\"><code>Market Cap</code></a> is highly correlated with <a href=\"#pp_var_Volume\"><code>Volume</code></a> (ρ = 0.93832) <span class=\"label label-primary\">Rejected</span></li><li><a href=\"#pp_var_Volume\"><code>Volume</code></a> is highly correlated with <a href=\"#pp_var_Close\"><code>Close</code></a> (ρ = 0.93923) <span class=\"label label-primary\">Rejected</span></li> </ul>\n",
       "    </div>\n",
       "</div>\n",
       "    <div class=\"row headerrow highlight\">\n",
       "        <h1>Variables</h1>\n",
       "    </div>\n",
       "    <div class=\"row variablerow ignore\">\n",
       "    <div class=\"col-md-3 namecol\">\n",
       "        <p class=\"h4 pp-anchor\" id=\"pp_var_Avg_Price\"><s>Avg_Price</s><br/>\n",
       "            <small>Highly correlated</small>\n",
       "        </p>\n",
       "    </div><div class=\"col-md-3\">\n",
       "    <p><em>This variable is highly correlated with <a href=\"#pp_var_Market Cap\"><code>Market Cap</code></a> and should be ignored for analysis</em></p>\n",
       "</div>\n",
       "<div class=\"col-md-6\">\n",
       "    <table class=\"stats \">\n",
       "        <tr>\n",
       "            <th>Correlation</th>\n",
       "            <td>0.9997</td>\n",
       "        </tr>\n",
       "    </table>\n",
       "</div>\n",
       "</div><div class=\"row variablerow ignore\">\n",
       "    <div class=\"col-md-3 namecol\">\n",
       "        <p class=\"h4 pp-anchor\" id=\"pp_var_Close\"><s>Close</s><br/>\n",
       "            <small>Highly correlated</small>\n",
       "        </p>\n",
       "    </div><div class=\"col-md-3\">\n",
       "    <p><em>This variable is highly correlated with <a href=\"#pp_var_Low\"><code>Low</code></a> and should be ignored for analysis</em></p>\n",
       "</div>\n",
       "<div class=\"col-md-6\">\n",
       "    <table class=\"stats \">\n",
       "        <tr>\n",
       "            <th>Correlation</th>\n",
       "            <td>0.99866</td>\n",
       "        </tr>\n",
       "    </table>\n",
       "</div>\n",
       "</div><div class=\"row variablerow\">\n",
       "    <div class=\"col-md-3 namecol\">\n",
       "        <p class=\"h4 pp-anchor\" id=\"pp_var_Date\">Date<br/>\n",
       "            <small>Date</small>\n",
       "        </p>\n",
       "    </div><div class=\"col-md-6\">\n",
       "    <div class=\"row\">\n",
       "        <div class=\"col-sm-6\">\n",
       "            <table class=\"stats \">\n",
       "                <tr>\n",
       "                    <th>Distinct count</th>\n",
       "                    <td>1805</td>\n",
       "                </tr>\n",
       "                <tr>\n",
       "                    <th>Unique (%)</th>\n",
       "                    <td>100.0%</td>\n",
       "                </tr>\n",
       "                <tr class=\"ignore\">\n",
       "                    <th>Missing (%)</th>\n",
       "                    <td>0.0%</td>\n",
       "                </tr>\n",
       "                <tr class=\"ignore\">\n",
       "                    <th>Missing (n)</th>\n",
       "                    <td>0</td>\n",
       "                </tr>\n",
       "                <tr class=\"ignore\">\n",
       "                    <th>Infinite (%)</th>\n",
       "                    <td>0.0%</td>\n",
       "                </tr>\n",
       "                <tr class=\"ignore\">\n",
       "                    <th>Infinite (n)</th>\n",
       "                    <td>0</td>\n",
       "                </tr>\n",
       "            </table>\n",
       "        </div>\n",
       "        <div class=\"col-sm-6\">\n",
       "            <table class=\"stats \">\n",
       "                <tr>\n",
       "                    <th>Minimum</th>\n",
       "                    <td>2013-12-27 00:00:00</td>\n",
       "                </tr>\n",
       "                <tr>\n",
       "                    <th>Maximum</th>\n",
       "                    <td>2018-12-05 00:00:00</td>\n",
       "                </tr>\n",
       "            </table>\n",
       "        </div>\n",
       "    </div>\n",
       "</div>\n",
       "<div class=\"col-md-3 collapse in\" id=\"minihistogram5279764139087400818\">\n",
       "    <img src=\"data:image/png;base64,iVBORw0KGgoAAAANSUhEUgAAAMgAAABLCAYAAAA1fMjoAAAABHNCSVQICAgIfAhkiAAAAAlwSFlzAAAPYQAAD2EBqD%2BnaQAAADl0RVh0U29mdHdhcmUAbWF0cGxvdGxpYiB2ZXJzaW9uIDIuMS4wLCBodHRwOi8vbWF0cGxvdGxpYi5vcmcvpW3flQAABLFJREFUeJzt2k0vc2kcx/FfmxtBtAtEoj2NUMSzMJ5CYiWphcQ7EBGvwWIWLOiKjXtBWHkBJIKYhWBBPHT2EiQeKoiGRJvBRKb/Wcxobk//e8zdc1ozv8%2BKnvacq67rq72oTUQEFjs7O4NhGFZflj65YDAIt9tt6TW/WHq1v2VlZQH46wk7HI5EDIE%2BkXA4DMMwYuvGSgkJxGazAQAcDserQH76%2BZcPn%2B/XEd%2BHH2PVdT7KinF91p/x07qxki0Rb7HC4TCcTidub2/jEgj9d7wViLZezGa39GpEnwwDIVIwECIFAyFSMBAiBQMhUjAQIgUDIVIwECIFAyFSMBAiBQMhUjAQIgUDIVIwECIFAyFSMBAiBQMhUjAQIgUDIVIwECIFAyFSMBAiBQMhUjAQIgUDIVIwECIFAyFSMBAiBQMhUjAQIgUDIVIwECIFAyFSMBAiBQMhUjAQIgUDIVIwECIFAyFSMBAiBQMhUjAQIgUDIVJ8ScRFRQQAEA6HXx374/ffrB4OJZG31sTTbU/rxkoJCSQSiQAADMNIxOUpiTnH3j8WiUTgdDqtGwwAmyQgy2g0ivPzc2RlZcFmsz07Fg6HYRgGgsEgHA6H1UOjJPByDYgIIpEI8vPzYbdbuytIyCuI3W6H2%2B1W7%2BNwOBjI/9y3a8DqV44n3KQTKRgIkSLpAklLS8Pg4CDS0tISPRRKkGRaAwnZpBN9Fkn3CkKUTBgIkcL0QB4eHtDd3Y2SkhLU1tbC5/Ph%2BPgYAHB1dQWfz4fi4mJUVlZiY2Mj9ji/34/S0lLY7XYsLi6%2Bee6ZmRnYbLZ3j1PimTH/gUAAra2tqK6uRm1tLVZXV817AmKy%2B/t7WVpakmg0KiIiX79%2BlY6ODhER6e3tlcHBQRER2d3dFY/HI4%2BPjyIisr29LYeHh9Le3i4LCwuvzhsMBqWlpUWam5vfPE7JId7zH41GxeVyyerqqoiI7O3tidvtlru7O1PGb3ogLwUCASkqKhIRkczMTLm6uooda2hokLW1tWf3fy%2BQzs5O2d7efvc4Jacfnf9QKCTp6enP7lNZWSmzs7OmjNfyPcj4%2BDi6urpwfX2NaDSK3Nzc2LGCggKcnp5%2B9xwTExOoqKhAU1OTmUMlE/zo/Ofk5CAvLw%2Bzs7MAgJ2dHezv78fetsWbpR818fv9ODg4wOTkJO7v7199Dkv%2BwV%2Bcj46OMD09jc3NTbOGSSaJx/wDwPz8PAYGBjAyMoKqqiq0tbUhJSXFjCFbF8jo6Cjm5uawsrKCjIwMZGRkAABCoVDst8jJyQk8Ho96nq2tLZyfn6OsrAwAcHl5ib6%2BPgwPD6O/v9/cJ0H/WrzmHwCqq6uxvLwc%2B76srAzl5eXmDNyUN24vjI2NSV1dndzc3Dy7vaen59kmzTCM2Cbtyff2GNyDJL94z//FxUXs66mpKamvr4/9ESDeTA8kGAwKACksLJSamhqpqamRxsZGERG5vLyUjo4O8Xq9Ul5eLuvr67HH%2Bf1%2BcblckpqaKtnZ2eJyuZ5t6J4wkORmxvwPDQ1JcXGxeL1e6erqktPTU9PGz4%2BaECn4n3QiBQMhUjAQIgUDIVIwECIFAyFSMBAiBQMhUvwJo7zGgHm6eyoAAAAASUVORK5CYII%3D\">\n",
       "</div>\n",
       "<div class=\"col-md-12 text-right\">\n",
       "    <a role=\"button\" data-toggle=\"collapse\" data-target=\"#descriptives5279764139087400818,#minihistogram5279764139087400818\"\n",
       "       aria-expanded=\"false\" aria-controls=\"collapseExample\">\n",
       "        Toggle details\n",
       "    </a>\n",
       "</div>\n",
       "<div class=\"row collapse col-md-12\" id=\"descriptives5279764139087400818\">\n",
       "    <img src=\"data:image/png;base64,iVBORw0KGgoAAAANSUhEUgAAAlgAAAGQCAYAAAByNR6YAAAABHNCSVQICAgIfAhkiAAAAAlwSFlzAAAPYQAAD2EBqD%2BnaQAAADl0RVh0U29mdHdhcmUAbWF0cGxvdGxpYiB2ZXJzaW9uIDIuMS4wLCBodHRwOi8vbWF0cGxvdGxpYi5vcmcvpW3flQAAIABJREFUeJzt3X9UlVW%2Bx/HPSeT4IziKCAeSlFra9WqpaCNqmdqEUeqdzCl/hmWMzpip5HUk5xZ2J5nMzJlruZrMH6mNZtcc%2BzEWmqktJX8ANZopKvkjQbRRELMjynP/mOuZToBa7nPOA7xfaz1r8exnn32%2Be0fxaT8PB4dlWZYAAABgzDXBLgAAAKC2IWABAAAYRsACAAAwjIAFAABgGAELAADAMAIWAACAYQQsAAAAwwhYAAAAhhGwAAAADCNgAQAAGEbAAgAAMIyABQAAYBgBCwAAwDACFgAAgGEELAAAAMMIWAAAAIYRsAAAAAwjYAEAABhGwAIAADCMgAUAAGAYAQsAAMAwAhYAAIBhBCwAAADDCFgAAACGEbAAAAAMI2ABAAAYRsACAAAwjIAFAABgGAELAADAMAIWAACAYQQsAAAAwwhYAAAAhhGwAAAADCNgAQAAGEbAAgAAMIyABQAAYBgBCwAAwDACFgAAgGEhwS6gLqioqNDRo0cVFhYmh8MR7HIAAKgTLMvS6dOnFRsbq2uuCeyeEgErAI4ePaq4uLhglwEAQJ10%2BPBhtWjRIqDvScAKgLCwMEn//AccHh4e5GoAAKgbSktLFRcX5/05HEgErAC4eFswPDycgAUAQIAF4/EcHnIHAAAwjIAFAABgGAELAADAMAIWAACAYQQsAAAAwwhYAAAAhhGwAAAADCNgAQAAGEbAAgAAMIyABQAAYBgBCwAAwDACFgAAgGH8secarsvUNcEu4Yptf/buYJfwo9SktZVq3vrWJHwv%2BA9r6181aX1r2tpeDjtYAAAAhjksy7KCXURtV1paKpfLpZKSEoWHhxsduyb93wkAANXxxw6WP3/%2BXg47WAAAAIYRsAAAAAwjYAEAABhWqwPWxo0b1b9/f8XGxsrhcGjVqlU%2B1x0OR5XH888/7%2B3TqlWrStenTJkS6KkAAIAapFZ/TMOZM2fUoUMHPfzww7r//vsrXS8sLPQ5/9vf/qZRo0ZV6vvMM88oNTXVe37ttdf6p2AAAFAr1OqAlZycrOTk5Gqvu91un/O//vWv6t27t2644Qaf9rCwsEp9AQAAqlOrbxH%2BGMeOHdN7772nUaNGVbr23HPPqVmzZurYsaOeffZZnTt37pJjeTwelZaW%2BhwAAKDuqNU7WD/GokWLFBYWpoEDB/q0jx8/XgkJCWratKm2bt2q9PR0FRQUaN68edWOlZmZqWnTpvm7ZAAAYFMErP83f/58DRs2TA0aNPBpnzhxovfrW265RU2bNtWgQYO8u1pVSU9PV1pamve8tLRUcXFx/ikcAADYDgFL0qZNm7Rnzx4tX778sn0TExMlSfv27as2YDmdTjmdTqM1AgCAmoNnsCS99tpr6ty5szp06HDZvrm5uZKkmJgYf5cFAABqqFq9g1VWVqZ9%2B/Z5zwsKCpSXl6eIiAhdf/31kv55%2B27FihV64YUXKr1%2By5Ytys7OVu/eveVyubRt2zZNnDhRAwYM8L4eAADgh2p1wNq%2Bfbt69%2B7tPb/4XFRKSooWLlwoSVq2bJksy9KQIUMqvd7pdGr58uWaNm2aPB6PWrZsqdTUVE2ePDkg9QMAgJrJYVmWFewiajt//jXvLlPXGB0PAIBg2P7s3cbH9OfP38vhGSwAAADDCFgAAACGEbAAAAAMI2ABAAAYRsACAAAwjIAFAABgGAELAADAMAIWAACAYQQsAAAAwwhYAAAAhhGwAAAADCNgAQAAGEbAAgAAMIyABQAAYBgBCwAAwDACFgAAgGEELAAAAMMIWAAAAIYRsAAAAAwjYAEAABhGwAIAADCMgAUAAGAYAQsAAMAwAhYAAIBhBCwAAADDCFgAAACGEbAAAAAMI2ABAAAYRsACAAAwjIAFAABgGAELAADAsFodsDZu3Kj%2B/fsrNjZWDodDq1at8rk%2BcuRIORwOnyMxMdGnj8fj0bhx4xQZGanGjRtrwIABOnLkSCCnAQAAaphaHbDOnDmjDh06aM6cOdX2ufvuu1VYWOg93n//fZ/rEyZM0Ntvv61ly5bpk08%2BUVlZmfr166cLFy74u3wAAFBDhQS7AH9KTk5WcnLyJfs4nU653e4qr5WUlOi1117T4sWL9fOf/1yStGTJEsXFxWnt2rXq27ev8ZoBAEDNV6t3sK7Exx9/rKioKLVp00apqakqLi72XtuxY4fKy8uVlJTkbYuNjVX79u21efPmasf0eDwqLS31OQAAQN1RpwNWcnKyli5dqo8%2B%2BkgvvPCCtm3bpj59%2Bsjj8UiSioqKFBoaqqZNm/q8Ljo6WkVFRdWOm5mZKZfL5T3i4uL8Og8AAGAvtfoW4eU8%2BOCD3q/bt2%2BvLl26qGXLlnrvvfc0cODAal9nWZYcDke119PT05WWluY9Ly0tJWQBAFCH1OkdrB%2BKiYlRy5YtlZ%2BfL0lyu906d%2B6cTp486dOvuLhY0dHR1Y7jdDoVHh7ucwAAgLqDgPU933zzjQ4fPqyYmBhJUufOnVW/fn1lZWV5%2BxQWFmrnzp3q3r17sMoEAAA2V6tvEZaVlWnfvn3e84KCAuXl5SkiIkIRERHKyMjQ/fffr5iYGH311Vd68sknFRkZqfvuu0%2BS5HK5NGrUKD3xxBNq1qyZIiIiNGnSJN18883e3yoEAAD4oVodsLZv367evXt7zy8%2BF5WSkqK5c%2Bfq73//u15//XWdOnVKMTEx6t27t5YvX66wsDDva1588UWFhITogQce0NmzZ3XnnXdq4cKFqlevXsDnAwAAagaHZVlWsIuo7UpLS%2BVyuVRSUmL8eawuU9cYHQ8AgGDY/uzdxsf058/fy%2BEZLAAAAMMIWAAAAIYRsAAAAAwjYAEAABhGwAIAADCMgAUAAGAYAQsAAMAwAhYAAIBhBCwAAADDCFgAAACGEbAAAAAMI2ABAAAYRsACAAAwjIAFAABgGAELAADAMAIWAACAYQQsAAAAwwhYAAAAhhGwAAAADCNgAQAAGEbAAgAAMIyABQAAYBgBCwAAwDACFgAAgGEELAAAAMMIWAAAAIYRsAAAAAwjYAEAABhGwAIAADCMgAUAAGAYAQsAAMCwWh2wNm7cqP79%2Bys2NlYOh0OrVq3yXisvL9dvf/tb3XzzzWrcuLFiY2P10EMP6ejRoz5jtGrVSg6Hw%2BeYMmVKoKcCAABqkFodsM6cOaMOHTpozpw5la59%2B%2B23ysnJ0X/9138pJydHK1eu1N69ezVgwIBKfZ955hkVFhZ6j9/97neBKB8AANRQIcEuwJ%2BSk5OVnJxc5TWXy6WsrCyftv/5n//Rz372Mx06dEjXX3%2B9tz0sLExut9uvtQIAgNqjVu9g/VglJSVyOBxq0qSJT/tzzz2nZs2aqWPHjnr22Wd17ty5IFUIAABqglq9g/VjfPfdd5oyZYqGDh2q8PBwb/v48eOVkJCgpk2bauvWrUpPT1dBQYHmzZtX7Vgej0cej8d7Xlpa6tfaAQCAvRCw9M8H3gcPHqyKigq9/PLLPtcmTpzo/fqWW25R06ZNNWjQIO%2BuVlUyMzM1bdo0v9YMAADsq87fIiwvL9cDDzyggoICZWVl%2BexeVSUxMVGStG/fvmr7pKenq6SkxHscPnzYaM0AAMDe6vQO1sVwlZ%2Bfr/Xr11e7I/V9ubm5kqSYmJhq%2BzidTjmdTmN1AgCAmqVWB6yysjKfnaaCggLl5eUpIiJCsbGxGjRokHJycvTuu%2B/qwoULKioqkiRFREQoNDRUW7ZsUXZ2tnr37i2Xy6Vt27Zp4sSJGjBggM9vGQIAAHxfrQ5Y27dvV%2B/evb3naWlpkqSUlBRlZGRo9erVkqSOHTv6vG79%2BvXq1auXnE6nli9frmnTpsnj8ahly5ZKTU3V5MmTAzcJAABQ49TqgNWrVy9ZllXt9Utdk6SEhARlZ2ebLgsAANRydf4hdwAAANMIWAAAAIYRsAAAAAwjYAEAABhGwAIAADCMgAUAAGAYAQsAAMAwAhYAAIBhBCwAAADDCFgAAACG2TZgLVmyRN99912wywAAAPjRbBuw0tLS5Ha7NXr0aG3dujXY5QAAAFwx2waso0ePav78%2BSosLNRtt92mdu3a6YUXXtDx48eDXRoAAMAl2TZghYSEaODAgVq9erUOHTqklJQUzZ8/Xy1atNDAgQP13nvvybKsYJcJAABQiW0D1ve53W7deeed6tWrlxwOh7Zv366hQ4eqdevW2rRpU7DLAwAA8GHrgHXixAnNnj1bHTp0UI8ePVRcXKxVq1bp4MGD%2Bvrrr9WvXz899NBDwS4TAADAR0iwC6jOfffdp/fff1/x8fF69NFHlZKSoubNm3uvX3vttZo8ebL%2B9Kc/BbFKAACAymwbsMLDw7V27Vrdfvvt1faJiYlRfn5%2BAKsCAAC4PNsGrEWLFl22j8Ph0I033hiAagAAAK6cbZ/BmjhxoubMmVOp/aWXXtITTzwRhIoAAACujG0D1ooVK5SYmFipvVu3blq%2BfHkQKgIAALgytg1YJ06cUNOmTSu1h4eH68SJE0GoCAAA4MrYNmDdeOON%2BuCDDyq1f/DBB4qPjw9CRQAAAFfGtg%2B5T5gwQRMmTNA333yjPn36SJLWrVunGTNmaObMmUGuDgAAoHq2DVipqan67rvvNH36dD399NOSpBYtWuhPf/qTHnnkkSBXBwAAUD3bBixJGjdunMaNG6fCwkI1bNhQTZo0CXZJAAAAl2XrgHVRTExMsEsAAAC4YrZ9yP348eN6%2BOGHdf3116tBgwYKDQ31OQAAAOzKtjtYI0eO1P79%2B/Wf//mfiomJkcPhCHZJAAAAV8S2AWvjxo3auHGjOnXqFOxSAAAAfhTb3iJs0aIFu1YAAKBGsm3AevHFF5Wenq4jR4785DE2btyo/v37KzY2Vg6HQ6tWrfK5blmWMjIyFBsbq4YNG6pXr17atWuXT5%2BTJ09qxIgRcrlccrlcGjFihE6dOvWTawIAALWfbQPWiBEjtH79erVs2VJNmzZVVFSUz3Elzpw5ow4dOlT5R6MlacaMGZo1a5bmzJmjbdu2ye1266677tLp06e9fYYOHaq8vDytWbNGa9asUV5enkaMGGFkjgAAoHay7TNYf/jDH656jOTkZCUnJ1d5zbIszZ49W1OnTtXAgQMlSYsWLVJ0dLTeeOMNjR49Wrt379aaNWuUnZ2trl27SpJeffVVdevWTXv27NFNN9101TUCAIDax7YBa9SoUX4dv6CgQEVFRUpKSvK2OZ1O3XHHHdq8ebNGjx6tLVu2yOVyecOVJCUmJsrlcmnz5s0ELAAAUCXb3iKUpK%2B%2B%2BkoZGRkaMWKEiouLJUkffvihdu/efdVjFxUVSZKio6N92qOjo73XioqKqrwdGRUV5e1TFY/Ho9LSUp8DAADUHbYNWJs2bVK7du20YcMGvfnmmyorK5Mk5eTk6KmnnjL2Pj/8TUXLsnzaqvpNxh/2%2BaHMzEzvQ/Eul0txcXHG6gUAAPZn24D129/%2BVhkZGVq/fr3PJ7f36dNH2dnZVz2%2B2%2B2WpEo7UcXFxd5dLbfbrWPHjlV67fHjxyvtfH1fenq6SkpKvMfhw4evul4AAFBz2DZgff755xo0aFCl9qioKB0/fvyqx4%2BPj5fb7VZWVpa37dy5c9qwYYO6d%2B8uSerWrZtKSkq0detWb59PP/1UJSUl3j5VcTqdCg8P9zkAAEDdYduH3Js0aaKioiLFx8f7tOfl5em66667ojHKysq0b98%2B73lBQYHy8vIUERGh66%2B/XhMmTND06dPVunVrtW7dWtOnT1ejRo00dOhQSVLbtm119913KzU1Va%2B88ook6Ve/%2BpX69evHA%2B4AAKBatg1YgwcP1pQpU/TWW295n3f69NNPNWnSJA0fPvyKxti%2Bfbt69%2B7tPU9LS5MkpaSkaOHChZo8ebLOnj2r3/zmNzp58qS6du2qDz/8UGFhYd7XLF26VI8//rj3tw0HDBhQ7edqAQAASJLDsiwr2EVU5dy5cxoxYoT%2B93//VxUVFQoNDVV5ebkeeOABLV68WCEhts2GlZSWlsrlcqmkpMT47cIuU9cYHQ8AgGDY/uzdxsf058/fy7FtSgkNDdXy5cu1d%2B9e5eTkqKKiQgkJCfq3f/u3YJcGAABwSbYNWBe1adNGbdq0CXYZAAAAV8y2AetXv/rVJa//%2Bc9/DlAlAAAAP45tA1ZhYaHPeXl5uXbt2qXTp0%2BrZ8%2BeQaoKAADg8mwbsN55551KbefPn9evf/1rtW3bNggVAQAAXBnbftBoVUJCQjRp0iQ9//zzwS4FAACgWjUqYEnSgQMHVF5eHuwyAAAAqmXbW4STJ0/2ObcsS4WFhVq9erWGDRsWpKoAAAAuz7YBa8uWLT7n11xzjZo3b64//OEPSk1NDVJVAAAAl2fbgLVp06ZglwAAAPCT1LhnsAAAAOzOtjtYt956q/ePPF/O1q1b/VwNAADAlbNtwOrdu7deeeUVtWnTRt26dZMkZWdna8%2BePRo9erScTmeQKwQAAKiabQPWqVOnNHbsWE2fPt2nferUqTp27JjmzZsXpMoAAAAuzbbPYL355pt6%2BOGHK7WPHDlSK1asCEJFAAAAV8a2AcvpdGrz5s2V2jdv3sztQQAAYGu2vUX4%2BOOPa8yYMcrNzVViYqKkfz6D9eqrr%2BrJJ58McnUAAADVs23Amjp1quLj4/XHP/5R8%2BfPlyS1bdtWr776qoYOHRrk6gAAAKpn24AlSUOHDiVMAQCAGse2z2BJUmlpqRYuXKinnnpKJ0%2BelCR99tlnKiwsDHJlAAAA1bPtDtbOnTv185//XI0aNdLhw4c1cuRINW3aVG%2B%2B%2BaaOHDmiRYsWBbtEAACAKtl2B2vixIkaOnSo9u/frwYNGnjb7733Xm3cuDGIlQEAAFyabXewtm3bprlz51b6cznXXXcdtwgBAICt2XYHKzQ0VGVlZZXa8/PzFRkZGYSKAAAAroxtA9aAAQP03//93zp//rwkyeFw6Ouvv9aUKVM0cODAIFcHAABQPdsGrBdeeEFHjx6V2%2B3W2bNn1adPH91www1q0KBBpb9PCAAAYCe2fQbL5XJp8%2BbNysrKUk5OjioqKpSQkKC%2BfftWei4LAADATmwZsMrLy3XPPffo5ZdfVlJSkpKSkoJdEgAAwBWz5S3C%2BvXrKzc3l50qAABQI9kyYEnS8OHDtWDBgmCXAQAA8KPZ8hbhRXPmzNHatWvVpUsXNW7c2OfajBkzglQVAADApdl2B2vHjh265ZZbFBoaqs8//1xbtmzxHtnZ2cbep1WrVnI4HJWOsWPHSpJ69epV6drgwYONvT8AAKh9bLeDdeDAAcXHx2vTpk0Beb9t27bpwoUL3vOdO3fqrrvu0i9/%2BUtvW2pqqp555hnvecOGDQNSGwAAqJlst4PVunVrHT9%2B3Hv%2B4IMP6tixY357v%2BbNm8vtdnuPd999VzfeeKPuuOMOb59GjRr59HG5XH6rBwAA1Hy2C1iWZfmcv//%2B%2Bzpz5kxA3vvcuXNasmSJHnnkEZ/fYFy6dKkiIyPVrl07TZo0SadPnw5IPQAAoGay3S3CYFq1apVOnTqlkSNHetuGDRum%2BPh4ud1u7dy5U%2Bnp6frss8%2BUlZVV7Tgej0cej8d7Xlpa6s%2ByAQCAzdguYF18kPyHbYHw2muvKTk5WbGxsd621NRU79ft27dX69at1aVLF%2BXk5CghIaHKcTIzMzVt2jS/1wsAAOzJdgHLsiyNHDlSTqdTkvTdd99pzJgxlT6mYeXKlUbf9%2BDBg1q7du1lx01ISFD9%2BvWVn59fbcBKT09XWlqa97y0tFRxcXFG6wUAAPZlu4CVkpLicz58%2BPCAvO%2BCBQsUFRWle%2B%2B995L9du3apfLycsXExFTbx%2Bl0egMiAACoe2wXsILx6e0VFRVasGCBUlJSFBLyryXZv3%2B/li5dqnvuuUeRkZH64osv9MQTT6hTp07q0aNHwOsEAAA1g%2B0CVjCsXbtWhw4d0iOPPOLTHhoaqnXr1umPf/yjysrKFBcXp3vvvVdPP/206tWrF6RqAQCA3RGwJCUlJVX6eAhJiouL04YNG4JQEQAAqMls9zlYAAAANR0BCwAAwDACFgAAgGEELAAAAMMIWAAAAIYRsAAAAAwjYAEAABhGwAIAADCMgAUAAGAYAQsAAMAwAhYAAIBhBCwAAADDCFgAAACGEbAAAAAMI2ABAAAYRsACAAAwjIAFAABgGAELAADAMAIWAACAYQQsAAAAwwhYAAAAhhGwAAAADCNgAQAAGEbAAgAAMIyABQAAYBgBCwAAwDACFgAAgGEELAAAAMMIWAAAAIYRsAAAAAwjYAEAABhW5wNWRkaGHA6Hz%2BF2u73XLctSRkaGYmNj1bBhQ/Xq1Uu7du0KYsUAAMDu6nzAkqR27dqpsLDQe/z973/3XpsxY4ZmzZqlOXPmaNu2bXK73brrrrt0%2BvTpIFYMAADsjIAlKSQkRG6323s0b95c0j93r2bPnq2pU6dq4MCBat%2B%2BvRYtWqRvv/1Wb7zxRpCrBgAAdkXAkpSfn6/Y2FjFx8dr8ODBOnDggCSpoKBARUVFSkpK8vZ1Op264447tHnz5mCVCwAAbC4k2AUEW9euXfX666%2BrTZs2OnbsmH7/%2B9%2Bre/fu2rVrl4qKiiRJ0dHRPq%2BJjo7WwYMHqx3T4/HI4/F4z0tLS/1TPAAAsKU6H7CSk5O9X998883q1q2bbrzxRi1atEiJiYmSJIfD4fMay7IqtX1fZmampk2b5p%2BCAQCA7XGL8AcaN26sm2%2B%2BWfn5%2Bd7fJry4k3VRcXFxpV2t70tPT1dJSYn3OHz4sF9rBgAA9kLA%2BgGPx6Pdu3crJiZG8fHxcrvdysrK8l4/d%2B6cNmzYoO7du1c7htPpVHh4uM8BAADqjjp/i3DSpEnq37%2B/rr/%2BehUXF%2Bv3v/%2B9SktLlZKSIofDoQkTJmj69Olq3bq1WrdurenTp6tRo0YaOnRosEsHAAA2VecD1pEjRzRkyBCdOHFCzZs3V2JiorKzs9WyZUtJ0uTJk3X27Fn95je/0cmTJ9W1a1d9%2BOGHCgsLC3LlAADArhyWZVnBLqK2Ky0tlcvlUklJifHbhV2mrjE6HgAAwbD92buNj%2BnPn7%2BXwzNYAAAAhhGwAAAADCNgAQAAGEbAAgAAMIyABQAAYBgBCwAAwDACFgAAgGEELAAAAMMIWAAAAIYRsAAAAAwjYAEAABhGwAIAADCMgAUAAGAYAQsAAMAwAhYAAIBhBCwAAADDCFgAAACGEbAAAAAMI2ABAAAYRsACAAAwjIAFAABgGAELAADAMAIWAACAYQQsAAAAwwhYAAAAhhGwAAAADCNgAQAAGEbAAgAAMIyABQAAYBgBCwAAwDACFgAAgGF1PmBlZmbq1ltvVVhYmKKiovSLX/xCe/bs8enTq1cvORwOn2Pw4MFBqhgAANhdnQ9YGzZs0NixY5Wdna2srCydP39eSUlJOnPmjE%2B/1NRUFRYWeo9XXnklSBUDAAC7Cwl2AcG2Zs0an/MFCxYoKipKO3bsUM%2BePb3tjRo1ktvtDnR5AACgBqrzO1g/VFJSIkmKiIjwaV%2B6dKkiIyPVrl07TZo0SadPnw5GeQAAoAao8ztY32dZltLS0nTbbbepffv23vZhw4YpPj5ebrdbO3fuVHp6uj777DNlZWVVOY7H45HH4/Gel5aW%2Br12AABgHwSs73nsscf0%2Beef65NPPvFpT01N9X7dvn17tW7dWl26dFFOTo4SEhIqjZOZmalp06b5vV4AAGBP3CL8f%2BPGjdPq1au1fv16tWjR4pJ9ExISVL9%2BfeXn51d5PT09XSUlJd7j8OHD/igZAADYVJ3fwbIsS%2BPGjdPbb7%2Btjz/%2BWPHx8Zd9za5du1ReXq6YmJgqrzudTjmdTtOlAgCAGqLOB6yxY8fqjTfe0F//%2BleFhYWpqKhIkuRyudSwYUPt379fS5cu1T333KPIyEh98cUXeuKJJ9SpUyf16NEjyNUDAAA7qvO3COfOnauSkhL16tVLMTEx3mP58uWSpNDQUK1bt059%2B/bVTTfdpMcff1xJSUlau3at6tWrF%2BTqAQCAHdX5HSzLsi55PS4uThs2bAhQNQAAoDao8ztYAAAAphGwAAAADCNgAQAAGEbAAgAAMIyABQAAYBgBCwAAwDACFgAAgGEELAAAAMMIWAAAAIYRsAAAAAwjYAEAABhGwAIAADCMgAUAAGAYAQsAAMAwAhYAAIBhBCwAAADDCFgAAACGEbAAAAAMI2ABAAAYRsACAAAwjIAFAABgGAELAADAMAIWAACAYQQsAAAAwwhYAAAAhhGwAAAADCNgAQAAGEbAAgAAMIyABQAAYBgBCwAAwDACFgAAgGEELAAAAMMIWFfo5ZdfVnx8vBo0aKDOnTtr06ZNwS4JAADYFAHrCixfvlwTJkzQ1KlTlZubq9tvv13Jyck6dOhQsEsDAAA2RMC6ArNmzdKoUaP06KOPqm3btpo9e7bi4uI0d%2B7cYJcGAABsKCTYBdjduXPntGPHDk2ZMsWnPSkpSZs3b67yNR6PRx6Px3teUlIiSSotLTVe3wXPGeNjAgAQaP74GXlxTMuyjI99OQSsyzhx4oQuXLig6Ohon/bo6GgVFRVV%2BZrMzExNmzatUntcXJxfagQAoKZzveC/sU%2BfPi2Xy%2BW/N6gCAesKORwOn3PLsiq1XZSenq60tDTveUVFhf7xj3%2BoWbNm1b7mpyotLVVcXJwOHz6s8PBwo2OD9Q0E1ti/WF//Yn3972rW2LIsnT59WrGxsX6qrnoErMuIjIxUvXr1Ku1WFRcXV9rVusjpdMrpdPq0NWnSxG81SlJ4eDj/cvsR6%2Bt/rLF/sb7%2Bxfr6309d40DvXF3EQ%2B6XERoaqs6dOysrK8unPSsrS927dw9SVQAAwM7YwboCaWlpGjFihLp06aJu3brpz3/%2Bsw4dOqQxY8YEuzQAAGBD9TIyMjKCXYTdtW/fXs2aNdP06dM1c%2BZz1LxQAAAI1ElEQVRMnT17VosXL1aHDh2CXZokqV69eurVq5dCQsjL/sD6%2Bh9r7F%2Bsr3%2Bxvv5XE9fYYQXjdxcBAABqMZ7BAgAAMIyABQAAYBgBCwAAwDACFgAAgGEErCDLzMzUrbfeqrCwMEVFRekXv/iF9uzZ49PH4/Fo3LhxioyMVOPGjTVgwAAdOXLEp8/48ePVuXNnOZ1OdezY8ZLvuW/fPoWFhfn9w0/tIlBr/NVXX8nhcFQ61qxZ49f5BVsgv4cty9LMmTPVpk0bOZ1OxcXFafr06X6bm10Eao0zMjKq/B5u3LixX%2BcXbIH8Hv7ggw%2BUmJiosLAwNW/eXPfff78KCgr8Njc7COT6vvnmm%2BrYsaMaNWqkli1b6vnnn/fbvC6HgBVkGzZs0NixY5Wdna2srCydP39eSUlJOnPmX3/EecKECXr77be1bNkyffLJJyorK1O/fv104cIFbx/LsvTII4/owQcfvOT7lZeXa8iQIbr99tv9Nie7CfQar127VoWFhd6jT58%2BfpubHQRyfcePH6958%2BZp5syZ%2BvLLL/XOO%2B/oZz/7mV/nZweBWuNJkyb5fO8WFhbq3//93/XLX/7S73MMpkCt74EDB/Qf//Ef6tOnj/Ly8vTBBx/oxIkTGjhwoN/nGEyBWt%2B//e1vGjZsmMaMGaOdO3fq5Zdf1qxZszRnzhy/z7FKFmyluLjYkmRt2LDBsizLOnXqlFW/fn1r2bJl3j5ff/21dc0111hr1qyp9Pqnn37a6tChQ7XjT5482Ro%2BfLi1YMECy%2BVymZ9ADeCvNS4oKLAkWbm5uf4rvgbw1/p%2B8cUXVkhIiPXll1/6r/gawt//nbgoLy/PkmRt3LjRXPE1gL/Wd8WKFVZISIh14cIFb9vq1asth8NhnTt3zg8zsSd/re%2BQIUOsQYMG%2BbS9%2BOKLVosWLayKigrDs7g8drBspqSkRJIUEREhSdqxY4fKy8uVlJTk7RMbG6v27dtr8%2BbNP2rsjz76SCtWrNBLL71kruAayJ9rLEkDBgxQVFSUevToobfeestM0TWIv9b3nXfe0Q033KB3331X8fHxatWqlR599FH94x//MDuBGsDf38MXzZs3T23atKlTO96S/9a3S5cuqlevnhYsWKALFy6opKREixcvVlJSkurXr292Ejbmr/X1eDxq0KCBT1vDhg115MgRHTx40EDlPw4By0Ysy1JaWppuu%2B02tW/fXpJUVFSk0NBQNW3a1KdvdHR0pT9AfSnffPONRo4cqYULF9bpP0jqzzW%2B9tprNWvWLL311lt6//33deedd%2BrBBx/UkiVLjM7Bzvy5vgcOHNDBgwe1YsUKvf7661q4cKF27NihQYMGGZ2D3flzjb/P4/Fo6dKlGjVq1FXXXJP4c31btWqlDz/8UE8%2B%2BaScTqeaNGmiI0eOaNmyZUbnYGf%2BXN%2B%2Bfftq5cqVWrdunSoqKrR3717Nnj1bklRYWGhuEleo5nzmfB3w2GOP6fPPP9cnn3xy2b6WZcnhcFzx2KmpqRo6dKh69ux5NSXWeP5c48jISE2cONF73qVLF508eVIzZszQ8OHDf1K9NY0/17eiokIej0evv/662rRpI0l67bXX1LlzZ%2B3Zs0c33XTTT667JvHnGn/fypUrdfr0aT300EM/6fU1lT/Xt6ioSI8%2B%2BqhSUlI0ZMgQnT59Wk899ZQGDRqkrKysn/zPqibx98%2B5/fv3q1%2B/fiovL1d4eLjGjx%2BvjIwM1atX72rK/knYwbKJcePGafXq1Vq/fr1atGjhbXe73Tp37pxOnjzp07%2B4uFjR0dFXPP5HH32kmTNnKiQkRCEhIRo1apRKSkoUEhKi%2BfPnG5uHnfl7jauSmJio/Pz8qxqjpvD3%2BsbExCgkJMQbriSpbdu2kqRDhw5dZfU1QyC/h%2BfNm6d%2B/frJ7XZfVc01ib/X96WXXlJ4eLhmzJihTp06qWfPnlqyZInWrVunTz/91Ng87Mrf6%2BtwOPTcc8%2BprKxMBw8eVFFRkfeXYFq1amVkDj8GASvILMvSY489ppUrV%2Bqjjz5SfHy8z/XOnTurfv36ysrK8rYVFhZq586d6t69%2BxW/z5YtW5SXl%2Bc9nnnmGYWFhSkvL0/33XefsfnYUaDWuCq5ubmKiYm5qjHsLlDr26NHD50/f1779%2B/3tu3du1eS1LJly6uchb0F%2Bnu4oKBA69evrzO3BwO1vt9%2B%2B22lnZSL5xUVFVcxA3sL9PdvvXr1dN111yk0NFR/%2Bctf1K1bN0VFRV31PH60QD9VD1%2B//vWvLZfLZX388cdWYWGh9/j222%2B9fcaMGWO1aNHCWrt2rZWTk2P16dPH6tChg3X%2B/Hlvn/z8fCs3N9caPXq01aZNGys3N9fKzc21PB5Ple9bl36LMFBrvHDhQmvp0qXWF198YX355ZfW888/b9WvX9%2BaNWtWwOccSIFa3wsXLlgJCQlWz549rZycHGv79u1W165drbvuuivgcw60QP934ne/%2B50VGxvr89raLFDru27dOsvhcFjTpk2z9u7da%2B3YscPq27ev1bJlS5/3qm0Ctb7Hjx%2B35s6da%2B3evdvKzc21Hn/8catBgwbWp59%2BGvA5W5ZlEbCCTFKVx4IFC7x9zp49az322GNWRESE1bBhQ6tfv37WoUOHfMa54447qhynoKCgyvetSwErUGu8cOFCq23btlajRo2ssLAwq3PnztbixYsDONPgCOT38Ndff20NHDjQuvbaa63o6Ghr5MiR1jfffBOgmQZPINf4woULVosWLawnn3wyQLMLvkCu71/%2B8herU6dOVuPGja3mzZtbAwYMsHbv3h2gmQZHoNb3%2BPHjVmJiotW4cWOrUaNG1p133mllZ2cHcKa%2BHJZlWVe7CwYAAIB/4RksAAAAwwhYAAAAhhGwAAAADCNgAQAAGEbAAgAAMIyABQAAYBgBCwAAwDACFgAAgGEELAAAAMMIWAAAAIYRsAAAAAwjYAEAABhGwAIAADCMgAUAAGAYAQsAAMAwAhYAAIBhBCwAAADDCFgAAACG/R%2By1a1a7B5pkAAAAABJRU5ErkJggg%3D%3D\">\n",
       "</div>\n",
       "</div><div class=\"row variablerow ignore\">\n",
       "    <div class=\"col-md-3 namecol\">\n",
       "        <p class=\"h4 pp-anchor\" id=\"pp_var_High\"><s>High</s><br/>\n",
       "            <small>Highly correlated</small>\n",
       "        </p>\n",
       "    </div><div class=\"col-md-3\">\n",
       "    <p><em>This variable is highly correlated with <a href=\"#pp_var_Open\"><code>Open</code></a> and should be ignored for analysis</em></p>\n",
       "</div>\n",
       "<div class=\"col-md-6\">\n",
       "    <table class=\"stats \">\n",
       "        <tr>\n",
       "            <th>Correlation</th>\n",
       "            <td>0.99887</td>\n",
       "        </tr>\n",
       "    </table>\n",
       "</div>\n",
       "</div><div class=\"row variablerow ignore\">\n",
       "    <div class=\"col-md-3 namecol\">\n",
       "        <p class=\"h4 pp-anchor\" id=\"pp_var_Low\"><s>Low</s><br/>\n",
       "            <small>Highly correlated</small>\n",
       "        </p>\n",
       "    </div><div class=\"col-md-3\">\n",
       "    <p><em>This variable is highly correlated with <a href=\"#pp_var_High\"><code>High</code></a> and should be ignored for analysis</em></p>\n",
       "</div>\n",
       "<div class=\"col-md-6\">\n",
       "    <table class=\"stats \">\n",
       "        <tr>\n",
       "            <th>Correlation</th>\n",
       "            <td>0.99781</td>\n",
       "        </tr>\n",
       "    </table>\n",
       "</div>\n",
       "</div><div class=\"row variablerow ignore\">\n",
       "    <div class=\"col-md-3 namecol\">\n",
       "        <p class=\"h4 pp-anchor\" id=\"pp_var_Market Cap\"><s>Market Cap</s><br/>\n",
       "            <small>Highly correlated</small>\n",
       "        </p>\n",
       "    </div><div class=\"col-md-3\">\n",
       "    <p><em>This variable is highly correlated with <a href=\"#pp_var_Volume\"><code>Volume</code></a> and should be ignored for analysis</em></p>\n",
       "</div>\n",
       "<div class=\"col-md-6\">\n",
       "    <table class=\"stats \">\n",
       "        <tr>\n",
       "            <th>Correlation</th>\n",
       "            <td>0.93832</td>\n",
       "        </tr>\n",
       "    </table>\n",
       "</div>\n",
       "</div><div class=\"row variablerow\">\n",
       "    <div class=\"col-md-3 namecol\">\n",
       "        <p class=\"h4 pp-anchor\" id=\"pp_var_Open\">Open<br/>\n",
       "            <small>Numeric</small>\n",
       "        </p>\n",
       "    </div><div class=\"col-md-6\">\n",
       "    <div class=\"row\">\n",
       "        <div class=\"col-sm-6\">\n",
       "            <table class=\"stats \">\n",
       "                <tr>\n",
       "                    <th>Distinct count</th>\n",
       "                    <td>1783</td>\n",
       "                </tr>\n",
       "                <tr>\n",
       "                    <th>Unique (%)</th>\n",
       "                    <td>98.8%</td>\n",
       "                </tr>\n",
       "                <tr class=\"ignore\">\n",
       "                    <th>Missing (%)</th>\n",
       "                    <td>0.0%</td>\n",
       "                </tr>\n",
       "                <tr class=\"ignore\">\n",
       "                    <th>Missing (n)</th>\n",
       "                    <td>0</td>\n",
       "                </tr>\n",
       "                <tr class=\"ignore\">\n",
       "                    <th>Infinite (%)</th>\n",
       "                    <td>0.0%</td>\n",
       "                </tr>\n",
       "                <tr class=\"ignore\">\n",
       "                    <th>Infinite (n)</th>\n",
       "                    <td>0</td>\n",
       "                </tr>\n",
       "            </table>\n",
       "\n",
       "        </div>\n",
       "        <div class=\"col-sm-6\">\n",
       "            <table class=\"stats \">\n",
       "\n",
       "                <tr>\n",
       "                    <th>Mean</th>\n",
       "                    <td>2566.1</td>\n",
       "                </tr>\n",
       "                <tr>\n",
       "                    <th>Minimum</th>\n",
       "                    <td>176.9</td>\n",
       "                </tr>\n",
       "                <tr>\n",
       "                    <th>Maximum</th>\n",
       "                    <td>19476</td>\n",
       "                </tr>\n",
       "                <tr class=\"ignore\">\n",
       "                    <th>Zeros (%)</th>\n",
       "                    <td>0.0%</td>\n",
       "                </tr>\n",
       "            </table>\n",
       "        </div>\n",
       "    </div>\n",
       "</div>\n",
       "<div class=\"col-md-3 collapse in\" id=\"minihistogram-7290491272661424466\">\n",
       "    <img src=\"data:image/png;base64,iVBORw0KGgoAAAANSUhEUgAAAMgAAABLCAYAAAA1fMjoAAAABHNCSVQICAgIfAhkiAAAAAlwSFlzAAAPYQAAD2EBqD%2BnaQAAADl0RVh0U29mdHdhcmUAbWF0cGxvdGxpYiB2ZXJzaW9uIDIuMS4wLCBodHRwOi8vbWF0cGxvdGxpYi5vcmcvpW3flQAAAc5JREFUeJzt3cGK01AYhuE/xW16AUNzF%2B5dCd6T4ELwngRX7r2LhF5AigsXNrPQCjLyYYfxpBmfZ1vIf1LOS0i7ON2yLEs1Nk1TDcPQeiwbN45jHQ6HpjNfNJ32U9/3VfXjhvf7/RpLYEPmea5hGH7tm5ZWCaTruqqq2u/3DwJ5%2Bfbj1df78uHNk6yL23bZNy3tmk%2BEDREIBAKBQCAQCAQCgUAgEAgEAoFAIBAIBAKBQCAQCAQCgUAgEAgEAoFAIBAIBAKBQCAQCAQCgUAgEAgEAoFAIBAIBAKBQCAQCAQCgUAgEAgEAoFAIBAIBAKBQCAQCAQCgUCwyjHQW3XtEdWOp94%2BTxAIBAKBQCB4Fu8g174bVHk/4O88i0Ae4zFRtZgh3Nvy3wZyq0R1W1YJZFmWqqqa5/nBZ9%2B/fW29nM370/eYvHr/6R%2Bt5Hef371%2Bkutc7u%2Byb1rqlhWmTtNUwzC0HsvGjeNYh8Oh6cxVAjmfz3U8Hqvv%2B%2Bq6rvV4NmZZljqdTnV3d1e7XdsfXlcJBLbC/yAQCAQCgUAgEAgEAoFAIBAIBAKBQCAQCAQCgUAgEAgEAoFAIBAIBAKBQCAQCAQCgUAgEAgEAoFAIBAIBPeROlQHfUqQiwAAAABJRU5ErkJggg%3D%3D\">\n",
       "\n",
       "</div>\n",
       "<div class=\"col-md-12 text-right\">\n",
       "    <a role=\"button\" data-toggle=\"collapse\" data-target=\"#descriptives-7290491272661424466,#minihistogram-7290491272661424466\"\n",
       "       aria-expanded=\"false\" aria-controls=\"collapseExample\">\n",
       "        Toggle details\n",
       "    </a>\n",
       "</div>\n",
       "<div class=\"row collapse col-md-12\" id=\"descriptives-7290491272661424466\">\n",
       "    <ul class=\"nav nav-tabs\" role=\"tablist\">\n",
       "        <li role=\"presentation\" class=\"active\"><a href=\"#quantiles-7290491272661424466\"\n",
       "                                                  aria-controls=\"quantiles-7290491272661424466\" role=\"tab\"\n",
       "                                                  data-toggle=\"tab\">Statistics</a></li>\n",
       "        <li role=\"presentation\"><a href=\"#histogram-7290491272661424466\" aria-controls=\"histogram-7290491272661424466\"\n",
       "                                   role=\"tab\" data-toggle=\"tab\">Histogram</a></li>\n",
       "        <li role=\"presentation\"><a href=\"#common-7290491272661424466\" aria-controls=\"common-7290491272661424466\"\n",
       "                                   role=\"tab\" data-toggle=\"tab\">Common Values</a></li>\n",
       "        <li role=\"presentation\"><a href=\"#extreme-7290491272661424466\" aria-controls=\"extreme-7290491272661424466\"\n",
       "                                   role=\"tab\" data-toggle=\"tab\">Extreme Values</a></li>\n",
       "\n",
       "    </ul>\n",
       "\n",
       "    <div class=\"tab-content\">\n",
       "        <div role=\"tabpanel\" class=\"tab-pane active row\" id=\"quantiles-7290491272661424466\">\n",
       "            <div class=\"col-md-4 col-md-offset-1\">\n",
       "                <p class=\"h4\">Quantile statistics</p>\n",
       "                <table class=\"stats indent\">\n",
       "                    <tr>\n",
       "                        <th>Minimum</th>\n",
       "                        <td>176.9</td>\n",
       "                    </tr>\n",
       "                    <tr>\n",
       "                        <th>5-th percentile</th>\n",
       "                        <td>234.03</td>\n",
       "                    </tr>\n",
       "                    <tr>\n",
       "                        <th>Q1</th>\n",
       "                        <td>391.69</td>\n",
       "                    </tr>\n",
       "                    <tr>\n",
       "                        <th>Median</th>\n",
       "                        <td>633.43</td>\n",
       "                    </tr>\n",
       "                    <tr>\n",
       "                        <th>Q3</th>\n",
       "                        <td>4137.6</td>\n",
       "                    </tr>\n",
       "                    <tr>\n",
       "                        <th>95-th percentile</th>\n",
       "                        <td>9664.7</td>\n",
       "                    </tr>\n",
       "                    <tr>\n",
       "                        <th>Maximum</th>\n",
       "                        <td>19476</td>\n",
       "                    </tr>\n",
       "                    <tr>\n",
       "                        <th>Range</th>\n",
       "                        <td>19299</td>\n",
       "                    </tr>\n",
       "                    <tr>\n",
       "                        <th>Interquartile range</th>\n",
       "                        <td>3745.9</td>\n",
       "                    </tr>\n",
       "                </table>\n",
       "            </div>\n",
       "            <div class=\"col-md-4 col-md-offset-2\">\n",
       "                <p class=\"h4\">Descriptive statistics</p>\n",
       "                <table class=\"stats indent\">\n",
       "                    <tr>\n",
       "                        <th>Standard deviation</th>\n",
       "                        <td>3569.2</td>\n",
       "                    </tr>\n",
       "                    <tr>\n",
       "                        <th>Coef of variation</th>\n",
       "                        <td>1.3909</td>\n",
       "                    </tr>\n",
       "                    <tr>\n",
       "                        <th>Kurtosis</th>\n",
       "                        <td>3.1087</td>\n",
       "                    </tr>\n",
       "                    <tr>\n",
       "                        <th>Mean</th>\n",
       "                        <td>2566.1</td>\n",
       "                    </tr>\n",
       "                    <tr>\n",
       "                        <th>MAD</th>\n",
       "                        <td>2800</td>\n",
       "                    </tr>\n",
       "                    <tr class=\"\">\n",
       "                        <th>Skewness</th>\n",
       "                        <td>1.8326</td>\n",
       "                    </tr>\n",
       "                    <tr>\n",
       "                        <th>Sum</th>\n",
       "                        <td>4631900</td>\n",
       "                    </tr>\n",
       "                    <tr>\n",
       "                        <th>Variance</th>\n",
       "                        <td>12739000</td>\n",
       "                    </tr>\n",
       "                    <tr>\n",
       "                        <th>Memory size</th>\n",
       "                        <td>28.2 KiB</td>\n",
       "                    </tr>\n",
       "                </table>\n",
       "            </div>\n",
       "        </div>\n",
       "        <div role=\"tabpanel\" class=\"tab-pane col-md-8 col-md-offset-2\" id=\"histogram-7290491272661424466\">\n",
       "            <img src=\"data:image/png;base64,iVBORw0KGgoAAAANSUhEUgAAAlgAAAGQCAYAAAByNR6YAAAABHNCSVQICAgIfAhkiAAAAAlwSFlzAAAPYQAAD2EBqD%2BnaQAAADl0RVh0U29mdHdhcmUAbWF0cGxvdGxpYiB2ZXJzaW9uIDIuMS4wLCBodHRwOi8vbWF0cGxvdGxpYi5vcmcvpW3flQAAIABJREFUeJzt3X10VNW9//HPCMkQcpORB5NheIwuRTRIMbEQtIIPBCgPti6rCEbS2lypPIhAFS5XRe4VUAG9QkGlilhRbC/i9V5tJLQIepPwEIwSoIglAkqGoIZJQEgC7N8f/DjLIUG4dWdOJrxfa81amX32zPludrLOh33OnPEYY4wAAABgzQVuFwAAANDUELAAAAAsI2ABAABYRsACAACwjIAFAABgGQELAADAMgIWAACAZQQsAAAAywhYAAAAlhGwAAAALCNgAQAAWEbAAgAAsIyABQAAYBkBCwAAwDICFgAAgGUELAAAAMsIWAAAAJYRsAAAACwjYAEAAFhGwAIAALCMgAUAAGAZAQsAAMAyAhYAAIBlBCwAAADLCFgAAACWEbAAAAAsI2ABAABYRsACAACwjIAFAABgGQELAADAMgIWAACAZQQsAAAAywhYAAAAlhGwAAAALCNgAQAAWEbAAgAAsIyABQAAYBkBCwAAwLLmbhdwPjhx4oT27dunhIQEeTwet8sBAOC8YIxRVVWVAoGALrggsmtKBKwI2Ldvnzp27Oh2GQAAnJf27t2rDh06RHSfBKwISEhIkHRyghMTE12uBgCA80NlZaU6duzoHIcjiYAVAadOCyYmJhKwAACIMDcuz%2BEidwAAAMsIWAAAAJYRsAAAACwjYAEAAFhGwAIAALCMgAUAAGAZAQsAAMAyAhYAAIBlBCwAAADLCFgAAACWEbAAAAAsI2ABAABYxpc9R7n0ablul3DONj0%2B0O0SAACICFawAAAALCNgAQAAWEbAAgAAsIyABQAAYBkBCwAAwDICFgAAgGVRHbDWrVunoUOHKhAIyOPx6K233nK21dbW6qGHHlL37t0VHx%2BvQCCgu%2B%2B%2BW/v27Qt7j4qKCmVlZcnn88nn8ykrK0sHDx4M67Nlyxb17dtXcXFxat%2B%2BvWbMmCFjTETGCAAAok9UB6zDhw%2BrR48eWrBgQZ1t3377rTZv3qyHH35Ymzdv1ptvvqlPP/1Uw4YNC%2Bs3YsQIFRcXKzc3V7m5uSouLlZWVpazvbKyUv3791cgENDGjRs1f/58zZkzR/PmzWvw8QEAgOgU1TcaHTRokAYNGlTvNp/Pp7y8vLC2%2BfPn68c//rH27NmjTp06afv27crNzVVhYaF69eolSVq8eLEyMjK0Y8cOde3aVcuWLdPRo0f18ssvy%2Bv1KjU1VZ9%2B%2BqnmzZuniRMnyuPxNPg4AQBAdInqFaz/q1AoJI/HowsvvFCSVFBQIJ/P54QrSerdu7d8Pp/y8/OdPn379pXX63X6DBgwQPv27dPnn39e736qq6tVWVkZ9gAAAOeP8yZgHT16VFOmTNGIESOUmJgoSQoGg0pKSqrTNykpScFg0OmTnJwctv3U81N9Tjdr1iznmi6fz6eOHTvaHAoAAGjkzouAVVtbq%2BHDh%2BvEiRNauHBh2Lb6TvEZY8LaT%2B9z6gL3M50enDp1qkKhkPPYu3fvDx0CAACIIlF9Dda5qK2t1e23367S0lL99a9/dVavJMnv92v//v11XnPgwAFnlcrv99dZqSovL5ekOitbp3i93rBTigAA4PzSpFewToWrnTt3avXq1WrTpk3Y9oyMDIVCIW3YsMFpW79%2BvUKhkPr06eP0WbdunWpqapw%2Bq1atUiAQUJcuXSIyDgAAEF2iOmAdOnRIxcXFKi4uliSVlpaquLhYe/bs0bFjx3Tbbbdp06ZNWrZsmY4fP65gMKhgMOiEpW7dumngwIHKyclRYWGhCgsLlZOToyFDhqhr166STt7Gwev1Kjs7WyUlJVq5cqVmzpzJJwgBAMAZRfUpwk2bNumGG25wnk%2BcOFGSNGrUKE2fPl1vv/22JOlHP/pR2OvWrFmjfv36SZKWLVum8ePHKzMzU5I0bNiwsPtqnbrdw5gxY5Senq5WrVpp4sSJzr4AAABO5zHckrzBVVZWyufzKRQKhV0DZkP6tFyr79eQNj0%2B0O0SAADnkYY8/p5NVJ8iBAAAaIwIWAAAAJYRsAAAACwjYAEAAFhGwAIAALCMgAUAAGAZAQsAAMAyAhYAAIBlBCwAAADLCFgAAACWEbAAAAAsI2ABAABYRsACAACwjIAFAABgGQELAADAMgIWAACAZQQsAAAAywhYAAAAlhGwAAAALCNgAQAAWEbAAgAAsIyABQAAYBkBCwAAwDICFgAAgGUELAAAAMsIWAAAAJYRsAAAACwjYAEAAFhGwAIAALCMgAUAAGAZAQsAAMAyAhYAAIBlBCwAAADLCFgAAACWEbAAAAAsI2ABAABYRsACAACwjIAFAABgWVQHrHXr1mno0KEKBALyeDx66623wrYbYzR9%2BnQFAgHFxcWpX79%2B2rp1a1ifiooKZWVlyefzyefzKSsrSwcPHgzrs2XLFvXt21dxcXFq3769ZsyYIWNMg48PAABEp6gOWIcPH1aPHj20YMGCerc/%2BeSTmjdvnhYsWKCNGzfK7/erf//%2BqqqqcvqMGDFCxcXFys3NVW5uroqLi5WVleVsr6ysVP/%2B/RUIBLRx40bNnz9fc%2BbM0bx58xp8fAAAIDo1d7uAH2LQoEEaNGhQvduMMXrmmWc0bdo03XrrrZKkpUuXKjk5Wa%2B99pruvfdebd%2B%2BXbm5uSosLFSvXr0kSYsXL1ZGRoZ27Nihrl27atmyZTp69Khefvlleb1epaam6tNPP9W8efM0ceJEeTyeiI0XAABEh6hewfo%2BpaWlCgaDyszMdNq8Xq/69u2r/Px8SVJBQYF8Pp8TriSpd%2B/e8vl8YX369u0rr9fr9BkwYID27dunzz//vN59V1dXq7KyMuwBAADOH002YAWDQUlScnJyWHtycrKzLRgMKikpqc5rk5KSwvrU9x7f3cfpZs2a5VzT5fP51LFjxx82GAAAEFWabMA65fRTeMaYsLb6TvGdrc%2BpC9zPdHpw6tSpCoVCzmPv3r3/cP0AACD6RPU1WN/H7/dLOrnK1K5dO6e9vLzcWYHy%2B/3av39/ndceOHAgrM/pK1Xl5eWS6q6OneL1esNOKQIAgPNLk13BSklJkd/vV15entNWU1OjtWvXqk%2BfPpKkjIwMhUIhbdiwwemzfv16hUKhsD7r1q1TTU2N02fVqlUKBALq0qVLZAYDAACiSlQHrEOHDqm4uFjFxcWSTl7YXlxcrD179sjj8WjChAmaOXOmVq5cqZKSEmVnZ6tly5YaMWKEJKlbt24aOHCgcnJyVFhYqMLCQuXk5GjIkCHq2rWrpJO3cfB6vcrOzlZJSYlWrlypmTNn8glCAABwRlF9inDTpk264YYbnOcTJ06UJI0aNUovv/yyHnzwQR05ckT33XefKioq1KtXL61atUoJCQnOa5YtW6bx48c7nzYcNmxY2H21fD6f8vLyNGbMGKWnp6tVq1aaOHGisy8AAIDTeQy3JG9wlZWV8vl8CoVCSkxMtPre6dNyrb5fQ9r0%2BEC3SwAAnEca8vh7NlF9ihAAAKAxImABAABYRsACAACwjIAFAABgGQELAADAMgIWAACAZQQsAAAAywhYAAAAlhGwAAAALCNgAQAAWEbAAgAAsIyABQAAYBkBCwAAwDICFgAAgGUELAAAAMsIWAAAAJYRsAAAACwjYAEAAFhGwAIAALCMgAUAAGAZAQsAAMAyAhYAAIBlBCwAAADLCFgAAACWEbAAAAAsI2ABAABYRsACAACwjIAFAABgGQELAADAMgIWAACAZQQsAAAAywhYAAAAlhGwAAAALCNgAQAAWEbAAgAAsIyABQAAYBkBCwAAwDICFgAAgGVNOmAdO3ZM//qv/6qUlBTFxcXp4osv1owZM3TixAmnjzFG06dPVyAQUFxcnPr166etW7eGvU9FRYWysrLk8/nk8/mUlZWlgwcPRno4AAAgSjTpgPXEE0/oueee04IFC7R9%2B3Y9%2BeSTeuqppzR//nynz5NPPql58%2BZpwYIF2rhxo/x%2Bv/r376%2Bqqiqnz4gRI1RcXKzc3Fzl5uaquLhYWVlZbgwJAABEgeZuF9CQCgoKdMstt2jw4MGSpC5duuj111/Xpk2bJJ1cvXrmmWc0bdo03XrrrZKkpUuXKjk5Wa%2B99pruvfdebd%2B%2BXbm5uSosLFSvXr0kSYsXL1ZGRoZ27Nihrl27ujM4AADQaDXpFazrrrtOf/nLX/Tpp59Kkj7%2B%2BGN9%2BOGH%2BulPfypJKi0tVTAYVGZmpvMar9ervn37Kj8/X9LJkObz%2BZxwJUm9e/eWz%2Bdz%2BpyuurpalZWVYQ8AAHD%2BaNIrWA899JBCoZAuv/xyNWvWTMePH9fjjz%2BuO%2B%2B8U5IUDAYlScnJyWGvS05O1u7du50%2BSUlJdd47KSnJef3pZs2apccee8zmUAAAQBRp0itYb7zxhl599VW99tpr2rx5s5YuXao5c%2BZo6dKlYf08Hk/Yc2NMWNvp2%2Bvr811Tp05VKBRyHnv37rUwGgAAEC1cWcF69dVXddttt6lFixYNup/f/va3mjJlioYPHy5J6t69u3bv3q1Zs2Zp1KhR8vv9kk6uUrVr1855XXl5ubOq5ff7tX///jrvfeDAgTorX6d4vV55vV7bwwEAAFHClRWsiRMnyu/3695779WGDRsabD/ffvutLrggfIjNmjVzbtOQkpIiv9%2BvvLw8Z3tNTY3Wrl2rPn36SJIyMjIUCoXC6ly/fr1CoZDTBwAA4LtcCVj79u3TSy%2B9pLKyMl133XW68sorNXfuXB04cMDqfoYOHarHH39c77zzjj7//HOtXLlS8%2BbN089//nNJJ0/9TZgwQTNnztTKlStVUlKi7OxstWzZUiNGjJAkdevWTQMHDlROTo4KCwtVWFionJwcDRkyhE8QAgCAenmMMcbNAoLBoF555RUtXbpUn332mQYPHqx77rlHP/3pT894jdO5qqqq0sMPP6yVK1eqvLxcgUBAd955px555BHFxsZKOnkt1WOPPabnn39eFRUV6tWrl373u98pNTXVeZ9vvvlG48eP19tvvy1JGjZsmBYsWKALL7zwnOqorKyUz%2BdTKBRSYmLiDxrT6dKn5Vp9v4a06fGBbpcAADiPNOTx92xcD1iSVFRUpJdeekkvvviikpKSFAqFdNFFF2nJkiX6yU9%2B4nZ5PxgB6yQCFgAgktwMWK59ivCrr77SM888ox49eujaa69VeXm53nrrLe3evVtffvmlhgwZorvvvtut8gAAAP5hrnyK8Oc//7neffddpaSk6Ne//rVGjRqliy66yNn%2BT//0T3rwwQf17LPPulEeAADAD%2BJKwEpMTNTq1au/9/Rfu3bttHPnzghWBQAAYIcrAev0G33Wx%2BPx6JJLLolANQAAAHa5cg3WAw88oAULFtRp/93vfqdJkya5UBEAAIA9rgSsP/3pT%2Brdu3ed9oyMDL3xxhsuVAQAAGCPKwHrq6%2B%2BUqtWreq0JyYm6quvvnKhIgAAAHtcCViXXHKJ3nvvvTrt7733nlJSUlyoCAAAwB5XLnKfMGGCJkyYoK%2B//lo33nijJOkvf/mLnnzySc2ZM8eNkgAAAKxxJWDl5OTo6NGjmjlzph599FFJUocOHfTss8/qV7/6lRslAQAAWONKwJKkcePGady4cSorK1NcXNw5f68fAABAY%2BdawDqlXbt2bpcAAABglSsXuR84cEC//OUv1alTJ7Vo0UKxsbFhDwAAgGjmygpWdna2/v73v%2Bu3v/2t2rVrJ4/H40YZAAAADcKVgLVu3TqtW7dOPXv2dGP3AAAADcqVU4QdOnRg1QoAADRZrgSsp59%2BWlOnTtUXX3zhxu4BAAAalCunCLOyslRVVaXOnTsrMTFRMTExYdvLy8vdKAsAAMAKVwLW7Nmz3dgtAABARLgSsO655x43dgsAABARrlyDJUmff/65pk%2BfrqysLOeU4KpVq7R9%2B3a3SgIAALDClYD1wQcf6Morr9TatWv1xz/%2BUYcOHZIkbd68WY888ogbJQEAAFjjSsB66KGHNH36dK1Zsybszu033nijCgsL3SgJAADAGlcC1ieffKLbbrutTntSUpIOHDjgQkUAAAD2uBKwLrzwQgWDwTrtxcXFat%2B%2BvQsVAQAA2ONKwBo%2BfLimTJmiAwcOOHd0X79%2BvSZPnqy77rrLjZIAAACscSVgzZw5U36/X%2B3atdOhQ4d0xRVXqE%2BfPrrmmmv08MMPu1ESAACANa7cBys2NlZvvPGGPv30U23evFknTpzQ1Vdfrcsvv9yNcgAAAKxyJWCdctlll%2Bmyyy5zswQAAADrXAlY//zP//y921944YUIVQIAAGCfKwGrrKws7Hltba22bt2qqqoqXX/99W6UBAAAYI0rAeu///u/67QdO3ZMv/nNb9StWzcXKgIAALDHte8iPF3z5s01efJkPfXUU26XAgAA8IM0moAlSbt27VJtba3bZQAAAPwgrpwifPDBB8OeG2NUVlamt99%2BWyNHjnSjJAAAAGtcCVgFBQVhzy%2B44AJddNFFmj17tnJyctwoCQAAwBpXAtYHH3zgxm4BAAAiolFdgwUAANAUuBKwrrnmGv34xz8%2Bp8cP9eWXX%2Bquu%2B5SmzZt1LJlS/3oRz9SUVGRs90Yo%2BnTpysQCCguLk79%2BvXT1q1bw96joqJCWVlZ8vl88vl8ysrK0sGDB39wbQAAoGlyJWDdcMMN2rFjh4wx6t27t3r37i1J2rFjh/r166cBAwY4jx%2BioqJC1157rWJiYvTnP/9Z27Zt09y5c3XhhRc6fZ588knNmzdPCxYs0MaNG%2BX3%2B9W/f39VVVU5fUaMGKHi4mLl5uYqNzdXxcXFysrK%2BkG1AQCApsuVa7AOHjyoMWPGaObMmWHt06ZN0/79%2B/X73//eyn6eeOIJdezYUUuWLHHaunTp4vxsjNEzzzyjadOm6dZbb5UkLV26VMnJyXrttdd07733avv27crNzVVhYaF69eolSVq8eLEyMjK0Y8cOde3a1UqtAACg6XBlBeuPf/yjfvnLX9Zpz87O1p/%2B9Cdr%2B3n77beVnp6uX/ziF0pKSlLPnj21ePFiZ3tpaamCwaAyMzOdNq/Xq759%2Byo/P1/SyU88%2Bnw%2BJ1xJUu/eveXz%2BZw%2Bp6uurlZlZWXYAwAAnD9cCVher7fecJKfny%2Bv12ttP7t27dKiRYt06aWX6r333tPo0aM1fvx4vfLKK5KkYDAoSUpOTg57XXJysrMtGAwqKSmpznsnJSU5fU43a9Ys53otn8%2Bnjh07WhsTAABo/Fw5RTh%2B/HiNHj1aH330kXP9VWFhoRYvXqx/%2BZd/sbafEydOKD093TkV2bNnT23dulWLFi3S3Xff7fTzeDxhrzPGhLWdvr2%2BPt81depUTZw40XleWVlJyAIA4DziSsCaNm2aUlJS9B//8R966aWXJEndunXT4sWLNWLECGv7adeuna644oqwtm7dumnFihWSJL/fL%2BnkKlW7du2cPuXl5c6qlt/v1/79%2B%2Bu894EDB%2BqsfJ3i9XqtrsQBAIDo4tp9sEaMGKH169c71yitX7/eariSpGuvvVY7duwIa/v000/VuXNnSVJKSor8fr/y8vKc7TU1NVq7dq369OkjScrIyFAoFNKGDRucPuvXr1coFHL6AAAAfJdrAauyslIvv/yyHnnkEVVUVEiSPv74Y5WVlVnbxwMPPKDCwkLNnDlTn332mV577TW98MILGjNmjKSTp/4mTJigmTNnauXKlSopKVF2drZatmzphL1u3bpp4MCBysnJUWFhoQoLC5WTk6MhQ4bwCUIAAFAvV04RlpSU6Oabb1bLli21d%2B9eZWdnq1WrVvrjH/%2BoL774QkuXLrWyn2uuuUYrV67U1KlTNWPGDKWkpOiZZ54J%2B0LpBx98UEeOHNF9992niooK9erVS6tWrVJCQoLTZ9myZRo/frzzacNhw4ZpwYIFVmoEAABNj8cYYyK90/79%2B6t79%2B6aO3euEhMT9fHHH%2Bviiy9Wfn6%2BRo4cqdLS0kiX1KAqKyvl8/kUCoWUmJho9b3Tp%2BVafb%2BGtOnxgW6XAAA4jzTk8fdsXFnB2rhxoxYtWlTnU3jt27e3eooQAADADa5cgxUbG6tDhw7Vad%2B5c6fatm3rQkUAAAD2uBKwhg0bpn/7t3/TsWPHJJ282PzLL7/UlClTnK%2BsAQAAiFauBKy5c%2Bdq37598vv9OnLkiG688UZdfPHFatGiRZ3vJwQAAIg2rlyDdep7/PLy8rR582adOHFCV199tQYMGHDGu6MDAABEi4gHrNraWv30pz/VwoULlZmZGfZFywAAAE1BxE8RxsTE6KOPPmKlCgAANFmuXIN11113acmSJW7sGgAAoMG5cg2WJC1YsECrV69Wenq64uPjw7Y9%2BeSTLlUFAADww7kSsIqKinTVVVdJkj755JOwbZw6BAAA0S6iAWvXrl1KSUnRBx98EMndAgAARFREr8G69NJLdeDAAef5HXfcof3790eyBAAAgAYX0YB1%2BvdKv/vuuzp8%2BHAkSwAAAGhwrnyKEAAAoCmLaMDyeDx1LmLnonYAANDURPQid2OMsrOz5fV6JUlHjx7V6NGj69ym4c0334xkWQAAAFZFNGCNGjUq7Pldd90Vyd0DAABEREQDFndvBwAA5wMucgcAALCMgAUAAGAZAQsAAMAyAhYAAIBlBCwAAADLCFgAAACWEbAAAAAsI2ABAABYRsACAACwjIAFAABgGQELAADAMgIWAACAZQQsAAAAywhYAAAAlhGwAAAALCNgAQAAWEbAAgAAsIyABQAAYBkBCwAAwDICFgAAgGXnVcCaNWuWPB6PJkyY4LRVV1dr3Lhxatu2reLj4zVs2DB98cUXYa/bs2ePhg4dqvj4eLVt21bjx49XTU1NpMsHAABR4rwJWBs3btQLL7ygq666Kqx9woQJWrlypZYvX64PP/xQhw4d0pAhQ3T8%2BHFJ0vHjxzV48GAdPnxYH374oZYvX64VK1Zo0qRJbgwDAABEgfMiYB06dEgjR47U4sWL1apVK6c9FArpxRdf1Ny5c3XzzTerZ8%2BeevXVV7VlyxatXr1akrRq1Spt27ZNr776qnr27Kmbb75Zc%2BfO1eLFi1VZWenWkAAAQCN2XgSsMWPGaPDgwbr55pvD2ouKilRbW6vMzEynLRAIKDU1Vfn5%2BZKkgoICpaamKhAIOH0GDBig6upqFRUV1bu/6upqVVZWhj0AAMD5o7nbBTS05cuXq6ioSJs2baqzLRgMKjY2NmxVS5KSk5MVDAadPsnJyWHbW7VqpdjYWKfP6WbNmqXHHnvM0ggAAEC0adIrWHv37tX999%2BvZcuWqUWLFuf8OmOMPB6P8/y7P5%2Bpz3dNnTpVoVDIeezdu/f/XjwAAIhaTTpgFRUVqby8XGlpaWrevLmaN2%2ButWvX6tlnn1Xz5s2VnJysmpoaVVRUhL2uvLzcWbXy%2B/11VqoqKipUW1tbZ2XrFK/Xq8TExLAHAAA4fzTpgHXTTTdpy5YtKi4udh7p6ekaOXKk83NMTIzy8vKc15SVlamkpER9%2BvSRJGVkZKikpERlZWVOn1WrVsnr9SotLS3iYwIAAI1fk74GKyEhQampqWFt8fHxatOmjdN%2Bzz33aNKkSWrTpo1at26tyZMnq3v37s4F8ZmZmbriiiuUlZWlp556St98840mT56snJwcVqYAAEC9mnTAOhdPP/20mjdvrttvv11HjhzRTTfdpJdfflnNmjWTJDVr1kzvvPOO7rvvPl177bWKi4vTiBEjNGfOHJcrBwAAjZXHGGPcLqKpq6yslM/nUygUsr7qlT4t1%2Br7NaRNjw90uwQAwHmkIY%2B/Z9Okr8ECAABwAwELAADAMgIWAACAZQQsAAAAywhYAAAAlhGwAAAALCNgAQAAWEbAAgAAsIyABQAAYBkBCwAAwDICFgAAgGUELAAAAMsIWAAAAJYRsAAAACwjYAEAAFhGwAIAALCMgAUAAGAZAQsAAMAyAhYAAIBlBCwAAADLCFgAAACWEbAAAAAsI2ABAABYRsACAACwjIAFAABgGQELAADAMgIWAACAZQQsAAAAywhYAAAAlhGwAAAALCNgAQAAWEbAAgAAsIyABQAAYBkBCwAAwDICFgAAgGUELAAAAMsIWAAAAJYRsAAAACxr0gFr1qxZuuaaa5SQkKCkpCT97Gc/044dO8L6VFdXa9y4cWrbtq3i4%2BM1bNgwffHFF2F99uzZo6FDhyo%2BPl5t27bV%2BPHjVVNTE8mhAACAKNKkA9batWs1ZswYFRYWKi8vT8eOHVNmZqYOHz7s9JkwYYJWrlyp5cuX68MPP9ShQ4c0ZMgQHT9%2BXJJ0/PhxDR48WIcPH9aHH36o5cuXa8WKFZo0aZJbwwIAAI2cxxhj3C4iUg4cOKCkpCStXbtW119/vUKhkC666CL94Q9/0B133CFJ2rdvnzp27Kh3331XAwYM0J///GcNGTJEe/fuVSAQkCQtX75c2dnZKi8vV2Ji4ln3W1lZKZ/Pp1AodE79/y/Sp%2BVafb%2BGtOnxgW6X0KTxuwAA4Rry%2BHs2TXoF63ShUEiS1Lp1a0lSUVGRamtrlZmZ6fQJBAJKTU1Vfn6%2BJKmgoECpqalOuJKkAQMGqLq6WkVFRfXup7q6WpWVlWEPAABw/jhvApYxRhMnTtR1112n1NRUSVIwGFRsbKxatWoV1jc5OVnBYNDpk5ycHLa9VatWio2NdfqcbtasWfL5fM6jY8eODTAiAADQWJ03AWvs2LH65JNP9Prrr5%2B1rzFGHo/Hef7dn8/U57umTp2qUCjkPPbu3fuPFw4AAKLOeRGwxo0bp7fffltr1qxRhw4dnHa/36%2BamhpVVFSE9S8vL3dWrfx%2Bf52VqoqKCtXW1tZZ2TrF6/UqMTEx7AEAAM4fTTpgGWM0duxYvfnmm/rrX/%2BqlJSUsO1paWmKiYlRXl6e01ZWVqaSkhL16dNHkpSRkaGSkhKVlZU5fVatWiWv16u0tLTIDAQAAESV5m4X0JDGjBmj1157Tf/kkr4TAAARS0lEQVT1X/%2BlhIQEZyXK5/MpLi5OPp9P99xzjyZNmqQ2bdqodevWmjx5srp3766bb75ZkpSZmakrrrhCWVlZeuqpp/TNN99o8uTJysnJYWUKAADUq0kHrEWLFkmS%2BvXrF9a%2BZMkSZWdnS5KefvppNW/eXLfffruOHDmim266SS%2B//LKaNWsmSWrWrJneeecd3Xfffbr22msVFxenESNGaM6cOZEcCgAAiCJNOmCdyy2%2BWrRoofnz52v%2B/Pln7NOpUyf9z//8j83SAABAE9akr8ECAABwAwELAADAMgIWAACAZQQsAAAAywhYAAAAlhGwAAAALCNgAQAAWEbAAgAAsIyABQAAYBkBCwAAwDICFgAAgGUELAAAAMsIWAAAAJYRsAAAACwjYAEAAFhGwAIAALCMgAUAAGBZc7cLwPkjfVqu2yX8n2x6fKDbJQAAohQrWAAAAJYRsAAAACwjYAEAAFjGNVgAIo7r8QA0daxgAQAAWMYKFnAG0bbKAgBoPFjBAgAAsIyABQAAYBkBCwAAwDICFgAAgGUELAAAAMsIWAAAAJYRsAAAACwjYAEAAFjGjUYB4Cyi7aazfLUP4D5WsAAAACwjYAEAAFhGwAIAALCMgAUAAGAZF7kDAFzDBwjQVLGCdY4WLlyolJQUtWjRQmlpafrggw/cLgkAADRSrGCdgzfeeEMTJkzQwoULde211%2Br555/XoEGDtG3bNnXq1Mnt8gAAEcKKG84VK1jnYN68ebrnnnv061//Wt26ddMzzzyjjh07atGiRW6XBgAAGiFWsM6ipqZGRUVFmjJlSlh7Zmam8vPz631NdXW1qqurneehUEiSVFlZab2%2B49WHrb8ngOjWc/IKt0tAIxFNvwtrH%2Blv/T1PHXeNMdbf%2B2wIWGfx1Vdf6fjx40pOTg5rT05OVjAYrPc1s2bN0mOPPVanvWPHjg1SIwAA0c43t%2BHeu6qqSj6fr%2BF2UA8C1jnyeDxhz40xddpOmTp1qiZOnOg8P3HihL755hu1adPmjK85F5WVlerYsaP27t2rxMTEf/h9GqumPj6p6Y%2BxqY9PavpjbOrjkxhjU3Cu4zPGqKqqSoFAIILVnUTAOou2bduqWbNmdVarysvL66xqneL1euX1esPaLrzwQms1JSYmNsk/mFOa%2Bvikpj/Gpj4%2BqemPsamPT2KMTcG5jC/SK1encJH7WcTGxiotLU15eXlh7Xl5eerTp49LVQEAgMaMFaxzMHHiRGVlZSk9PV0ZGRl64YUXtGfPHo0ePdrt0gAAQCPUbPr06dPdLqKxS01NVZs2bTRz5kzNmTNHR44c0R/%2B8Af16NEj4rU0a9ZM/fr1U/PmTTMbN/XxSU1/jE19fFLTH2NTH5/EGJuCxj4%2Bj3Hjs4sAAABNGNdgAQAAWEbAAgAAsIyABQAAYBkBCwAAwDICVpRYuHChUlJS1KJFC6WlpemDDz5wu6R6zZo1S9dcc40SEhKUlJSkn/3sZ9qxY0dYn379%2Bsnj8YQ9hg8fHtanoqJCWVlZ8vl88vl8ysrK0sGDB8P6bNmyRX379lVcXJzat2%2BvGTNmNPj3TU2fPr1O7X6/39lujNH06dMVCAQUFxenfv36aevWrVExtlO6dOlSZ4wej0djxoyRFJ3zt27dOg0dOlSBQEAej0dvvfVW2PZIztuKFSt0xRVXyOv16oorrtDKlSsbdHy1tbV66KGH1L17d8XHxysQCOjuu%2B/Wvn37wt6jvnk//TtY9%2BzZo6FDhyo%2BPl5t27bV%2BPHjVVNTE9Zn7dq1SktLU4sWLXTxxRfrueee%2B8HjO9sYJSk7O7tO/b179w7rU11drXHjxqlt27aKj4/XsGHD9MUXXzSKMZ5tfPX9TXo8Hj311FNOn8Y8h%2BdybIjk/ETkmGrQ6C1fvtzExMSYxYsXm23btpn777/fxMfHm927d7tdWh0DBgwwS5YsMSUlJaa4uNgMHjzYdOrUyRw6dMjp07dvX5OTk2PKysqcx8GDB8PeZ%2BDAgSY1NdXk5%2Beb/Px8k5qaaoYMGeJsD4VCJjk52QwfPtxs2bLFrFixwiQkJJg5c%2BY06PgeffRRc%2BWVV4bVXl5e7myfPXu2SUhIMCtWrDBbtmwxd9xxh2nXrp2prKxs9GM7pby8PGx8eXl5RpJZs2aNMSY65%2B/dd98106ZNMytWrDCSzMqVK8O2R2re8vPzTbNmzczMmTPN9u3bzcyZM03z5s1NYWFhg43v4MGD5uabbzZvvPGG%2Bdvf/mYKCgpMr169TFpaWth7dO7c2cyYMSNsXquqqpztx44dM6mpqeaGG24wmzdvNnl5eSYQCJixY8c6fXbt2mVatmxp7r//frNt2zazePFiExMTY/7zP//zB43vbGM0xphRo0aZgQMHhtX/9ddfh/UZPXq0ad%2B%2BvcnLyzObN282N9xwg%2BnRo4c5duyY62M82/i%2BO66ysjLz0ksvGY/HY/7%2B9787fRrzHJ7LsSFS8xOpYyoBKwr8%2BMc/NqNHjw5ru/zyy82UKVNcqujclZeXG0lm7dq1Tlvfvn3N/ffff8bXbNu2zUgKO%2BgUFBQYSeZvf/ubMcaYhQsXGp/PZ44ePer0mTVrlgkEAubEiRMNMJKTHn30UdOjR496t504ccL4/X4ze/Zsp%2B3o0aPG5/OZ5557zhjTuMd2Jvfff7%2B55JJLnH1H8/wZY%2BocvCI5b7fffrsZOHBgWD0DBgwww4cPb7Dx1WfDhg1GUtgBpXPnzubpp58%2B42veffddc8EFF5gvv/zSaXv99deN1%2Bs1oVDIGGPMgw8%2BaC6//PKw1917772md%2B/e/8hQzuhMAeuWW24542sOHjxoYmJizPLly522L7/80lxwwQUmNzfXGNN4xnguc3jLLbeYG2%2B8Mawtmubw9GNDJOcnUsdUThE2cjU1NSoqKlJmZmZYe2ZmpvLz812q6tyFQiFJUuvWrcPaly1bprZt2%2BrKK6/U5MmTVVVV5WwrKCiQz%2BdTr169nLbevXvL5/M5Yy4oKFDfvn3DvvNxwIAB2rdvnz7//PMGHJG0c%2BdOBQIBpaSkaPjw4dq1a5ckqbS0VMFgMGyuvF6v%2BvbtG1Z3Yx7b6WpqavTqq6/qV7/6VdgXlUfz/J0ukvNWUFBQ5295wIABEf9bDoVC8ng8db4j9YknnlCbNm30ox/9SI8//njYqZeCggKlpqaGfWnugAEDVF1draKiIqdPfePbtGmTamtrG3BEJ73//vtKSkrSZZddppycHJWXlzvbioqKVFtbG1ZfIBBQampq2Bw29jFK0v79%2B/XOO%2B/onnvuqbMtWubw9GNDpOYnksfUxnn7Uzi%2B%2BuorHT9%2BvM4XSycnJ9f5AurGxhijiRMn6rrrrlNqaqrTPnLkSKWkpMjv96ukpERTp07Vxx9/7HzfYzAYVFJSUp33S0pKcsYcDAbVpUuXsO2n/o2CwaBSUlIaZEy9evXSK6%2B8ossuu0z79%2B/Xv//7v6tPnz7aunWrU1t9c7V7926ntsY6tvq89dZbOnjwoLKzs522aJ6/%2BkRy3oLBoOt/y0ePHtWUKVM0YsSIsC/Jvf/%2B%2B3X11VerVatW2rBhg6ZOnarS0lL9/ve/d8Zweu2tWrVSbGxs2L9BfeM7duyYvvrqK7Vr167BxjVo0CD94he/UOfOnVVaWqqHH35YN954o4qKiuT1ehUMBhUbG6tWrVrVqe/76m9MYzxl6dKlSkhI0K233hrWHi1zWN%2BxIVLzY4yJ2DGVgBUlvrt6IJ38BT29rbEZO3asPvnkE3344Ydh7Tk5Oc7PqampuvTSS5Wenq7Nmzfr6quvllR3vFLdMdf3b3Km19oyaNAg5%2Bfu3bsrIyNDl1xyiZYuXepcUHu2uWqsY6vPiy%2B%2BqEGDBoX9jzGa5%2B/7RGre3Pxbrq2t1fDhw3XixAktXLgwbNsDDzzg/HzVVVepVatWuu2225wVEalxz%2Bsdd9zh/Jyamqr09HR17txZ77zzTp0gcnp90fb3%2BdJLL2nkyJFq0aJFWHu0zOGZjg31sT0/ZxpLQ/wdcoqwkWvbtq2aNWtWJ1mXl5fXSeCNybhx4/T2229rzZo16tChw/f2vfrqqxUTE6OdO3dKkvx%2Bv/bv31%2Bn34EDB5wx%2B/3%2Bev9NpLorEQ0pPj5e3bt3186dO51PE37fXEXT2Hbv3q3Vq1fr17/%2B9ff2i%2Bb5O1WLFJl5O1OfSIy5trZWt99%2Bu0pLS5WXlxe2elWfU/9h%2BOyzzyTVX3tFRYVqa2vPOr7mzZs7B/hIadeunTp37hz2e1lTU6OKioo69X1f/Y1tjB988IF27Nhx1r9LqXHO4ZmODZGan0geUwlYjVxsbKzS0tKc0y%2Bn5OXlqU%2BfPi5VdWbGGI0dO1Zvvvmm/vrXv57TqZ6tW7eqtrbWWXrOyMhQKBTShg0bnD7r169XKBRyxpyRkaF169aFXV%2BwatUqBQKBOqdpGlJ1dbW2b9%2Budu3aOafNvjtXNTU1Wrt2bVjd0TK2JUuWKCkpSYMHD/7eftE8f5IiOm8ZGRl1/pZXrVrV4H/Lp8LVzp07tXr16nM6UH700UeSFDavJSUlKisrc/qsWrVKXq9XaWlpTp/6xpeenq6YmBhbwzknX3/9tfbu3evUn5aWppiYmLD6ysrKVFJSEjaHjX2ML774otLS0tSjR4%2Bz9m1Mc3i2Y0Ok5ieix1Srl8yjQZz6SOmLL75otm3bZiZMmGDi4%2BPN559/7nZpdfzmN78xPp/PvP/%2B%2B2EfFf7222%2BNMcZ89tln5rHHHjMbN240paWl5p133jGXX3656dmzp/NRXGNOfiT%2BqquuMgUFBaagoMB079497CPxBw8eNMnJyebOO%2B80W7ZsMW%2B%2B%2BaZJTExs8FsZTJo0ybz//vtm165dprCw0AwZMsQkJCQ4czF79mzj8/nMm2%2B%2BabZs2WLuvPPOej/u3xjH9l3Hjx83nTp1Mg899FBYe7TOX1VVlfnoo4/MRx99ZCSZefPmmY8%2B%2Bsj5FF2k5u1///d/TbNmzczs2bPN9u3bzezZs63cpuH7xldbW2uGDRtmOnToYIqLi8P%2BLqurq40xJ28fceo1u3btMm%2B88YYJBAJm2LBhzj5OfUT%2BpptuMps3bzarV682HTp0qPcj8g888IDZtm2befHFF63dpuH7xlhVVWUmTZpk8vPzTWlpqVmzZo3JyMgw7du3D5vD0aNHmw4dOpjVq1ebzZs3mxtvvLHe2wC4Mcaz/Y4ac/JWIC1btjSLFi2q8/rGPodnOzYYE7n5idQxlYAVJX73u9%2BZzp07m9jYWHP11VeH3fagMZFU72PJkiXGGGP27Nljrr/%2BetO6dWsTGxtrLrnkEjN%2B/Pg696v5%2BuuvzciRI01CQoJJSEgwI0eONBUVFWF9PvnkE/OTn/zEeL1e4/f7zfTp0xv8I/6n7o8UExNjAoGAufXWW83WrVud7SdOnDCPPvqo8fv9xuv1muuvv95s2bIlKsb2Xe%2B9956RZHbs2BHWHq3zt2bNmnp/L0eNGmWMiey8/elPfzJdu3Y1MTEx5vLLLzcrVqxo0PGVlpae8e/y1L3NioqKTK9evYzP5zMtWrQwXbt2NY8%2B%2Bqg5fPhw2H52795tBg8ebOLi4kzr1q3N2LFjw25LYYwx77//vunZs6eJjY01Xbp0qTcM2B7jt99%2BazIzM81FF11kYmJiTKdOncyoUaPMnj17wt7jyJEjZuzYsaZ169YmLi7ODBkypE4ft8Z4tt9RY4x5/vnnTVxcXJ37zhnT%2BOfwbMcGYyI7P5E4pnr%2B/8ABAABgCddgAQAAWEbAAgAAsIyABQAAYBkBCwAAwDICFgAAgGUELAAAAMsIWAAAAJYRsAAAACwjYAEAAFhGwAIAALCMgAUAAGAZAQsAAMAyAhYAAIBlBCwAAADLCFgAAACWEbAAAAAsI2ABAABYRsACAACw7P8BPumBtrRXYicAAAAASUVORK5CYII%3D\"/>\n",
       "        </div>\n",
       "        <div role=\"tabpanel\" class=\"tab-pane col-md-12\" id=\"common-7290491272661424466\">\n",
       "            \n",
       "<table class=\"freq table table-hover\">\n",
       "    <thead>\n",
       "    <tr>\n",
       "        <td class=\"fillremaining\">Value</td>\n",
       "        <td class=\"number\">Count</td>\n",
       "        <td class=\"number\">Frequency (%)</td>\n",
       "        <td style=\"min-width:200px\">&nbsp;</td>\n",
       "    </tr>\n",
       "    </thead>\n",
       "    <tr class=\"\">\n",
       "        <td class=\"fillremaining\">418.42</td>\n",
       "        <td class=\"number\">3</td>\n",
       "        <td class=\"number\">0.2%</td>\n",
       "        <td>\n",
       "            <div class=\"bar\" style=\"width:1%\">&nbsp;</div>\n",
       "        </td>\n",
       "</tr><tr class=\"\">\n",
       "        <td class=\"fillremaining\">430.72</td>\n",
       "        <td class=\"number\">2</td>\n",
       "        <td class=\"number\">0.1%</td>\n",
       "        <td>\n",
       "            <div class=\"bar\" style=\"width:1%\">&nbsp;</div>\n",
       "        </td>\n",
       "</tr><tr class=\"\">\n",
       "        <td class=\"fillremaining\">479.58</td>\n",
       "        <td class=\"number\">2</td>\n",
       "        <td class=\"number\">0.1%</td>\n",
       "        <td>\n",
       "            <div class=\"bar\" style=\"width:1%\">&nbsp;</div>\n",
       "        </td>\n",
       "</tr><tr class=\"\">\n",
       "        <td class=\"fillremaining\">314.08</td>\n",
       "        <td class=\"number\">2</td>\n",
       "        <td class=\"number\">0.1%</td>\n",
       "        <td>\n",
       "            <div class=\"bar\" style=\"width:1%\">&nbsp;</div>\n",
       "        </td>\n",
       "</tr><tr class=\"\">\n",
       "        <td class=\"fillremaining\">477.79</td>\n",
       "        <td class=\"number\">2</td>\n",
       "        <td class=\"number\">0.1%</td>\n",
       "        <td>\n",
       "            <div class=\"bar\" style=\"width:1%\">&nbsp;</div>\n",
       "        </td>\n",
       "</tr><tr class=\"\">\n",
       "        <td class=\"fillremaining\">237.26</td>\n",
       "        <td class=\"number\">2</td>\n",
       "        <td class=\"number\">0.1%</td>\n",
       "        <td>\n",
       "            <div class=\"bar\" style=\"width:1%\">&nbsp;</div>\n",
       "        </td>\n",
       "</tr><tr class=\"\">\n",
       "        <td class=\"fillremaining\">455.76</td>\n",
       "        <td class=\"number\">2</td>\n",
       "        <td class=\"number\">0.1%</td>\n",
       "        <td>\n",
       "            <div class=\"bar\" style=\"width:1%\">&nbsp;</div>\n",
       "        </td>\n",
       "</tr><tr class=\"\">\n",
       "        <td class=\"fillremaining\">237.2</td>\n",
       "        <td class=\"number\">2</td>\n",
       "        <td class=\"number\">0.1%</td>\n",
       "        <td>\n",
       "            <div class=\"bar\" style=\"width:1%\">&nbsp;</div>\n",
       "        </td>\n",
       "</tr><tr class=\"\">\n",
       "        <td class=\"fillremaining\">239.85</td>\n",
       "        <td class=\"number\">2</td>\n",
       "        <td class=\"number\">0.1%</td>\n",
       "        <td>\n",
       "            <div class=\"bar\" style=\"width:1%\">&nbsp;</div>\n",
       "        </td>\n",
       "</tr><tr class=\"\">\n",
       "        <td class=\"fillremaining\">233.52</td>\n",
       "        <td class=\"number\">2</td>\n",
       "        <td class=\"number\">0.1%</td>\n",
       "        <td>\n",
       "            <div class=\"bar\" style=\"width:1%\">&nbsp;</div>\n",
       "        </td>\n",
       "</tr><tr class=\"other\">\n",
       "        <td class=\"fillremaining\">Other values (1773)</td>\n",
       "        <td class=\"number\">1784</td>\n",
       "        <td class=\"number\">98.8%</td>\n",
       "        <td>\n",
       "            <div class=\"bar\" style=\"width:100%\">&nbsp;</div>\n",
       "        </td>\n",
       "</tr>\n",
       "</table>\n",
       "        </div>\n",
       "        <div role=\"tabpanel\" class=\"tab-pane col-md-12\"  id=\"extreme-7290491272661424466\">\n",
       "            <p class=\"h4\">Minimum 5 values</p>\n",
       "            \n",
       "<table class=\"freq table table-hover\">\n",
       "    <thead>\n",
       "    <tr>\n",
       "        <td class=\"fillremaining\">Value</td>\n",
       "        <td class=\"number\">Count</td>\n",
       "        <td class=\"number\">Frequency (%)</td>\n",
       "        <td style=\"min-width:200px\">&nbsp;</td>\n",
       "    </tr>\n",
       "    </thead>\n",
       "    <tr class=\"\">\n",
       "        <td class=\"fillremaining\">176.9</td>\n",
       "        <td class=\"number\">1</td>\n",
       "        <td class=\"number\">0.1%</td>\n",
       "        <td>\n",
       "            <div class=\"bar\" style=\"width:100%\">&nbsp;</div>\n",
       "        </td>\n",
       "</tr><tr class=\"\">\n",
       "        <td class=\"fillremaining\">200.05</td>\n",
       "        <td class=\"number\">1</td>\n",
       "        <td class=\"number\">0.1%</td>\n",
       "        <td>\n",
       "            <div class=\"bar\" style=\"width:100%\">&nbsp;</div>\n",
       "        </td>\n",
       "</tr><tr class=\"\">\n",
       "        <td class=\"fillremaining\">207.83</td>\n",
       "        <td class=\"number\">1</td>\n",
       "        <td class=\"number\">0.1%</td>\n",
       "        <td>\n",
       "            <div class=\"bar\" style=\"width:100%\">&nbsp;</div>\n",
       "        </td>\n",
       "</tr><tr class=\"\">\n",
       "        <td class=\"fillremaining\">209.07</td>\n",
       "        <td class=\"number\">1</td>\n",
       "        <td class=\"number\">0.1%</td>\n",
       "        <td>\n",
       "            <div class=\"bar\" style=\"width:100%\">&nbsp;</div>\n",
       "        </td>\n",
       "</tr><tr class=\"\">\n",
       "        <td class=\"fillremaining\">210.07</td>\n",
       "        <td class=\"number\">1</td>\n",
       "        <td class=\"number\">0.1%</td>\n",
       "        <td>\n",
       "            <div class=\"bar\" style=\"width:100%\">&nbsp;</div>\n",
       "        </td>\n",
       "</tr>\n",
       "</table>\n",
       "            <p class=\"h4\">Maximum 5 values</p>\n",
       "            \n",
       "<table class=\"freq table table-hover\">\n",
       "    <thead>\n",
       "    <tr>\n",
       "        <td class=\"fillremaining\">Value</td>\n",
       "        <td class=\"number\">Count</td>\n",
       "        <td class=\"number\">Frequency (%)</td>\n",
       "        <td style=\"min-width:200px\">&nbsp;</td>\n",
       "    </tr>\n",
       "    </thead>\n",
       "    <tr class=\"\">\n",
       "        <td class=\"fillremaining\">17760.3</td>\n",
       "        <td class=\"number\">2</td>\n",
       "        <td class=\"number\">0.1%</td>\n",
       "        <td>\n",
       "            <div class=\"bar\" style=\"width:100%\">&nbsp;</div>\n",
       "        </td>\n",
       "</tr><tr class=\"\">\n",
       "        <td class=\"fillremaining\">17802.9</td>\n",
       "        <td class=\"number\">1</td>\n",
       "        <td class=\"number\">0.1%</td>\n",
       "        <td>\n",
       "            <div class=\"bar\" style=\"width:50%\">&nbsp;</div>\n",
       "        </td>\n",
       "</tr><tr class=\"\">\n",
       "        <td class=\"fillremaining\">19106.4</td>\n",
       "        <td class=\"number\">1</td>\n",
       "        <td class=\"number\">0.1%</td>\n",
       "        <td>\n",
       "            <div class=\"bar\" style=\"width:50%\">&nbsp;</div>\n",
       "        </td>\n",
       "</tr><tr class=\"\">\n",
       "        <td class=\"fillremaining\">19118.3</td>\n",
       "        <td class=\"number\">1</td>\n",
       "        <td class=\"number\">0.1%</td>\n",
       "        <td>\n",
       "            <div class=\"bar\" style=\"width:50%\">&nbsp;</div>\n",
       "        </td>\n",
       "</tr><tr class=\"\">\n",
       "        <td class=\"fillremaining\">19475.8</td>\n",
       "        <td class=\"number\">1</td>\n",
       "        <td class=\"number\">0.1%</td>\n",
       "        <td>\n",
       "            <div class=\"bar\" style=\"width:50%\">&nbsp;</div>\n",
       "        </td>\n",
       "</tr>\n",
       "</table>\n",
       "        </div>\n",
       "    </div>\n",
       "</div>\n",
       "</div><div class=\"row variablerow ignore\">\n",
       "    <div class=\"col-md-3 namecol\">\n",
       "        <p class=\"h4 pp-anchor\" id=\"pp_var_Volume\"><s>Volume</s><br/>\n",
       "            <small>Highly correlated</small>\n",
       "        </p>\n",
       "    </div><div class=\"col-md-3\">\n",
       "    <p><em>This variable is highly correlated with <a href=\"#pp_var_Close\"><code>Close</code></a> and should be ignored for analysis</em></p>\n",
       "</div>\n",
       "<div class=\"col-md-6\">\n",
       "    <table class=\"stats \">\n",
       "        <tr>\n",
       "            <th>Correlation</th>\n",
       "            <td>0.93923</td>\n",
       "        </tr>\n",
       "    </table>\n",
       "</div>\n",
       "</div><div class=\"row variablerow\">\n",
       "    <div class=\"col-md-3 namecol\">\n",
       "        <p class=\"h4 pp-anchor\" id=\"pp_var_logVol\">logVol<br/>\n",
       "            <small>Numeric</small>\n",
       "        </p>\n",
       "    </div><div class=\"col-md-6\">\n",
       "    <div class=\"row\">\n",
       "        <div class=\"col-sm-6\">\n",
       "            <table class=\"stats \">\n",
       "                <tr>\n",
       "                    <th>Distinct count</th>\n",
       "                    <td>1805</td>\n",
       "                </tr>\n",
       "                <tr>\n",
       "                    <th>Unique (%)</th>\n",
       "                    <td>100.0%</td>\n",
       "                </tr>\n",
       "                <tr class=\"ignore\">\n",
       "                    <th>Missing (%)</th>\n",
       "                    <td>0.0%</td>\n",
       "                </tr>\n",
       "                <tr class=\"ignore\">\n",
       "                    <th>Missing (n)</th>\n",
       "                    <td>0</td>\n",
       "                </tr>\n",
       "                <tr class=\"ignore\">\n",
       "                    <th>Infinite (%)</th>\n",
       "                    <td>0.0%</td>\n",
       "                </tr>\n",
       "                <tr class=\"ignore\">\n",
       "                    <th>Infinite (n)</th>\n",
       "                    <td>0</td>\n",
       "                </tr>\n",
       "            </table>\n",
       "\n",
       "        </div>\n",
       "        <div class=\"col-sm-6\">\n",
       "            <table class=\"stats \">\n",
       "\n",
       "                <tr>\n",
       "                    <th>Mean</th>\n",
       "                    <td>19.005</td>\n",
       "                </tr>\n",
       "                <tr>\n",
       "                    <th>Minimum</th>\n",
       "                    <td>14.866</td>\n",
       "                </tr>\n",
       "                <tr>\n",
       "                    <th>Maximum</th>\n",
       "                    <td>23.895</td>\n",
       "                </tr>\n",
       "                <tr class=\"ignore\">\n",
       "                    <th>Zeros (%)</th>\n",
       "                    <td>0.0%</td>\n",
       "                </tr>\n",
       "            </table>\n",
       "        </div>\n",
       "    </div>\n",
       "</div>\n",
       "<div class=\"col-md-3 collapse in\" id=\"minihistogram-5516571572828620956\">\n",
       "    <img src=\"data:image/png;base64,iVBORw0KGgoAAAANSUhEUgAAAMgAAABLCAYAAAA1fMjoAAAABHNCSVQICAgIfAhkiAAAAAlwSFlzAAAPYQAAD2EBqD%2BnaQAAADl0RVh0U29mdHdhcmUAbWF0cGxvdGxpYiB2ZXJzaW9uIDIuMS4wLCBodHRwOi8vbWF0cGxvdGxpYi5vcmcvpW3flQAAAdZJREFUeJzt20Gu0lAYhuG/N05b5oTuwkW4J8cO3Y%2BLcBcQFtDGgQOpA%2BVO1C9gQkt7n2cIIeeQnDeH09JmmqapZnY6narv%2B7mHZeWOx2MdDodZx3w362i/tW1bVb%2B%2BcNd1S0yBFRmGofq%2Bf103c1okkKZpqqqq67rFAnn/8cvdn/n66cMDZsKtrutmTosEslb3RiWo9XtZegLwzAQCgUAgEAgEAoFAIBAIBAKBQCAQCAQCgUAgEAgEAoHAv3m5yVt9PMAOAoFAIBAIBAKBQCAQCASCTVzm/Z9LkHALOwgEAoFAIBAIBAKBQCAQCAQCwSbug3Af941uJ5AHeqvPUGyJn1gQCAQCgUDgDLIBDt2PYweBQCAQCAQCgUDgkP5ktnTg3sKNUjsIBAKBQCAQCASCpzukb%2BmQyvotEsg0TVVVNQzDH%2B/9%2BP5t7unwRP62Jq6vXdfNnBYJZBzHqqrq%2B36J4Xliu8//fm8cx9rtdvNNpqqaaYEsL5dLnc/natu2mqaZe3hWZpqmGsex9vt9vbzMe2xeJBBYC1exIBAIBAKBQCAQCAQCgUAgEAgEAoFAIBAIBAKBQCAQCAQCgUAgEAgEAoFAIBAIBAKBQCAQCAQCgUAgEAh%2BAr4%2BU4RsFiPjAAAAAElFTkSuQmCC\">\n",
       "\n",
       "</div>\n",
       "<div class=\"col-md-12 text-right\">\n",
       "    <a role=\"button\" data-toggle=\"collapse\" data-target=\"#descriptives-5516571572828620956,#minihistogram-5516571572828620956\"\n",
       "       aria-expanded=\"false\" aria-controls=\"collapseExample\">\n",
       "        Toggle details\n",
       "    </a>\n",
       "</div>\n",
       "<div class=\"row collapse col-md-12\" id=\"descriptives-5516571572828620956\">\n",
       "    <ul class=\"nav nav-tabs\" role=\"tablist\">\n",
       "        <li role=\"presentation\" class=\"active\"><a href=\"#quantiles-5516571572828620956\"\n",
       "                                                  aria-controls=\"quantiles-5516571572828620956\" role=\"tab\"\n",
       "                                                  data-toggle=\"tab\">Statistics</a></li>\n",
       "        <li role=\"presentation\"><a href=\"#histogram-5516571572828620956\" aria-controls=\"histogram-5516571572828620956\"\n",
       "                                   role=\"tab\" data-toggle=\"tab\">Histogram</a></li>\n",
       "        <li role=\"presentation\"><a href=\"#common-5516571572828620956\" aria-controls=\"common-5516571572828620956\"\n",
       "                                   role=\"tab\" data-toggle=\"tab\">Common Values</a></li>\n",
       "        <li role=\"presentation\"><a href=\"#extreme-5516571572828620956\" aria-controls=\"extreme-5516571572828620956\"\n",
       "                                   role=\"tab\" data-toggle=\"tab\">Extreme Values</a></li>\n",
       "\n",
       "    </ul>\n",
       "\n",
       "    <div class=\"tab-content\">\n",
       "        <div role=\"tabpanel\" class=\"tab-pane active row\" id=\"quantiles-5516571572828620956\">\n",
       "            <div class=\"col-md-4 col-md-offset-1\">\n",
       "                <p class=\"h4\">Quantile statistics</p>\n",
       "                <table class=\"stats indent\">\n",
       "                    <tr>\n",
       "                        <th>Minimum</th>\n",
       "                        <td>14.866</td>\n",
       "                    </tr>\n",
       "                    <tr>\n",
       "                        <th>5-th percentile</th>\n",
       "                        <td>16.326</td>\n",
       "                    </tr>\n",
       "                    <tr>\n",
       "                        <th>Q1</th>\n",
       "                        <td>17.091</td>\n",
       "                    </tr>\n",
       "                    <tr>\n",
       "                        <th>Median</th>\n",
       "                        <td>18.12</td>\n",
       "                    </tr>\n",
       "                    <tr>\n",
       "                        <th>Q3</th>\n",
       "                        <td>21.368</td>\n",
       "                    </tr>\n",
       "                    <tr>\n",
       "                        <th>95-th percentile</th>\n",
       "                        <td>22.757</td>\n",
       "                    </tr>\n",
       "                    <tr>\n",
       "                        <th>Maximum</th>\n",
       "                        <td>23.895</td>\n",
       "                    </tr>\n",
       "                    <tr>\n",
       "                        <th>Range</th>\n",
       "                        <td>9.0291</td>\n",
       "                    </tr>\n",
       "                    <tr>\n",
       "                        <th>Interquartile range</th>\n",
       "                        <td>4.2767</td>\n",
       "                    </tr>\n",
       "                </table>\n",
       "            </div>\n",
       "            <div class=\"col-md-4 col-md-offset-2\">\n",
       "                <p class=\"h4\">Descriptive statistics</p>\n",
       "                <table class=\"stats indent\">\n",
       "                    <tr>\n",
       "                        <th>Standard deviation</th>\n",
       "                        <td>2.2845</td>\n",
       "                    </tr>\n",
       "                    <tr>\n",
       "                        <th>Coef of variation</th>\n",
       "                        <td>0.12021</td>\n",
       "                    </tr>\n",
       "                    <tr>\n",
       "                        <th>Kurtosis</th>\n",
       "                        <td>-1.1867</td>\n",
       "                    </tr>\n",
       "                    <tr>\n",
       "                        <th>Mean</th>\n",
       "                        <td>19.005</td>\n",
       "                    </tr>\n",
       "                    <tr>\n",
       "                        <th>MAD</th>\n",
       "                        <td>2.0186</td>\n",
       "                    </tr>\n",
       "                    <tr class=\"\">\n",
       "                        <th>Skewness</th>\n",
       "                        <td>0.53776</td>\n",
       "                    </tr>\n",
       "                    <tr>\n",
       "                        <th>Sum</th>\n",
       "                        <td>34304</td>\n",
       "                    </tr>\n",
       "                    <tr>\n",
       "                        <th>Variance</th>\n",
       "                        <td>5.219</td>\n",
       "                    </tr>\n",
       "                    <tr>\n",
       "                        <th>Memory size</th>\n",
       "                        <td>108.2 KiB</td>\n",
       "                    </tr>\n",
       "                </table>\n",
       "            </div>\n",
       "        </div>\n",
       "        <div role=\"tabpanel\" class=\"tab-pane col-md-8 col-md-offset-2\" id=\"histogram-5516571572828620956\">\n",
       "            <img src=\"data:image/png;base64,iVBORw0KGgoAAAANSUhEUgAAAlgAAAGQCAYAAAByNR6YAAAABHNCSVQICAgIfAhkiAAAAAlwSFlzAAAPYQAAD2EBqD%2BnaQAAADl0RVh0U29mdHdhcmUAbWF0cGxvdGxpYiB2ZXJzaW9uIDIuMS4wLCBodHRwOi8vbWF0cGxvdGxpYi5vcmcvpW3flQAAIABJREFUeJzt3X9UVXW%2B//HXCeSABCcR4UCgizuZo6LeFK%2BCTqEZaKKVzdXGYvSOl2pSvCjUjbzN2J1RWqXZD29OeRsttUvNNJpdi8RSzIWUUuTPZWZOYoJY4QHMDqT7%2B0dfz%2B0EBNaWfTg8H2vttdyf/Tmf8/6wl/Lys/fZx2YYhiEAAACY5jKrCwAAAPA3BCwAAACTEbAAAABMRsACAAAwGQELAADAZAQsAAAAkxGwAAAATEbAAgAAMBkBCwAAwGQELAAAAJMRsAAAAExGwAIAADAZAQsAAMBkBCwAAACTEbAAAABMRsACAAAwGQELAADAZAQsAAAAkxGwAAAATEbAAgAAMBkBCwAAwGQELAAAAJMRsAAAAExGwAIAADAZAQsAAMBkBCwAAACTEbAAAABMRsACAAAwGQELAADAZAQsAAAAkxGwAAAATEbAAgAAMBkBCwAAwGQELAAAAJMRsAAAAExGwAIAADAZAQsAAMBkBCwAAACTBVpdQFdw/vx5nThxQmFhYbLZbFaXAwBAl2AYhurr6xUbG6vLLuvYNSUCVgc4ceKE4uPjrS4DAIAuqbKyUnFxcR36ngSsDhAWFibp2xMcHh5ucTUAAHQNdXV1io%2BP9/we7kgErA5w4bJgeHg4AQsAgA5mxe053OQOAABgMgIWAACAyQhYAAAAJiNgAQAAmIyABQAAYDICFgAAgMkIWAAAACYjYAEAAJiMgAUAAGAyAhYAAIDJulTAKigokM1mU05OjqfN7XYrOztbkZGRCg0N1eTJk3X8%2BHGv1x07dkyTJk1SaGioIiMjNXfuXDU2NnZ0%2BQAAoJPoMgFr165devbZZzV48GCv9pycHK1fv16FhYXasWOHGhoalJGRoXPnzkmSzp07p4kTJ%2BrMmTPasWOHCgsL9corryg3N9eKaQAAgE6gS3zZc0NDg26//XatXLlSf/zjHz3tLpdLzz33nNasWaNx48ZJktauXav4%2BHht2bJF6enp2rx5sw4cOKDKykrFxsZKkpYuXaqZM2dq0aJFfHmzH0taUGR1CRdl96LxVpcAAPj/usQK1uzZszVx4kRPiLqgvLxcTU1NSktL87TFxsYqMTFRpaWlkqSdO3cqMTHRE64kKT09XW63W%2BXl5R0zAQAA0Kn4/QpWYWGhysvLtXv37mbHqqurFRQUpB49eni1R0dHq7q62tMnOjra63iPHj0UFBTk6fN9brdbbrfbs19XV/dTpwEAADoRv17Bqqys1L/9279p3bp1Cg4ObvfrDMOQzWbz7H/3z631%2Ba6CggI5HA7PFh8ff/HFAwCATsuvA1Z5eblqamo0bNgwBQYGKjAwUCUlJXryyScVGBio6OhoNTY2qra21ut1NTU1nlUrp9PZbKWqtrZWTU1NzVa2LsjPz5fL5fJslZWVl2aCAADAJ/l1wLr%2B%2Buu1d%2B9eVVRUeLakpCTdfvvtnj9369ZNxcXFntdUVVVp3759SklJkSQlJydr3759qqqq8vTZvHmz7Ha7hg0b1uL72u12hYeHe20AAKDr8Ot7sMLCwpSYmOjVFhoaqp49e3raZ82apdzcXPXs2VMRERHKy8vToEGDPDfEp6WlacCAAcrMzNSjjz6qL7/8Unl5ecrKyiI4AQCAFvl1wGqPZcuWKTAwUFOnTtXZs2d1/fXXa/Xq1QoICJAkBQQEaNOmTbrnnns0atQohYSEaPr06VqyZInFlQPeOtNjJXikBAB/ZzMMw7C6CH9XV1cnh8Mhl8vFqlcn0pkCS2dDwALQEaz8/evX92ABAABYgYAFAABgMgIWAACAyQhYAAAAJiNgAQAAmIyABQAAYDICFgAAgMkIWAAAACYjYAEAAJiMgAUAAGAyAhYAAIDJCFgAAAAmI2ABAACYjIAFAABgMgIWAACAyQhYAAAAJiNgAQAAmIyABQAAYDICFgAAgMkIWAAAACYjYAEAAJiMgAUAAGAyAhYAAIDJCFgAAAAmI2ABAACYjIAFAABgMgIWAACAyfw6YK1YsUKDBw9WeHi4wsPDlZycrDfeeMNzPDU1VTabzWu77bbbvMaora1VZmamHA6HHA6HMjMzdfr06Y6eCgAA6ET8OmDFxcXp4Ycf1u7du7V7926NHTtWN910k/bv3%2B/pk5WVpaqqKs/2zDPPeI0xffp0VVRUqKioSEVFRaqoqFBmZmZHTwUAAHQigVYXcClNmjTJa3/RokVasWKFysrKNHDgQElS9%2B7d5XQ6W3z9wYMHVVRUpLKyMo0YMUKStHLlSiUnJ%2BvQoUPq16/fpZ0AAADolPx6Beu7zp07p8LCQp05c0bJycme9nXr1ikyMlIDBw5UXl6e6uvrPcd27twph8PhCVeSNHLkSDkcDpWWlrb6Xm63W3V1dV4bAADoOvx6BUuS9u7dq%2BTkZH399de6/PLLtX79eg0YMECSdPvttyshIUFOp1P79u1Tfn6%2BPvzwQxUXF0uSqqurFRUV1WzMqKgoVVdXt/qeBQUFeuihhy7NhAAAgM/z%2B4DVr18/VVRU6PTp03rllVc0Y8YMlZSUaMCAAcrKyvL0S0xMVN%2B%2BfZWUlKT3339fQ4cOlSTZbLZmYxqG0WL7Bfn5%2BZo/f75nv66uTvHx8SbOCgAA%2BDK/D1hBQUG66qqrJElJSUnatWuXnnjiiWY3s0vS0KFD1a1bNx0%2BfFhDhw6V0%2BnUyZMnm/U7deqUoqOjW31Pu90uu91u3iQAAECn0mXuwbrAMAy53e4Wj%2B3fv19NTU2KiYmRJCUnJ8vlcum9997z9Hn33XflcrmUkpLSIfUCAIDOx69XsB544AFNmDBB8fHxqq%2BvV2FhobZt26aioiIdOXJE69at04033qjIyEgdOHBAubm5uuaaazRq1ChJUv/%2B/TV%2B/HhlZWV5VrzuvPNOZWRk8AlCAADQKr8OWCdPnlRmZqaqqqrkcDg0ePBgFRUV6YYbblBlZaXeeustPfHEE2poaFB8fLwmTpyo3//%2B9woICPCMsW7dOs2dO1dpaWmSpMmTJ2v58uVWTQkAAHQCNsMwDKuL8Hd1dXVyOBxyuVwKDw%2B3uhy0U9KCIqtL8Fu7F423ugQAXYCVv3%2B73D1YAAAAlxoBCwAAwGQELAAAAJMRsAAAAExGwAIAADAZAQsAAMBkBCwAAACTEbAAAABMRsACAAAwGQELAADAZAQsAAAAkxGwAAAATEbAAgAAMBkBCwAAwGQELAAAAJMRsAAAAExGwAIAADAZAQsAAMBkBCwAAACTEbAAAABMRsACAAAwGQELAADAZAQsAAAAkxGwAAAATEbAAgAAMBkBCwAAwGQELAAAAJP5dcBasWKFBg8erPDwcIWHhys5OVlvvPGG57jb7VZ2drYiIyMVGhqqyZMn6/jx415jHDt2TJMmTVJoaKgiIyM1d%2B5cNTY2dvRUAABAJ%2BLXASsuLk4PP/ywdu/erd27d2vs2LG66aabtH//fklSTk6O1q9fr8LCQu3YsUMNDQ3KyMjQuXPnJEnnzp3TxIkTdebMGe3YsUOFhYV65ZVXlJuba%2BW0AACAj7MZhmFYXURHioiI0KOPPqpf/vKX6tWrl9asWaNp06ZJkk6cOKH4%2BHi9/vrrSk9P1xtvvKGMjAxVVlYqNjZWklRYWKiZM2eqpqZG4eHh7XrPuro6ORwOuVyudr8G1ktaUGR1CX5r96LxVpcAoAuw8vevX69gfde5c%2BdUWFioM2fOKDk5WeXl5WpqalJaWpqnT2xsrBITE1VaWipJ2rlzpxITEz3hSpLS09PldrtVXl7e6nu53W7V1dV5bQAAoOvw%2B4C1d%2B9eXX755bLb7br77ru1fv16DRgwQNXV1QoKClKPHj28%2BkdHR6u6ulqSVF1drejoaK/jPXr0UFBQkKdPSwoKCuRwODxbfHy8%2BRMDAAA%2By%2B8DVr9%2B/VRRUaGysjL99re/1YwZM3TgwIFW%2BxuGIZvN5tn/7p9b6/N9%2Bfn5crlcnq2ysvKnTQIAAHQqgVYXcKkFBQXpqquukiQlJSVp165deuKJJzRt2jQ1NjaqtrbWaxWrpqZGKSkpkiSn06l3333Xa7za2lo1NTU1W9n6LrvdLrvdfglmAwAAOgO/X8H6PsMw5Ha7NWzYMHXr1k3FxcWeY1VVVdq3b58nYCUnJ2vfvn2qqqry9Nm8ebPsdruGDRvW4bUDAIDOwa9XsB544AFNmDBB8fHxqq%2BvV2FhobZt26aioiI5HA7NmjVLubm56tmzpyIiIpSXl6dBgwZp3LhxkqS0tDQNGDBAmZmZevTRR/Xll18qLy9PWVlZfBoQAAC0yq8D1smTJ5WZmamqqio5HA4NHjxYRUVFuuGGGyRJy5YtU2BgoKZOnaqzZ8/q%2Buuv1%2BrVqxUQECBJCggI0KZNm3TPPfdo1KhRCgkJ0fTp07VkyRIrpwUAAHxcl3sOlhV4DlbnxHOwLh2egwWgI/AcLAAAAD9CwAIAADAZAQsAAMBkBCwAAACTEbAAAABMRsACAAAwGQELAADAZAQsAAAAkxGwAAAATEbAAgAAMBkBCwAAwGQELAAAAJMRsAAAAExGwAIAADBZoNUFAADQWSQtKLK6hIuye9F4q0vosljBAgAAMBkBCwAAwGQELAAAAJMRsAAAAExGwAIAADAZAQsAAMBkBCwAAACTEbAAAABMRsACAAAwGQELAADAZAQsAAAAk/lswFq7dq2%2B/vrrnzRGQUGBhg8frrCwMEVFRenmm2/WoUOHvPqkpqbKZrN5bbfddptXn9raWmVmZsrhcMjhcCgzM1OnT5/%2BSbUBAAD/5bMBa/78%2BXI6nbrrrrv03nvv/agxSkpKNHv2bJWVlam4uFjffPON0tLSdObMGa9%2BWVlZqqqq8mzPPPOM1/Hp06eroqJCRUVFKioqUkVFhTIzM3/03AAAgH8LtLqA1pw4cUIbN27U6tWrNXr0aPXt21e/%2Bc1v9Otf/1q9evVq1xhFRd7fer5q1SpFRUWpvLxc1157rae9e/fucjqdLY5x8OBBFRUVqaysTCNGjJAkrVy5UsnJyTp06JD69ev3I2cIAAD8lc%2BuYAUGBmrKlCnauHGjjh07phkzZujPf/6z4uLiNGXKFG3atEmGYVzUmC6XS5IUERHh1b5u3TpFRkZq4MCBysvLU319vefYzp075XA4POFKkkaOHCmHw6HS0tKfMEMAAOCvfHYF67ucTqeuv/56ffrppzpy5Ih2796tt956S7169dKqVav0i1/8os0xDMPQ/PnzNXr0aCUmJnrab7/9diUkJMjpdGrfvn3Kz8/Xhx9%2BqOLiYklSdXW1oqKimo0XFRWl6urqFt/L7XbL7XZ79uvq6i52ygAAoBPz2RUsSfr888/1%2BOOPa8iQIRo1apRqamq0YcMGffrpp/rss8%2BUkZGhX//61%2B0aa86cOdqzZ4/%2B53/%2Bx6s9KytL48aNU2Jiom677Tb99a9/1ZYtW/T%2B%2B%2B97%2BthstmbjGYbRYrv07c31F26Idzgcio%2BPv4hZAwCAzs5nA9Ytt9yiK6%2B8Un/605%2BUmZmpyspK/eUvf9H48eNls9l0%2BeWX67777tOnn37a5ljZ2dnauHGjtm7dqri4uB/sO3ToUHXr1k2HDx%2BW9O3q2cmTJ5v1O3XqlKKjo1scIz8/Xy6Xy7NVVla2Y8YAAMBf%2BOwlwvDwcG3ZsuUHL//FxMR4glBLDMNQdna21q9fr23btikhIaHN992/f7%2BampoUExMjSUpOTpbL5dJ7772nf/qnf5Ikvfvuu3K5XEpJSWlxDLvdLrvd3uZ7AQAA/%2BSzAev5559vs4/NZtPPfvazVo/Pnj1bL774ol599VWFhYV57plyOBwKCQnRkSNHtG7dOt14442KjIzUgQMHlJubq2uuuUajRo2SJPXv31/jx49XVlaW5/ENd955pzIyMvgEIQAAaJHPXiKcN2%2Beli9f3qz9v/7rv5Sbm9uuMVasWCGXy6XU1FTFxMR4tpdeekmSFBQUpLfeekvp6enq16%2Bf5s6dq7S0NG3ZskUBAQGecdatW6dBgwYpLS1NaWlpGjx4sNasWWPORAEAgN/x2RWsv/zlL9qwYUOz9uTkZBUUFGjp0qVtjtHWYxzi4%2BNVUlLS5jgRERFau3Ztm/0AAAAkH17B%2Bvzzz9WjR49m7eHh4fr8888tqAgAAKB9fDZg/exnP9Obb77ZrP3NN99s183qAAAAVvHZS4Q5OTnKycnRF198obFjx0qS3nrrLT3yyCNasmSJxdUBAAC0zmcDVlZWlr7%2B%2BmstXrxYv//97yVJcXFxevLJJ/Wb3/zG4uoAAABa57MBS/r2AaHZ2dmqqqpSSEiIrrjiCqtLAgAAaJNPB6wLLjz0EwAAoDPw2ZvcT506pX/5l39R7969FRwcrKCgIK8NAADAV/nsCtbMmTN15MgR3XvvvYqJiWn1i5UBAAB8jc8GrO3bt2v79u265pprrC4FAADgovjsJcK4uDhWrQAAQKfkswFr2bJlys/P1/Hjx60uBQAA4KL47CXCzMxM1dfXq0%2BfPgoPD1e3bt28jtfU1FhUGQAAwA/z2YD18MMPW10CAADAj%2BKzAWvWrFlWlwAAAPCj%2BOw9WJL097//XQsXLlRmZqbnkuDmzZt18OBBiysDAABonc8GrHfeeUcDBw5USUmJXn75ZTU0NEiS3n//ff3ud7%2BzuDoAAIDW%2BWzA%2Bvd//3ctXLhQW7du9Xpy%2B9ixY1VWVmZhZQAAAD/MZwPWnj179Mtf/rJZe1RUlE6dOmVBRQAAAO3jswHriiuuUHV1dbP2iooKXXnllRZUBAAA0D4%2B%2BynC2267Tffff7/%2B%2Bte/ep7o/u677yovL0933HGHxdXhx0haUGR1CQAAdAifXcFavHixnE6nYmJi1NDQoAEDBiglJUXDhw/Xgw8%2BaHV5AAAArfLZFaygoCC99NJL%2Buijj/T%2B%2B%2B/r/PnzGjp0qH7%2B859bXRoAAMAP8tmAdcHVV1%2Btq6%2B%2B2uoyAAAA2s1nA9add975g8efffbZDqoEAADg4vhswKqqqvLab2pq0v79%2B1VfX69rr73WoqoAAADa5rMB67XXXmvW9s033%2Bi3v/2t%2Bvfvb0FFAAAA7eOznyJsSWBgoPLy8vToo49aXQoAAECrOlXAkqRPPvlETU1N7epbUFCg4cOHKywsTFFRUbr55pt16NAhrz5ut1vZ2dmKjIxUaGioJk%2BerOPHj3v1OXbsmCZNmqTQ0FBFRkZq7ty5amxsNG1OAADAv/jsJcL77rvPa98wDFVVVWnjxo26/fbb2zVGSUmJZs%2BereHDh%2Bubb77RggULlJaWpgMHDig0NFSSlJOTo9dee02FhYXq2bOncnNzlZGRofLycgUEBOjcuXOaOHGievXqpR07duiLL77QjBkzZBiGnnrqKdPnDQAAOj%2BfDVg7d%2B702r/sssvUq1cvPfzww8rKymrXGEVF3k8OX7VqlaKiolReXq5rr71WLpdLzz33nNasWaNx48ZJktauXav4%2BHht2bJF6enp2rx5sw4cOKDKykrFxsZKkpYuXaqZM2dq0aJFCg8PN2G2AADAn/hswHrnnXdMH9PlckmSIiIiJEnl5eVqampSWlqap09sbKwSExNVWlqq9PR07dy5U4mJiZ5wJUnp6elyu90qLy/XmDFjTK8TAAB0bj4bsMxmGIbmz5%2Bv0aNHKzExUZJUXV2toKAg9ejRw6tvdHS054umq6urFR0d7XW8R48eCgoKavHLqKVv7%2Btyu92e/bq6OjOnAgAAfJzPBqzhw4d7vuS5Le%2B9916bfebMmaM9e/Zox44dbfY1DMPrvVuq4/t9vqugoEAPPfRQm%2B8DAAD8k89%2BinDMmDE6dOiQDMPQyJEjNXLkSEnSoUOHlJqaqvT0dM/WluzsbG3cuFFbt25VXFycp93pdKqxsVG1tbVe/WtqajyrVk6ns9lKVW1trZqampqtbF2Qn58vl8vl2SorKy9q7gAAoHPz2RWs06dPa/bs2Vq8eLFX%2B4IFC3Ty5En993//d5tjGIah7OxsrV%2B/Xtu2bVNCQoLX8WHDhqlbt24qLi7W1KlTJX37BPl9%2B/bpkUcekSQlJydr0aJFqqqqUkxMjCRp8%2BbNstvtGjZsWIvva7fbZbfbL3rOAADAP/hswHr55Ze1a9euZu0zZ85UUlJSuwLW7Nmz9eKLL%2BrVV19VWFiYZyXK4XAoJCREDodDs2bNUm5urnr27KmIiAjl5eVp0KBBnk8VpqWlacCAAcrMzNSjjz6qL7/8Unl5ecrKyuIThAAAoEU%2Be4nQbrertLS0WXtpaWm7V4dWrFghl8ul1NRUxcTEeLaXXnrJ02fZsmW6%2BeabNXXqVI0aNUrdu3fXa6%2B9poCAAElSQECANm3apODgYI0aNUpTp07VzTffrCVLlpgzUQAA4Hd8dgVr7ty5uvvuu/XBBx947r8qKyvTypUr9cADD7RrDMMw2uwTHBysp5566gcfGtq7d2/97//%2Bb/sKBwAAXZ7PBqwFCxYoISFBTzzxhP785z9Lkvr376%2BVK1dq%2BvTpFlcHAADQOp8NWJI0ffp0whQAAOh0fPYeLOnbB3SuXr1av/vd7zyPUvjwww9VVVVlcWUAAACt89kVrH379mncuHHq3r27KisrNXPmTPXo0UMvv/yyjh8/rueff97qEgEAAFrksytY8%2BbN0/Tp03XkyBEFBwd72idOnKjt27dbWBkAAMAP89kVrF27dmnFihXNvo7myiuv5BIhAADwaT67ghUUFKSGhoZm7YcPH1ZkZKQFFQEAALSPzwasyZMn6w9/%2BIO%2B%2BeYbSd9%2B4fJnn32m%2B%2B%2B/X1OmTLG4OgAAgNb5bMBaunSpTpw4IafTqbNnz2rs2LH6h3/4BwUHBzf7fkIAAABf4rP3YDkcDpWWlqq4uFjvv/%2B%2Bzp8/r6FDhyo9Pb3ZfVkAAAC%2BxCcDVlNTk2688UY9/fTTSktLU1pamtUlAQAAtJtPXiLs1q2bPvjgA1aqAABAp%2BSTAUuS7rjjDq1atcrqMgAAAC6aT14ivGD58uXasmWLkpKSFBoa6nXskUcesagqAACAH%2BazAau8vFyDBw%2BWJO3Zs8frGJcOAQCAL/O5gPXJJ58oISFB77zzjtWlAAAA/Cg%2Bdw9W3759derUKc/%2BtGnTdPLkSQsrAgAAuDg%2BF7AMw/Daf/3113XmzBmLqgEAALh4PhewAAAAOjufC1g2m63ZTezc1A4AADoTn7vJ3TAMzZw5U3a7XZL09ddf6%2B677272mIa//e1vVpQHAADQJp8LWDNmzPDav%2BOOOyyqBAAA4MfxuYDF09sBAEBn53P3YAEAAHR2BCwAAACTEbAAAABMRsACAAAwmV8HrO3bt2vSpEmKjY2VzWbThg0bvI7PnDnT89ytC9vIkSO9%2BrjdbmVnZysyMlKhoaGaPHmyjh8/3pHTAAAAnYxfB6wzZ85oyJAhWr58eat9xo8fr6qqKs/2%2Buuvex3PycnR%2BvXrVVhYqB07dqihoUEZGRk6d%2B7cpS4fAAB0Uj73mAYzTZgwQRMmTPjBPna7XU6ns8VjLpdLzz33nNasWaNx48ZJktauXav4%2BHht2bJF6enpptcMAAA6P79ewWqPbdu2KSoqSldffbWysrJUU1PjOVZeXq6mpialpaV52mJjY5WYmKjS0lIrygUAAJ2AX69gtWXChAn653/%2BZ/Xp00dHjx7Vgw8%2BqLFjx6q8vFx2u13V1dUKCgpSjx49vF4XHR2t6urqVsd1u91yu92e/bq6uks2BwAA4Hu6dMCaNm2a58%2BJiYlKSkpSnz59tGnTJk2ZMqXV1xmG8YNfQF1QUKCHHnrI1FoBAEDn0eUvEX5XTEyM%2BvTpo8OHD0uSnE6nGhsbVVtb69WvpqZG0dHRrY6Tn58vl8vl2SorKy9p3QAAwLcQsL7jiy%2B%2BUGVlpWJiYiRJw4YNU7du3VRcXOzpU1VVpX379iklJaXVcex2u8LDw702AADQdfj1JcKGhgZ9/PHHnv2jR4%2BqoqJCERERioiI0MKFC3XrrbcqJiZGf//73/XAAw8oMjJSt9xyiyTJ4XBo1qxZys3NVc%2BePRUREaG8vDwNGjTI86lCAMCPl7SgyOoSgEvCrwPW7t27NWbMGM/%2B/PnzJUkzZszQihUrtHfvXr3wwgs6ffq0YmJiNGbMGL300ksKCwvzvGbZsmUKDAzU1KlTdfbsWV1//fVavXq1AgICOnw%2BAACgc/DrgJWamirDMFo9/uabb7Y5RnBwsJ566ik99dRTZpYGAAD8GPdgAQAAmIyABQAAYDK/vkQIwDd1thubdy8ab3UJADoZVrAAAABMRsACAAAwGQELAADAZAQsAAAAkxGwAAAATEbAAgAAMBkBCwAAwGQELAAAAJMRsAAAAExGwAIAADAZAQsAAMBkBCwAAACTEbAAAABMRsACAAAwGQELAADAZAQsAAAAkxGwAAAATEbAAgAAMBkBCwAAwGQELAAAAJMRsAAAAExGwAIAADAZAQsAAMBkBCwAAACT%2BXXA2r59uyZNmqTY2FjZbDZt2LDB67hhGFq4cKFiY2MVEhKi1NRU7d%2B/36tPbW2tMjMz5XA45HA4lJmZqdOnT3fkNAAAQCfj1wHrzJkzGjJkiJYvX97i8UceeUSPPfaYli9frl27dsnpdOqGG25QfX29p8/06dNVUVGhoqIiFRUVqaKiQpmZmR01BQAA0AkFWl3ApTRhwgRNmDChxWOGYejxxx/XggULNGXKFEnS888/r%2BjoaL344ou66667dPDgQRUVFamsrEwjRoyQJK1cuVLJyck6dOiQ%2BvXr12FzAYD2SlpQZHUJQJfn1ytYP%2BTo0aOqrq5WWlqap81ut%2Bu6665TaWmpJGnnzp1yOByecCVJI0eOlMPh8PRpidvtVl1dndcGAAC6ji4bsKqrqyVJ0dHRXu3R0dGeY9XV1YqKimr22qioKE%2BflhQUFHju2XI4HIqPjzexcgAA4Ou6bMC6wGazee0bhuHV9v1ToB/DAAANgklEQVTjLfX5vvz8fLlcLs9WWVlpXsEAAMDn%2BfU9WD/E6XRK%2BnaVKiYmxtNeU1PjWdVyOp06efJks9eeOnWq2crXd9ntdtntdpMrBgAAnUWXXcFKSEiQ0%2BlUcXGxp62xsVElJSVKSUmRJCUnJ8vlcum9997z9Hn33Xflcrk8fQAAAL7Pr1ewGhoa9PHHH3v2jx49qoqKCkVERKh3797KycnR4sWL1bdvX/Xt21eLFy9W9%2B7dNX36dElS//79NX78eGVlZemZZ56RJN15553KyMjgE4QAAKBVfh2wdu/erTFjxnj258%2BfL0maMWOGVq9erfvuu09nz57VPffco9raWo0YMUKbN29WWFiY5zXr1q3T3LlzPZ82nDx5cqvP1QIAAJD8PGClpqbKMIxWj9tsNi1cuFALFy5stU9ERITWrl17CaoDAAD%2BqsvegwUAAHCpELAAAABMRsACAAAwGQELAADAZAQsAAAAkxGwAAAATEbAAgAAMBkBCwAAwGQELAAAAJMRsAAAAExGwAIAADAZAQsAAMBkBCwAAACTEbAAAABMRsACAAAwGQELAADAZAQsAAAAkxGwAAAATEbAAgAAMBkBCwAAwGQELAAAAJMRsAAAAExGwAIAADBZoNUFAICvS1pQZHUJADoZVrAAAABMxgoWAAB%2BqjOtvu5eNN7qEkzFChYAAIDJunzAWrhwoWw2m9fmdDo9xw3D0MKFCxUbG6uQkBClpqZq//79FlYMAAB8XZcPWJI0cOBAVVVVeba9e/d6jj3yyCN67LHHtHz5cu3atUtOp1M33HCD6uvrLawYAAD4MgKWpMDAQDmdTs/Wq1cvSd%2BuXj3%2B%2BONasGCBpkyZosTERD3//PP66quv9OKLL1pcNQAA8FUELEmHDx9WbGysEhISdNttt%2BmTTz6RJB09elTV1dVKS0vz9LXb7bruuutUWlra6nhut1t1dXVeGwAA6Dq6fMAaMWKEXnjhBb355ptauXKlqqurlZKSoi%2B%2B%2BELV1dWSpOjoaK/XREdHe461pKCgQA6Hw7PFx8df0jkAAADf0uUD1oQJE3Trrbdq0KBBGjdunDZt2iRJev755z19bDab12sMw2jW9l35%2BflyuVyerbKy8tIUDwAAfFKXD1jfFxoaqkGDBunw4cOeTxN%2Bf7Wqpqam2arWd9ntdoWHh3ttAACg6yBgfY/b7dbBgwcVExOjhIQEOZ1OFRcXe443NjaqpKREKSkpFlYJAAB8WZd/knteXp4mTZqk3r17q6amRn/84x9VV1enGTNmyGazKScnR4sXL1bfvn3Vt29fLV68WN27d9f06dOtLh0AAPioLh%2Bwjh8/rl/96lf6/PPP1atXL40cOVJlZWXq06ePJOm%2B%2B%2B7T2bNndc8996i2tlYjRozQ5s2bFRYWZnHlAADAV9kMwzCsLsLf1dXVyeFwyOVyden7sTrTd2IBADrWpfguQit//3IPFgAAgMkIWAAAACYjYAEAAJiMgAUAAGAyAhYAAIDJCFgAAAAmI2ABAACYjIAFAABgMgIWAACAyQhYAAAAJiNgAQAAmIyABQAAYDICFgAAgMkIWAAAACYjYAEAAJiMgAUAAGAyAhYAAIDJCFgAAAAmI2ABAACYjIAFAABgMgIWAACAyQhYAAAAJgu0ugD8NEkLiqwuAQAAfA8rWAAAACYjYAEAAJiMgAUAAGAyAhYAAIDJCFjt9PTTTyshIUHBwcEaNmyY3nnnHatLAgAAPoqA1Q4vvfSScnJytGDBAn3wwQf6xS9%2BoQkTJujYsWNWlwYAAHwQAasdHnvsMc2aNUv/%2Bq//qv79%2B%2Bvxxx9XfHy8VqxYYXVpAADAB/EcrDY0NjaqvLxc999/v1d7WlqaSktLW3yN2%2B2W2%2B327LtcLklSXV2d6fWdc58xfUwAADrapfgdeWFMwzBMH7stBKw2fP755zp37pyio6O92qOjo1VdXd3iawoKCvTQQw81a4%2BPj78kNQIA0Nk5ll66sevr6%2BVwOC7dG7SAgNVONpvNa98wjGZtF%2BTn52v%2B/Pme/fPnz%2BvLL79Uz549W30NvNXV1Sk%2BPl6VlZUKDw%2B3upwuh5%2B/9TgH1uMcWMuMn79hGKqvr1dsbKzJ1bWNgNWGyMhIBQQENFutqqmpabaqdYHdbpfdbvdqu%2BKKKy5Zjf4sPDycf9gsxM/fepwD63EOrPVTf/4dvXJ1ATe5tyEoKEjDhg1TcXGxV3txcbFSUlIsqgoAAPgyVrDaYf78%2BcrMzFRSUpKSk5P17LPP6tixY7r77rutLg0AAPiggIULFy60ughfl5iYqJ49e2rx4sVasmSJzp49qzVr1mjIkCFWl%2BbXAgIClJqaqsBA/h9gBX7%2B1uMcWI9zYK3O/PO3GVZ8dhEAAMCPcQ8WAACAyQhYAAAAJiNgAQAAmIyABQAAYDICFiyzfft2TZo0SbGxsbLZbNqwYUOzPgcPHtTkyZPlcDgUFhamkSNH6tixYxZU65/aOgcNDQ2aM2eO4uLiFBISov79%2B/Ml5yYqKCjQ8OHDFRYWpqioKN188806dOiQVx%2B3263s7GxFRkYqNDRUkydP1vHjxy2q2P%2B0dQ6%2B/PJLZWdnq1%2B/furevbt69%2B6tuXPner5jFj9de/4eXGAYhiZMmNDq7wxfQsCCZc6cOaMhQ4Zo%2BfLlLR4/cuSIRo8erZ///Ofatm2bPvzwQz344IMKDg7u4Er9V1vnYN68eSoqKtLatWt18OBBzZs3T9nZ2Xr11Vc7uFL/VFJSotmzZ6usrEzFxcX65ptvlJaWpjNn/u9L3HNycrR%2B/XoVFhZqx44damhoUEZGhs6dO2dh5f6jrXNw4sQJnThxQkuWLNHevXu1evVqFRUVadasWRZX7j/a8/fggscff7zzfOWcAfgAScb69eu92qZNm2bccccdFlXU9bR0DgYOHGj853/%2Bp1fb0KFDjf/4j//oyNK6jJqaGkOSUVJSYhiGYZw%2Bfdro1q2bUVhY6Onz2WefGZdddplRVFRkVZl%2B7fvnoCUvv/yyERQUZDQ1NXVgZV1Ha%2BegoqLCiIuLM6qqqlr898rXsIIFn3T%2B/Hlt2rRJV199tdLT0xUVFaURI0b4/JKwvxk9erQ2btyozz77TIZhaOvWrfroo4%2BUnp5udWl%2B6cJlp4iICElSeXm5mpqalJaW5ukTGxurxMRElZaWWlKjv/v%2BOWitT3h4eKd8%2BGVn0NI5%2BOqrr/SrX/1Ky5cvl9PptKq0i0LAgk%2BqqalRQ0ODHn74YY0fP16bN2/WLbfcoilTpqikpMTq8rqMJ598UgMGDFBcXJyCgoI0fvx4Pf300xo9erTVpfkdwzA0f/58jR49WomJiZKk6upqBQUFqUePHl59o6Ojm30BPX66ls7B933xxRf6wx/%2BoLvuuquDq%2BsaWjsH8%2BbNU0pKim666SYLq7s4xG/4pPPnz0uSbrrpJs2bN0%2BS9I//%2BI8qLS3Vn/70J1133XVWltdlPPnkkyorK9PGjRvVp08fbd%2B%2BXffcc49iYmI0btw4q8vzK3PmzNGePXu0Y8eONvsahtF57kPpRNo6B3V1dZo4caIGDBig3//%2B9x1cXdfQ0jnYuHGj3n77bX3wwQcWVnbxWMGCT4qMjFRgYKAGDBjg1d6/f38%2BRdhBzp49qwceeECPPfaYJk2apMGDB2vOnDmaNm2alixZYnV5fiU7O1sbN27U1q1bFRcX52l3Op1qbGxUbW2tV/%2BamhpFR0d3dJl%2BrbVzcEF9fb3Gjx%2Bvyy%2B/XOvXr1e3bt0sqNK/tXYO3n77bR05ckRXXHGFAgMDPZdmb731VqWmplpUbdsIWPBJQUFBGj58eLOP6n700Ufq06ePRVV1LU1NTWpqatJll3n/MxEQEOBZYcRPYxiG5syZo7/97W96%2B%2B23lZCQ4HV82LBh6tatm4qLiz1tVVVV2rdvn1JSUjq6XL/U1jmQvl25SktLU1BQkDZu3MgnmU3W1jm4//77tWfPHlVUVHg2SVq2bJlWrVplRcntwiVCWKahoUEff/yxZ//o0aOqqKhQRESEevfurXvvvVfTpk3TtddeqzFjxqioqEivvfaatm3bZl3Rfqatc3Ddddfp3nvvVUhIiPr06aOSkhK98MILeuyxxyys2n/Mnj1bL774ol599VWFhYV57qtyOBwKCQmRw%2BHQrFmzlJubq549eyoiIkJ5eXkaNGgQl2hN0tY5qK%2BvV1pamr766iutXbtWdXV1qqurkyT16tVLAQEBVpbvF9o6B06ns8Ub23v37t1iIPYZ1n2AEV3d1q1bDUnNthkzZnj6PPfcc8ZVV11lBAcHG0OGDDE2bNhgXcF%2BqK1zUFVVZcycOdOIjY01goODjX79%2BhlLly41zp8/b23hfqKln70kY9WqVZ4%2BZ8%2BeNebMmWNEREQYISEhRkZGhnHs2DHrivYzbZ2D1v6OSDKOHj1qae3%2Boj1/D1p6ja8/psFmGIZxiTMcAABAl8I9WAAAACYjYAEAAJiMgAUAAGAyAhYAAIDJCFgAAAAmI2ABAACYjIAFAABgMgIWAACAyQhYAAAAJiNgAQAAmIyABQAAYDICFgAAgMkIWAAAACYjYAEAAJiMgAUAAGAyAhYAAIDJCFgAAAAmI2ABAACY7P8BQYPXfBrJV2oAAAAASUVORK5CYII%3D\"/>\n",
       "        </div>\n",
       "        <div role=\"tabpanel\" class=\"tab-pane col-md-12\" id=\"common-5516571572828620956\">\n",
       "            \n",
       "<table class=\"freq table table-hover\">\n",
       "    <thead>\n",
       "    <tr>\n",
       "        <td class=\"fillremaining\">Value</td>\n",
       "        <td class=\"number\">Count</td>\n",
       "        <td class=\"number\">Frequency (%)</td>\n",
       "        <td style=\"min-width:200px\">&nbsp;</td>\n",
       "    </tr>\n",
       "    </thead>\n",
       "    <tr class=\"\">\n",
       "        <td class=\"fillremaining\">16.688651378932075</td>\n",
       "        <td class=\"number\">1</td>\n",
       "        <td class=\"number\">0.1%</td>\n",
       "        <td>\n",
       "            <div class=\"bar\" style=\"width:1%\">&nbsp;</div>\n",
       "        </td>\n",
       "</tr><tr class=\"\">\n",
       "        <td class=\"fillremaining\">17.39026340851909</td>\n",
       "        <td class=\"number\">1</td>\n",
       "        <td class=\"number\">0.1%</td>\n",
       "        <td>\n",
       "            <div class=\"bar\" style=\"width:1%\">&nbsp;</div>\n",
       "        </td>\n",
       "</tr><tr class=\"\">\n",
       "        <td class=\"fillremaining\">16.596383620104245</td>\n",
       "        <td class=\"number\">1</td>\n",
       "        <td class=\"number\">0.1%</td>\n",
       "        <td>\n",
       "            <div class=\"bar\" style=\"width:1%\">&nbsp;</div>\n",
       "        </td>\n",
       "</tr><tr class=\"\">\n",
       "        <td class=\"fillremaining\">16.841194760358917</td>\n",
       "        <td class=\"number\">1</td>\n",
       "        <td class=\"number\">0.1%</td>\n",
       "        <td>\n",
       "            <div class=\"bar\" style=\"width:1%\">&nbsp;</div>\n",
       "        </td>\n",
       "</tr><tr class=\"\">\n",
       "        <td class=\"fillremaining\">22.21079594334302</td>\n",
       "        <td class=\"number\">1</td>\n",
       "        <td class=\"number\">0.1%</td>\n",
       "        <td>\n",
       "            <div class=\"bar\" style=\"width:1%\">&nbsp;</div>\n",
       "        </td>\n",
       "</tr><tr class=\"\">\n",
       "        <td class=\"fillremaining\">16.34486462248757</td>\n",
       "        <td class=\"number\">1</td>\n",
       "        <td class=\"number\">0.1%</td>\n",
       "        <td>\n",
       "            <div class=\"bar\" style=\"width:1%\">&nbsp;</div>\n",
       "        </td>\n",
       "</tr><tr class=\"\">\n",
       "        <td class=\"fillremaining\">16.90224373973449</td>\n",
       "        <td class=\"number\">1</td>\n",
       "        <td class=\"number\">0.1%</td>\n",
       "        <td>\n",
       "            <div class=\"bar\" style=\"width:1%\">&nbsp;</div>\n",
       "        </td>\n",
       "</tr><tr class=\"\">\n",
       "        <td class=\"fillremaining\">19.480905627636147</td>\n",
       "        <td class=\"number\">1</td>\n",
       "        <td class=\"number\">0.1%</td>\n",
       "        <td>\n",
       "            <div class=\"bar\" style=\"width:1%\">&nbsp;</div>\n",
       "        </td>\n",
       "</tr><tr class=\"\">\n",
       "        <td class=\"fillremaining\">16.49687449380398</td>\n",
       "        <td class=\"number\">1</td>\n",
       "        <td class=\"number\">0.1%</td>\n",
       "        <td>\n",
       "            <div class=\"bar\" style=\"width:1%\">&nbsp;</div>\n",
       "        </td>\n",
       "</tr><tr class=\"\">\n",
       "        <td class=\"fillremaining\">22.14870398518393</td>\n",
       "        <td class=\"number\">1</td>\n",
       "        <td class=\"number\">0.1%</td>\n",
       "        <td>\n",
       "            <div class=\"bar\" style=\"width:1%\">&nbsp;</div>\n",
       "        </td>\n",
       "</tr><tr class=\"other\">\n",
       "        <td class=\"fillremaining\">Other values (1795)</td>\n",
       "        <td class=\"number\">1795</td>\n",
       "        <td class=\"number\">99.4%</td>\n",
       "        <td>\n",
       "            <div class=\"bar\" style=\"width:100%\">&nbsp;</div>\n",
       "        </td>\n",
       "</tr>\n",
       "</table>\n",
       "        </div>\n",
       "        <div role=\"tabpanel\" class=\"tab-pane col-md-12\"  id=\"extreme-5516571572828620956\">\n",
       "            <p class=\"h4\">Minimum 5 values</p>\n",
       "            \n",
       "<table class=\"freq table table-hover\">\n",
       "    <thead>\n",
       "    <tr>\n",
       "        <td class=\"fillremaining\">Value</td>\n",
       "        <td class=\"number\">Count</td>\n",
       "        <td class=\"number\">Frequency (%)</td>\n",
       "        <td style=\"min-width:200px\">&nbsp;</td>\n",
       "    </tr>\n",
       "    </thead>\n",
       "    <tr class=\"\">\n",
       "        <td class=\"fillremaining\">14.865573153547462</td>\n",
       "        <td class=\"number\">1</td>\n",
       "        <td class=\"number\">0.1%</td>\n",
       "        <td>\n",
       "            <div class=\"bar\" style=\"width:100%\">&nbsp;</div>\n",
       "        </td>\n",
       "</tr><tr class=\"\">\n",
       "        <td class=\"fillremaining\">14.895887590368229</td>\n",
       "        <td class=\"number\">1</td>\n",
       "        <td class=\"number\">0.1%</td>\n",
       "        <td>\n",
       "            <div class=\"bar\" style=\"width:100%\">&nbsp;</div>\n",
       "        </td>\n",
       "</tr><tr class=\"\">\n",
       "        <td class=\"fillremaining\">15.283864053939725</td>\n",
       "        <td class=\"number\">1</td>\n",
       "        <td class=\"number\">0.1%</td>\n",
       "        <td>\n",
       "            <div class=\"bar\" style=\"width:100%\">&nbsp;</div>\n",
       "        </td>\n",
       "</tr><tr class=\"\">\n",
       "        <td class=\"fillremaining\">15.47892326634493</td>\n",
       "        <td class=\"number\">1</td>\n",
       "        <td class=\"number\">0.1%</td>\n",
       "        <td>\n",
       "            <div class=\"bar\" style=\"width:100%\">&nbsp;</div>\n",
       "        </td>\n",
       "</tr><tr class=\"\">\n",
       "        <td class=\"fillremaining\">15.542066396029226</td>\n",
       "        <td class=\"number\">1</td>\n",
       "        <td class=\"number\">0.1%</td>\n",
       "        <td>\n",
       "            <div class=\"bar\" style=\"width:100%\">&nbsp;</div>\n",
       "        </td>\n",
       "</tr>\n",
       "</table>\n",
       "            <p class=\"h4\">Maximum 5 values</p>\n",
       "            \n",
       "<table class=\"freq table table-hover\">\n",
       "    <thead>\n",
       "    <tr>\n",
       "        <td class=\"fillremaining\">Value</td>\n",
       "        <td class=\"number\">Count</td>\n",
       "        <td class=\"number\">Frequency (%)</td>\n",
       "        <td style=\"min-width:200px\">&nbsp;</td>\n",
       "    </tr>\n",
       "    </thead>\n",
       "    <tr class=\"\">\n",
       "        <td class=\"fillremaining\">23.774243536278235</td>\n",
       "        <td class=\"number\">1</td>\n",
       "        <td class=\"number\">0.1%</td>\n",
       "        <td>\n",
       "            <div class=\"bar\" style=\"width:100%\">&nbsp;</div>\n",
       "        </td>\n",
       "</tr><tr class=\"\">\n",
       "        <td class=\"fillremaining\">23.804404855690095</td>\n",
       "        <td class=\"number\">1</td>\n",
       "        <td class=\"number\">0.1%</td>\n",
       "        <td>\n",
       "            <div class=\"bar\" style=\"width:100%\">&nbsp;</div>\n",
       "        </td>\n",
       "</tr><tr class=\"\">\n",
       "        <td class=\"fillremaining\">23.821089770546482</td>\n",
       "        <td class=\"number\">1</td>\n",
       "        <td class=\"number\">0.1%</td>\n",
       "        <td>\n",
       "            <div class=\"bar\" style=\"width:100%\">&nbsp;</div>\n",
       "        </td>\n",
       "</tr><tr class=\"\">\n",
       "        <td class=\"fillremaining\">23.823268014377344</td>\n",
       "        <td class=\"number\">1</td>\n",
       "        <td class=\"number\">0.1%</td>\n",
       "        <td>\n",
       "            <div class=\"bar\" style=\"width:100%\">&nbsp;</div>\n",
       "        </td>\n",
       "</tr><tr class=\"\">\n",
       "        <td class=\"fillremaining\">23.89466839118413</td>\n",
       "        <td class=\"number\">1</td>\n",
       "        <td class=\"number\">0.1%</td>\n",
       "        <td>\n",
       "            <div class=\"bar\" style=\"width:100%\">&nbsp;</div>\n",
       "        </td>\n",
       "</tr>\n",
       "</table>\n",
       "        </div>\n",
       "    </div>\n",
       "</div>\n",
       "</div>\n",
       "    <div class=\"row headerrow highlight\">\n",
       "        <h1>Correlations</h1>\n",
       "    </div>\n",
       "    <div class=\"row variablerow\">\n",
       "    <img src=\"data:image/png;base64,iVBORw0KGgoAAAANSUhEUgAAAncAAAIsCAYAAACQg49WAAAABHNCSVQICAgIfAhkiAAAAAlwSFlzAAAPYQAAD2EBqD%2BnaQAAADl0RVh0U29mdHdhcmUAbWF0cGxvdGxpYiB2ZXJzaW9uIDIuMS4wLCBodHRwOi8vbWF0cGxvdGxpYi5vcmcvpW3flQAAIABJREFUeJzs3XtclGX%2B//E3IHLwBAmDqRiGgl%2B1BEXZUkpRMy0PGUlraq5priSiRbllZq7HympFcmvVstQSQy1PZb%2B01A5CB3RNwzOKooKnEIQEnN8fLpMTqOgwwzC%2Bno/HPIa57uu%2Br%2Bu6mejt554bnIxGo1EAAABwCM5VPQEAAABUHsIdAACAAyHcAQAAOBDCHQAAgAMh3AEAADgQwh0AAIADIdwBAAA4EMIdAACAAyHcAQAAOJAaVT0BAPbpyJEj6tq16xW3u7q6qnbt2goICFDnzp01aNAg1a5d24YzBACUx4k/PwagPJeHu6CgoDLBraioSKdPn9bRo0clSQ0bNtTChQt122232XyuAIA/EO4AlOvycPfBBx8oPDy83H4pKSmKiYlRXl6eQkNDtXTpUltOEwDwJ3zmDoBFwsPD9fTTT0uS0tLS9Msvv1TxjADg5ka4A2Cx7t27m77evn17Fc4EAMANFQAsVqdOHdPX%2Bfn5Ztt%2B%2BOEHLVq0SD///LPOnj2runXrKiQkRIMHD9Zdd91V7vFyc3O1dOlSbdq0Sfv27VNeXp48PDzUpEkTdenSRUOGDFG9evXM9gkODpYkffvtt5o5c6Y2bNggZ2dntWrVSu%2B%2B%2B65q1Kih7du3a%2BHChdq1a5eOHTsmNzc3NW3aVN26ddPAgQPLvSGksLBQS5cu1bp167Rv3z4VFRXJz89Pd999t4YNG6aAgACz/ikpKRoyZIjatGmjJUuWaNGiRfrkk0906NAhubq6qlWrVho8eLC6det2I6caAK6JcAfAYocOHTJ93aBBA9PXs2bN0rx58yRJ9erVU1BQkLKzs7VhwwZt2LBBw4cP17PPPmt2rIyMDA0dOlTHjh1TjRo11KRJEzVq1EhHjx7Vzp07tXPnTq1du1bLly9XrVq1yswlNjZWaWlpCgoK0unTp%2BXr66saNWroiy%2B%2B0Lhx41RcXCxvb281a9ZM%2Bfn5%2Bu9//6vt27dr1apVWrp0qVnAO378uP72t7/pwIEDkqSAgADVqlVL%2B/fvV1JSkj755BPNnDlTvXr1KjOPoqIijRgxQt9//728vb0VGBiogwcPauvWrdq6datefvll/fWvf7XsxANAeYwAUI7MzExjUFCQMSgoyLh169ar9n3uueeMQUFBxlatWhlzcnKMRqPR%2BNFHHxmDgoKMYWFhxk8//dTU9%2BLFi8a1a9caQ0JCjEFBQcZly5aZHWvQoEHGoKAg44ABA4wnTpww22/lypXGFi1aGIOCgoyLFy822690rq1btzampqYajUajsaSkxHjmzBljSUmJsWPHjsagoCDjvHnzjMXFxab9fvnlF%2BNf/vIXY1BQkPGdd94xtRcXFxv79u1rDAoKMvbo0cP466%2B/mradO3fOOGHCBNOat23bZtq2detW01xCQkKMq1atMm3Lzc01Pv7448agoCBjhw4djEVFRVc9rwBwI/jMHYAbUlhYqF27dmnSpEn65JNPJElDhw6Vj4%2BPLly4oDlz5kiSpk%2Bfrj59%2Bpj2c3JyUq9evUwVuzlz5qi4uFiSdOrUKe3du1eSNGXKFBkMBrP9%2BvXrpw4dOkiSdu/eXe68evbsqfbt20uSnJ2d5eXlpdOnTysnJ0eSNGDAALm4uJj6t2rVSuPGjVO3bt3k5eVlav/888/166%2B/ys3NTfPmzVOLFi1M22rXrq2pU6cqIiJCRUVFevPNN8udy5gxY9S7d2/T6zp16pjWffbsWR08ePAKZxcAbhyXZQFc05AhQ67Z55FHHlFcXJykS3fNnjx5UrVq1briL0Lu06ePpkyZohMnTmjXrl268847Vb9%2BfW3dulWFhYVyd3cvs09JSYnpsmlhYWG5x23Xrl2ZNm9vb9WrV0%2B//fab4uPjNWrUKLVp00bOzpf%2BfTtgwAANGDDAbJ%2BNGzdKkiIjI%2BXv71/uWH/729%2B0ZcsWpaam6ty5c2afPZSkLl26lNknMDDQ9HVubm65xwUASxDuAFzTn3%2BJsZOTk9zc3OTl5aXg4GB169ZNzZo1M20vrb4VFRXpscceu%2BJxXVxcdPHiRR04cEB33nmnqd3d3V3Hjh3T9u3bdfjwYWVmZmr//v369ddfdf78eUnSxYsXyz2mr69vuePEx8dr4sSJ2rRpkzZt2qR69eopPDxcHTt2VOfOnc0%2BKyjJVFVr1arVFedfuq2kpESHDh1S69atzbb7%2BfmV2efy0FpSUnLFYwPAjSLcAbimF1988Yq/xLg8586dkyRduHBBP//88zX7X17BOnDggF599VVt2rTJLMDVrl1bYWFhys7OVnp6%2BhWPVV7FT7pUnbvtttv03nvv6bvvvtNvv/2mL774Ql988YWcnJzUuXNnvfzyy6aQl5eXJ0llqnGXuzzw/vkuYenSn2i7GiO/Qx6AFRDuAFQ6Dw8PSZcqWytWrKjwfqdOndKgQYN06tQpNWzYUAMGDFDLli11%2B%2B23q3HjxnJyctIzzzxz1XB3NeHh4QoPD1dhYaF%2B/PFH/fDDD9qyZYt27typr776SseOHdMnn3wiJycn0524pUG1PJeH0vLu3AWAqkC4A1DpmjZtKunSrzUpLi5WjRplf9QYjUalpKSoQYMGatiwoWrWrKnly5fr1KlT8vLy0vLly3XLLbeU2e/EiRPXPZ8LFy4oMzNTeXl5atOmjdzd3dWpUyd16tRJ48aN09q1a/X0008rPT1du3fvVosWLXT77bdr165d2rlz5xWPu2PHDkmXLlM3adLkuucFANbA3bIAKl379u1Vp04d5efnX7Fyt3r1aj3%2B%2BOPq2bOnjh8/LunS37OVpIYNG5Yb7Pbt26dt27ZJur7Pq23evFm9evXSk08%2BqQsXLpTZfvfdd5u%2BLj1u6c0QGzduVGZmZrnH/eCDDyRJISEhqlu3boXnAwDWRLgDUOk8PT315JNPSpKmTZum5cuXm31%2B7ssvv9SkSZMkXfrVJaVVr9tvv12SlJ6ervXr15v6G41Gbd68WcOHD1dRUZEkqaCgoMLzueeee%2BTt7a2zZ89q/PjxOnv2rGlbfn6%2BXnnlFUnSrbfequbNm0uS7r//fgUHB%2Bv333/XiBEjzC4F5%2BXlaeLEifrmm29Uo0YNxcfHV/zkAICVcVkWgFWMGDFCmZmZWrZsmV544QW99tpraty4sU6cOKHs7GxJUtu2bTV16lTTPlFRUfrwww916NAhjRkzRo0aNZK3t7eOHTumU6dOydXVVR06dFBqaup1XZ6tWbOmZs%2BerSeeeELr1q3Thg0b1KRJEzk7OyszM1Pnz5%2BXh4eHZs6cqZo1a0qSatSooblz52rEiBE6cOCA%2Bvbta/YXKkp/XcvkyZMVFhZWuScPACxAuANgFU5OTpoyZYp69OihpUuXatu2baZfChwSEqIHH3xQ0dHRpjAlXbr7NDk5WfPmzdNXX32lI0eO6OTJk2rQoIE6d%2B6sxx9/XJ6enurWrZvS09OVlZWlhg0bVmg%2B4eHh%2Bvjjj/Xee%2B/pp59%2BUkZGhmrUqKEGDRqoU6dOGjZsWJljNW7cWMuXL9dHH32kzz//XPv379fx48d16623KiIiQo899liZvy0LAFXNyci9%2BAAAAA6Dz9wBAAA4EMIdAACAAyHcAQAAOBDCHQAAQAWdPn1a3bt3V0pKyhX7bNq0Sb1791ZISIh69uypr776ymz7vHnzdM899ygkJESDBw/WgQMHKnWOhDsAAIAK%2BOmnnxQdHa3Dhw9fsU9GRoZiY2MVFxenH3/8UbGxsRo7dqzp1zetXLlSixYt0oIFC5SSkqJWrVppzJgxlfq3pgl3AAAA17By5UrFx8dr3Lhx1%2BwXFhambt26qUaNGurVq5fat2%2BvpKQkSdKyZcs0cOBANW/eXG5ubnrmmWeUlZV11Urg9SLcAQAAh5edna2dO3eaPUp/oXpFdOrUSf/v//0/9erV66r99u3bp6CgILO2Zs2amf7KzZ%2B3u7q6KiAgwOyv4FiKX2Jc1ZycbDNO06bS3r1S8%2BbSwYO2GdPaWFP1YMs12ervuwYESD//LLVtK2VkWHes3FzrHl/ifVcZbPHLrP39pa%2B%2Bkrp0ka7w944rVVW%2BF6zw/8akhAQlJiaatY0ePVqxsbEV2t/X17dC/fLz8%2BXh4WHW5u7urvPnz1doe2Ug3N0svLwkF5dLz46CNVUPjrimevUuralevaqeSeVwxO%2BRI66pbt1La7LVP2IcTHR0tCIjI83aKhrYroeHh4cKCwvN2goLC1WrVq0Kba8MhDsAAGBfnCv/U2MGg0EGg6HSj/tnQUFB2rlzp1nbvn371Lp1a0lS8%2BbNtXfvXnXp0kWSVFRUpIyMjDKXci3BZ%2B4AAAAqSZ8%2BfZSamqp169apuLhY69atU2pqqvr27StJevjhh7V48WKlp6fr999/1%2Buvvy4fHx%2BFhYVV2hyo3AEAAPtihcqdNYWGhmry5Mnq06ePAgMD9dZbb2nWrFmaMGGCGjVqpDlz5qhp06aSpKioKJ07d05PPfWUTp8%2BrTvuuEPvvPOOXF1dK20%2BhDsAAIDrsHv3brPXaWlpZq8jIiIUERFR7r5OTk4aNmyYhg0bZrX5Ee4AAIB9qWaVO3tDuAMAAPaFcGcRzh4AAIADoXIHAADsC5U7i3D2AAAAHAiVOwAAYF%2Bo3FmEcAcAAOwL4c4inD0AAAAHQuUOAADYFyp3FuHsAQAAOBAqdwAAwL5QubMI4Q4AANgXwp1FOHsAAAAOhModAACwL1TuLMLZAwAAcCBU7gAAgH2hcmcRhwl3O3fu1DvvvKPU1FT9/vvv8vHxUbdu3TRy5Eh5eXlV9fQAAEBFEe4s4hBn76uvvtLAgQPVtGlTffrpp/r555/19ttvKzMzU/369dOJEyeqeooAAAA2Ue3D3YULF/Tiiy9q5MiRGjdunPz8/OTk5KTAwEAlJCSoQYMGmjFjhlasWKEBAwbopZdeUtu2bdWpUyfNnTtXRqPRdJzZs2era9eu6tChg0aMGKFDhw6ZxgkODtaiRYvUo0cPhYaG6tFHH9Xu3buratkAADguZ%2BfKf9xEqv1q09LSdPLkSfXr16/MNmdnZ0VFRenLL79USUmJtm/fLg8PD33//ff697//rffff1/JycmSpDfffFNff/21Fi5cqC1btqhNmzYaNmyYfv/9d9Px1q5dq8WLF2vz5s3y8PDQq6%2B%2BarN1AgBw0yDcWaTaf%2BYuOztbkuTj41PudoPBoKKiIp05c0ZeXl6Kj4%2BXq6ur7rjjDkVHR2vVqlWKiorS0qVLlZCQIH9/f0nSU089pWXLlunrr79Wjx49JEmDBw%2BWr6%2BvJKlnz5565513rnuuOTk5Zm2%2BTZvKYIvPBLZoYf7sCFhT9WDLNdWubf0xJCkoyPzZmvLyrD8G7zvLNWxo/TECA82fgSuo9uGuNGxlZWUpICCgzPYjR47I1dVV3t7eatSokVxdXU3bbr31Vq1fv16nT5/W%2BfPnFRcXJ%2BfL0n1RUZGOHj1qen15gKxRo4bpkm5FJSUlKTEx0axtdFycYuPirus4FvnwQ9uNZSusqXpwxDXNn1/VM6hcjvg9csQ1zZ5d1TOwvpus0lbZqn24a9eunXx9fZWcnKz4%2BHizbSUlJVqxYoUiIyPl4uKi7OxsGY1GOTk5SboU/Bo2bChvb2%2B5ubnp3XffVUhIiGn/AwcOyM/Pr9LmGh0drcjISLM23969pfffr7QxrqhFi0s/5AYOlNLTrT%2BeLbCm6sGWa7Jl5W7%2BfGn4cGnPHuuOZavKHe87y9iqcjd7thQXJ%2B3fb/3x1qyx/hiwimof7lxdXTVjxgzFxsbKxcVFAwcOlK%2Bvrw4cOKDXX39dx48f15w5c/T9998rJydH//nPfzRs2DD9%2Buuv%2Bvjjj/Xyyy%2BbPpv3%2Buuv67XXXpPBYNCnn36qCRMmKDk5WS1btqyUuRoMBhkMBvPGgwcr5dgVlp4upaXZdkxrY03Vgy3WVLeudY//Z3v2SNu3W3eM3FzrHv9yvO9u3Jkz1h%2Bj1P790s6dthuvKlC5s0i1D3eSFBERoaVLl%2Bqdd97Rww8/rLy8PPn4%2BKhr166aNm2abrnlFkmXLuEeOXJEnTp1Uq1atRQXF6devXpJksaPH685c%2BZo4MCBOnv2rPz9/ZWQkFBpwQ4AAFQQ4c4iDhHuJKlFixZ68803r9qnZs2amjJliqZMmVJmm5ubm%2BLj48tc2i3151970r9/f/Xv3//GJwwAAGAFDhPuAACAg6ByZxHOHgAAgAO5aSp3XEYFAKCaoHJnkZsm3AEAgGqCcGcRzh4AAIADoXIHAADsC5U7i3D2AAAAHAiVOwAAYF%2Bo3FmEcAcAAOwL4c4inD0AAAAHQuUOAADYFyp3FuHsAQAAOBAqdwAAwL5QubMI4Q4AANgXwp1FOHsAAAAOhModAACwL1TuLMLZAwAAcCBU7gAAgH2xw8rdqVOnNHHiRKWmpsrFxUV9%2BvTR%2BPHjVaOGeZQaPny4fvrpJ7O28%2BfPKzo6Wv/85z918uRJdezYUZ6enqbt3t7e2rhxY6XNlXAHAADsix2Gu7Fjx8rPz09btmzRyZMnNWrUKC1cuFDDhw836zd//nyz18nJyUpMTNTo0aMlSTt27FCjRo0qNcz9mf2dPQAAADty6NAhpaam6tlnn5WHh4f8/f0VExOjJUuWXHW/AwcOaMqUKZo1a5YMBoOkS%2BGudevWVp0vlTsAAGBfrFC5y87OVk5Ojlmbr6%2BvKXRdzd69e%2BXl5SU/Pz9TW2BgoLKyspSbm6u6deuWu9/kyZPVr18/hYWFmdp27Nih3377TQ8%2B%2BKBOnjypO%2B64Q%2BPHj1ezZs1ucGVlUbkDAAAOLykpSf379zd7JCUlVWjf/Px8eXh4mLWVvj5//ny5%2B/z444/avn276XJsqbp166pdu3b64IMP9OWXXyogIEB/%2B9vfdO7cuRtYVfmo3AEAAPtihcpddHS0IiMjzdp8fX0rtK%2Bnp6cKCgrM2kpf16pVq9x9kpKS1LNnzzJjvP7662avn3/%2BeS1fvlw//vijunTpUqH5XAvhDgAA2BcrhDuDwVChS7Dlad68uc6ePauTJ0/Kx8dHkrR//341aNBAderUKdO/uLhYGzZs0FtvvWXWnpeXp7feekuDBg1So0aNJEklJSUqLi6Wu7v7Dc2tPFyWBQAAuIqAgAC1a9dO06dPV15enjIzMzV37lxFRUWV23/37t36/fff1bZtW7P22rVr67vvvtMrr7yic%2BfOKT8/X1OmTFHjxo3NPpdnKcIdAACwL87Olf%2BwUEJCgoqLi9W1a1cNGDBAERERiomJkSSFhoZq1apVpr6ZmZmqV6%2Be3Nzcyhxn7ty5unjxorp166aIiAjl5ORo3rx5cnV1tXiOpbgsCwAAcA0%2BPj5KSEgod1taWprZ6/vvv1/3339/uX0bNWqkxMTESp/f5Qh3AADAvtjhLzGuTgh3AADAvhDuLMLZAwAAcCBU7gAAgH2hcmcRzh4AAIADoXIHAADsC5U7ixDuAACAfSHcWYSzBwAA4ECo3AEAAPtC5c4ihDsAAGBfCHcW4ewBAAA4ECp3AADAvlC5swhnDwAAwIFQuQMAAPaFyp1FCHcAAMC%2BEO4swtkDAABwIA4b7iIjI7VixYoy7StWrFBkZKSysrIUGhqqrKysax4rJSVFwcHB1pgmAAD4M2fnyn/cRG7ay7INGzZUWlpaVU8DAACgUt1cUfYyR44cUXBwsI4cOWJ6/cQTT6ht27a6//77tXDhwjLVugULFqh79%2B4KCQnRmDFjlJeXVxVTBwDAsVG5s4hDV%2B4mT56s6dOnm7UVFRWpfv36Zm0lJSUaOXKk7rzzTn3zzTc6c%2BaMnnrqqTLHO3r0qNasWaOzZ8/qkUce0ZIlSzRy5EirrgEAgJvOTRbGKptDh7tJkyapf//%2BZm0rVqxQYmKiWdu2bduUkZGhjz/%2BWJ6envL09NS4ceP05JNPmvWLjY2Vm5ub/Pz81L59ex0%2BfPi65pOdna2cnByzNt%2BmTWXw8rqu49yQFi3Mnx0Ba6oebLmm2rWtP4YkBQWZP1uTLa4Q8L6zXMOG1h8jMND8GbgChw53FXX8%2BHF5e3vL09PT1Na4ceMy/by9vU1fu7q6qqSk5LrGSUpKKhMsR8fFKTYu7jpnbIEPP7TdWLbCmqoHR1zT/PlVPYPK5YjfI0dc0%2BzZVT0D66NyZxHCnS7dXHH69GkVFBTIw8NDkip0F%2B31io6OVmRkpFmbb%2B/e0vvvV/pYZbRocemH3MCBUnq69cezBdZUPdhyTbas3M2fLw0fLu3ZY92xbFW5431nGVtV7mbPluLipP37rT/emjXWHwNWQbiT1KZNGzVr1kwzZ87UP/7xD%2BXm5iohIaHSxzEYDDIYDOaNBw9W%2BjhXlZ4uOdpdwqyperDFmurWte7x/2zPHmn7duuOkZtr3eNfjvfdjTtzxvpjlNq/X9q503bjVQUqdxbh7ElydnZWQkKCMjIydNddd%2Bnxxx9X%2B/bt5erqWtVTAwDg5sPdshZx2Mrdxo0by23v37%2B/6SaL3bt3S5IKCwt17Ngxvfvuu3JxcTHtv3r1aklSeHi4qW%2BpmTNnWmvqAAAAN%2BzmirJX4OrqqrFjx2rZsmW6ePGiTp06pXfffVddunSp6qkBAHDzoXJnkZtrtVfg4uKit956SytXrlT79u3Vu3dvNW/eXP/4xz%2BqemoAAADXxWEvy16vsLAwLVu2rKqnAQAAbrJKW2Uj3AEAAPtCuLMIZw8AAMCBULkDAAD2hcqdRTh7AAAADoTKHQAAsC9U7ixCuAMAAPaFcGcRzh4AAIADoXIHAADsC5U7i3D2AAAAHAiVOwAAYF%2Bo3FmEcAcAAOwL4c4inD0AAAAHQuUOAADYFyp3FuHsAQAAOBDCHQAAsC/OzpX/sNCpU6cUExOjsLAwhYeHa9q0aSouLi637/Dhw3XHHXcoNDTU9Ni8ebMkqaSkRK%2B88oruvvtuhYaGatSoUcrOzrZ4fpcj3AEAAPtih%2BFu7Nix8vT01JYtW5ScnKzvv/9eCxcuLLfvL7/8ogULFigtLc30uOeeeyRJ//73v/Xtt99q%2BfLl2rJli9zd3fXiiy9aPL/LEe4AAACu4tChQ0pNTdWzzz4rDw8P%2Bfv7KyYmRkuWLCnTNzMzU7/99ptatmxZ7rE%2B/vhjjRgxQrfeeqtq166tCRMmaPPmzcrMzKy0%2BXJDBQAAsC9WuKEiOztbOTk5Zm2%2Bvr4yGAzX3Hfv3r3y8vKSn5%2BfqS0wMFBZWVnKzc1V3bp1Te07duxQrVq1NG7cOO3YsUM%2BPj4aOnSooqKidO7cOR0/flxBQUGm/j4%2BPqpXr552794tf3//Slgp4Q6AI7HVHXZOTn88c1cfUC0kJSUpMTHRrG306NGKjY295r75%2Bfny8PAwayt9ff78ebNwd%2BHCBYWEhGjcuHFq3ry5UlJSFBsbq1q1aik0NFSS5OnpaXYsd3d35efn39C6ykO4AwAA9sUK/2iKjo5WZGSkWZuvr2%2BF9vX09FRBQYFZW%2BnrWrVqmbX369dP/fr1M73u1KmT%2BvXrp88%2B%2B0x333232b6lCgsLyxzHEoQ7AABgX6wQ7gwGQ4UuwZanefPmOnv2rE6ePCkfHx9J0v79%2B9WgQQPVqVPHrG9ycrJq1aqlnj17mtouXLggNzc31atXT35%2Bftq3b5/p0mxOTo7Onj1rdqnWUlxPAAAAuIqAgAC1a9dO06dPV15enjIzMzV37lxFRUWV6ZuXl6cpU6Zo165dunjxor7%2B%2BmutWbNG0dHRkqT%2B/fvr3//%2BtzIzM5WXl6fp06erQ4cOatKkSaXNl8odAACwL3b4WdaEhAT985//VNeuXeXs7Kx%2B/fopJiZGkhQaGqrJkyerT58%2Bevzxx3X%2B/HmNHj1ap06dkr%2B/v1555RWFhYVJkp566ikVFxfrscceU35%2BvsLDw/Wvf/2rUudKuAMAALgGHx8fJSQklLstLS3N9LWTk5NiYmJMwe/PXF1dFR8fr/j4eKvMUyLcAQAAe2OHlbvqhHAHAADsC%2BHOIpw9AAAAB0LlDgAA2BcqdxYh3AEAAPtCuLMIZw8AAMCBULkDAAD2hcqdRTh7AAAADoTKHQAAsC9U7ixCuAMAAPaFcGcRzh4AAIADoXIHAADsC5U7i3D2AAAAHAiVOwAAYF%2Bo3FmEcAcAAOwL4c4inD0AAAAHclOEu%2BDgYKWkpFT1NAAAQEU4O1f%2B4yZyc60WAADAwRHuJH388cd64IEH1LZtW/Xu3VurVq2SJC1evFh9%2B/Y19VuxYoWCg4O1f/9%2BSVJubq5at26tzMzMKpk3AAAOicqdRW76GypWrFihmTNnKjExUR06dFBqaqpGjx4tDw8PdevWTVOnTtWJEyfk5%2Benb775Ru7u7vr2228VGBioTZs2KTAwUP7%2B/lW9DAAAHMdNFsYq200f7pYvX67o6GjdddddkqS77rpL0dHRWrp0qbp3765WrVppy5Yt6t%2B/v7777js9%2Buij%2Bu677zRkyBBt3LhR3bt3r/BY2dnZysnJMWvzbdpUBi%2BvSl1TuVq0MH92BKyperDlmurUsf4YktS8ufmzNZ07Z/0xeN9ZrmFD648RGGj%2BDFzBTR/uTp48Waby1rhxY23cuFGS1L17d23evFlBQUHy9vbWQw89pMcee0yFhYXavHmzYmJiKjxWUlKSEhMTzdpGx8UpNi7O8oVU1Icf2m4sW2FN1YMjrmn%2B/KqeQeVyxO%2BRI65p9uyqnoH1UbmzyE0f7ho3bqzDhw%2BbtWVmZsrX11eS1K1bN82fP19BQUHq2LGjWrRoIQ8PD82fP18%2BPj5qfh3/co%2BOjlZkZKRZm2/v3tL771u%2BkGtp0eLSD7mBA6X0dOuPZwusqXqw5ZpsWbmbP18aPlzau9e6Y9mqcsf7zjK2qtzNni3FxUn/%2B%2By3Va1ZY/0xYBU3Tbg7ffq0jh8/btbm4%2BOjqKgoTZgwQffcc486dOigH374QUlJSXroUE4%2BAAAgAElEQVTppZckSc2aNVP9%2BvW1ePFizZgxQ5J09913a/78%2BRo8ePB1zcFgMMhgMJg3Hjx444u6EenpUlqabce0NtZUPdhiTbb4iMPl9u6V/vtf645x9qx1j3853nc37swZ649Rav9%2BaedO241XFajcWeSmCXdjx44t07Zu3Tr17NlTeXl5mjp1qrKysuTn56fnnntO/fr1M/Xr3r27Fi5cqA4dOkiSOnXqpE8//fS6Pm8HAAAqiHBnkZsi3O3evfuq2x955BE98sgjV9weHx%2Bv%2BPh40%2Bs%2BffqoT58%2BlTY/AACAynJThDsAAFCNULmzCGcPAADAgVC5AwAA9oXKnUUIdwAAwL4Q7izC2QMAAHAgVO4AAIB9oXJnEc4eAACAA6FyBwAA7AuVO4sQ7gAAgH0h3FmEswcAAOBAqNwBAAD7QuXOIpw9AAAAB0LlDgAA2BcqdxYh3AEAAPtCuLMIZw8AAMCBULkDAAD2hcqdRTh7AAAADoTKHQAAsC92WLk7deqUJk6cqNTUVLm4uKhPnz4aP368atQoG6U%2B%2BugjLVy4UNnZ2TIYDBoyZIgee%2BwxSdLFixfVrl07GY1GOTk5mfb59ttv5enpWSlzJdwBAAD7YofhbuzYsfLz89OWLVt08uRJjRo1SgsXLtTw4cPN%2Bn355Zd64403NG/ePLVp00bbtm3Tk08%2BKR8fH/Xo0UP79u1TUVGRfv75Z9WsWdMqc7W/swcAAGBHDh06pNTUVD377LPy8PCQv7%2B/YmJitGTJkjJ9T5w4oREjRigkJEROTk4KDQ1VeHi4fvjhB0nSjh07FBwcbLVgJ1G5AwAA9sYKlbvs7Gzl5OSYtfn6%2BspgMFxz371798rLy0t%2Bfn6mtsDAQGVlZSk3N1d169Y1tZdefi116tQp/fDDD3r%2B%2BeclXQp3v//%2Bux5%2B%2BGEdPXpUgYGBeuaZZ9S2bVtLlmeGcAfAcVy8aJtxjMY/nm01JnAzsUK4S0pKUmJiolnb6NGjFRsbe8198/Pz5eHhYdZW%2Bvr8%2BfNm4e5yOTk5GjlypFq3bq0HH3xQkuTu7q4777xTcXFxqlevnpYsWaInnnhCq1atkr%2B//40srQzCHQAAcHjR0dGKjIw0a/P19a3Qvp6eniooKDBrK31dq1atcvfZtm2b4uLiFBYWphkzZphuvPjHP/5h1u%2BJJ57QihUrtGnTJg0aNKhC87kWwh0AALAvVqjcGQyGCl2CLU/z5s119uxZnTx5Uj4%2BPpKk/fv3q0GDBqpTp06Z/snJyZo6darGjBmjYcOGmW1788031aNHD7Vs2dLUduHCBbm5ud3Q3MrDDRUAAABXERAQoHbt2mn69OnKy8tTZmam5s6dq6ioqDJ9169fr5dffllz5swpE%2Bwkac%2BePZo2bZpycnJ04cIFJSYmKi8vT927d6%2B0%2BRLuAACAfXF2rvyHhRISElRcXKyuXbtqwIABioiIUExMjCQpNDRUq1atkiQlJiaqpKREY8aMUWhoqOnx0ksvSZJmzJihJk2aqG/fvgoPD1dqaqree%2B89eXl5WTzHUlyWBQAA9sUOf8%2Bdj4%2BPEhISyt2WlpZm%2Bnr16tVXPY6Xl5dmzJhRqXP7M/s7ewAAALhhVO4AAIB9scPKXXXC2QMAAHAgVO4AAIB9oXJnEcIdAACwL4Q7i3D2AAAAHAiVOwAAYF%2Bo3FmEswcAAOBAqNwBAAD7QuXOIoQ7AABgXwh3FuHsAQAAOBAqdwAAwL5QubMIZw8AAMCBULkDAAD2hcqdRQh3AADAvhDuLMLZAwAAcCAOEe4OHjyo8ePH65577lFoaKi6deumWbNmKT8/X5IUHByslJSUKp4lAACoEGfnyn/cRKr9an/%2B%2BWc99NBDatSokT755BOlpaVp3rx52r59u4YNG6aSkpKqniIAAIDNVPtw99JLL6lfv34aM2aMbrnlFklS06ZN9eabb6p%2B/frKzMw063/mzBlNnDhRnTp1Unh4uEaOHKmMjAzT9jlz5ujee%2B9Vhw4d9PDDD2vDhg2mbTt37tTgwYPVvn173XfffVq4cKGMRqNN1gkAwE2Dyp1FqvUNFYcPH9bevXv18ssvl9nm4%2BOjuXPnlmkfM2aMnJ2dtXLlStWpU0ezZ8/W0KFDtWbNGv3yyy9KSkrSihUr5Ovrq6SkJE2YMEH33HOPTp8%2Brccff1zjxo3Tu%2B%2B%2Bq0OHDikmJkbu7u569NFHKzTf7Oxs5eTkmLX5Nm0qg5fXDa3/urRoYf7sCFhT9WDLNdWubf0xJCkoyPzZmvLyrD8G7zvLNWxo/TECA82fHdlNFsYqm5OxGpeetm3bpujoaK1fv14BAQFX7BccHKwPPvhADRs2VLdu3bR27Vo1a9ZMklRSUqJ7771Xzz//vBo2bKghQ4Zo5MiR6tKli1q0aCFnZ2c5OTlp3rx5%2BvLLL5WUlGQ6blJSkhYvXqzVq1dXaL5z5sxRYmKiWdvomBjFxsVd/%2BIBAHBUBw9W/jGbNq38Y9qpal258/X1lSTl5OSUG%2B5OnjwpHx8fs9eS5O/vb2pzcXHRrbfeqqNHj%2BqBBx7QnDlztGjRIs2fP1/u7u4aPHiwRo0apaNHj2rnzp0KCwsz7Xvx4kW5uLhUeL7R0dGKjIw0X0Pv3tL771f4GDesRQvpww%2BlgQOl9HTrj2cLrKl6sOWabFm5mz9fGj5c2rPHumPZqnLH%2B84ytqrczZ4txcVJ%2B/dbf7w1a6w/xpVQubNItQ53jRo1UlBQkNatW6f27dubbTt16pS6dOmiGTNmmPWXLl3Obd68uaRLlbusrCz5%2BvoqKytL9evX14IFC3ThwgV9//33Gj16tFq1aqUGDRooPDxcCxYsMB3vzJkzpjtyK8JgMMhgMJg3WuNfJ1eTni6lpdl2TGtjTdWDLdZUt651j/9ne/ZI27dbd4zcXOse/3K8727cmTPWH6PU/v3Szp22Gw/VTrWPxhMnTtTy5cuVmJioM2fOyGg06tdff9Xf//53tWrVSj169DD1NRgMuvfeezV16lTl5OSosLBQs2bNUklJibp06aIdO3Zo%2BPDhSk9PV82aNVW/fn1Jkre3t3r37q1t27Zp1apVKi4uVnZ2tv7%2B979r5syZVbV0AAAcEzdUWKRaV%2B4kqUOHDlq8eLHefvttPfDAAyooKJCPj4/uv/9%2BjRw5Uq6urmb9X331Vc2aNUsPPfSQzp8/r5CQEL3//vvy8vJSjx49lJGRoVGjRunMmTOqX7%2B%2BXnjhBbVp00aSNH/%2BfM2aNUtTp06Vi4uLOnfurAkTJlTFsgEAcFw3WRirbNU%2B3EnSnXfeWe6dsaV2795t%2BtrLy0tTp069Yt%2BRI0dq5MiR5W4LDQ3VkiVLbnyiAAAAVuYQ4Q4AADgQKncW4ewBAAA4ECp3AADAvlC5swjhDgAA2BfCnUU4ewAAAA6Eyh0AALAvVO4swtkDAABwIFTuAACAfaFyZxHCHQAAsC%2BEO4tw9gAAABwIlTsAAGBfqNxZhHAHAADsC%2BHOIpw9AAAAB0LlDgAA2Bcqdxbh7AEAADgQKncAAMC%2BULmzCOEOAADYF8KdRTh7AAAA13Dq1CnFxMQoLCxM4eHhmjZtmoqLi8vtu2nTJvXu3VshISHq2bOnvvrqK7Pt8%2BbN0z333KOQkBANHjxYBw4cqNS5Eu4AAIB9cXau/IeFxo4dK09PT23ZskXJycn6/vvvtXDhwjL9MjIyFBsbq7i4OP3444%2BKjY3V2LFjdeLECUnSypUrtWjRIi1YsEApKSlq1aqVxowZI6PRaPEcSxHuAAAAruLQoUNKTU3Vs88%2BKw8PD/n7%2BysmJkZLliwp03flypUKCwtTt27dVKNGDfXq1Uvt27dXUlKSJGnZsmUaOHCgmjdvLjc3Nz3zzDPKyspSSkpKpc2Xz9wBAAD7YoXP3GVnZysnJ8eszdfXVwaD4Zr77t27V15eXvLz8zO1BQYGKisrS7m5uapbt66pfd%2B%2BfQoKCjLbv1mzZkpPTzdtHzFihGmbq6urAgIClJ6err/85S83tLY/I9xVtcveEFZVu/Yfz7Ya09psuSZbfbi3Tp0/nr28rDvWxYvWPX4pW36fcnOte/xSeXl/PFt7TFv898rPB8v5%2BFh/jNKfCV5ethmvChnlVOnHTEpKUmJiolnb6NGjFRsbe8198/Pz5eHhYdZW%2Bvr8%2BfNm4a68vu7u7jp//nyFtlcGwh0AAHB40dHRioyMNGvz9fWt0L6enp4qKCgwayt9XatWLbN2Dw8PFRYWmrUVFhaa%2Bl1re2Ug3AEAALtijQsLBoOhQpdgy9O8eXOdPXtWJ0%2BelM//qqb79%2B9XgwYNVKf0isv/BAUFaefOnWZt%2B/btU%2BvWrU3H2rt3r7p06SJJKioqUkZGRplLuZbghgoAAICrCAgIULt27TR9%2BnTl5eUpMzNTc%2BfOVVRUVJm%2Bffr0UWpqqtatW6fi4mKtW7dOqamp6tu3ryTp4Ycf1uLFi5Wenq7ff/9dr7/%2Bunx8fBQWFlZp8yXcAQAAu3LxYuU/LJWQkKDi4mJ17dpVAwYMUEREhGJiYiRJoaGhWrVqlaRLN1q89dZbeuedd9S%2BfXvNnTtXc%2BbMUdOmTSVJUVFRGjp0qJ566in95S9/0a5du/TOO%2B/I1dXV8kn%2BD5dlAQCAXbHV/V7Xw8fHRwkJCeVuS0tLM3sdERGhiIiIcvs6OTlp2LBhGjZsWKXPsRSVOwAAAAdC5Q4AANgVe6zcVSdU7gAAABwIlTsAAGBXqNxZhnAHAADsCuHOMlyWBQAAcCBU7gAAgF2hcmcZKncAAAAOhModAACwK1TuLEO4AwAAdoVwZxkuywIAADgQKncAAMCuULmzDJU7AAAAB0LlDgAA2BUqd5Yh3AEAALtCuLMMl2UBAAAciF2Fu2HDhmn06NHlblu2bJnuvvtuXbhw4Yr7HzlyRMHBwTpy5Ii1pggAAKzs4sXKf9xM7CrcDR48WF999ZVycnLKbPvoo4/06KOPqmbNmlUwMwAAgOrBrsLdvffeq4YNG2rlypVm7du2bdPevXv16KOP6syZM5o4caI6deqk8PBwjRw5UhkZGeUeLzg4WCkpKabXK1asUGRkpCQpJSVFkZGRmj9/vjp27Kh27drpjTfe0IYNG9SjRw%2BFhoYqNjbWVCm8cOGCZs%2Bera5du6pDhw4aMWKEDh06ZJ0TAQDATYzKnWXs6oYKZ2dnDRw4UB9%2B%2BKFGjBghJycnSZeqdvfff78MBoMGDx4sZ2dnrVy5UnXq1NHs2bM1dOhQrVmz5rrHO3r0qHJycvT111/ru%2B%2B%2B05NPPqmOHTtq2bJlys3N1cMPP6x169apX79%2BevPNN7V161YtXLhQBoNB8%2BbN07Bhw7Ru3Tq5ublVaLzs7OwyVUnf226Twcvruud%2B3YKCzJ8dgS3X9L/3otU1b27%2BbE1Go/XHkGz7fcrLs/4YktSihfmzNdWubf0x%2BPlguSZNrD9GQID5swO72cJYZbOrcCdJUVFRSkhI0NatW3XXXXfp7Nmz%2Buyzz7R48WJlZmYqNTVVa9eula%2BvryQpPj5eq1ev1qZNm9SmTZvrHm/kyJFydXVVp06dJEl//etfVa9ePdWrV0/NmzfXkSNHZDQatXTpUiUkJMjf31%2BS9NRTT2nZsmX6%2Buuv1aNHjwqNlZSUpMTERLO20TExio2Lu%2B5537D58203lq2wpurBEdf04YdVPYPK5YjfI0dc09SpVT0D2Dm7C3d16tRRnz599PHHH%2Buuu%2B7S8uXL1bJlS915551KS0uTJFPAkiQXFxfdeuutOnr06A2FO29vb9NxJKlu3bqmbc7OzjIajTp9%2BrTOnz%2BvuLg4OTv/cSW7qKhIR48erfBY0dHRpsvCpXz/%2Bldp%2BfLrnvd1Cwq69ENu%2BHBpzx7rj2cLtlyTLSt3pWvau9e6Y9mycmer75MtK3cffigNHCilp1t3LFtV7vj5YBlbVe6mTpVefFG6wseRKtXixdYf4wqo3FnG7sKddOnGioceekhnzpzRsmXLNGbMGElSo0aNJEmHDx9W8/9dtiopKVFWVpapknc5Z2dnFRUVmV6fOXOmTB%2BnCvxP29vbW25ubnr33XcVEhJiaj9w4ID8/PwqvC6DwSCDwWDeeOjQpYet7Nkjbd9uu/FswRZrcrbxx1P37pX%2B%2B1/rjmHrn562%2BD7l5lr3%2BH%2BWni797x%2BdVnPZPzitjp8PN66gwPpjlMrIkHbvtt14qHbs6oaKUs2aNVO7du00c%2BZMFRQU6L777pN0KRzde%2B%2B9mjp1qnJyclRYWKhZs2appKREXbp0KXOcwMBArV%2B/XsXFxTp8%2BLCSk5NvaD7Ozs6KiorS66%2B/ruPHj%2BvixYtauXKlHnzwQW6qAACgknFDhWXsMtxJ0qBBg/TJJ5/or3/9q1xdXU3tr776qvz9/fXQQw/p7rvv1u7du/X%2B%2B%2B/Lq5ybEiZNmqSdO3eqQ4cOGjt2rKKiom54PuPHj1ebNm00cOBAhYWFaeHChUpISFDLli1v%2BJgAAKAswp1l7PKyrCR169ZNu8spO3t5eWnqFT5M2rhxY7N92rdvrxUrVpj1eeKJJyRJ4eHhZY7/59eLFi0yfe3m5qb4%2BHjFx8df30IAAABsyG7DHQAAuDndbJW2yma3l2UBAABw/ajcAQAAu0LlzjKEOwAAYFcId5bhsiwAAIADoXIHAADsCpU7yxDuAACAXSHcWYbLsgAAAA6Eyh0AALArVO4sQ%2BUOAADAgVC5AwAAdoXKnWUIdwAAwK4Q7izDZVkAAAAHQuUOAADYFSp3lqFyBwAA4ECo3AEAALtC5c4yhDsAAGBXCHeWIdwBAABY4Pz585oyZYo2btyo4uJide3aVZMmTVKtWrXK7b9%2B/XrNnTtXmZmZ8vLyUv/%2B/RUTEyNn50ufluvZs6eysrJMryUpOTlZgYGBFZoP4Q4AANiV6la5mzJlio4dO6b169erpKREY8eO1axZszRp0qQyfX/55Rc999xz%2Bte//qV7771XBw8e1IgRI%2BTp6alhw4YpLy9PBw8e1IYNG9SoUaMbmg83VAAAANyggoICrV69WmPGjJGXl5fq16%2Bv%2BPh4rVixQgUFBWX6Hz16VI8%2B%2Bqi6dOkiZ2dnBQYGqnv37vrhhx8kXQp/Xl5eNxzsJCp3AADAzlijcpedna2cnByzNl9fXxkMhmvuW1hYqBMnTpS7raCgQEVFRQoKCjK1BQYGqrCwUBkZGfq///s/s/49evRQjx49zI799ddfq3fv3pKkHTt2yMPDQ4MGDdLevXvVqFEjxcbGqkuXLhVeK%2BGuquXm2macvLw/nm01prU54prOnfvj%2BezZqp1LZbHl96luXesev1Tt2n88W3tMW7y3HfG/JVuvKTvb%2BmOUhpAzZ2wzXhWyRrhLSkpSYmKiWdvo0aMVGxt7zX23b9%2BuIUOGlLstLi5OkuTp6Wlq8/DwkCTl5%2Bdf9bh5eXmKi4uTu7u7hg4dKklycnLSHXfcoaeffloNGzbU559/rtjYWC1evFghISHXnKtEuAMAADeB6OhoRUZGmrX5%2BvpWaN/w8HDt3r273G27du3S7NmzVVBQYLqBovRybO3SfwiW48CBAxozZozq16%2BvDz74wNR3%2BPDhZv369OmjNWvWaP369YQ7AABQPVmjcmcwGCp0CfZ6NW3aVK6urtq3b5/atGkjSdq/f79cXV0VEBBQ7j6bNm3S008/rQEDBuiZZ55RjRp/xLEFCxaoZcuWuuuuu0xtFy5ckJubW4XnxA0VAAAAN8jDw0M9e/bUrFmzdPr0aZ0%2BfVqzZs3Sgw8%2BKHd39zL9t23bpqeeekrPP/%2B8xo8fbxbsJOnYsWOaPHmyMjMzVVxcrOTkZKWlpemhhx6q8Jyo3AEAALtS3X4VyqRJk/TKK6%2Bod%2B/eKioqUteuXTVx4kTT9gceeEC9e/fW3//%2Bd7399tsqLi7WtGnTNG3aNFOfdu3aaf78%2BXruuefk7OysgQMH6ty5c2rWrJn%2B85//6LbbbqvwfAh3AADArlS3cFe7dm1NmTJFU6ZMKXf72rVrTV%2B//fbbVz1WzZo19cILL%2BiFF1644flwWRYAAMCBULkDAAB2pbpV7uwNlTsAAAAHQuUOAADYFSp3liHcAQAAu0K4swyXZQEAABwIlTsAAGBXqNxZhsodAACAA6FyBwAA7AqVO8sQ7gAAgF0h3FmGy7IAAAAOhModAACwK1TuLEPlDgAAwIFQuQMAAHaFyp1lCHcAAMCuEO4s4zCXZTMyMqp6CgAAAFXuusJdcHCwgoODdeDAgTLb3nvvPQUHB2vOnDk3NJGUlBQFBwff0L4bN27UE088cdU%2B586d0%2Buvv64ePXooNDRUnTp1Unx8vA4fPnxDYwIAAOu4eLHyHzeT667ceXt7a%2BXKlWXaV6xYodq1a1fKpK7X2bNnZTQar7j99OnT6t%2B/vw4dOqS3335bP//8s1avXq169eopOjpaR48eteFsAQAArOe6w13v3r316aef6uJlMfi///2vLly4oJYtW5ra8vLy9OKLL%2Bq%2B%2B%2B5TSEiIIiIi9Pbbb5u2R0ZG6qWXXlLHjh3Vr18/s%2BMZjUZNmDBBDzzwgE6cOCFJ%2Bu677xQVFaWwsDA98MADWrVqlaRLFb9JkyYpKytLoaGhpv6XmzNnjtzd3fXmm2%2BqadOmcnJykre3tyZOnKjOnTtr9%2B7dkqQTJ05o7NixioyMVJs2bdS1a1clJyebjhMcHKz58%2Berc%2BfOCg0N1ciRI8sdDwAA3Dgqd5a57hsqOnfurDVr1ui7775Tp06dJEnJycmKiorS5s2bTf1mzZqlI0eOKDk5WXXq1NEXX3yhMWPGqGfPnrrtttskXQqFn332mSTp119/lSRdvHhREyZM0O7du7Vo0SLdcsstSk9P16hRo/Taa6%2Bpa9eu2r59u2JiYuTt7a2IiAhNnjxZiYmJ2rhxY7lz3rhxowYMGCAXF5cy22bMmGH6%2BsUXX5SXl5fWrl2rmjVr6oMPPtCUKVPUs2dP1apVS5L0ySefaNGiRfLy8tJzzz2ncePG6cMPP6zQucvOzlZOTo5Zm2/TpjJ4eVVof4u0aGH%2B7AhYU/VgyzXZ6upBUJD5szXl5Vl/DN53lrv1VuuPERho/uzAbrYwVtmuO9zVqFFDvXv31sqVK9WpUycVFhZq/fr1WrNmjVm4i42NlYuLi2rXrq3jx4/Lzc1N0qWAUxruevToobp165odf/z48fr%2B%2B%2B/1%2Beefmy7zLl26VF27dtV9990nSWrbtq0GDBigJUuWKCIi4ppzPn36tHx9fa/Zb%2BrUqapVq5ZcXV2VlZWlWrVqqbCwUL/99psp3MXFxcnf31%2BS9Nxzz%2Bn%2B%2B%2B/XkSNH1Lhx42sePykpSYmJiWZto%2BPiFBsXd819K00Fg2i1wpqqB0dc0/z5VT2DyuWI3yNHXFNCQlXPAHbuhn4VSv/%2B/RUdHa28vDx9%2BeWXatu2bZnwdOrUKU2bNk27du1S48aN1bp1a0kyu/xqMBjKHPv48ePKz8/X5s2b1atXL0nS0aNHtXXrVoWFhZn6lZSUqEmTJhWar6%2Bvr7Kzs8vddvr0adWrV08uLi7KzMzUq6%2B%2BqoyMDAUEBJhC6OVzLm2TpIYNG0qScnJyKhTuoqOjFRkZaT633r2l99%2Bv0Dos0qLFpR9yAwdK6enWH88WWFP1YMs12bJyN3%2B%2BNHy4tGePdceyVeWO951lbFW5S0iQxoyR9u%2B3/nhr11p/jCugcmeZGwp3LVq00O23367PPvtMq1ev1uOPP16mT1xcnCIjI7VgwQLVqFFDZ86c0bJly8z6ODk5ldlvwYIFWrZsmSZPnqywsDAZDAY1aNBADz30kP75z3%2Ba%2BmVnZ1/1JorLRUZG6osvvtCoUaPMLs0ajUYNHz5crVu31sSJEzVy5Eg9/fTTGjhwoJycnPTLL7%2BYPttX6sSJEwr636WYI0eOSPoj5F2LwWAoG2gPHqzQvpUmPV1KS7PtmNbGmqoHW6zpT1cCrG7PHmn7duuOkZtr3eNfjvfdjTt1yvpjlNq/X/rlF9uNVwUId5a54d9z179/fy1cuFAHDx7UvffeW2b7uXPn5O7uLhcXF50%2BfVpTp06VJBUVFV31uDVr1tRjjz2moKAgTZgwQZIUFRWlNWvW6JtvvtHFixeVkZGhQYMG6d1335Ukubm5qaCgQMXFxeUeMyYmRr/99puefvppHTp0SNKlkPbCCy/o%2BPHjGj58uIqKilRYWCh3d3c5OTkpKytLr732Wpk5v/XWW8rJyVFubq5eeeUVRUREyM/P7zrPHgAAgHXccLh78MEHdejQIfXp00c1apQtAM6YMUPr1q1T27Zt1b9/f/n5%2Bally5baU4FLGE5OTpo%2Bfbp%2B/PFHLV26VG3atNEbb7yhN954Q%2B3bt9egQYMUGRmpZ555RpLUvn171a9fX%2B3btzfd%2BXq5W265RcnJyapXr56GDh2q0NBQRUVFqbi4WB999JGaNGkiT09PTZ8%2BXW%2B99ZZCQ0M1ZMgQdezYUT4%2BPmZzbtWqlQYOHKjIyEjVrVtXs2bNutFTCAAAysHdspa5rsuylwcnb29v/fKnsvCiRYtMX0dERJjuhC3Pn%2B9sDQ8PNzu%2Bv7%2B/0i4rpXfu3FmdO3cu91gGg0Fr1qy56tx9fX3NLuuWp2/fvurbt69Z25NPPmn2%2Br777tPEiROvehwAAICqwt%2BWBQAAduVmq7RVNsIdAACwK4Q7yxDurkN5n%2BcDAACwJ4Q7AABgV6jcWeaG75YFAACA/aFyBwAA7AqVO8sQ7gAAgF0h3FmGy7IAAAAOhModAACwK1TuLEPlDgAAwIFQuQMAAHaFyp1lCHcAAMCuEO4sw2VZAAAAB0LlDgAA2BUqd5ahcgcAAOBAqNwBAAC7QuXOMlTuAACAXbl4sfIf1nT%2B/Hk9//zzCg8PV7t27fTcc88pPz//iv0nTZqk1q1bKzQ01PRISkoybZ83b57uuecehYSEaPDgwTpw4MB1zYdwBwAAYEOEgxoAACAASURBVIEpU6bo2LFjWr9%2Bvb744gsdO3ZMs2bNumL/HTt2aMqUKUpLSzM9oqOjJUkrV67UokWLtGDBAqWkpKhVq1YaM2aMjEZjhedDuAMAAHalOlXuCgoKtHr1ao0ZM0ZeXl6qX7%2B%2B4uPjtWLFChUUFJTpf%2BHCBe3Zs0etW7cu93jLli3TwIED1bx5c7m5uemZZ55RVlaWUlJSKjwnPnMHAABwFYWFhTpx4kS52woKClRUVKSgoCBTW2BgoAoLC5WRkaH/%2B7//M%2Bufnp6u4uJiJSQk6KefflKdOnX08MMPa/jw4XJ2dta%2Bffs0YsQIU39XV1cFBAQoPT1df/nLXyo0X8IdAACwK9aotGVnZysnJ8eszdfXVwaD4Zr7bt%2B%2BXUOGDCl3W1xcnCTJ09PT1Obh4SFJ5X7u7ty5c%2BrQoYMGDx6sN954Q7/%2B%2Bqv%2Bf3t3HldT/v8B/HUj1WgkLWhBY4sxdlnKVmJGrkxKKMaY%2BZJ9yYx9G0zIVprBGBkkRQuFsZsYjOU32WZkm6FVJQ1KcVO/P%2Bbrfl2FdOuee06v5%2BPRo%2Bmce895nZG8e38%2B53PGjRsHHR0dfPnll8jNzVW%2B/wV9fX08efLkrTlfYHFHRESkLh0NzHKSyf73WRPnE1BFFHfh4eEICgpS2TZ%2B/HhMmDDhre/t2LEjrl%2B/XuK%2BP//8EwEBAcjLy0P16tUBQDkca2hoWOz19vb2sLe3V37dsmVLfPbZZ9i/fz%2B%2B/PJLGBgYID8/X%2BU9%2Bfn5ymOXBos7IiIikjxPT084OjqqbDMzM1P7uDY2NtDV1cWtW7fQqlUrAMDt27eVw6mvOnLkCO7fv4/Bgwcrtz179gz6%2BvoAgMaNG%2BPmzZvo2bMnAEChUODOnTsqw75vI%2B3Sn4iIiESnIm6oMDc3x4cffqjyUZoh2bcxMDDAJ598ghUrVuDBgwd48OABVqxYgX79%2BikLtpcVFRXBz88PZ86cQVFREeLj47F161bl3bIDBw5ESEgIEhIS8PTpU6xcuRKmpqZo3759qTOxc0dERESkhvnz52PZsmWQy%2BVQKBRwcnLC3LlzlftdXFwgl8vh4%2BMDZ2dnzJw5EwsWLEB6ejpMTU0xYcIEuLq6AgDc3d3x%2BPFjjBs3Dg8ePMBHH32EDRs2QFdXt9R5WNwRERGRVhHbEyoMDQ2xaNEiLFq0qMT9%2B/btU/l68ODBKsOyL5PJZBg5ciRGjhxZ5jws7oiIiEiriK240zacc0dEREQkIezcERERkVZh50497NwRERERSQg7d0RERKRV2LlTD4s7IiIi0ios7tTDYVkiIiIiCWHnjoiIiLQKO3fqYeeOiIiISELYuSMiIiKtws6deljcERERkVZhcaceDssSERERSQg7d0RERKRV2LlTD4s7IiIi0ios7tTDYVkiIiIiCWHnjoiIiLQKO3fqYeeOiIiISEIqrLjbvn07mjZtip9%2B%2BqmiTqEiOTkZTZs2RevWrdGmTRu0adMGrVu3Rp8%2BfbB79%2B7Xvi8mJgYuLi4ayUhERERvV1hY/h%2BVSYUNy27fvh1DhgzB1q1b4e3tjapVNTMCvHfvXlhZWQEAioqKsH//fkybNg21a9dG586di72%2Bf//%2B6N%2B/v0ayERER0dtVtmKsvFVI5%2B7MmTPIysrCjBkzUFhYiIMHDwIAIiIi0K1bNxS%2B9KcWGhqq7JxlZ2djypQpaNeuHZycnLBt2zY0b94cycnJZcohk8ng4uKCGjVq4Nq1awCApk2bYvHixejYsSN8fHwQFRUFR0dH5XtOnToFd3d3tGnTBo6OjggJCVHuO336NNzd3dG%2BfXu4uLggJiamTLmIiIiIKkqFtNO2bduGQYMGQV9fH0OHDkVwcDBcXFzQt29ffPvttzhz5gzs7e0BANHR0XB3dwcATJs2DTKZDEePHkVhYSGmTZuG58%2BflzlHXl4eoqOjkZOTg06dOim3JyYm4pdffoFCocCRI0eU2//%2B%2B2/4%2BPhg/vz5GDBgABISEjB8%2BHDUr18fZmZmGDNmDPz9/eHk5IRLly5h7NixMDY2RteuXUuVJyMjA5mZmSrbzGxsYF6zZpmvsdRsbVU/SwGvSRw0eU2GhhV/DgBo0kT1c0XKyan4c/D7Tn0WFhV/joYNVT9LGDt36pEVFRUVlecBU1JS8PHHH%2BPw4cOoU6cO/vnnH3Tv3h0bN26EnZ0d5s2bh7y8PPj7%2B%2BP27dtwdXXFiRMnoFAo0K1bN/z888/44IMPAAC3bt2Ci4sLjh49qhxqfZ3k5GQ4OTmhevXq0NH5tyFZpUoV2NjYYOTIkejduzeAfzt3/v7%2ByqHYqKgoBAUF4dixYwgKCsKvv/6KsLAw5XETEhJgbm6OwMBAPHr0CKtWrVLuW7VqFW7cuIH169eX6v/N2rVrERQUpLJt/NixmDBpUqneT0REVBl8/nn5H3Pz5vI/prYq985daGgoCgoK4OrqqtxWUFCA4OBg2NnZwcPDA8OHD0dubq5ySLRWrVq4ePEiAKgUcdbW1u98/piYmLcWgubm5iVuz8jIgMUrv33Z/ve3vpSUFPz2229o3769ct/z589Rr169Umfz9PRUGQIGADO5HNiypdTHKDNbWyA0FBg6FEhIqPjzaQKvSRw0eU2a7Nz9%2BCPw5ZfAjRsVey5Nde74faceTXXuAgKASZOA27cr/nx791b8OV6DnTv1lGtx9/TpU0RERGDJkiXo0qWLcvuNGzcwatQo3L59Gx999BHq16%2BPw4cPIzY2FosXLwYAZVGVkpICGxsb5X9XBJlMVuL2unXrIi4uTmVbZGQkTExMUKdOHXz66af45ptvlPsyMjLwLo1Pc3Pz4oXl33%2BXPnh5SEgA4uM1e86KxmsSB01cU40aFXv8V924AVy6VLHnePSoYo//Mn7flV12dsWf44Xbt4E//tDc%2BQTA4k495XpDRWxsLGQyGeRyOerUqaP86NatG5o0aaJcFsXDwwOBgYHQ0dGBg4MDgH8Ln549e8Lf3x8PHz7Ew4cPsXz58vKM91YuLi74888/sXv3bjx//hxXr17F0qVLUbVqVbi7u2Pv3r349ddfUVhYiDt37sDb2xvBwcEazUhERET0JuVa3IWGhkIul0NXV7fYPk9PT%2BzZswdZWVmQy%2BXIysqCm5ubcn4cACxZsgQymQw9evTAp59%2BiubNmwNAicerCPXq1cMPP/yA7du3w87ODlOnTsWMGTPg4OCAVq1aYdWqVVi1ahU6dOgAb29vODo6wtfXVyPZiIiIKguuc6eech2WjYqKeu0%2BLy8veHl5Kb%2B%2BVMJQRkJCAlauXAl9fX0AwPXr17Fu3TrULMXdpFZWVrh%2B/fpbX/fqa9zc3ODm5qb8ulOnTti1a1eJ7%2B3Rowd69Ojx1nMQERERCUWrHj%2B2bNkyrFu3DgUFBcjJycG6devQpUsX6OnpCR2NiIiINISdO/Vo5rERpbRy5UosXrwYnTp1go6ODrp27Yrly5fj8uXL%2BOyzz177PgsLC%2Bzbt0%2BDSYmIiKiiVLZirLxpVXHXuHFjbClhWRATExPES%2B0OLiIiIqIKoFXFHRERERE7d%2BrRqjl3RERERKQedu6IiIhIq7Bzpx4Wd0RERKRVWNyph8OyRERERBLCzh0RERFpFXbu1MPOHREREZGEsHNHREREWoWdO/WwuCMiIiKtwuJOPRyWJSIiIpIQdu6IiIhIq7Bzpx527oiIiIgkhJ07IiIi0irs3KmHxR0RERFpFbEVd0%2BePMGiRYtw7NgxFBQUwMnJCfPnz0f16tWLvXbevHmIjY1V2Zafn48uXbpg06ZNKCwsRLt27VBUVASZTKZ8zalTp/Dee%2B%2BVKg%2BHZYmIiIjUsGjRIqSlpeHgwYM4dOgQ0tLSsGLFihJf%2B8033yA%2BPl75sXbtWtSoUQMzZswAANy6dQsKhQLnzp1TeV1pCzuAxR0RERFpmcLC8v%2BoKHl5eYiNjcXEiRNRs2ZNmJiYYNq0aYiKikJeXt4b3/vgwQNMmzYNs2fPRuPGjQEAV65cQdOmTVGtWrUyZ%2BKwLBEREdEb5OfnIz09vcR9eXl5UCgUaNKkiXJbw4YNkZ%2Bfjzt37qBZs2avPe6KFSvQokUL9O/fX7ntypUrePr0KQYOHIiUlBQ0bNgQvr6%2BaNu2banzsrgjIiIirVIRnbaMjAxkZmaqbDMzM4O5uflb33vp0iUMHz68xH2TJk0CAJVhUwMDAwBAbm7ua4%2BZlJSEmJgY7Nq1S2W7vr4%2BWrZsiUmTJsHIyAjbt2/HF198gZiYGFhbW781K8DiTngNGmjmPBYW//ucna2Zc1Y0XpM4aPKaTE0r9vgv1Kv3v89vGXZRW0ZGxR4fAOrW/d/nrKyKP5%2BOBmYEafrv0p07FX8OY%2BN/P6emauZ8AqqI4i48PBxBQUEq28aPH48JEya89b0dO3bE9evXS9z3559/IiAgAHl5ecobKF4MxxoaGr72mJGRkWjTpk2xzt6LuXcvfPHFF4iKikJcXBy8vb3fmhVgcUdERESVgKenJxwdHVW2mZmZqX1cGxsb6Orq4tatW2jVqhUA4Pbt29DV1UWDNzRwDh06hJEjRxbbvnr1avTp0wfNmzdXbnv27Bn09PRKnYnFHREREWmViujcmZubl2oI9l0ZGBjgk08%2BwYoVKxAQEADg37l0/fr1g76%2Bfonvyc7Oxu3bt9GhQ4di%2B27cuIELFy5gzZo1MDIywg8//ICcnBw4OzuXOhPvliUiIiJSw/z589GgQQPI5XJ8/PHHsLKywrx585T7XVxcsH79euXXycnJAIDatWsXO5afnx/q1asHV1dXdOzYEefOncPmzZtRs2bNUudh546IiIi0itgWMTY0NMSiRYuwaNGiEvfv27dP5euPPvrotXP4atasCT8/P7XysLgjIiIirSK24k7bcFiWiIiISELYuSMiIiKtws6deljcERERkVZhcaceDssSERERSQg7d0RERKRV2LlTDzt3RERERBLCzh0RERFpFXbu1MPijoiIiLQKizv1cFiWiIiISELYuSMiIiKtws6deti5IyIiIpIQdu6IiIhIq7Bzpx4Wd0RERKRVWNyph8OyRERERBLCzh0RERFpFXbu1MPOHREREZGEiK64S05ORtOmTZGcnFzmY6SlpaF58%2BY4evRoifsHDx6MJUuWvPU4a9euxbBhw8qcg4iIiIorLCz/j8pEdMVdeahbty569eqFXbt2FduXkJCAS5cusWgjIiISCIs79Yi6uEtJScHkyZPRuXNn2Nvbw9fXFxkZGcr9p0%2BfxoABA9C2bVsMHjwY/v7%2ByqLN29sbJ06cQHp6usoxQ0ND0b17d9SrVw8AcOHCBXh5eaF9%2B/ZwdHTEmjVr8OzZM81dJBEREdE7EO0NFQUFBRg9ejRatGiBQ4cOoaioCAsXLoSPjw927tyJe/fuwcfHB7Nnz8bAgQNx8eJF%2BPj4oFmzZgAAOzs7NGrUCBERERg3bhwAICcnB7Gxsfjuu%2B8AAH/99Rc%2B//xzTJs2DZs3b0ZaWhomTJiAnJwczJkz550zZ2RkIDMzU2WbmYUFzI2N1fy/UQoNG6p%2BlgJekzho8ppq1qz4cwBAgwaqnyuSuXnFn0PT33cyWcWfQ9PXpImf47a2qp8lrLJ12sqbrKioqEjoEO8iOTkZTk5OWLJkCebNm4dz587B0NAQwL/FmZ2dHUJDQ3HmzBn88ssvCA8PV753%2BfLluHLlCrZt2wYA2LVrF9atW4cjR45AR0cH27dvx44dO7B3714AQEBAAE6ePImIiAjlMeLi4jBx4kTEx8fju%2B%2B%2Bw7lz55THe5u1a9ciKChIZdv4sWMxYdIktf6fEBERSYmNTfkf8%2B%2B/y/%2BY2kq0nbusrCwYGxsrCzsAMDQ0RM2aNZGSkoK0tDRYWlqqvMfa2hpXrlxRfi2Xy7FixQqcOnUKXbt2RVhYmMpcu6ysLFhbW6scw8rKCvn5%2BcjKynrnzJ6ennB0dFTZZjZqFHD48Dsf6501bAgEBACTJgG3b1f8%2BTSB1yQOmrwmTXbuFi8G5swB7typ2HNlZ1fs8YF//4wCA4GJEzXzfaepzp0m/y6lplb8OWxtgdBQYOhQICGh4s/3%2B%2B8Vf47XYOdOPaIt7uzs7BAQEICcnBxlgff48WNkZ2fDzMwMlpaWOH78uMp7Ul/5y6evr4%2BBAwdi165deO%2B995Ceno7%2B/fsr91taWuLQoUMq70lMTES1atVgZGT0zpnNzc1h/uoQS2qqZn4ovHD7NvDHH5o7nybwmsRBE9dkalqxx3/VnTvA9esVe46X5hFXuNu3gatXK/48Ohqc7q2pv0sVXeS/LCEBiI/X3PkEwOJOPaK9oaJWrVpo1KgR5s%2Bfj8ePH%2BPx48dYsGAB6tWrh7Zt28LV1RXXrl3D7t278fz5c1y6dAk7d%2B4sdhwvLy%2BcOHEC27Ztg4eHBwwMDJT7XFxccPv2bWzZsgXPnj1DYmIiVq1aBblcjmrVqmnycomIiIhKRbTFXZUqVbBhwwYUFBSgT58%2B6NmzJxQKBTZv3oyqVauiTp06CAwMxMaNG9G%2BfXssW7YMDg4O0NXVVTmOpaUl7O3tcejQIXh5eanss7Kywo8//oiDBw%2BiS5cuGDp0KOzt7TFv3jxNXioREVGlwqVQ1CO6YVkrKytcf2kYJCAgoMTXpaWlwczMDPv27VNuW7p0aYmvfXF3bEnat2%2BP0NDQEvdNmDChNJGJiIiINEa0nbu3yc7OxtChQ3H1v/NHEhISEBMTg549ewqcjIiIiN6EnTv1iK5zV1rNmzfH7NmzMXXqVGRmZsLU1BSjRo1Cv379hI5GREREb1DZirHyJtniDgA8PDzg4eEhdAwiIiIijZF0cUdERETiw86deiQ7546IiIioMmLnjoiIiLQKO3fqYXFHREREWoXFnXo4LEtEREQkIezcERERkVZh50497NwRERERSQg7d0RERKRV2LlTD4s7IiIi0ios7tTDYVkiIiIiCWHnjoiIiLQKO3fqYeeOiIiISELYuSMiIiKtws6deti5IyIiIq1SWFj%2BH5qQl5cHT09PREVFvfF1ly5dgoeHB9q0aQNHR0fs2rVLZX90dDScnZ3RunVruLm5IT4%2B/p1ysLgjIiIiUtPNmzfh5eWFixcvvvF1Dx8%2BxKhRozBgwACcP38eS5YsgZ%2BfHy5fvgwAOHv2LBYtWoSlS5fi/Pnz6N%2B/P8aMGYO8vLxSZ2FxR0RERFpFbJ27M2fO4LPPPsOnn34KCwuLN7720KFDqFmzJry8vFC1alV07twZcrkc27dvBwDs2rULLi4uaNeuHXR1dTFixAgYGxtj//79pc7DOXdEREREb5Cfn4/09PQS95mZmcHW1hbHjx%2BHnp4eNm/e/MZj3bx5E02aNFHZ1qhRI0RERAAAbt26hYEDBxbbn5CQUOq8LO6IiIhIq1REpy0jIwOZmZkq28zMzGBubv7W9166dAnDhw8vcd93332HXr16lTpHbm4uDAwMVLbp6%2BvjyZMnpdpfGizuhPb33xo5TUZGBsLXroVncHCpvpHFgNckDpK%2BplWrJHFNyuvZvFkS1wNI/PvuwAHJXNPrFBWV/zHXrg1HUFCQyrbx48djwoQJb31vx44dcf369XLJYWBggMePH6tsy8/PR/Xq1ZX78/Pzi%2B03NjYu9Tk4566SyMzMRFBQULHfWsSM1yQOvCbtJ7XrAXhNVNyLu1hf/vD09NR4jiZNmuDmzZsq227duoXGjRsDABo3bvzG/aXB4o6IiIgkz9zcHB9%2B%2BKHKhxAdUGdnZ9y/fx8//fQTFAoFfvvtN8TGxirn2bm7uyM2Nha//fYbFAoFfvrpJ2RlZcHZ2bnU52BxR0RERFSBXFxcsH79egCAsbExgoODceDAAXTs2BFz5szBnDlz0KlTJwBA586dMX/%2BfCxYsAB2dnbYt28fNm7ciJo1a5b6fJxzR0RERFROjh07Vmzbvn37VL7%2B6KOPEBYW9tpjuLq6wtXVtcwZqixYsGBBmd9NolK9enXY2dkpJ21KAa9JHHhN2k9q1wPwmqjykhUVVcQ9KUREREQkBM65IyIiIpIQFndEREREEsLijoiIiEhCWNwRERERSQiLOyIiIiIJYXFHREREJCEs7oiIiIgkhMUdERERkYTw8WNERJVYamoqMjMzUbduXUEeok5E5Y%2BdOyKBJScnCx2BKqGMjAx4eXnB0dERnp6e6N69O0aPHo1Hjx4JHa3MTp06BR8fH7i5uSEzMxPLli1DQUGB0LGINI6dO4m6efMmli9fjjt37qCwsFBl39GjRwVKRSX5%2BOOP0bhxYzg7O6NPnz5o2LCh0JHUtnPnTmzbtg0ZGRmIjo7G0qVL4efnJ%2BrnYT579gxxcXFISUmBp6cn7t69C1tbW6Fjldm8efNgZGSEAwcOwMLCAklJSVi%2BfDmWLFmCZcuWCR3vncXGxsLPzw8eHh44f/48gH8f4C6TyfD1118LnO7dDRs2DDKZ7I2v2bp1q4bSkNjw2bISNWTIEBgYGOCTTz5B1aqqNfynn34qUCr15ebmYvv27UhKSir2G7mfn59AqdTz%2BPFj/PLLLzh%2B/DhOnDgBMzMz9O7dG87OzmjRooXQ8d7ZTz/9hB07duCLL77A8uXLcfToUYwePRqNGjXC4sWLhY5XJomJiRg5ciQUCgUePXqEqKgo9OvXD0FBQejZs6fQ8cqkXbt2iIuLg6GhoXLbo0eP0KtXL5w7d07AZGUjl8uxaNEitG7dGh06dMD58%2Bdx584dDB8%2BHCdOnBA63jsLCgp662vGjx%2BvgSQkRuzcSdT169dx4sQJlR/cUjBz5kxcunQJ7du3R7Vq1YSOUy7ef/99yOVyyOVyPH36FBs3bsSmTZvwww8/4Nq1a0LHe2c7duzA999/j4YNG2LFihUwMjJCYGCgqH%2BpWLJkCdzc3DBmzBjY2dnBxsYGixcvRmBgoGiLuxo1auDRo0cqPyOePXuGmjVrCpiq7O7du4dWrVoBgLLjVb9%2BfTx58kTIWGVWUuGWlZUFIyOjYr%2BwE72K3yESZW5ujmfPngkdo9ydPHkSBw8elNTE77/%2B%2BgunT5/G6dOncf78eejp6aF3795wcHAQOlqZZGdnw8bGBgDwYmDAxMRE1HOfLl68iLVr10ImkykLB1dXVyxZskTgZGXn7e2N0aNHY/Lkyahfvz7S09MRFBSEbt26KYc1AaBDhw4Cpiy9Bg0a4OjRo%2BjVq5dy2%2BnTp1G/fn0BU6lPoVDA398fu3btQn5%2BPqpVq4b%2B/ftj7ty5kvkFl8ofizuJ8vb2xrhx4zB8%2BHCYmpqq7BPLD%2BuSmJmZwdjYWOgY5apv374wMDDA4MGDMWnSJDRt2lToSGqxtbVFeHg4hgwZoiyE9u/fj8aNGwucrOzef/993L9/HxYWFsptmZmZMDIyEjCVevz9/QEA48aNU9keHx%2BPkJAQAP92wMTSPZ4yZQrGjh0LJycnPH36FAsWLMDevXuxcuVKoaOp5fvvv8fZs2exZs0aWFlZITExEatXr8aaNWtEOZeQNINz7iTqdRO9xfTDuiTBwcFITU3FxIkTUaNGDaHjlIuoqCicOnUKp0%2BfRq1atdClSxc4ODjAzs4OBgYGQsd7Z3/88QdGjBiBhg0b4urVq%2BjcuTMuXryIH3/8UTlsJjYBAQGIi4uDr68vJk2ahODgYPj7%2B6NNmzaYOnWq0PHovxISEhAeHo6UlBTUqVMH7u7uaNmypdCx1NKrVy9s3rwZ1tbWym2JiYnw8vLCyZMnBUxG2ozFHYmCra0tZDKZcpivpLvIxFy0Av8OYV65cgUnT55ESEgIcnNzcfnyZaFjlUl6ejpiY2OV/8jK5XKVrpfYKBQKrFq1CmFhYcjLy4Oenh7c3d0xffp0UQ%2BN5eXl4eHDh8o76hUKBW7cuAFnZ2eBk5XNqVOn0Lx5cxgbGyMuLg66urro0qWL0LHU0qFDB5w5c0Zlnp1CoUCXLl1Uhs%2BJXsZhWQmT0tINUr/lPzMzEydPnsSJEydw6tQpmJiYwN3dXehYZWZqaoovv/wSRUVFOHHiRLEhTbHR1dXF9OnTMX36dDx48ADGxsZvXaZC20VGRmLRokV4%2BvSpynYTExNRFnfbt2/H6tWrERoaCmNjY2RlZWHp0qWYNWsWBgwYIHS8MmvatCnCwsLg7e2t3BYWFoYmTZoImIq0HTt3EiXFpRukasCAAbhx4waaN28OZ2dn9OrVS9Rr3R07dgxz5szB6dOn8f3332P9%2BvWQyWSYPXs2Bg0aJHS8MlEoFNi/fz9SUlKKrRsp1uUonJ2d4eXlherVq%2BP8%2BfP47LPP4O/vD3t7e/znP/8ROt4769WrFwICAvDhhx8qt129ehW%2Bvr44ePCggMnUc%2BHCBYwcORK2trawtrZGYmIibt26hU2bNqFt27ZCxyMtxeJOokaPHo1WrVopl244f/48oqOjsXXrVkRHRwsdr8xeDM%2B%2BqmrVqqhVqxZ69uyJGTNmQF9fX4B0ZbN9%2B3b06tULtWvXFjpKufDw8ICHhwfc3d1hb2%2BPpUuXwsTEBFOmTMHhw4eFjlcmEydOxNmzZ9G4cWOV7z%2BZTCbarnLr1q0RHx%2BPlJQUTJs2DWFhYUhNTcWIESNw6NAhoeO9szZt2uD//u//oKPzvwcvFRYWws7ODhcuXBAwmfr%2B%2Busv7N27F/fv34eVlRVcXFxgaWkpdCzSYhyWlSgpLt0AADNmzMCePXswefJkWFtbIyUlBWvXroWdnR3atWuH4OBgrFixAnPmzBE6aql5eXnhyJEjmDNnDlJSUmBmZgZ3d3fI5XKho5VJYmIiBg0ahD///BP5%2Bfmwt7dH1apVcf/%2BfaGjldmvv/6KmJgYWFlZCR2l3JiYmEChUKBu3br4%2B%2B%2B/AQAWFhbIysoSOFnZNGrUCHv27FFZTzE2NhYffPCBgKnKzs/PD8OGDYOVlRU%2B%2BOADTJw4UehIJCIs7iRKiks3AP8%2B1mrTpk2oW7cunRAg%2BwAAFPdJREFUAOCDDz5AkyZN8Pnnn2PatGlo2bIlXF1dRVXcxcbGYuHChfD09ISjoyMSExOxYMEC5Ofnw8PDQ%2Bh478zAwABZWVk4duwY2rVrh6pVqyIhIUHUS9iYmZmJdnHf12nZsiXmzZuHuXPnokGDBtixYwf09fVFe52TJ0/GmDFjsHPnTlhYWCAtLQ1//vknfvjhB6GjlcmlS5cQEhKC7t27Y/jw4ejUqZPQkUhEWNxJlFwux/jx4%2BHr64vCwkJcvnwZ/v7%2BcHFxETqaWtLT01GrVi2VbUZGRkhLSwMA1KpVC/n5%2BUJEK7ONGzciKChI5Yd39%2B7d8c0334iyuBs4cCAGDBiAR48eITAwEFevXsWXX36JkSNHCh2tzKZPn45JkyZh6NChxZbgEeu6kTNnzsScOXOQm5uLr776Cj4%2BPsjPzxftY/zs7e2xZ88e7Nu3D5mZmejWrRuWLVumsoSImISFhSEhIQGhoaEYO3YsLC0tMXz4cPTv3x96enpCxyMtxzl3EiXVpRu%2B/PJL1KlTB3PnzoWenh6ePn2KpUuX4s6dOwgODkZ4eDiio6MRHh4udNRSa9%2B%2BPc6fP68yl6uwsBDt27fH77//LmCysjt79iz09PTQunVrpKWl4cqVK%2Bjdu7fQscps9erV2LBhQ7HtYl838mUFBQVQKBSiXFtR6nJzc7F7926EhYUhIyMDgwYNgpeXF%2BrUqSN0NNJSLO4qAaks3QAAKSkpGDVqFO7evQtjY2NkZ2ejUaNGCAwMRGpqKiZNmoR169aJ6i6yfv36Yd68ebCzs1NuO3v2LBYtWoS9e/cKmKzscnNzlcvwmJmZwdHRUdSLTnfo0AErV66Eg4ODyoR9sUpLS8P169fRo0cPAP/%2BMrFw4UL85z//Ed28QrlcjtjYWDg6Or72Z9zRo0c1nKri/P7779i2bRsOHz6Mq1evCh2HtBSHZSUsMjISe/bsQWZmJiwsLODh4YGPP/5Y6FhqsbS0RGxsLOLj45Geng4LCwu0atUKMpkMtWvXxpkzZ0T3j%2B9nn32GcePGwdPTU7nUQXh4OGbOnCl0tDK5e/cuRowYAYVCAQsLC6SmpmL58uXYsmWLaB9BpqenB3t7e9F9b5UkKSkJnp6e6NGjh7K4e/jwIa5cuYLBgwdjx44dohrKHDVqFABgwoQJAiepeKdOncKuXbsQFxen/LMjKgk7dxK1bt06bNmyBZ6enqhbty6SkpIQERGBKVOmYPDgwULHe2f37t1DnTp1kJqa%2BtrXiHmR3KioKERFReH%2B/fuwtLQUdSHu4%2BMDGxsbfPXVV9DR0UFhYSH8/f1x48YNbNq0Seh4ZbJp0ybcv38fPj4%2Bor8p6euvv0aNGjVKvOlo5syZKCwsxLJlywRIpp4xY8bA398fhoaGQkcpVxkZGYiMjERERARyc3MxcOBAeHl5ifrnHVU8FncS1bVrV6xbtw4tWrRQbrt8%2BTKmTp2KI0eOCJisbNq2bYvff/%2B92GPIXpDS3CcAeP78ORITE2FjYyN0lHfWuXNnxMXFqcztzM/Ph4ODg2jXG3N0dERqaqokHnvXrVs3xMbGllikpqenY9CgQYiLixMgmXo6deqEEydOiHpO8cuOHz%2BOnTt34uTJk2jYsCG8vb15MwWVGodlJerJkyfFHk/TvHlz5OTkCJRIPfv27QMgrbkzb3L//n307dtXdIUDAFSpUgU5OTkqdzXn5OSIeqL%2B0qVLhY5QbnJzc1/bfaxduzYeP36s4UTlo1%2B/fpg4cSLkcjnMzMxUCnEx3tE8fvx4ODk5YfPmzaLMT8JicSdRLi4uWL16NaZNm4YqVaoAAIKDg0V7x6KXl9dbbwiRWuEn1qZ6z5494evri7lz58LKygpJSUlYvHixqB979/LNLmJnZmaGxMRE1KtXr9i%2BxMRE0a5zFxISAgD45ZdfVLaLtat/9OhR3g1LZcZhWYny9PTEpUuXYGxsDEtLS2RkZCAjIwPm5ubQ1dVVvk4sBdGLR6YVFRXhm2%2B%2Bwfz584u95uWV6cUuPT0dPXr0EOU/Sv/88w8mTJigsrxLt27d4O/vL9o7ZqV0J%2BaqVatw9%2B5drFmzRuWaioqKMHXqVBgZGWHBggXCBSQVw4YNK/F7T1dXV/nIxb59%2BwqQjLQZizuJio6ORkFBAbKzs1GrVi1l9%2B5VYiyI7OzscO7cOaFjVCgxF3cvJCUlISsrC5aWljAzMxM6jlpefR7zgwcPEBkZCQ8PD3z%2B%2BecCpSqbnJwcuLm5QV9fH5988glMTU2RmZmJQ4cO4eHDh4iIiICJiYnQMd/J2bNnce3aNXTq1Am2trZCxylXK1asQHh4OAYNGgRra2ukpqYiPDwc3bp1g6mpKWJiYuDj44Nhw4YJHZW0CIs7CcrMzMS3336LI0eOoKCgAFWrVoWjoyNmzZoliYfTS6W4O3/%2B/Gv3PXjwAJMnTxZVcfem63lBSnOHEhMTMXXqVERERAgd5Z1lZ2cjMDAQx48fx4MHD2BmZoaePXti7NixxZ4Ao%2B12796NWbNmoUaNGsjJycGaNWvQq1cvoWOVm6FDh2Lq1Klo3769ctulS5fg7%2B%2BPkJAQJCQkYNKkSTh48KCAKUnbsLiTmIcPH2LAgAGoU6cO3N3dYW5ujqSkJERHRyM9PR0xMTGinVPzglSKu7d1GMQ2V0hq1/M2z58/R8eOHUV7B7BUfPLJJ5gwYQL69u2L0NBQ7N27F6GhoULHKjft27fHuXPnVNZYfPUJNi9WEyB6gTdUSMz69evRokULBAYGqszTGDx4MMaPH48NGzZg%2BvTpAiakFxISEoSOUK4SEhJQWFiIpKQk1K9fX7l937596NOnD6pWFe%2BPm1e7kgqFAgcOHECDBg2ECURK9%2B7dU845c3NzQ2BgoMCJype1tbVyCsALsbGxynXu/vjjD9FPe6DyJ96ftlSiY8eOYf369cUm4Oro6GDq1KkYO3asKIu73bt3K/9boVCofP3CgAEDNBmJXvHkyROMHDkSpqamCAoKAgBkZWVh5syZ2L59O3788Ue89957Aqcsm1fnM%2Bno6KBhw4Yl3thDmvVyR0tfXx%2BFhYUCpil/X331FcaMGYPIyEhYWloiNTUVCQkJCAwMxLVr1%2BDt7Y3Zs2cLHZO0DIdlJeZN7fmioiK0bdsW8fHxGk6lPkdHxzful8lkortrUWpWrlyJixcvYs2aNSoT8rOysjBmzBh07twZU6ZMETAhSdGrP/OkMm3jZcnJydi7dy/S0tJgaWkJV1dX1K5dG/fu3UN2djaaNWsmdETSMuzcSYyenh4yMzNLbNNnZmaievXqAqRS37Fjx4SOQG9x8OBBbNy4sdidliYmJli4cCEmT54suuLuTY%2B7e0Gsj4F63c%2BJmzdviuoZwEVFRUhLS1OuC1lYWKjyNSDeP6MXLCws0KVLFyQnJ8Pc3Fz551anTh2uhUclYnEnMR06dEBoaCgmTZpUbN%2BOHTsktRgraZesrCyVuXYva9asGTIzMzWcSH0v1rd73QCHmG8S6dOnT7Eu//Pnz%2BHp6Smqyfl5eXkqnf2ioiLl10VFRaL%2BMwL%2BLcJ9fHxw/fp1GBkZITs7Gw0aNEBwcDALO3otFncSM3r0aHh5eUFfXx%2Burq4wNTVFamoqIiIisG3bNoSFhQkdkSTK0NAQ2dnZMDY2Lrbvn3/%2BEeXjx6Q21H/37l188cUXKCoqQl5eHpycnFT25%2Bfnw9LSUqB0ZSO1P6NXLVu2DA0aNMDWrVtRvXp1PH78GAsWLICfnx8CAgKEjkdainPuJOj48eOYO3cusrKylNtMTU3h5%2BcHBwcHAZORlM2YMQNWVlYYP358sX3ff/89/vjjD3z33XcCJCsfubm5iIuLQ0pKCszNzdGzZ09RPnHj%2BPHjyM7OxoIFC7Bw4UKVfXp6eujQoYNk776Uy%2BWIjY0VOsY7cXBwwIEDB2BoaKjc9vjxYzg5OUlubiGVH3buJKhnz544duwYLl68iIyMDJiZmaFdu3aiXoqCtN/o0aPh5uaG7Oxs9O3bF2ZmZsjIyMDPP/%2BMyMhI5bM/xeju3bsYMWIEFAoFLCwskJqaimXLlmHLli2imp8GQPmMXysrq0o3TSM5OVnoCO%2BssLCw2OoHMplM5TGSRK9i546Iys3vv/%2BO%2BfPn4%2BbNm8q5ak2aNMHcuXNF/XQKHx8f2NjY4KuvvoKOjg4KCwvh7%2B%2BPGzduYNOmTULHK7NTp04hJCQE6enp2LBhA4KDg%2BHr6yvZXwTFuNjvlClTULVqVSxcuBDvvfcecnNzMX/%2BfDx//hyrV68WOh5pKRZ3RFTukpKSlI%2B1EvudigDQuXNnxMXFoVq1aspt%2Bfn5cHBwEO0TKmJjY%2BHn5wcPDw%2BEhITgwIED8Pb2hpOTE77%2B%2Bmuh41UIMRZ3qamp%2BPzzz5GSkoKaNWsiOzsbjRs3xoYNGyTxOEmqGNL89YyIBGVtbQ1ra2uhY5SbKlWqICcnR%2BW5qzk5OaK8SeSFH374Ad9//z1at26N0NBQmJmZYcOGDRg%2BfLhkizsxeXkZno0bN%2BL8%2BfPIyspCx44dUatWLTx//lzAdKTtWNwREb1Fz5494evri7lz58LKygpJSUlYvHixcv6aGN27dw%2BtWrUCAOWcrvr16%2BPJkydCxqL/erEMz8teLO0ihSVeqGKxuCMieg2FQgFdXV34%2BvoqH07/4h/c7t27Y9q0aQInLLsGDRrg6NGj6NWrl3Lb6dOnX7tWIWmW1Jd4oYrF4o6I6DV69OiBIUOGYMiQIdi2bRuSkpKQlZUFS0tL0S8XMmXKFIwdOxZOTk54%2BvQpFixYgL1792LlypVCR6swYppiLrb1Bkm78IYKIqLX2LlzJ8LCwnDz5k307dsXw4cPx4cffih0rHKTkJCA8PBwpKSkoE6dOnB3d0fLli2FjlUmr3tUnK6uLoyMjFCtWjVcuXIFH330kYaTEWkeizsiore4ePEiwsLC8PPPP6N58%2BYYPnw4evfujSpVqggdrcxe92zZnTt3YtCgQQIkUs%2BHH36IwsJCAP%2Bbm/aCjo4OunTpgmXLlqncFEMkVSzuiIhK6eHDh4iIiMDOnTvx9OlTDB06FKNGjRI6VpnI5XKEhITAyMgIAHD//n3MmjULFy5cEN1yIQAQEhKC48ePY9asWbC2tkZycjKWL1%2BOFi1aoHfv3li3bh10dXWxfPlyoaMSVTgWd0RE7%2Biff/7B0qVLsWfPHtHesTh79mxcv34dW7ZsQVxcHBYuXIimTZvi22%2B/hZWVldDx3pmzszN27dqFmjVrKrc9fPgQAwcOxJEjR5CTkwMnJyecPXtWwJREmsEbKoiISuns2bPYuXMnjhw5gnbt2iEoKEjoSGW2ZMkSzJw5Ex9//DFyc3Ph6%2BsLLy8voWOVWXZ2drFhcplMpnzGtoGBgXLYlkjqWNwREb1BVlYWoqKiEBERgczMTPTv3x9RUVFo2LCh0NHU9u2332L69Om4d%2B8eBg8eLHQctXTt2hW%2Bvr6YPXu28vm//v7%2BcHBwwLNnz/Ddd99J6mYYojfhsCwR0WtMmDABx48fh4WFBYYOHQp3d3cYGhoKHUsttra2KjcbvPgn4OVtYhxq/ueff%2BDr64tTp04pr6VHjx5YsmQJEhISsGzZMqxatUoSRTnR27C4IyJ6jS%2B%2B%2BALDhg1D9%2B7diz0tQKzOnTsHACgsLISOjk6Jr7Gzs9NkpHKVnp6Oe/fuwcLCQvRrERKVFYs7IqJKyM3NDVu3bhV9J/IFuVwOd3d3uLq6qtxUQVQZlfxrGxERSVpGRobQEcrVkCFDsG/fPnTr1g2TJ0/Gr7/%2BKnQkIsGwc0dEVAnNnz8fV65cQZ8%2BfWBubq4y7DxgwAABk6nn9u3biIqKwt69e1GlShW4ublh/PjxQsci0igWd0RElZCjo2OJ22UymegfWp%2BXl4dDhw4hICAA2dnZiI%2BPFzoSkUaxuCMiIkk4c%2BYMdu/ejcOHD6NBgwYYOHAg%2Bvfvj/fff1/oaEQaxXXuiIgqqaSkJKSnpyuXQ1EoFLhx4wZGjBghbLAy6N69O3Jzc9G3b19s3boVLVq0AAA8ePBA4GREmsfOHRFRJbRhwwasXr1aOdeuqKgIMpkMzZo1Q1RUlMDp3l1kZCT69u0LAwMDAMDff/%2BNzZs3IyYmBhcvXhQ4HZFmsXNHRFQJhYaGIjAwENWqVcOxY8cwdepULFq0CHXr1hU6WpkMHDgQAHDhwgVs2rQJcXFxaNy4Mb766iuBkxFpHjt3RESVUJs2bRAfH4979%2B5h7NixiIqKwoMHD%2BDu7o5jx44JHe%2BdFBYW4sCBA9i8eTNu3ryJgoICrFu3Dl27dhU6GpEguM4dEVElZG5ujpycHNSuXRvJyckoKipCrVq18PDhQ6GjvZMtW7bA2dkZ/v7%2BcHZ2xi%2B//AJDQ0M0adJE6GhEguGwLBFRJdShQwdMnDgRa9asQfPmzbFq1Sro6emhdu3aQkd7J35%2Bfhg6dChmzJiBatWqCR2HSCuwc0dEVAnNmDED9evXR0FBAWbNmoWjR48iPDwcs2bNEjraO5k7dy7Onj2L7t27Y/Xq1UhPT5fMc4CJyopz7oiISPTOnDmDkJAQnDx5Es%2BfP8eSJUsgl8tRpUoVoaMRaRyLOyKiSiQoKOitrxHz47pSUlIQGhqKyMhI6OjooH///pgxY4bQsYg0isUdEVElYmtri/fffx/NmjVDST/%2BZTIZtm7dKkCy8vXs2TPExMQgNDRUlOv2EamDxR0RUSWyefNmREVFQaFQwMPDAwMGDICJiYnQsYioHLG4IyKqhC5fvozIyEgcOnQIbdu2hYeHB7p16wYdHd5nRyR2LO6IiCqx/Px8HDhwANHR0bhz5w5cXV0xdepUoWMRkRpY3BERVXK5ubnYv38/tmzZgsTERFy%2BfFnoSESkBi5iTERUSZ0%2BfRqRkZE4duwYbGxsMHjwYPTr10/oWESkJnbuiIgqkTt37iA6Ohp79uyBQqFAv3794ObmhqZNmwodjYjKCYs7IqJKpFmzZjA2NoZcLkePHj1QtWrxAZwOHToIkIyIyguLOyKiSsTW1vaN%2B2UyGa5du6ahNERUEVjcEREREUkIFzQiIiIikhAWd0REREQSwuKOiIiISEJY3BERERFJCIs7IiIiIglhcUdEREQkISzuiIiIiCSExR0RERGRhLC4IyIiIpKQ/weecL0UozSB7AAAAABJRU5ErkJggg%3D%3D\" class=\"center-img\">\n",
       "    <img src=\"data:image/png;base64,iVBORw0KGgoAAAANSUhEUgAAAncAAAIsCAYAAACQg49WAAAABHNCSVQICAgIfAhkiAAAAAlwSFlzAAAPYQAAD2EBqD%2BnaQAAADl0RVh0U29mdHdhcmUAbWF0cGxvdGxpYiB2ZXJzaW9uIDIuMS4wLCBodHRwOi8vbWF0cGxvdGxpYi5vcmcvpW3flQAAIABJREFUeJzs3X98zfX///HbNrNffmzZzvyaaGwLxRjehTAklZ8tK78TeVtmRClS7/KzmrybEW/0JpRpKL966y2in1TGpzC/ZoxhM8TMr/34/uG783ZsGGfn7Ozsfr1czuXsPF8/ns/na6/p3uN1Xuc45OXl5SEiIiIidsGxpAcgIiIiIsVH4U5ERETEjijciYiIiNgRhTsRERERO6JwJyIiImJHFO5ERERE7IjCnYiIiIgdUbgTERERsSMKdyIiIiJ2pFxJD0BESkZiYiLx8fH8/PPPnDp1iitXrnDfffdRr1492rZtS1hYGK6uriU9TBERuUsO%2BvoxkbInJiaGjz/%2BmNzcXCpUqECtWrVwdnYmPT2d1NRUAKpVq8asWbNo0KBBCY9WRETuhsKdSBmzYsUKxo0bh7u7O1OnTqVjx444OTkZlx86dIhx48axc%2BdOvLy8WL9%2BPffdd18JjlhERO6G3nMnUsbMmTMHgNdee40nnnjCJNgB%2BPv78/HHH1OlShXOnj3Lp59%2BWhLDFBGRe6RwJ1KGnD9/nqNHjwLQqFGjW65333330aFDBwD%2B7//%2BzypjExGR4qEbKkTKkHLl/vcnv3nzZurXr3/LdSMjI%2Bnfvz9VqlQxtr3%2B%2BuusWrWKN954g9atWzNjxgx%2B/fVXrl69yv3330%2BPHj147rnncHFxKXSfv/76K4sXL2bHjh2cO3eOSpUq0bhxY/r168cjjzxS6Dbnz59n2bJlbNmyhYMHD5KZmYmbmxu1atWiXbt29O/fn8qVK5tsExgYCMCPP/7ItGnT%2BPbbb3F0dKRBgwZ88sknvPnmm6xatYpJkybRrFkzZs6cyS%2B//MKFCxeoWbMmzz77LAMHDsTBwYFvvvmGRYsWsXfvXnJzcwkKCmLYsGG0adOmwFgvX77MihUr2LhxI/v27eP8%2BfOUL1%2Be6tWr06pVK1544QV8fX1NtgkNDeX48eOsX7%2BejIwM5s%2Bfz65du8jKyqJmzZp07tyZF198EQ8Pj1v%2BrkREbqT33ImUMc8//zw7duzAwcGBbt26ERYWRpMmTQpcni1Mfrjr2bMnGzZsICsri3r16pGdnU1SUhIATZs2Ze7cuVSsWNFk2%2BjoaObNmwdA5cqVqVmzJmlpaaSnpwMwePBgXn31VZNtkpOTGThwICdOnKBcuXLUqlULNzc3jh8/zrlz5wCoU6cOK1asMAk/%2BeGuSZMmJCQkEBAQwJkzZ2jRogXTp083mcfXX39NdnY2/v7%2BZGRkGMfz0ksv4eDgwNy5c6lUqRJ%2Bfn4cPnyYrKwsHBwc%2BNe//sVjjz1m7PPMmTMMGDCA/fv34%2BDgQK1atahYsSKnTp0y7rNKlSqsXLmSqlWrGrfLD3cvvPACCxcupHz58tSuXZu//vqLkydPAhAcHMzSpUuL9DsSESFPRMqU3bt35zVu3DgvICDA%2BGjSpEnekCFD8ubOnZu3c%2BfOvJycnEK3HTt2rHGbdu3a5e3Zs8e4bMeOHXmPPvpoXkBAQN6ECRNMtvv888/zAgIC8kJCQvK%2B%2BuorY3tubm7eunXrjONZvny5yXZ9%2B/bNCwgIyOvVq1feqVOnTLZbtWpVXlBQUF5AQEDekiVLTLbLH2PDhg3ztm/fnpeXl5eXk5OTd/bs2QLzeP755/PS0tKM67z%2B%2But5AQEBeUFBQXmBgYF5CxYsMB6PM2fO5HXv3j0vICAgr2/fvoUem44dO%2BYdPnzYZNnWrVvzGjVqlBcQEJA3bdo0k2Xt2rUzjuX111/PO3/%2BvHGOS5YsMS7773//W%2BjvRETkZnrPnUgZU79%2Bfb744guaNm1qbMvMzGTLli1Mnz6dXr160apVK2bMmMGlS5cK3YejoyOzZ8/mwQcfNLYFBwfz3nvvAfDFF19w6tQpAK5evcrMmTMBmDJlCl27djVu4%2BDgwJNPPmms2M2cOZPs7GwAMjIyOHDgAAATJ07EYDCYbNe9e3eaN28OwL59%2BwodZ%2BfOnWnWrJlxzJ6enibLy5Urx4cffoiPj49xnZdeegmA3NxcunXrxqBBg3B0vP5PpZeXF/379wdgz549xv1kZ2fz22%2B/4eDgwBtvvEHt2rVN%2BmndujVPPvkkAPv37y90rEFBQUyZMsVY8XRwcKBPnz7GKuTvv/9e6HYiIjdTuBMpg%2BrWrctnn33Gl19%2ByfDhwwkODsbZ2dm4PCMjgzlz5tC1a1fjpcEb/e1vfyMoKKhAe6tWrahZsya5ubls3rwZgISEBE6fPo2Hhwft27cvdDxdu3bF0dGRU6dOGUNTlSpV%2BOWXX9i1axcBAQEFtsnJyaFChQrA9fe6FebGAFuYwMBAk0ukADVq1DD%2BXNj76vJDZmZmprGtXLlybNy4kV27dtG2bdsC2%2BTl5eHu7n7bsbZt2xYHB4cC7Q888AAAFy5cuO1cRETy6YYKkTLswQcf5MEHHyQyMpJLly6xY8cOfvjhB7766isyMjI4evQoUVFRxMXFmWz38MMP33KfgYGBHDt2jOTkZABj9e3atWv06dPnlts5OTmRm5tLUlKSyf5dXV05ceIEu3bt4ujRo6SkpHDo0CH27t1LVlYWcL3KVpj8itytVKtWrUBb%2BfLljT97eXkVWH7jTSk3c3FxISMjg507d5KcnMyxY8dISkpi7969/PXXX7cd642VyRvlf0tITk7OrSciInIDhTsRAcDNzY2WLVvSsmVLoqKiGDduHOvWrWPnzp3s3r3b5Jsqbr479Ub5Farz588D/6s4Xb16lR07dtxxHPnbASQlJfH%2B%2B%2B%2BzZcsWk1BUoUIFQkJCSEtLIzEx8Zb7utPXp7m5ud12ef7l2KJIT0/nvffe4z//%2BQ/Xrl0z6eOhhx4iJyfntpdWbwyVhcnTvW8iUkQKdyJlyFtvvcUvv/xCjx49GDZs2C3Xc3V15d133%2BWbb77h2rVrHD582CTc5VfMCpN/uTL/I1TyA1SDBg1YuXJlkceakZFB3759ycjIoHr16vTq1Yv69evzwAMPULNmTRwcHBg9evRtw521XLlyhQEDBnDo0CE8PT15/vnnadiwIf7%2B/tSqVQsnJydmzJih982JiFUo3ImUIVeuXOHIkSNs3LjxtuEOrlfHPDw8OHfuXIGvH8u/1FqY/LBVt25d4PpHlcD1jzXJzs4u9LJmXl4e27Zto2rVqlSvXp3y5cuzYsUKMjIy8PT0ZMWKFYV%2BBVr%2BTRslbePGjRw6dIhy5coRFxdX4IYKoND3LoqIWIJuqBApQ/LvVP3zzz/vWEX74YcfOHfuHJ6engW%2BzWLr1q3Gz2670ebNmzlx4gTly5cnNDQUgGbNmlGxYkUuXrx4yz7XrFnDgAED6Ny5szEEHTt2DIDq1asXGuwOHjzIzp07gZJ/P1r%2BWD08PAoNdqdPn%2Ba7774DSn6sImL/FO5EypCWLVvSqVMnAN58800mT55sDCb5rly5wooVKxg5ciQAUVFRBb4dISsri4iICE6cOGFs27ZtG2%2B88QZw/QOA8z/Sw93d3fjxIpMnT2bFihUm75/buHEjb7/9NnD9o0tq1aoF/O8u0cTERDZs2GBcPy8vj61btzJ48GDje9tu9ZEt1pI/1r/%2B%2BotFixaZvD9u586dvPDCC8YPXS7psYqI/dNlWZEyJjo6Gnd3d7788ks%2B/fRTPv30U6pXr06VKlW4cuUKycnJXL16FWdnZ0aPHk3v3r0L7KN27drs3buXDh06EBAQQFZWlvHu2KeffpqhQ4earD9kyBBSUlJYvnw548aN44MPPqBmzZqcOnWKtLQ04Pq3SUyaNMm4TVhYGJ999hlHjhxhxIgR1KhRAy8vL06cOEFGRgbOzs40b96c7du3l/jl2dDQUIKDg0lISGDKlCnMmzcPX19f0tPTOXXqFA4ODjz66KP89NNPpKWlkZeXV%2BjHnoiIFAeFO5Eypnz58kybNo0%2Bffqwfv16tm3bxqlTp0hMTMTNzY06derQqlUrwsLCjBWpmz300ENER0cTExPD77//Trly5WjevDnPP/%2B88cN6b%2BTg4MDEiRPp1KkTy5YtY%2BfOnezduxcXFxcaN27M008/TXh4uMkdoxUqVCA%2BPp558%2BaxefNmjh07xunTp6latSpt27ZlwIABuLu706FDBxITE0lNTaV69eoWO2634%2BTkxMKFC1m8eDHr1q0jJSWF/fv34%2BPjw5NPPkmfPn1o0KABLVq04Ny5c%2BzYseOOn8EnInKv9N2yIlJk%2Bd/J2qVLF6Kjo0t6OCIiUgi9505ERETEjijciYiIiNgRhTsRERERO6JwJyIiIlJEZ86coWPHjmzbtu2W62zZsoUuXbrQuHFjOnfuzObNm02Wz5s3j8cee4zGjRvTr18/kpKSinWMCnciUmTTpk1j3759uplCRMqk33//nfDwcI4ePXrLdZKTk4mMjCQqKorffvuNyMhIRo4cafzIplWrVrF48WIWLFjAtm3baNCgASNGjCjW749WuBMRERG5g1WrVjFmzBhGjRp1x/VCQkLo0KED5cqV48knn6RZs2bExcUBsHz5cnr37k29evVwcXFh9OjRpKam3rYSeLcU7kRERMTupaWlsXv3bpNH/oeoF0WrVq3473//W%2Bhned7o4MGDBAQEmLTVrVvX%2BL3bNy93dnamdu3axuXFQR9iXNKs9Sn1derAgQNQrx4cPmydPi1NcyodrDmnm/5BtZiaNeGbb%2BDxx%2BGmr28rdvv3W3b/oPOuOFjj3LPmeQewb5/l%2B7gVC/y3MS4mhtjYWJO24cOHExkZWaTtfXx8irTexYsXcXNzM2lzdXUlKyurSMuLg8JdWeHpCU5O15/theZUOtjjnCpVuj6nSpVKeiTFwx5/R/Y4J3s776wsPDyc0NBQk7aiBra74ebmxuXLl03aLl%2B%2BbPyO7jstLw4KdyIiImJbHIv/XWMGgwGDwVDs%2B71ZQEAAu3fvNmk7ePAgDRs2BKBevXocOHCAdu3aAXDt2jWSk5MLXMo1h95zJyIiIlJMunbtyvbt21m/fj3Z2dmsX7%2Be7du3061bNwCeeeYZlixZQmJiIleuXGH69Ol4e3sTEhJSbGNQ5U5ERERsiwUqd5YUHBzMO%2B%2B8Q9euXfH392fWrFlER0czfvx4atSowcyZM6lTpw4AYWFhXLhwgZdffpkzZ87w0EMPMXfuXJydnYttPAp3IiIiIndh3003myQkJJi8bt26Na1bty50WwcHBwYNGsSgQYMsNj6FOxEREbEtpaxyZ2sU7kRERMS2KNyZRUdPRERExI6ociciIiK2RZU7s%2BjoiYiIiNgRVe5ERETEtqhyZxaFOxEREbEtCndm0dETERERsSOq3ImIiIhtUeXOLDp6IiIiInZElTsRERGxLarcmUXhTkRERGyLwp1ZdPRERERE7IgqdyIiImJbVLkzi46eiIiIiB1R5U5ERERsiyp3ZrGbcLd7927mzp3L9u3buXLlCt7e3nTo0IGhQ4fi6elZ0sMTERGRolK4M4tdHL3NmzfTu3dv6tSpw1dffcWOHTuYM2cOKSkpdO/enVOnTpX0EEVERESsotSHu6tXr/Lmm28ydOhQRo0aha%2BvLw4ODvj7%2BxMTE0PVqlWZOnUqK1eupFevXrz11ls0adKEVq1aMXv2bPLy8oz7%2Beijj2jfvj3NmzdnyJAhHDlyxNhPYGAgixcvplOnTgQHB/Pcc8%2Bxb9%2B%2Bkpq2iIiI/XJ0LP5HGVLqZ5uQkMDp06fp3r17gWWOjo6EhYWxceNGcnJy2LVrF25ubvz88898/PHHLFq0iPj4eABmzJjBd999x8KFC/n%2B%2B%2B9p1KgRgwYN4sqVK8b9rVu3jiVLlrB161bc3Nx4//33rTZPERGRMkPhziyl/j13aWlpAHh7exe63GAwcO3aNc6ePYunpydjxozB2dmZhx56iPDwcFavXk1YWBjLli0jJiYGPz8/AF5%2B%2BWWWL1/Od999R6dOnQDo168fPj4%2BAHTu3Jm5c%2Bfe9VjT09NN2nzq1MFgjfcEBgWZPtsDzal0sOac7r/f8n0APPCA6bMleXhYvg%2Bdd%2BazxrlnzfNOSrVSH%2B7yw1Zqaiq1a9cusPzYsWM4Ozvj5eVFjRo1cHZ2Ni6rVq0aGzZs4MyZM2RlZREVFYXjDen%2B2rVrHD9%2B3Pj6xgBZrlw54yXdooqLiyM2NtakbXhUFJFRUXe1H7N89pn1%2BrIWzal0sMc5TZ9e0iMoXvb4O7LHOdnbeVeYMlZpK26lPtw1bdoUHx8f4uPjGTNmjMmynJwcVq5cSWhoKE5OTqSlpZGXl4eDgwNwPfhVr14dLy8vXFxc%2BOSTT2jcuLFx%2B6SkJHx9fYttrOHh4YSGhpq0%2BXTpAosWFVsftxQUdP0fud69ITHR8v1Zg%2BZUOlhzTtas3E2fDqNHQ1KSZfu64b2/FqPzznzWqtxZ67wDWLXK8n2IRZT6cOfs7MzUqVOJjIzEycmJ3r174%2BPjQ1JSEtOnT%2BfkyZPMnDmTn3/%2BmfT0dP71r38xaNAg9u7dyxdffME//vEP43vzpk%2BfzgcffIDBYOCrr75i/PjxxMfHU79%2B/WIZq8FgwGAwmDYePlws%2By6yxERISLBun5amOZUO1pjTxYuW3f/NkpJgzx7L9rF/v2X3fyOdd/fOmueeNc67kqbKnVlKfbgDaN26NcuWLWPu3Lk888wzZGZm4u3tTfv27Zk8eTL33XcfcP0S7rFjx2jVqhUeHh5ERUXx5JNPAjB27FhmzpxJ7969OXfuHH5%2BfsTExBRbsBMREZEiUrgzi12EO4CgoCBmzJhx23XKly/PxIkTmThxYoFlLi4ujBkzpsCl3Xw3f%2BxJz5496dmz570PWERERMQC7CbciYiIiJ1Q5c4sOnoiIiIidqTMVO50GVVERKSUUOXOLGUm3ImIiEgpoXBnFh09ERERETuiyp2IiIjYFlXuzKKjJyIiImJHVLkTERER26LKnVkU7kRERMS2KNyZRUdPRERExI6ociciIiK2RZU7s%2BjoiYiIiNgRVe5ERETEtqhyZxaFOxEREbEtCndm0dETERERsSOq3ImIiIhtUeXOLDp6IiIiInZElTsRERGxLTZYucvIyGDChAls374dJycnunbtytixYylXzjRKDR48mN9//92kLSsri/DwcN59911Onz5Ny5YtcXd3Ny738vJi06ZNxTZWhTsRERGxLTYY7kaOHImvry/ff/89p0%2BfZtiwYSxcuJDBgwebrDd//nyT1/Hx8cTGxjJ8%2BHAA/vjjD2rUqFGsYe5mtnf0RERERGzIkSNH2L59O6%2B%2B%2Bipubm74%2BfkRERHB0qVLb7tdUlISEydOJDo6GoPBAFwPdw0bNrToeFW5ExEREdtigcpdWloa6enpJm0%2BPj7G0HU7Bw4cwNPTE19fX2Obv78/qampnD9/nkqVKhW63TvvvEP37t0JCQkxtv3xxx/89ddfPP3005w%2BfZqHHnqIsWPHUrdu3XucWUEKdyJiP3JzrdtPbq71%2BhTbZo3zQOedWeLi4oiNjTVpGz58OJGRkXfc9uLFi7i5uZm05b/OysoqNNz99ttv7Nq1i%2BjoaJP2SpUqUbduXYYMGUL58uX56KOPeOGFF1i/fj0VK1a822kVSuFOREREbIsFKnfh4eGEhoaatPn4%2BBRpW3d3dy5dumTSlv/aw8Oj0G3i4uLo3LlzgT6mT59u8vqNN95gxYoV/Pbbb7Rr165I47kThTsRERGxLRYIdwaDoUiXYAtTr149zp07x%2BnTp/H29gbg0KFDVK1atdBqW3Z2Nt9%2B%2By2zZs0yac/MzGTWrFn07duXGjVqAJCTk0N2djaurq73NLbC6IYKERERkduoXbs2TZs2ZcqUKWRmZpKSksLs2bMJCwsrdP19%2B/Zx5coVmjRpYtJeoUIFfvrpJ9577z0uXLjAxYsXmThxIjVr1jR5X565FO5ERETEtjg6Fv/DTDExMWRnZ9O%2BfXt69epF69atiYiIACA4OJjVq1cb101JSaFy5cq4uLgU2M/s2bPJzc2lQ4cOtG7dmvT0dObNm4ezs7PZY8yny7IiIiIid%2BDt7U1MTEyhyxISEkxeP/HEEzzxxBOFrlujRo0CN3YUN4U7ERERsS02%2BCHGpYnCnYiIiNgWhTuz6OiJiIiI2BFV7kRERMS2qHJnFh09ERERETuiyp2IiIjYFlXuzKJwJyIiIrZF4c4sOnoiIiIidkSVOxEREbEtqtyZReFOREREbIvCnVl09ERERETsiCp3IiIiYltUuTOLjp6IiIiIHVHlTkRERGyLKndmUbgTERER26JwZxYdPRERERE7YrfhLjQ0lJUrVxZoX7lyJaGhoaSmphIcHExqauod97Vt2zYCAwMtMUwRERG5maNj8T/KkDJ7WbZ69eokJCSU9DBEREREilXZirI3OHbsGIGBgRw7dsz4%2BsUXX6RJkyY88cQTLFy4sEC1bsGCBXTs2JHGjRszYsQIMjMzS2LoIiIi9k2VO7PYdeXunXfeYcqUKSZt165do0qVKiZtOTk5DB06lIcffpgffviBs2fP8vLLLxfY3/Hjx1m7di3nzp3j2WefZenSpQwdOtSicxARESlzylgYK252He7efvttevbsadK2cuVKYmNjTdp27txJcnIyX3zxBe7u7ri7uzNq1Cheeuklk/UiIyNxcXHB19eXZs2acfTo0bsaT1paGunp6SZtPnXqYPD0vKv93JOgINNne6A5lQ7WnJOfn%2BX7AHjgAdNnS6pY0fJ96LwznzXOPWued1Kq2XW4K6qTJ0/i5eWFu7u7sa1mzZoF1vPy8jL%2B7OzsTE5Ozl31ExcXVyBYDo%2BKIjIq6i5HbIbPPrNeX9aiOZUO9jinGTNKegTFyx5/R/Y4J3s77wqjyp1ZFO64fnPFmTNnuHTpEm5ubgBFuov2boWHhxMaGmrS5tOlCyxaVOx9FRAUdP0fud69ITHR8v1Zg%2BZUOlhzTtas3M2YAaNGQVKSZftKSbHs/kHnXXGwVuXOWucdwFdfWb4PsQiFO6BRo0bUrVuXadOm8frrr3P%2B/HliYmKKvR%2BDwYDBYDBtPHy42Pu5rcREsLe7hDWn0sEac7pwwbL7v1lSEuzZY9k%2BDh607P5vpPPu3lnz3LPGeVfSVLkzi44e4OjoSExMDMnJyTzyyCMMGDCAZs2a4ezsXNJDExERKXt0t6xZ7LZyt2nTpkLbe/bsabzJYt%2B%2BfQBcvnyZEydO8Mknn%2BDk5GTcfs2aNQC0aNHCuG6%2BadOmWWroIiIiIvesbEXZW3B2dmbkyJEsX76c3NxcMjIy%2BOSTT2jXrl1JD01ERKTsUeXOLGVrtrfg5OTErFmzWLVqFc2aNaNLly7Uq1eP119/vaSHJiIiInJX7Pay7N0KCQlh%2BfLlJT0MERERKWOVtuKmcCciIiK2ReHOLDp6IiIiInZElTsRERGxLarcmUVHT0RERMSOqHInIiIitkWVO7Mo3ImIiIhtUbgzi46eiIiIiB1R5U5ERERsiyp3ZtHRExEREbEjqtyJiIiIbVHlziwKdyIiImJbFO7MoqMnIiIiYkdUuRMRERHbosqdWXT0REREROyIwp2IiIjYFkfH4n%2BYKSMjg4iICEJCQmjRogWTJ08mOzu70HUHDx7MQw89RHBwsPGxdetWAHJycnjvvfd49NFHCQ4OZtiwYaSlpZk9vhsp3ImIiIhtscFwN3LkSNzd3fn%2B%2B%2B%2BJj4/n559/ZuHChYWu%2B%2Beff7JgwQISEhKMj8ceewyAjz/%2BmB9//JEVK1bw/fff4%2Brqyptvvmn2%2BG6kcCciIiJyG0eOHGH79u28%2BuqruLm54efnR0REBEuXLi2wbkpKCn/99Rf169cvdF9ffPEFQ4YMoVq1alSoUIHx48ezdetWUlJSim28uqFCREREbIsFbqhIS0sjPT3dpM3HxweDwXDHbQ8cOICnpye%2Bvr7GNn9/f1JTUzl//jyVKlUytv/xxx94eHgwatQo/vjjD7y9vRk4cCBhYWFcuHCBkydPEhAQYFzf29ubypUrs2/fPvz8/Iphpgp3ImJPrHWHXX4/xXS5R%2ByANc4DnXdmiYuLIzY21qRt%2BPDhREZG3nHbixcv4ubmZtKW/zorK8sk3F29epXGjRszatQo6tWrx7Zt24iMjMTDw4Pg4GAA3N3dTfbl6urKxYsX72lehVG4ExEREdtigfAaHh5OaGioSZuPj0%2BRtnV3d%2BfSpUsmbfmvPTw8TNq7d%2B9O9%2B7dja9btWpF9%2B7d%2Bfrrr3n00UdNts13%2BfLlAvsxh8KdiIiI2BYLhDuDwVCkS7CFqVevHufOneP06dN4e3sDcOjQIapWrUrFihVN1o2Pj8fDw4POnTsb265evYqLiwuVK1fG19eXgwcPGi/Npqenc%2B7cOZNLteZSXVdERETkNmrXrk3Tpk2ZMmUKmZmZpKSkMHv2bMLCwgqsm5mZycSJE9mzZw%2B5ubl89913rF27lvDwcAB69uzJxx9/TEpKCpmZmUyZMoXmzZtTq1atYhuvKnciIiJiW2zwPYUxMTG8%2B%2B67tG/fHkdHR7p3705ERAQAwcHBvPPOO3Tt2pUBAwaQlZXF8OHDycjIwM/Pj/fee4%2BQkBAAXn75ZbKzs%2BnTpw8XL16kRYsW/POf/yzWsSrciYiIiNyBt7c3MTExhS5LSEgw/uzg4EBERIQx%2BN3M2dmZMWPGMGbMGIuMExTuRERExNbYYOWuNFG4ExEREduicGcWHT0RERERO6LKnYiIiNgWVe7MonAnIiIitkXhziw6eiIiIiJ2RJU7ERERsS2q3JlFR09ERETEjqhyJyIiIrZFlTuzKNyJiIiIbVG4M4uOnoiIiIgdUeVOREREbIsqd2bR0RMRERGxI6rciYiIiG1R5c4sCnciIiJiWxTuzKKjJyIiImJHykS4CwwMZNu2bSU9DBERESkKR8fif5QhZWu2IiIiInZO4Q744osveOqpp2jSpAldunRh9erVACxZsoRu3boZ11u5ciWBgYEcOnQIgPMKLN%2BAAAAgAElEQVTnz9OwYUNSUlJKZNwiIiJ2SZU7s5T5GypWrlzJtGnTiI2NpXnz5mzfvp3hw4fj5uZGhw4dmDRpEqdOncLX15cffvgBV1dXfvzxR/z9/dmyZQv%2B/v74%2BfmV9DRERETsRxkLY8WtzIe7FStWEB4eziOPPALAI488Qnh4OMuWLaNjx440aNCA77//np49e/LTTz/x3HPP8dNPP9G/f382bdpEx44di9xXWloa6enpJm0%2Bdepg8PQs1jkVKijI9NkeaE6lgzXndP/9lu8D4IEHTJ8tycPD8n3ovDOfNc49a553UqqV%2BXB3%2BvTpApW3mjVrsmnTJgA6duzI1q1bCQgIwMvLix49etCnTx8uX77M1q1biYiIKHJfcXFxxMbGmrQNj4oiMirK/IkU1WefWa8va9GcSgd7nNP06SU9guJlj78je5yTvZ13hVHlzixlPtzVrFmTo0ePmrSlpKTg4%2BMDQIcOHZg/fz4BAQG0bNmSoKAg3NzcmD9/Pt7e3tSrV6/IfYWHhxMaGmrS5tOlCyxaZP5E7iQo6Po/cr17Q2Ki5fuzBs2pdLDmnKxZuZs%2BHUaPhqQky/Z15Ihl9w8674qDtSp31jrvAFatsnwfYhFlJtydOXOGkydPmrR5e3sTFhbG%2BPHjeeyxx2jevDm//vorcXFxvPXWWwDUrVuXKlWqsGTJEqZOnQrAo48%2Byvz58%2BnXr99djcFgMGAwGEwbDx%2B%2B90ndi8RESEiwbp%2BWpjmVDtaY08WLlt3/zZKSYM8ey/axf79l938jnXf3zprnnjXOu5Kmyp1Zyky4GzlyZIG29evX07lzZzIzM5k0aRKpqan4%2Bvry2muv0b17d%2BN6HTt2ZOHChTRv3hyAVq1a8dVXX93V%2B%2B1ERESkiBTuzFImwt2%2Bfftuu/zZZ5/l2WefveXyMWPGMGbMGOPrrl270rVr12Ibn4iIiEhxKRPhTkREREoRVe7MoqMnIiIiYkdUuRMRERHbosqdWRTuRERExLYo3JlFR09ERETEjqhyJyIiIrZFlTuz6OiJiIiI2BFV7kRERMS2qHJnFoU7ERERsS0Kd2bR0RMRERGxI6rciYiIiG1R5c4sOnoiIiIidkSVOxEREbEtqtyZReFOREREbIvCnVl09ERERETsiCp3IiIiYltUuTOLjp6IiIiIHVHlTkRERGyLDVbuMjIymDBhAtu3b8fJyYmuXbsyduxYypUrGKU%2B//xzFi5cSFpaGgaDgf79%2B9OnTx8AcnNzadq0KXl5eTg4OBi3%2BfHHH3F3dy%2BWsSrciYiIiG2xwXA3cuRIfH19%2Bf777zl9%2BjTDhg1j4cKFDB482GS9jRs38uGHHzJv3jwaNWrEzp07eemll/D29qZTp04cPHiQa9eusWPHDsqXL2%2BRsdre0RMRERGxIUeOHGH79u28%2BuqruLm54efnR0REBEuXLi2w7qlTpxgyZAiNGzfGwcGB4OBgWrRowa%2B//grAH3/8QWBgoMWCHahyJyIiIrbGApW7tLQ00tPTTdp8fHwwGAx33PbAgQN4enri6%2BtrbPP39yc1NZXz589TqVIlY3v%2B5dd8GRkZ/Prrr7zxxhvA9XB35coVnnnmGY4fP46/vz%2BjR4%2BmSZMm5kzPhMKdiIiI2BYLhLu4uDhiY2NN2oYPH05kZOQdt7148SJubm4mbfmvs7KyTMLdjdLT0xk6dCgNGzbk6aefBsDV1ZWHH36YqKgoKleuzNKlS3nxxRdZvXo1fn5%2B9zK1AhTuRERExO6Fh4cTGhpq0ubj41Okbd3d3bl06ZJJW/5rDw%2BPQrfZuXMnUVFRhISEMHXqVOONF6%2B//rrJei%2B%2B%2BCIrV65ky5Yt9O3bt0jjuROFOxEREbEtFqjcGQyGIl2CLUy9evU4d%2B4cp0%2BfxtvbG4BDhw5RtWpVKlasWGD9%2BPh4Jk2axIgRIxg0aJDJshkzZtCpUyfq169vbLt69SouLi73NLbC6IYKERERkduoXbs2TZs2ZcqUKWRmZpKSksLs2bMJCwsrsO6GDRv4xz/%2BwcyZMwsEO4D9%2B/czefJk0tPTuXr1KrGxsWRmZtKxY8diG6/CnYiIiNgWR8fif5gpJiaG7Oxs2rdvT69evWjdujUREREABAcHs3r1agBiY2PJyclhxIgRBAcHGx9vvfUWAFOnTqVWrVp069aNFi1asH37dv7973/j6elp9hjz6bKsiIiI2BYb/Jw7b29vYmJiCl2WkJBg/HnNmjW33Y%2BnpydTp04t1rHdzPaOnoiIiIjcM1XuRERExLbYYOWuNNHRExEREbEjqtyJiIiIbVHlziwKdyIiImJbFO7MoqMnIiIiYkdUuRMRERHbosqdWXT0REREROyIKnciIiJiW1S5M4vCnYiIiNgWhTuz6OiJiIiI2BFV7kRERMS2qHJnFh09ERERETuiyp2IiIjYFlXuzKJwJyIiIrZF4c4sOnoiIiIidsQuwt3hw4cZO3Ysjz32GMHBwXTo0IHo6GguXrwIQGBgINu2bSvhUYqIiEiRODoW/6MMKfWz3bFjBz169KBGjRp8%2BeWXJCQkMG/ePHbt2sWgQYPIyckp6SGKiIiIWE2pD3dvvfUW3bt3Z8SIEdx3330A1KlThxkzZlClShVSUlJM1j979iwTJkygVatWtGjRgqFDh5KcnGxcPnPmTNq0aUPz5s155pln%2BPbbb43Ldu/eTb9%2B/WjWrBmPP/44CxcuJC8vzyrzFBERKTNUuTNLqb6h4ujRoxw4cIB//OMfBZZ5e3sze/bsAu0jRozA0dGRVatWUbFiRT766CMGDhzI2rVr%2BfPPP4mLi2PlypX4%2BPgQFxfH%2BPHjeeyxxzhz5gwDBgxg1KhRfPLJJxw5coSIiAhcXV157rnnijTetLQ00tPTTdp86tTB4Ol5T/O/K0FBps/2QHMqHaw5p/vvt3wfAA88YPpsSR4elu9D5535rHHuWfO8K2llLIwVN4e8Ulx62rlzJ%2BHh4WzYsIHatWvfcr3AwEA%2B/fRTqlevTocOHVi3bh1169YFICcnhzZt2vDGG29QvXp1%2Bvfvz9ChQ2nXrh1BQUE4Ojri4ODAvHnz2LhxI3Fxccb9xsXFsWTJEtasWVOk8c6cOZPY2FiTtuEREURGRd395EVEROzV4cPFv886dYp/nzaqVFfufHx8AEhPTy803J0%2BfRpvb2%2BT1wB%2Bfn7GNicnJ6pVq8bx48d56qmnmDlzJosXL2b%2B/Pm4urrSr18/hg0bxvHjx9m9ezchISHGbXNzc3FyciryeMPDwwkNDTWdQ5cusGhRkfdxz4KC4LPPoHdvSEy0fH/WoDmVDtackzUrd9Onw%2BjRkJRk2b6OHLHs/kHnXXGwVuXOWucdwKpVlu/jVlS5M0upDnc1atQgICCA9evX06xZM5NlGRkZtGvXjqlTp5qsD9cv59arVw%2B4XrlLTU3Fx8eH1NRUqlSpwoIFC7h69So///wzw4cPp0GDBlStWpUWLVqwYMEC4/7Onj1rvCO3KAwGAwaDwbTREv93cjuJiZCQYN0%2BLU1zKh2sMae7%2BHssFklJsGePZfvYv9%2By%2B7%2BRzrt7Z81zzxrnnZRqpT4aT5gwgRUrVhAbG8vZs2fJy8tj7969/P3vf6dBgwZ06tTJuK7BYKBNmzZMmjSJ9PR0Ll%2B%2BTHR0NDk5ObRr144//viDwYMHk5iYSPny5alSpQoAXl5edOnShZ07d7J69Wqys7NJS0vj73//O9OmTSupqYuIiNgn3VBhllJduQNo3rw5S5YsYc6cOTz11FNcunQJb29vnnjiCYYOHYqzs7PJ%2Bu%2B//z7R0dH06NGDrKwsGjduzKJFi/D09KRTp04kJyczbNgwzp49S5UqVRg3bhyNGjUCYP78%2BURHRzNp0iScnJxo27Yt48ePL4lpi4iI2K8yFsaKW6kPdwAPP/xwoXfG5tu3b5/xZ09PTyZNmnTLdYcOHcrQoUMLXRYcHMzSpUvvfaAiIiIiFmYX4U5ERETsiCp3ZtHRExEREbEjqtyJiIiIbVHlziwKdyIiImJbFO7MoqMnIiIiYkdUuRMRERHbosqdWXT0REREROyIKnciIiJiW1S5M4vCnYiIiNgWhTuz6OiJiIiI2BFV7kRERMS2qHJnFoU7ERERsS0Kd2bR0RMRERGxI6rciYiIiG1R5c4sOnoiIiIidkSVOxEREbEtqtyZReFOREREbIvCnVl09ERERETuICMjg4iICEJCQmjRogWTJ08mOzu70HW3bNlCly5daNy4MZ07d2bz5s0my%2BfNm8djjz1G48aN6devH0lJScU6VoU7ERERsS2OjsX/MNPIkSNxd3fn%2B%2B%2B/Jz4%2Bnp9//pmFCxcWWC85OZnIyEiioqL47bffiIyMZOTIkZw6dQqAVatWsXjxYhYsWMC2bdto0KABI0aMIC8vz%2Bwx5lO4ExEREbmNI0eOsH37dl599VXc3Nzw8/MjIiKCpUuXFlh31apVhISE0KFDB8qVK8eTTz5Js2bNiIuLA2D58uX07t2bevXq4eLiwujRo0lNTWXbtm3FNl69505ERERsiwXec5eWlkZ6erpJm4%2BPDwaD4Y7bHjhwAE9PT3x9fY1t/v7%2BpKamcv78eSpVqmRsP3jwIAEBASbb161bl8TEROPyIUOGGJc5OztTu3ZtEhMT%2Bdvf/nZPc7uZwl1Ju%2BkEsJj77//f88WLlu0rN9ey%2B8/n5/e/5wsXLNuXtd7ca83fk7VYc07791t2//k8PK4/Hzli%2BT5r1bLs/gGqVfvfc0aG5ftzdbV8H9b%2BW7LGuWfN866E5eFQ7PuMi4sjNjbWpG348OFERkbecduLFy/i5uZm0pb/OisryyTcFbauq6srWVlZRVpeHBTuRERExO6Fh4cTGhpq0ubj41Okbd3d3bl06ZJJW/5rj/zQ/f%2B5ublx%2BfJlk7bLly8b17vT8uKgcCciIiI2xRIXgAwGQ5EuwRamXr16nDt3jtOnT%2BPt7Q3AoUOHqFq1KhUrVjRZNyAggN27d5u0HTx4kIYNGxr3deDAAdq1awfAtWvXSE5OLnAp1xy6oUJERETkNmrXrk3Tpk2ZMmUKmZmZpKSkMHv2bMLCwgqs27VrV7Zv38769evJzs5m/fr1bN%2B%2BnW7dugHwzDPPsGTJEhITE7ly5QrTp0/H29ubkJCQYhuvwp2IiIjYlNzc4n%2BYKyYmhuzsbNq3b0%2BvXr1o3bo1ERERAAQHB7N69Wrg%2Bo0Ws2bNYu7cuTRr1ozZs2czc%2BZM6tSpA0BYWBgDBw7k5Zdf5m9/%2Bxt79uxh7ty5ODs7mz/I/0%2BXZUVERMSmWOu%2BvLvh7e1NTExMocsSEhJMXrdu3ZrWrVsXuq6DgwODBg1i0KBBxT7GfKrciYiIiNgRVe5ERETEpthi5a40UeVORERExI6ociciIiI2RZU78yjciYiIiE1RuDOPLsuKiIiI2BFV7kRERMSmqHJnHlXuREREROyIKnciIiJiU1S5M4/CnYiIiNgUhTvz6LKsiIiIiB1R5U5ERERsiip35lHlTkRERMSOqHInIiIiNkWVO/Mo3ImIiIhNUbgzjy7LioiIiNgRmwp3gwYNYvjw4YUuW758OY8%2B%2BihXr1695fbHjh0jMDCQY8eOWWqIIiIiYmG5ucX/KEtsKtz169ePzZs3k56eXmDZ559/znPPPUf58uVLYGQiIiIipYNNhbs2bdpQvXp1Vq1aZdK%2Bc%2BdODhw4wHPPPcfZs2eZMGECrVq1okWLFgwdOpTk5ORC9xcYGMi2bduMr1euXEloaCgA27ZtIzQ0lPnz59OyZUuaNm3Khx9%2ByLfffkunTp0IDg4mMjLSWCm8evUqH330Ee3bt6d58%2BYMGTKEI0eOWOZAiIiIlGGq3JnHpm6ocHR0pHfv3nz22WcMGTIEBwcH4HrV7oknnsBgMNCvXz8cHR1ZtWoVFStW5KOPPmLgwIGsXbv2rvs7fvw46enpfPfdd/z000%2B89NJLtGzZkuXLl3P%2B/HmeeeYZ1q9fT/fu3ZkxYwa//PILCxcuxGAwMG/ePAYNGsT69etxcXEpUn9paWkFqpI%2B1aph8PK667HftQceMH22JGv9FVlzTo5W%2Bv8ga87JWqw5Jw8Py/cBEBRk%2BmxJ1apZvg9/f9NnS7PGFRhr/y1Z49yz5nlXwspaGCtuNhXuAMLCwoiJieGXX37hkUce4dy5c3z99dcsWbKElJQUtm/fzrp16/Dx8QFgzJgxrFmzhi1bttCoUaO77m/o0KE4OzvTqlUrAJ5//nkqV65M5cqVqVevHseOHSMvL49ly5YRExODn58fAC%2B//DLLly/nu%2B%2B%2Bo1OnTkXqKy4ujtjYWJO24RERREZF3fW479n06dbry1pmzCjpERQ/e/w92eOcPvuspEdQvGJiSnoExU/nnZRBNhfuKlasSNeuXfniiy945JFHWLFiBfXr1%2Bfhhx8mISEBwBiwAJycnKhWrRrHjx%2B/p3Dn9f%2BrZk5OTgBUqlTJuMzR0ZG8vDzOnDlDVlYWUVFRON5Qwbl27RrHjx8vcl/h4eHGy8L5fF5%2BGb777q7HfdceeOD6P3KjR0NSkmX7smblbsYMGDXK8nOyZuXOWr8na7HmnKz1VomgoOv/ge3dGxITLduXtSp3MTEwYgQcOmT5/qxVubPm35I1zj1rnncAO3ZYvo9bUOXOPDYX7uD6jRU9evTg7NmzLF%2B%2BnBEjRgBQo0YNAI4ePUq9evUAyMnJITU11VjJu5GjoyPXrl0zvj579myBdfIv/d6Ol5cXLi4ufPLJJzRu3NjYnpSUhK%2Bvb5HnZTAYMBgMpo0nTlx/WEtSEuzZY9k%2BrP1XaY05WSvc5bPGnKzNGnPav9%2By%2B79ZYiL8///ptJiMDMvu/0aHDsGff1q%2BH1dXy/eRz1p/S9Y896xx3kmpZlM3VOSrW7cuTZs2Zdq0aVy6dInHH38cuB6O2rRpw6RJk0hPT%2Bfy5ctER0eTk5NDu3btCuzH39%2BfDRs2kJ2dzdGjR4mPj7%2Bn8Tg6OhIWFsb06dM5efIkubm5rFq1iqefflo3VYiIiBQz3VBhHpsMdwB9%2B/blyy%2B/5Pnnn8fZ2dnY/v777%2BPn50ePHj149NFH2bdvH4sWLcLT07PAPt5%2B%2B212795N8%2BbNGTlyJGFhYfc8nrFjx9KoUSN69%2B5NSEgICxcuJCYmhvr169/zPkVERKQghTvz2ORlWYAOHTqwb9%2B%2BAu2enp5MmjSp0G1q1qxpsk2zZs1YuXKlyTovvvgiAC1atCiw/5tfL1682Pizi4sLY8aMYcyYMXc3ERERERErstlwJyIiImVTWau0FTebvSwrIiIiIndPlTsRERGxKarcmUfhTkRERGyKwp15dFlWRERExI6ociciIiI2RZU78yjciYiIiE1RuDOPLsuKiIiI2BFV7kRERMSmqHJnHlXuREREROyIKnciIiJiU1S5M4/CnYiIiNgUhTvz6LKsiIiIiB1R5U5ERERsiip35lHlTkRERMSOqHInIiIiNkWVO/Mo3ImIiIhNUbgzj8KdiIiIiBmysrKYOHEimzZtIjs7m/bt2/P222/j4eFR6PobNmxg9uzZpKSk4OnpSc%2BePYmIiMDR8fq75Tp37kxqaqrxNUB8fDz%2B/v5FGo/CnYiIiNiU0la5mzhxIidOnGDDhg3k5OQwcuRIoqOjefvttwus%2B%2Beff/Laa6/xz3/%2BkzZt2nD48GGGDBmCu7s7gwYNIjMzk8OHD/Ptt99So0aNexqPbqgQERERuUeXLl1izZo1jBgxAk9PT6pUqcKYMWNYuXIlly5dKrD%2B8ePHee6552jXrh2Ojo74%2B/vTsWNHfv31V%2BB6%2BPP09LznYAeq3ImIiIiNsUTlLi0tjfT0dJM2Hx8fDAbDHbe9fPkyp06dKnTZpUuXuHbtGgEBAcY2f39/Ll%2B%2BTHJyMg8%2B%2BKDJ%2Bp06daJTp04m%2B/7uu%2B/o0qULAH/88Qdubm707duXAwcOUKNGDSIjI2nXrl2R56pwV9L277dOP/nX/Y8csV6fllax4vXnlBQ4eLBkx1Jc7PH3ZM051apl2f3nq1btf88ZGZbt6%2BhRy%2B4foEqV688nTlinP2uw9t%2BSNc49a553JcwS4S4uLo7Y2FiTtuHDhxMZGXnHbXft2kX//v0LXRYVFQWAu7u7sc3NzQ2Aixcv3na/mZmZREVF4erqysCBAwFwcHDgoYce4pVXXqF69er85z//ITIykiVLltC4ceM7jhUU7kRERKQMCA8PJzQ01KTNx8enSNu2aNGCffv2Fbpsz549fPTRR1y6dMl4A0X%2B5dgKFSrccp9JSUmMGDGCKlWq8OmnnxrXHTx4sMl6Xbt2Ze3atWzYsEHhTkREREonS1TuDAZDkS7B3q06derg7OzMwYMHadSoEQCHDh3C2dmZ2rVrF7rNli1beOWVV%2BjVqxejR4%2BmXLn/xbEFCxZQv359HnnkEWPb1atXcXFxKfKYdEOFiIiIyD1yc3Ojc%2BfOREdHc%2BbMGc6cOUN0dDRPP/00rq6uBdbfuXMnL7/8Mm%2B88QZjx441CXYAJ06c4J133iElJYXs7Gzi4%2BNJSEigR48eRR6TKnciIiJiU0rbR6G8/fbbvPfee3Tp0oVr167Rvn17JkyYYFz%2B1FNP0aVLF/7%2B978zZ84csrOzmTx5MpMnTzau07RpU%2BbPn89rr72Go6MjvXv35sKFC9StW5d//etf3H///UUej8KdiIiI2JTSFu4qVKjAxIkTmThxYqHL161bZ/x5zpw5t91X%2BfLlGTduHOPGjbvn8eiyrIiIiIgdUeVOREREbEppq9zZGlXuREREROyIKnciIiJiU1S5M4/CnYiIiNgUhTvz6LKsiIiIiB1R5U5ERERsiip35lHlTkRERMSOqHInIiIiNkWVO/Mo3ImIiIhNUbgzjy7LioiIiNgRVe5ERETEpqhyZx5V7kRERETsiCp3IiIiYlNUuTOPwp2IiIjYFIU789jNZdnk5OSSHoKIiIhIiburcBcYGEhgYCBJSUkFlv373/8mMDCQmTNn3tNAtm3bRmBg4D1tu2nTJl588cXbrnPhwgWmT59Op06dCA4OplWrVowZM4ajR4/eU58iIiJiGbm5xf8oS%2B66cufl5cWqVasKtK9cuZIKFSoUy6Du1rlz58jLy7vl8jNnztCzZ0%2BOHDnCnDlz2LFjB2vWrKFy5cqEh4dz/PhxK45WRERExHLuOtx16dKFr776itwbYvD//d//cfXqVerXr29sy8zM5M033%2BTxxx%2BncePGtG7dmjlz5hiXh4aG8tZbb9GyZUu6d%2B9usr%2B8vDzGjx/PU089xalTpwD46aefCAsLIyQkhKeeeorVq1cD1yt%2Bb7/9NqmpqQQHBxvXv9HMmTNxdXVlxowZ1KlTBwcHB7y8vJgwYQJt27Zl3759AJw6dYqRI0cSGhpKo0aNaN%2B%2BPfHx8cb9BAYGMn/%2BfNq2bUtwcDBDhw4ttD8RERG5d6rcmeeub6ho27Yta9eu5aeffqJVq1YAxMfHExYWxtatW43rRUdHc%2BzYMeLj46lYsSLffPMNI0aMoHPnztx///3A9VD49ddfA7B3714AcnNzGT9%2BPPv27WPx4sXcd999JCYmMmzYMD744APat2/Prl27iIiIwMvLi9atW/POO%2B8QGxvLpk2bCh3zpk2b6NWrF05OTgWWTZ061fjzm2%2B%2BiaenJ%2BvWraN8%2BfJ8%2BumnTJw4kc6dO%2BPh4QHAl19%2ByeLFi/H09OS1115j1KhRfPbZZ0U6dmlpaaSnp5u0%2BdSpg8HTs0jbmyUoyPTZHmhOpYM151StmuX7APD3N322pCpVLN%2BHzjvzWePcs%2BZ5V8LKWhgrbncd7sqVK0eXLl1YtWoVrVq14vLly2zYsIG1a9eahLvIyEicnJyoUKECJ0%2BexMXFBbgecPLDXadOnahUqZLJ/seOHcvPP//Mf/7zH%2BNl3mXLltG%2BfXsef/xxAJo0aUKvXr1YunQprVu3vuOYz5w5g4%2BPzx3XmzRpEh4eHjg7O5OamoqHhweXL1/mr7/%2BMoa7qKgo/Pz8AHjttdd44oknOHbsGDVr1rzj/uPi4oiNjTVpGx4VRWRU1B23LTZFDKKliuZUOtjjnGJiSnoExcsef0f2OCd7O%2B%2Bk2N3TR6H07NmT8PBwMjMz2bhxI02aNCkQnjIyMpg8eTJ79uyhZs2aNGzYEMDk8qvBYCiw75MnT3Lx4kW2bt3Kk08%2BCcDx48f55ZdfCAkJMa6Xk5NDrVq1ijReHx8f0tLSCl125swZKleujJOTEykpKbz//vskJydTu3ZtYwi9ccz5bQDVq1cHID09vUjhLjw8nNDQUNOxdekCixYVaR5mCQq6/o9c796QmGj5/qxBcyodrDkna1buYmJgxAg4dMiyfZ04Ydn9g8674mCtyp21zjuAdess38ctqHJnnnsKd0FBQTzwwAN8/fXXrFmzhgEDBhRYJyoqitDQUBYsWEC5cuU4e/Ysy5cvN1nHwcGhwHYLFixg%2BfLlvPPOO4SEhGAwGKhatSo9evTg3XffNa6XlpZ225sobhQaGso333zDsGHDTC7N5uXlMXjwYBo2bMiECRMYOnQor7zyCr1798bBwYE///zT%2BN6%2BfKdOnSIgIACAY8eOAf8LeXdiMBgKBtrDh4u0bbFJTISEBOv2aWmaU%2BlgjTllZFh2/zc7dAj%2B/NOyfVjzjn6dd/fOmueeNc67EqZwZ557/py7nj17snDhQg4fPkybNm0KLL9w4QKurq44OTlx5swZJk2aBMC1a9duu9/y5cvTp08fAgICGD9%2BPABhYWGsXbuWH374gdzcXJKTk%2Bnbty%2BffPIJAC4uLly6dIns7OxC9xkREcFff/3FK6%2B8wpEjR4DrIW3cuHGcPHmSwYMHc%2B3aNS5fvoyrqysODg6kpqbywQcfFBjzrFmzSE9P5/z587z33nu0bt0aX1/fuzx6IiIiIpZxz%2BHu6aef5siRI3Tt2pVy5QoWAKdOncr69etp0vqfTT0AACAASURBVKQJPXv2xNfXl/r167N///477tvBwYEpU6bw22%2B/sWzZMho1asSHH37Ihx9%2BSLNmzejbty%2BhoaGMHj0agGbNmlGlShWaNWtmvPP1Rvfddx/x8fFUrlyZgQMHEhwcTFhYGNnZ2Xz%2B%2BefUqlULd3d3pkyZwqxZswgODqZ///60bNkSb29vkzE3aNCA3r17ExoaSqVKlYiOjr7XQygiIiKF0N2y5rmry7I3BicvLy/%2BvKksvHjxYuPPrVu3Nt4JW5ib72xt0aKFyf79/PxIuKGU3rZtW9q2bVvovgwGA2vXrr3t2H18fEwu6xamW7dudOvWzaTtpZdeMnn9%2BOOPM2HChNvuR0RERKSk6LtlRURExKaUtUpbcVO4ExEREZuicGcehbu7UNj7%2BURERERsicKdiIiI2BRV7sxzz3fLioiIiIjtUeVOREREbIoqd%2BZRuBMRERGbonBnHl2WFREREbEjqtyJiIiITVHlzjyq3ImIiIjYEVXuRERExKaocmcehTsRERGxKQp35tFlWRERERE7osqdiIiI2BRV7syjyp2IiIj8v/buPK6m/P8D%2BKtINRpJbmhB1ixjl32pxIxcmZQQjTGG7Etm7GJiQtY0gzEYJEULwmBsMRjLdxK%2BZB1aVdKgFDf1%2B2O%2B3Z87hep277nn9no%2BHvfR9Dn3nvM601Xv%2Bz6fcw5pEXbuiIiISKOwc6ccdu6IiIhIo%2BTnl/9DlV6%2BfIk5c%2BagU6dOaN%2B%2BPb799ltkZ2e/8/k%2BPj5o2bIl2rZtK3%2BEhobKl2/evBk9e/ZEmzZtMHLkSDx48KBUeVjcERERESnB19cXKSkpOHr0KI4dO4aUlBSsXLnync%2B/fv06fH19ERMTI3%2B4u7sDACIjI7Fz505s2bIFFy9eRIsWLTBlyhQUFBSUOA%2BLOyIiItIoYurc5eTkICoqClOmTEH16tVhamqKmTNnIiIiAjk5OUWe//r1a9y5cwctW7Ysdn179uzB8OHD0bhxY%2Bjr68Pb2xvJycm4ePFiiTNxzh0RERHRe%2BTm5iI1NbXYZTk5OZDJZGjSpIl8rGHDhsjNzcXDhw/RrFkzhefHxcUhLy8PAQEB%2BM9//oOPP/4YgwcPxpgxY6Crq4t79%2B7h66%2B/lj9fT08P9evXR1xcHDp37lyivCzuiIiISKOootOWlpaG9PR0hTGJRAIzM7MPvjY2Nhaenp7FLps6dSoA4KOPPpKPGRoaAkCx8%2B5evHgBW1tbjBw5EqtXr8atW7cwceJE6OrqYsyYMcjOzpa/vpCBgQFevnz5wZyFWNwRkfYwMFDPdqpU%2Bf%2Bv6tomaTZ1vA8q0PtOFcVdaGgoAgMDFcYmTZqEyZMnf/C1nTp1wu3bt4tddvPmTaxbtw45OTmoWrUqAMgPxxoZGRV5frdu3dCtWzf5961atcIXX3yBw4cPY8yYMTA0NERubq7Ca3Jzc%2BXrLgkWd0RERKT13N3dYW9vrzAmkUiUXq%2B1tTX09PRw7949tG7dGgBw//59%2BeHUfzt%2B/DiePHmCoUOHysdev34Ng/8V7I0bN8bdu3dhZ2cHAJDJZHj48KHCYd8P4QkVREREpFFUcUKFmZkZWrRoofAoySHZDzE0NMRnn32GlStX4unTp3j69ClWrlyJAQMGyAu2txUUFMDPzw8XLlxAQUEBYmJisGPHDvnZsoMHD0ZQUBDi4uLw6tUrrFq1CjVr1kSHDh1KnImdOyIiIiIl%2BPj4YPny5ZBKpZDJZHBwcMCCBQvky52cnCCVSuHl5QVHR0fMmTMHixYtQmpqKmrWrInJkyfD2dkZAODq6ooXL15g4sSJePr0KT755BNs2rQJenp6Jc7D4o6IiIg0itjuUGFkZARfX1/4%2BvoWu/zQoUMK3w8dOlThsOzbdHR0MHr0aIwePbrMeVjcERERkUYRW3GnaTjnjoiIiEiLsHNHREREGoWdO%2BWwc0dERESkRdi5IyIiIo3Czp1yWNwRERGRRmFxpxweliUiIiLSIuzcERERkUZh50457NwRERERaRF27oiIiEijsHOnHBZ3REREpFFY3CmHh2WJiIiItAg7d0RERKRR2LlTDos7IiIi0igs7pTDw7JEREREWoSdOyIiItIo7Nwph507IiIiIi2isuJu165daNq0KX755RdVbUJBYmIimjZtijZt2qBt27Zo27Yt2rRpg379%2BmHfvn3vfN2BAwfg5OSkloxERET0Yfn55f%2BoSFR2WHbXrl0YNmwYduzYgREjRqByZfUcAT548CAsLS0BAAUFBTh8%2BDBmzpyJWrVqoUuXLkWeP3DgQAwcOFAt2YiIiOjDKloxVt5U0rm7cOECMjIyMHv2bOTn5%2BPo0aMAgLCwMPTs2RP5b/3UgoOD5Z2zzMxMTJ8%2BHe3bt4eDgwN27tyJ5s2bIzExsUw5dHR04OTkhGrVquHWrVsAgKZNm2LJkiXo1KkTvLy8EBERAXt7e/lrzp07B1dXV7Rt2xb29vYICgqSLzt//jxcXV3RoUMHODk54cCBA2XKRURERKQqKmmn7dy5E0OGDIGBgQGGDx%2BOrVu3wsnJCf3798f333%2BPCxcuoFu3bgCAyMhIuLq6AgBmzpwJHR0dnDhxAvn5%2BZg5cybevHlT5hw5OTmIjIxEVlYWOnfuLB%2BPj4/H6dOnIZPJcPz4cfn4X3/9BS8vL/j4%2BGDQoEGIi4uDp6cn6tWrB4lEgvHjx8Pf3x8ODg6IjY3FhAkTYGJigh49epQoT1paGtLT0xXGJNbWMKtevcz7WGI2NopftQH3SRzUuU/16ql%2BGwDQoIHiV1WqWlX12%2BD7TnnqeO%2Bp830nMHbulKNTUFBQUJ4rTEpKwqefforffvsNtWvXxt9//41evXph8%2BbNsLW1xcKFC5GTkwN/f3/cv38fzs7OOHPmDGQyGXr27Ilff/0VDf73xr137x6cnJxw4sQJ%2BaHWd0lMTISDgwOqVq0KXd1/GpKVKlWCtbU1Ro8ejb59%2BwL4p3Pn7%2B8vPxQbERGBwMBAnDx5EoGBgfj9998REhIiX29cXBzMzMwQEBCA58%2BfY/Xq1fJlq1evxp07d7Bx48YS/b9Zv349AgMDFcYmTZiAyVOnluj1REREFcGXX5b/OrdtK/91aqpy79wFBwcjLy8Pzs7O8rG8vDxs3boVtra2cHNzg6enJ7Kzs%2BWHRGvUqIGrV68CgEIRZ2VlVertHzhw4IOFoJmZWbHjaWlpMDc3Vxiz%2Bd%2BnvqSkJPzxxx/o0KGDfNmbN29Qt27dEmdzd3dXOAQMABKpFNi%2BvcTrKDMbGyA4GBg%2BHIiLU/321IH7JA7q3Cd1du5WrQK8vYEHD1S7rUePVLt%2BgO%2B78qCuzp263ncAEBmp%2Bm28Azt3yinX4u7Vq1cICwvD0qVL0bVrV/n4nTt3MHbsWNy/fx%2BffPIJ6tWrh99%2B%2Bw1RUVFYsmQJAMiLqqSkJFhbW8v/WxV0dHSKHa9Tpw6io6MVxsLDw2FqaoratWvj888/x3fffSdflpaWhtI0Ps3MzIoWln/9VfLg5SEuDoiJUe82VY37JA7q2KfsbNWu/98ePABu3lTtNu7cUe3638b3Xdmp872njvedwFjcKadcT6iIioqCjo4OpFIpateuLX/07NkTTZo0kV8Wxc3NDQEBAdDV1UX37t0B/FP42NnZwd/fH8%2BePcOzZ8%2BwYsWK8oz3QU5OTrh58yb27duHN2/e4MaNG1i2bBkqV64MV1dXHDx4EL///jvy8/Px8OFDjBgxAlu3blVrRiIiIqL3KdfiLjg4GFKpFHp6ekWWubu7Y//%2B/cjIyIBUKkVGRgZcXFzk8%2BMAYOnSpdDR0UHv3r3x%2Beefo3nz5gBQ7PpUoW7duvjpp5%2Bwa9cu2NraYsaMGZg9eza6d%2B%2BO1q1bY/Xq1Vi9ejU6duyIESNGwN7eHt7e3mrJRkREVFHwOnfKKdfDshEREe9c5uHhAQ8PD/n3sbGxRZ4TFxeHVatWwcDAAABw%2B/ZtbNiwAdVLcDappaUlbt%2B%2B/cHn/fs5Li4ucHFxkX/fuXNn7N27t9jX9u7dG7179/7gNoiIiIiEolG3H1u%2BfDk2bNiAvLw8ZGVlYcOGDejatSv09fWFjkZERERqws6dctRz24gSWrVqFZYsWYLOnTtDV1cXPXr0wIoVK3Dt2jV88cUX73ydubk5Dh06pMakREREpCoVrRgrbxpV3DVu3Bjbi7ksiKmpKWK07QwuIiIiIhXQqOKOiIiIiJ075WjUnDsiIiIiUg47d0RERKRR2LlTDos7IiIi0igs7pTDw7JEREREWoSdOyIiItIo7Nwph507IiIiIi3Czh0RERFpFHbulMPijoiIiDQKizvl8LAsERERkRZh546IiIg0Cjt3ymHnjoiIiEiLsHNHREREGoWdO%2BWwuCMiIiKNIrbi7uXLl/D19cXJkyeRl5cHBwcH%2BPj4oGrVqkWeu3DhQkRFRSmM5ebmomvXrtiyZQvy8/PRvn17FBQUQEdHR/6cc%2BfO4aOPPipRHh6WJSIiIlKCr68vUlJScPToURw7dgwpKSlYuXJlsc/97rvvEBMTI3%2BsX78e1apVw%2BzZswEA9%2B7dg0wmw6VLlxSeV9LCDmBxR0RERBomP7/8H6qSk5ODqKgoTJkyBdWrV4epqSlmzpyJiIgI5OTkvPe1T58%2BxcyZMzFv3jw0btwYAHD9%2BnU0bdoUVapUKXMmHpYlIiIieo/c3FykpqYWuywnJwcymQxNmjSRjzVs2BC5ubl4%2BPAhmjVr9s71rly5Ei1btsTAgQPlY9evX8erV68wePBgJCUloWHDhvD29ka7du1KnJfFHREREWkUVXTa0tLSkJ6erjAmkUhgZmb2wdfGxsbC09Oz2GVTp04FAIXDpoaGhgCA7Ozsd64zISEBBw4cwN69exXGDQwM0KpVK0ydOhXGxsbYtWsXvvrqKxw4cABWVlYfzAqwuBPeW5W%2BStWr9/9f3/NmKxfqmglb%2BCa3sgJevFDttnTVNINBnT8ndVHnPt25o9r1FyqcJP3okeq3WbeuatcPAHXq/P/XjAzVb8/AQPXbUPe/JXW899T5vhOYKv6MhIaGIjAwUGFs0qRJmDx58gdf26lTJ9y%2BfbvYZTdv3sS6deuQk5MjP4Gi8HCskZHRO9cZHh6Otm3bFunsFc69K/TVV18hIiIC0dHRGDFixAezAizuiIiIqAJwd3eHvb29wphEIlF6vdbW1tDT08O9e/fQunVrAMD9%2B/ehp6eH%2BvXrv/N1x44dw%2BjRo4uMr1mzBv369UPz5s3lY69fv4a%2Bvn6JM7G4IyIiIo2iis6dmZlZiQ7BlpahoSE%2B%2B%2BwzrFy5EuvWrQPwz1y6AQMGwOAdXerMzEzcv38fHTt2LLLszp07uHLlCtauXQtjY2P89NNPyMrKgqOjY4kz8WxZIiIiIiX4%2BPigfv36kEql%2BPTTT2FpaYmFCxfKlzs5OWHjxo3y7xMTEwEAtWrVKrIuPz8/1K1bF87OzujUqRMuXbqEbdu2oXr16iXOw84dERERaRSxXcTYyMgIvr6%2B8PX1LXb5oUOHFL7/5JNP3jmHr3r16vDz81MqD4s7IiIi0ihiK%2B40DQ/LEhEREWkRdu6IiIhIo7BzpxwWd0RERKRRWNwph4dliYiIiLQIO3dERESkUdi5Uw47d0RERERahJ07IiIi0ijs3CmHxR0RERFpFBZ3yuFhWSIiIiItws4dERERaRR27pTDzh0RERGRFmHnjoiIiDQKO3fKYXFHREREGoXFnXJ4WJaIiIhIi7BzR0RERBqFnTvlsHNHREREpEVEV9wlJiaiadOmSExMLPM6UlJS0Lx5c5w4caLY5UOHDsXSpUs/uJ7169dj5MiRZc5BREREReXnl/%2BjIhFdcVce6tSpgz59%2BmDv3r1FlsXFxSE2NpZFGxERkUBY3ClH1MVdUlISpk2bhi5duqBbt27w9vZGWlqafPn58%2BcxaNAgtGvXDkOHDoW/v7%2B8aBsxYgTOnDmD1NRUhXUGBwejV69eqFu3LgDgypUr8PDwQIcOHWBvb4%2B1a9fi9evX6ttJIiIiolIQ7QkVeXl5GDduHFq2bIljx46hoKAAixcvhpeXF/bs2YPHjx/Dy8sL8%2BbNw%2BDBg3H16lV4eXmhWbNmAABbW1s0atQIYWFhmDhxIgAgKysLUVFR%2BOGHHwAADx48wJdffomZM2di27ZtSElJweTJk5GVlYX58%2BeXOnNaWhrS09MVxiR16sDMxETJ/xsl0KCB4ldVUtdHJHXuk66aPgepc5/URZ37VLWq6rcBADY2il9VqU4d1W%2BjYUPFr6pWpYrqt6Huf0vqeO%2Bp830nsIrWaStvOgUFBQVChyiNxMREODg4YOnSpVi4cCEuXboEIyMjAP8UZ7a2tggODsaFCxdw%2BvRphIaGyl%2B7YsUKXL9%2BHTt37gQA7N27Fxs2bMDx48ehq6uLXbt2Yffu3Th48CAAYN26dTh79izCwsLk64iOjsaUKVMQExODH374AZcuXZKv70PWr1%2BPwMBAhbFJEyZg8tSpSv0/ISIi0ibW1uW/zr/%2BKv91airRdu4yMjJgYmIiL%2BwAwMjICNWrV0dSUhJSUlJgYWGh8BorKytcv35d/r1UKsXKlStx7tw59OjRAyEhIQpz7TIyMmBlZaWwDktLS%2BTm5iIjI6PUmd3d3WFvb68wJpk4ETh9utTrKrUGDYBVqwBvb%2BDBA9VuS52duzVrgOnTVb9P6uzcqevnpC7q3KdHj1S7/kI2NkBwMDB8OBAXp9ptqatzFxAATJkC3L%2Bv%2Bu2pq3Onzn9L6njvqfN9BwB//qn6bbwDO3fKEW1xZ2tri3Xr1iErK0te4L148QKZmZmQSCSwsLDAqVOnFF6TnJys8L2BgQEGDx6MvXv34qOPPkJqaioGDhwoX25hYYFjx44pvCY%2BPh5VqlSBsbFxqTObmZnBzMxMcTAl5Z%2BHujx4ANy8qdptqPtfpTr2SV3FXSF17JO6qWOf7txR7fr/LS4OiIlR7TbK8EGyzO7fB27cUP12DAxUv41C6vq3pM73njredwJjcacc0Z5QUaNGDTRq1Ag%2BPj548eIFXrx4gUWLFqFu3bpo164dnJ2dcevWLezbtw9v3rxBbGws9uzZU2Q9Hh4eOHPmDHbu3Ak3NzcYGhrKlzk5OeH%2B/fvYvn07Xr9%2Bjfj4eKxevRpSqRRV1PHJk4iIiKiURFvcVapUCZs2bUJeXh769esHOzs7yGQybNu2DZUrV0bt2rUREBCAzZs3o0OHDli%2BfDm6d%2B8OPT09hfVYWFigW7duOHbsGDw8PBSWWVpa4ueff8bRo0fRtWtXDB8%2BHN26dcPChQvVuatEREQVCi%2BFohzRHZa1tLTE7du35d%2BvW7eu2OelpKRAIpHg0KFD8rFly5YV%2B9zCs2OL06FDBwQHBxe7bPLkySWJTERERKQ2ou3cfUhmZiaGDx%2BOG/%2BbPxIXF4cDBw7Azs5O4GRERET0PuzcKUd0nbuSat68OebNm4cZM2YgPT0dNWvWxNixYzFgwAChoxEREdF7VLRirLxpbXEHAG5ubnBzcxM6BhEREZHaaHVxR0REROLDzp1ytHbOHREREVFFxM4dERERaRR27pTD4o6IiIg0Cos75fCwLBEREZEWYeeOiIiINAo7d8ph546IiIhIi7BzR0RERBqFnTvlsLgjIiIijcLiTjk8LEtERESkRdi5IyIiIo3Czp1y2LkjIiIi0iLs3BEREZFGYedOOezcERERkUbJzy//hzrk5OTA3d0dERER731ebGws3Nzc0LZtW9jb22Pv3r0KyyMjI%2BHo6Ig2bdrAxcUFMTExpcrB4o6IiIhISXfv3oWHhweuXr363uc9e/YMY8eOxaBBg3D58mUsXboUfn5%2BuHbtGgDg4sWL8PX1xbJly3D58mUMHDgQ48ePR05OTomzsLgjIiIijSK2zt2FCxfwxRdf4PPPP4e5ufl7n3vs2DFUr14dHh4eqFy5Mrp06QKpVIpdu3YBAPbu3QsnJye0b98eenp6GDVqFExMTHD48OES5%2BGcOyIiIqL3yM3NRWpqarHLJBIJbGxscOrUKejr62Pbtm3vXdfdu3fRpEkThbFGjRohLCwMAHDv3j0MHjy4yPK4uLgS52VxR0RERBpFFZ22tLQ0pKenK4xJJBKYmZl98LWxsbHw9PQsdtkPP/yAPn36lDhHdnY2DA0NFcYMDAzw8uXLEi0vCRZ3Qrt9Wy2bSUtLQ%2Bj69XDftKlEb2QxkO/T5s3at0/a%2BHPSxn06ckQr9km%2BP9u2acX%2BAHzfiV1BQfmvc/36UAQGBiqMTZo0CZMnT/7gazt16oTb5fT32tDQEC9evFAYy83NRdWqVeXLc3Nziyw3MTEp8TY4566CSE9PR2BgYJFPLWLGfRIH7pPm07b9AbhPVFThWaxvP9zd3dWeo0mTJrh7967C2L1799C4cWMAQOPGjd%2B7vCRY3BEREZHWMzMzQ4sWLRQeQnRAHR0d8eTJE/zyyy%2BQyWT4448/EBUVJZ9n5%2BrqiqioKPzxxx%2BQyWT45ZdfkJGRAUdHxxJvg8UdERERkQo5OTlh48aNAAATExNs3boVR44cQadOnTB//nzMnz8fnTt3BgB06dIFPj4%2BWLRoEWxtbXHo0CFs3rwZ1atXL/H2OOeOiIiIqJycPHmyyNihQ4cUvv/kk08QEhLyznU4OzvD2dm5zBkqLVq0aFGZX02iUrVqVdja2sonbWoD7pM4cJ80n7btD8B9oopLp6BAFeekEBEREZEQOOeOiIiISIuwuCMiIiLSIizuiIiIiLQIizsiIiIiLcLijoiIiEiLsLgjIiIi0iIs7oiIiIi0CIs7IiIiIi3C248REVVgycnJSE9PR506dQS5iToRlT927ogElpiYKHQEqoDS0tLg4eEBe3t7uLu7o1evXhg3bhyeP38udLQyO3fuHLy8vODi4oL09HQsX74ceXl5QsciUjt27rTU3bt3sWLFCjx8%2BBD5%2BfkKy06cOCFQKirOp59%2BisaNG8PR0RH9%2BvVDw4YNhY6ktD179mDnzp1IS0tDZGQkli1bBj8/P1HfD/P169eIjo5GUlIS3N3d8ejRI9jY2Agdq8wWLlwIY2NjHDlyBObm5khISMCKFSuwdOlSLF%2B%2BXOh4pRYVFQU/Pz%2B4ubnh8uXLAP65gbuOjg6%2B/fZbgdOV3siRI6Gjo/Pe5%2BzYsUNNaUhseG9ZLTVs2DAYGhris88%2BQ%2BXKijX8559/LlAq5WVnZ2PXrl1ISEgo8oncz89PoFTKefHiBU6fPo1Tp07hzJkzkEgk6Nu3LxwdHdGyZUuh45XaL7/8gt27d%2BOrr77CihUrcOLECYwbNw6NGjXCkiVLhI5XJvHx8Rg9ejRkMhmeP3%2BOiIgIDBgwAIGBgbCzsxM6Xpm0b98e0dHRMDIyko89f/4cffr0waVLlwRMVjZSqRS%2Bvr5o06YNOnbsiMuXL%2BPhw4fw9PTEmTNnhI5XaoGBgR98zqRJk9SQhMSInTstdfv2bZw5c0bhF7c2mDNnDmJjY9GhQwdUqVJF6Djl4uOPP4ZUKoVUKsWrV6%2BwefNmbNmyBT/99BNu3boldLxS2717N3788Uc0bNgQK1euhLGxMQICAkT9oWLp0qVwcXHB%2BPHjYWtrC2trayxZsgQBAQGiLe6qVauG58%2BfK/yOeP36NapXry5gqrJ7/PgxWrduDQDyjle9evXw8uVLIWOVWXGFW0ZGBoyNjYt8YCf6N75DtJSZmRlev34tdIxyd/bsWRw9elSrJn4/ePAA58%2Bfx/nz53H58mXo6%2Bujb9%2B%2B6N69u9DRyiQzMxPW1tYAgMIDA6ampqKe%2B3T16lWsX78eOjo68sLB2dkZS5cuFThZ2Y0YMQLjxo3DtGnTUK9ePaSmpiIwMBA9e/aUH9YEgI4dOwqYsuTq16%2BPEydOoE%2BfPvKx8%2BfPo169egKmUp5MJoO/vz/27t2L3NxcVKlSBQMHDsSCBQu05gMulT8Wd1pqxIgRmDhxIjw9PVGzZk2FZWL5ZV0ciUQCExMToWOUq/79%2B8PQ0BBDhw7F1KlT0bRpU6EjKcXGxgahoaEYNmyYvBA6fPgwGjduLHCysvv444/x5MkTmJuby8fS09NhbGwsYCrl%2BPv7AwAmTpyoMB4TE4OgoCAA/3TAxNI9nj59OiZMmAAHBwe8evUKixYtwsGDB7Fq1Sqhoynlxx9/xMWLF7F27VpYWloiPj4ea9aswdq1a0U5l5DUg3PutNS7JnqL6Zd1cbZu3Yrk5GRMmTIF1apVEzpOuYiIiMC5c%2Bdw/vx51KhRA127dkX37t1ha2sLQ0NDoeOV2n//%2B1%2BMGjUKDRs2xI0bN9ClSxdcvXoVP//8s/ywmdisW7cO0dHR8Pb2xtSpU7F161b4%2B/ujbdu2mDFjhtDx6H/i4uIQGhqKpKQk1K5dG66urmjVqpXQsZTSp08fbNu2DVZWVvKx%2BPh4eHh44OzZswImI03G4o5EwcbGBjo6OvLDfMWdRSbmohX45xDm9evXcfbsWQQFBSE7OxvXrl0TOlaZpKamIioqSv5HViqVKnS9xEYmk2H16tUICQlBTk4O9PX14erqilmzZon60FhOTg6ePXsmP6NeJpPhzp07cHR0FDhZ2Zw7dw7NmzeHiYkJoqOjoaenh65duwodSykdO3bEhQsXFObZyWQydO3aVeHwOdHbeFhWi2nTpRu0/ZT/9PR0nD17FmfOnMG5c%2BdgamoKV1dXoWOVWc2aNTFmzBgUFBTgzJkzRQ5pio2enh5mzZqFWbNm4enTpzAxMfngZSo0XXh4OHx9ffHq1SuFcVNTU1EWd7t27cKaNWsQHBwMExMTZGRkYNmyZZg7dy4GDRokdLwya9q0KUJCQjBixAj5WEhICJo0aSJgKtJ07NxpKW28dIO2GjRoEO7cuYPmzZvD0dERffr0EfW17k6ePIn58%2Bfj/Pnz%2BPHHH7Fx40bo6Ohg3rx5GDJkDtz0%2BQAAFxlJREFUiNDxykQmk%2BHw4cNISkoqct1IsV6OwtHRER4eHqhatSouX76ML774Av7%2B/ujWrRu%2B/vproeOVWp8%2BfbBu3Tq0aNFCPnbjxg14e3vj6NGjAiZTzpUrVzB69GjY2NjAysoK8fHxuHfvHrZs2YJ27doJHY80FIs7LTVu3Di0bt1afumGy5cvIzIyEjt27EBkZKTQ8cqs8PDsv1WuXBk1atSAnZ0dZs%2BeDQMDAwHSlc2uXbvQp08f1KpVS%2Bgo5cLNzQ1ubm5wdXVFt27dsGzZMpiammL69On47bffhI5XJlOmTMHFixfRuHFjhfefjo6OaLvKbdq0QUxMDJKSkjBz5kyEhIQgOTkZo0aNwrFjx4SOV2pt27bFf/7zH%2Bjq/v%2BNl/Lz82Fra4srV64ImEx5Dx48wMGDB/HkyRNYWlrCyckJFhYWQsciDcbDslpKGy/dAACzZ8/G/v37MW3aNFhZWSEpKQnr16%2BHra0t2rdvj61bt2LlypWYP3%2B%2B0FFLzMPDA8ePH8f8%2BfORlJQEiUQCV1dXSKVSoaOVSXx8PIYMGYKbN28iNzcX3bp1Q%2BXKlfHkyROho5XZ77//jgMHDsDS0lLoKOXG1NQUMpkMderUwV9//QUAMDc3R0ZGhsDJyqZRo0bYv3%2B/wvUUo6Ki0KBBAwFTlZ2fnx9GjhwJS0tLNGjQAFOmTBE6EokIizstpY2XbgD%2Bua3Vli1bUKdOHQBAgwYN0KRJE3z55ZeYOXMmWrVqBWdnZ1EVd1FRUVi8eDHc3d1hb2%2BP%2BPh4LFq0CLm5uXBzcxM6XqkZGhoiIyMDJ0%2BeRPv27VG5cmXExcWJ%2BhI2EolEtBf3fZdWrVph4cKFWLBgAerXr4/du3fDwMBAtPs5bdo0jB8/Hnv27IG5uTlSUlJw8%2BZN/PTTT0JHK5PY2FgEBQWhV69e8PT0ROfOnYWORCLC4k5LSaVSTJo0Cd7e3sjPz8e1a9fg7%2B8PJycnoaMpJTU1FTVq1FAYMzY2RkpKCgCgRo0ayM3NFSJamW3evBmBgYEKv7x79eqF7777TpTF3eDBgzFo0CA8f/4cAQEBuHHjBsaMGYPRo0cLHa3MZs2ahalTp2L48OFFLsEj1utGzpkzB/Pnz0d2dja%2B%2BeYbeHl5ITc3V7S38evWrRv279%2BPQ4cOIT09HT179sTy5csVLiEiJiEhIYiLi0NwcDAmTJgACwsLeHp6YuDAgdDX1xc6Hmk4zrnTUtp66YYxY8agdu3aWLBgAfT19fHq1SssW7YMDx8%2BxNatWxEaGorIyEiEhoYKHbXEOnTogMuXLyvM5crPz0eHDh3w559/Cpis7C5evAh9fX20adMGKSkpuH79Ovr27St0rDJbs2YNNm3aVGRc7NeNfFteXh5kMpkor62o7bKzs7Fv3z6EhIQgLS0NQ4YMgYeHB2rXri10NNJQLO4qAG25dAMAJCUlYezYsXj06BFMTEyQmZmJRo0aISAgAMnJyZg6dSo2bNggqrPIBgwYgIULF8LW1lY%2BdvHiRfj6%2BuLgwYMCJiu77Oxs%2BWV4JBIJ7O3tRX3R6Y4dO2LVqlXo3r27woR9sUpJScHt27fRu3dvAP98mFi8eDG%2B/vpr0c0rlEqliIqKgr29/Tt/x504cULNqVTnzz//xM6dO/Hbb7/hxo0bQschDcXDslosPDwc%2B/fvR3p6OszNzeHm5oZPP/1U6FhKsbCwQFRUFGJiYpCamgpzc3O0bt0aOjo6qFWrFi5cuCC6P75ffPEFJk6cCHd3d/mlDkJDQzFnzhyho5XJo0ePMGrUKMhkMpibmyM5ORkrVqzA9u3bRXsLMn19fXTr1k10763iJCQkwN3dHb1795YXd8%2BePcP169cxdOhQ7N69W1SHMseOHQsAmDx5ssBJVO/cuXPYu3cvoqOj5T87ouKwc6elNmzYgO3bt8Pd3R116tRBQkICwsLCMH36dAwdOlToeKX2%2BPFj1K5dG8nJye98jpgvkhsREYGIiAg8efIEFhYWoi7Evby8YG1tjW%2B%2B%2BQa6urrIz8%2BHv78/7ty5gy1btggdr0y2bNmCJ0%2BewMvLS/QnJX377beoVq1asScdzZkzB/n5%2BVi%2BfLkAyZQzfvx4%2BPv7w8jISOgo5SotLQ3h4eEICwtDdnY2Bg8eDA8PD1H/viPVY3GnpXr06IENGzagZcuW8rFr165hxowZOH78uIDJyqZdu3b4888/i9yGrJA2zX0CgDdv3iA%2BPh7W1tZCRym1Ll26IDo6WmFuZ25uLrp37y7a643Z29sjOTlZK25717NnT0RFRRVbpKampmLIkCGIjo4WIJlyOnfujDNnzoh6TvHbTp06hT179uDs2bNo2LAhRowYwZMpqMR4WFZLvXz5ssjtaZo3b46srCyBEinn0KFDALRr7sz7PHnyBP379xdd4QAAlSpVQlZWlsJZzVlZWaKeqL9s2TKhI5Sb7Ozsd3Yfa9WqhRcvXqg5UfkYMGAApkyZAqlUColEolCIi/GM5kmTJsHBwQHbtm0TZX4SFos7LeXk5IQ1a9Zg5syZqFSpEgBg69atoj1j0cPD44MnhGhb4SfWprqdnR28vb2xYMECWFpaIiEhAUuWLBH1be/ePtlF7CQSCeLj41G3bt0iy%2BLj40V7nbugoCAAwOnTpxXGxdrVP3HiBM%2BGpTLjYVkt5e7ujtjYWJiYmMDCwgJpaWlIS0uDmZkZ9PT05M8TS0FUeMu0goICfPfdd/Dx8SnynLevTC92qamp6N27tyj/KP3999%2BYPHmywuVdevbsCX9/f9GeMatNZ2KuXr0ajx49wtq1axX2qaCgADNmzICxsTEWLVokXEBSMHLkyGLfe3p6evJbLvbv31%2BAZKTJWNxpqcjISOTl5SEzMxM1atSQd%2B/%2BTYwFka2tLS5duiR0DJUSc3FXKCEhARkZGbCwsIBEIhE6jlL%2BfT/mp0%2BfIjw8HG5ubvjyyy8FSlU2WVlZcHFxgYGBAT777DPUrFkT6enpOHbsGJ49e4awsDCYmpoKHbNULl68iFu3bqFz586wsbEROk65WrlyJUJDQzFkyBBYWVkhOTkZoaGh6NmzJ2rWrIkDBw7Ay8sLI0eOFDoqaRAWd1ooPT0d33//PY4fP468vDxUrlwZ9vb2mDt3rlbcnF5birvLly%2B/c9nTp08xbdo0URV379ufQto0dyg%2BPh4zZsxAWFiY0FFKLTMzEwEBATh16hSePn0KiUQCOzs7TJgwocgdYDTdvn37MHfuXFSrVg1ZWVlYu3Yt%2BvTpI3SscjN8%2BHDMmDEDHTp0kI/FxsbC398fQUFBiIuLw9SpU3H06FEBU5KmYXGnZZ49e4ZBgwahdu3acHV1hZmZGRISEhAZGYnU1FQcOHBAtHNqCmlLcfehDoPY5gpp2/58yJs3b9CpUyfRngGsLT777DNMnjwZ/fv3R3BwMA4ePIjg4GChY5WbDh064NKlSwrXWPz3HWwKryZAVIgnVGiZjRs3omXLlggICFCYpzF06FBMmjQJmzZtwqxZswRMSIXi4uKEjlCu4uLikJ%2Bfj4SEBNSrV08%2BfujQIfTr1w%2BVK4v3182/u5IymQxHjhxB/fr1hQlEco8fP5bPOXNxcUFAQIDAicqXlZWVfApAoaioKPl17v773/%2BKftoDlT/x/ralYp08eRIbN24sMgFXV1cXM2bMwIQJE0RZ3O3bt0/%2B3zKZTOH7QoMGDVJnJPqXly9fYvTo0ahZsyYCAwMBABkZGZgzZw527dqFn3/%2BGR999JHAKcvm3/OZdHV10bBhw2JP7CH1erujZWBggPz8fAHTlL9vvvkG48ePR3h4OCwsLJCcnIy4uDgEBATg1q1bGDFiBObNmyd0TNIwPCyrZd7Xni8oKEC7du0QExOj5lTKs7e3f%2B9yHR0d0Z21qG1WrVqFq1evYu3atQoT8jMyMjB%2B/Hh06dIF06dPFzAhaaN//87Tlmkbb0tMTMTBgweRkpICCwsLODs7o1atWnj8%2BDEyMzPRrFkzoSOShmHnTsvo6%2BsjPT292DZ9eno6qlatKkAq5Z08eVLoCPQBR48exebNm4ucaWlqaorFixdj2rRpoivu3ne7u0JivQ3Uu35P3L17V1T3AC4oKEBKSor8upD5%2BfkK3wPi/RkVMjc3R9euXZGYmAgzMzP5z6127dq8Fh4Vi8WdlunYsSOCg4MxderUIst2796tVRdjJc2SkZGhMNfubc2aNUN6erqaEymv8Pp27zrAIeaTRPr161eky//mzRu4u7uLanJ%2BTk6OQme/oKBA/n1BQYGof0bAP0W4l5cXbt%2B%2BDWNjY2RmZqJ%2B/frYunUrCzt6JxZ3WmbcuHHw8PCAgYEBnJ2dUbNmTSQnJyMsLAw7d%2B5ESEiI0BFJSxkZGSEzMxMmJiZFlv3999%2BivP2Yth3qf/ToEb766isUFBQgJycHDg4OCstzc3NhYWEhULqy0baf0b8tX74c9evXx44dO1C1alW8ePECixYtgp%2BfH9atWyd0PNJQnHOnhU6dOoUFCxYgIyNDPlazZk34%2Bfmhe/fuAiYjbTZ79mxYWlpi0qRJRZb9%2BOOP%2BO9//4sffvhBgGTlIzs7G9HR0UhKSoKZmRns7OxEeceNU6dOITMzE4sWLcLixYsVlunr66Njx45ae/alVCpFVFSU0DFKpXv37jhy5AiMjIzkYy9evICDg4PWzS2k8sPOnRays7PDyZMncfXqVaSlpUEikaB9%2B/aivhQFab5x48bBxcUFmZmZ6N%2B/PyQSCdLS0vDrr78iPDxcfu9PMXr06BFGjRoFmUwGc3NzJCcnY/ny5di%2Bfbuo5qcBkN/j19LSssJN00hMTBQ6Qqnl5%2BcXufqBjo6Owm0kif6NnTsiKjd//vknfHx8cPfuXflctSZNmmDBggWivjuFl5cXrK2t8c0330BXVxf5%2Bfnw9/fHnTt3sGXLFqHjldm5c%2BcQFBSE1NRUbNq0CVu3boW3t7fWfhAU48V%2Bp0%2BfjsqVK2Px4sX46KOPkJ2dDR8fH7x58wZr1qwROh5pKBZ3RFTuEhIS5Le1EvuZigDQpUsXREdHo0qVKvKx3NxcdO/eXbR3qIiKioKfnx/c3NwQFBSEI0eOYMSIEXBwcMC3334rdDyVEGNxl5ycjC%2B//BJJSUmoXr06MjMz0bhxY2zatEkrbidJqqGdH8%2BISFBWVlawsrISOka5qVSpErKyshTuu5qVlSXKk0QK/fTTT/jxxx/Rpk0bBAcHQyKRYNOmTfD09NTa4k5M3r4Mz%2BbNm3H58mVkZGSgU6dOqFGjBt68eSNgOtJ0LO6IiD7Azs4O3t7eWLBgASwtLZGQkIAlS5bI56%2BJ0ePHj9G6dWsAkM/pqlevHl6%2BfClkLPqfwsvwvK3w0i7acIkXUi0Wd0RE7yCTyaCnpwdvb2/5zekL/%2BD26tULM2fOFDhh2dWvXx8nTpxAnz595GPnz59/57UKSb20/RIvpFos7oiI3qF3794YNmwYhg0bhp07dyIhIQEZGRmwsLAQ/eVCpk%2BfjgkTJsDBwQGvXr3CokWLcPDgQaxatUroaCojpinmYrveIGkWnlBBRPQOe/bsQUhICO7evYv%2B/fvD09MTLVq0EDpWuYmLi0NoaCiSkpJQu3ZtuLq6olWrVkLHKpN33SpOT08PxsbGqFKlCq5fv45PPvlEzcmI1I/FHRHRB1y9ehUhISH49ddf0bx5c3h6eqJv376oVKmS0NHK7F33lt2zZw%2BGDBkiQCLltGjRAvn5%2BQD%2Bf25aIV1dXXTt2hXLly9XOCmGSFuxuCMiKqFnz54hLCwMe/bswatXrzB8%2BHCMHTtW6FhlIpVKERQUBGNjYwDAkydPMHfuXFy5ckV0lwsBgKCgIJw6dQpz586FlZUVEhMTsWLFCrRs2RJ9%2B/bFhg0boKenhxUrVggdlUjlWNwREZXS33//jWXLlmH//v2iPWNx3rx5uH37NrZv347o6GgsXrwYTZs2xffffw9LS0uh45Wao6Mj9u7di%2BrVq8vHnj17hsGDB%2BP48ePIysqCg4MDLl68KGBKIvXgCRVERCV08eJF7NmzB8ePH0f79u0RGBgodKQyW7p0KebMmYNPP/0U2dnZ8Pb2hoeHh9CxyiwzM7PIYXIdHR35PbYNDQ3lh22JtB2LOyKi98jIyEBERATCwsKQnp6OgQMHIiIiAg0bNhQ6mtK%2B//57zJo1C48fP8bQoUOFjqOUHj16wNvbG/PmzZPf/9ff3x/du3fH69ev8cMPP2jVyTBE78PDskRE7zB58mScOnUK5ubmGD58OFxdXWFkZCR0LKXY2NgonGxQ%2BCfg7TExHmr%2B%2B%2B%2B/4e3tjXPnzsn3pXfv3li6dCni4uKwfPlyrF69WiuKcqIPYXFHRPQOX331FUaOHIlevXoVuVuAWF26dAkAkJ%2BfD11d3WKfY2trq85I5So1NRWPHz%2BGubm56K9FSFRWLO6IiCogFxcX7NixQ/SdyEJSqRSurq5wdnZWOKmCqCIq/mMbERFptbS0NKEjlKthw4bh0KFD6NmzJ6ZNm4bff/9d6EhEgmHnjoioAvLx8cH169fRr18/mJmZKRx2HjRokIDJlHP//n1ERETg4MGDqFSpElxcXDBp0iShYxGpFYs7IqIKyN7evthxHR0d0d%2B0PicnB8eOHcO6deuQmZmJmJgYoSMRqRWLOyIi0goXLlzAvn378Ntvv6F%2B/foYPHgwBg4ciI8//ljoaERqxevcERFVUAkJCUhNTZVfDkUmk%2BHOnTsYNWqUsMHKoFevXsjOzkb//v2xY8cOtGzZEgDw9OlTgZMRqR87d0REFdCmTZuwZs0a%2BVy7goIC6OjooFmzZoiIiBA4XemFh4ejf//%2BMDQ0BAD89ddf2LZtGw4cOICrV68KnI5Ivdi5IyKqgIKDgxEQEIAqVarg5MmTmDFjBnx9fVGnTh2ho5XJ4MGDAQBXrlzBli1bEB0djcaNG%2BObb74ROBmR%2BrFzR0RUAbVt2xYxMTF4/PgxJkyYgIiICDx9%2BhSurq44efKk0PFKJT8/H0eOHMG2bdtw9%2B5d5OXlYcOGDejRo4fQ0YgEwevcERFVQGZmZsjKykKtWrWQmJiIgoIC1KhRA8%2BePRM6Wqls374djo6O8Pf3h6OjI06fPg0jIyM0adJE6GhEguFhWSKiCqhjx46YMmUK1q5di%2BbNm2P16tXQ19dHrVq1hI5WKn5%2Bfhg%2BfDhmz56NKlWqCB2HSCOwc0dEVAHNnj0b9erVQ15eHubOnYsTJ04gNDQUc%2BfOFTpaqSxYsAAXL15Er169sGbNGqSmpmrNfYCJyopz7oiISPQuXLiAoKAgnD17Fm/evMHSpUshlUpRqVIloaMRqR2LOyKiCiQwMPCDzxHz7bqSkpIQHByM8PBw6OrqYuDAgZg9e7bQsYjUisUdEVEFYmNjg48//hjNmjVDcb/%2BdXR0sGPHDgGSla/Xr1/jwIEDCA4OFuV1%2B4iUweKOiKgC2bZtGyIiIiCTyeDm5oZBgwbB1NRU6FhEVI5Y3BERVUDXrl1DeHg4jh07hnbt2sHNzQ09e/aEri7PsyMSOxZ3REQVWG5uLo4cOYLIyEg8fPgQzs7OmDFjhtCxiEgJLO6IiCq47OxsHD58GNu3b0d8fDyuXbsmdCQiUgIvYkxEVEGdP38e4eHhOHnyJKytrTF06FAMGDBA6FhEpCR27oiIKpCHDx8iMjIS%2B/fvh0wmw4ABA%2BDi4oKmTZsKHY2IygmLOyKiCqRZs2YwMTGBVCpF7969Ubly0QM4HTt2FCAZEZUXFndERBWIjY3Ne5fr6Ojg1q1bakpDRKrA4o6IiIhIi/CCRkRERERahMUdERERkRZhcUdERESkRVjcEREREWkRFndEREREWoTFHREREZEWYXFHREREpEVY3BERERFpERZ3RERERFrk/wD8opKJeQyvFAAAAABJRU5ErkJggg%3D%3D\" class=\"center-img\">\n",
       "</div>\n",
       "    <div class=\"row headerrow highlight\">\n",
       "        <h1>Sample</h1>\n",
       "    </div>\n",
       "    <div class=\"row variablerow\">\n",
       "    <div class=\"col-md-12\" style=\"overflow:scroll; width: 100%%; overflow-y: hidden;\">\n",
       "        <table border=\"1\" class=\"dataframe sample\">\n",
       "  <thead>\n",
       "    <tr style=\"text-align: right;\">\n",
       "      <th></th>\n",
       "      <th>Date</th>\n",
       "      <th>Open</th>\n",
       "      <th>High</th>\n",
       "      <th>Low</th>\n",
       "      <th>Close</th>\n",
       "      <th>Volume</th>\n",
       "      <th>Market Cap</th>\n",
       "      <th>Avg_Price</th>\n",
       "      <th>logVol</th>\n",
       "    </tr>\n",
       "  </thead>\n",
       "  <tbody>\n",
       "    <tr>\n",
       "      <th>0</th>\n",
       "      <td>2018-12-05</td>\n",
       "      <td>3958.89</td>\n",
       "      <td>3969.54</td>\n",
       "      <td>3753.99</td>\n",
       "      <td>3753.99</td>\n",
       "      <td>5.302482e+09</td>\n",
       "      <td>65352496336</td>\n",
       "      <td>3807.8775</td>\n",
       "      <td>22.391441</td>\n",
       "    </tr>\n",
       "    <tr>\n",
       "      <th>1</th>\n",
       "      <td>2018-12-04</td>\n",
       "      <td>3886.29</td>\n",
       "      <td>4075.63</td>\n",
       "      <td>3832.75</td>\n",
       "      <td>3956.89</td>\n",
       "      <td>5.028069e+09</td>\n",
       "      <td>68878292608</td>\n",
       "      <td>3955.5400</td>\n",
       "      <td>22.338302</td>\n",
       "    </tr>\n",
       "    <tr>\n",
       "      <th>2</th>\n",
       "      <td>2018-12-03</td>\n",
       "      <td>4147.32</td>\n",
       "      <td>4155.98</td>\n",
       "      <td>3840.45</td>\n",
       "      <td>3894.13</td>\n",
       "      <td>5.089571e+09</td>\n",
       "      <td>67779050170</td>\n",
       "      <td>3946.1725</td>\n",
       "      <td>22.350459</td>\n",
       "    </tr>\n",
       "    <tr>\n",
       "      <th>3</th>\n",
       "      <td>2018-12-02</td>\n",
       "      <td>4200.73</td>\n",
       "      <td>4301.52</td>\n",
       "      <td>4110.98</td>\n",
       "      <td>4139.88</td>\n",
       "      <td>5.262698e+09</td>\n",
       "      <td>72050487506</td>\n",
       "      <td>4173.0650</td>\n",
       "      <td>22.383910</td>\n",
       "    </tr>\n",
       "    <tr>\n",
       "      <th>4</th>\n",
       "      <td>2018-12-01</td>\n",
       "      <td>4024.46</td>\n",
       "      <td>4309.38</td>\n",
       "      <td>3969.71</td>\n",
       "      <td>4214.67</td>\n",
       "      <td>5.375314e+09</td>\n",
       "      <td>73346194969</td>\n",
       "      <td>4177.1075</td>\n",
       "      <td>22.405083</td>\n",
       "    </tr>\n",
       "  </tbody>\n",
       "</table>\n",
       "    </div>\n",
       "</div>\n",
       "</div>"
      ],
      "text/plain": [
       "<pandas_profiling.ProfileReport at 0x1fc0daa3358>"
      ]
     },
     "execution_count": 145,
     "metadata": {},
     "output_type": "execute_result"
    }
   ],
   "source": [
    "pandas_profiling.ProfileReport(df_bitcoin)"
   ]
  },
  {
   "cell_type": "code",
   "execution_count": 146,
   "metadata": {
    "scrolled": true
   },
   "outputs": [
    {
     "data": {
      "text/plain": [
       "array([[ 0.05263909],\n",
       "       [-0.01598807],\n",
       "       [ 0.06119651],\n",
       "       ...,\n",
       "       [-0.01476199],\n",
       "       [-0.02338383],\n",
       "       [ 0.00989823]])"
      ]
     },
     "execution_count": 146,
     "metadata": {},
     "output_type": "execute_result"
    }
   ],
   "source": [
    "Close_Price = df_bitcoin['Close']\n",
    "price_today = Close_Price[1:].values.reshape(-1,1)\n",
    "price_previous = Close_Price[0:-1].values.reshape(-1,1)\n",
    "Return = np.log(price_today/price_previous)\n",
    "Return"
   ]
  },
  {
   "cell_type": "markdown",
   "metadata": {},
   "source": [
    "## Calculate OLS :\n",
    "The OLS estimater is:\n",
    "$$\\hat{\\beta}=(X`X)^{-1}X`Y$$"
   ]
  },
  {
   "cell_type": "code",
   "execution_count": 147,
   "metadata": {
    "collapsed": true
   },
   "outputs": [],
   "source": [
    "data = df_bitcoin[['Volume','Market Cap']].values"
   ]
  },
  {
   "cell_type": "code",
   "execution_count": 148,
   "metadata": {
    "collapsed": true
   },
   "outputs": [],
   "source": [
    "N = 2 + 1 # we only have 2 variables: Volume and market Cap \n",
    "\n",
    "def OLS(X,Y):\n",
    "    \n",
    "    nrow = X.shape[0]\n",
    "    intercept = np.ones((nrow,1))\n",
    "    predictor1 = X[:,0].reshape(-1,1)\n",
    "    predictor2 = X[:,1].reshape(-1,1)\n",
    "    \n",
    "    X = np.concatenate((intercept, predictor1, predictor2), axis=1)\n",
    "    \n",
    "    ## Use the equation (X'X)^(-1)X'Y to calculate OLS coefficient estimates:\n",
    "    bh = np.dot(np.linalg.inv(np.dot(X.T,X)),np.dot(X.T,Y))\n",
    "    print('OLS coefficient estimates:       {}'.format(bh.T))\n",
    "    \n",
    "    ## check your work with Numpy's built in OLS function:\n",
    "    z,resid,rank,sigma = np.linalg.lstsq(X,Y)\n",
    "    print('check with build in OLS function:{}'.format(z.T))\n",
    "    \n",
    "    return bh.T"
   ]
  },
  {
   "cell_type": "code",
   "execution_count": 149,
   "metadata": {},
   "outputs": [
    {
     "name": "stdout",
     "output_type": "stream",
     "text": [
      "OLS coefficient estimates:       [[-1.27221657e-03  8.62933580e-13 -2.48780570e-14]]\n",
      "check with build in OLS function:[[-1.27221657e-03  8.62933580e-13 -2.48780570e-14]]\n"
     ]
    },
    {
     "name": "stderr",
     "output_type": "stream",
     "text": [
      "C:\\ProgramData\\Anaconda3\\lib\\site-packages\\ipykernel_launcher.py:17: FutureWarning:\n",
      "\n",
      "`rcond` parameter will change to the default of machine precision times ``max(M, N)`` where M and N are the input matrix dimensions.\n",
      "To use the future default and silence this warning we advise to pass `rcond=None`, to keep using the old, explicitly pass `rcond=-1`.\n",
      "\n"
     ]
    }
   ],
   "source": [
    "bh = OLS(data[1:],Return) # we use all data except first day"
   ]
  },
  {
   "cell_type": "markdown",
   "metadata": {},
   "source": [
    "## Calculate T-test scores :  \n",
    "The associated test statistic:  \n",
    "$$t=\\frac{\\hat{\\beta}}{\\sigma(\\hat{\\beta})}$$\n",
    "T-test result implies significance of the single tested variable."
   ]
  },
  {
   "cell_type": "markdown",
   "metadata": {},
   "source": [
    "### Covariance Matrix\n",
    "Firstly, we need to calculate covariance matrix of $var(\\hat{\\beta}) = \\begin{bmatrix}\\sigma(\\hat{\\beta_0})^2 & cov(\\hat{\\beta_0},\\hat{\\beta_1}) & cov(\\hat{\\beta_0},\\hat{\\beta_2})\\\\cov(\\hat{\\beta_1},\\hat{\\beta_0}) & \\sigma(\\hat{\\beta_1})^2 & cov(\\hat{\\beta_1},\\hat{\\beta_2})\\\\cov(\\hat{\\beta_2},\\hat{\\beta_0}) & cov(\\hat{\\beta_2},\\hat{\\beta_1}) & \\sigma(\\hat{\\beta_2})^2\\end{bmatrix}$  \n",
    "Note that $cov(\\hat{\\beta_0},\\hat{\\beta_1})=cov(\\hat{\\beta_1},\\hat{\\beta_0})$，so here we get a **Symmetric Matrices**  \n",
    "For multivariate regression, we use formula below to get $var(\\hat{\\beta})$ :\n",
    "$$var(\\hat{\\beta})=(X`X)^{-1}X`var(\\epsilon)X(X`X)^{-1}=var(\\epsilon)(X`X)^{-1}$$  \n",
    "where \n",
    "$$var(\\epsilon)=\\frac{1}{T-N}\\sum_{t=1}^T\\hat{\\epsilon_t}^2$$  "
   ]
  },
  {
   "cell_type": "code",
   "execution_count": 150,
   "metadata": {
    "collapsed": true
   },
   "outputs": [],
   "source": [
    "intercept = np.ones((data.shape[0],1))\n",
    "volume = data[:,0].reshape(-1,1)\n",
    "mkt_cap = data[:,1].reshape(-1,1)\n",
    "variables_matrix = np.concatenate((intercept, volume, mkt_cap), axis=1)"
   ]
  },
  {
   "cell_type": "code",
   "execution_count": 151,
   "metadata": {},
   "outputs": [
    {
     "name": "stdout",
     "output_type": "stream",
     "text": [
      "[[1.00000000e+00 5.02806924e+09 6.88782926e+10]\n",
      " [1.00000000e+00 5.08957099e+09 6.77790502e+10]\n",
      " [1.00000000e+00 5.26269790e+09 7.20504875e+10]\n",
      " ...\n",
      " [1.00000000e+00 1.90113000e+07 9.08210362e+09]\n",
      " [1.00000000e+00 3.25058000e+07 8.86991864e+09]\n",
      " [1.00000000e+00 4.68627000e+07 8.95539456e+09]]\n",
      "The shape of matrix: (1804, 3)\n"
     ]
    }
   ],
   "source": [
    "variables_matrix = variables_matrix[1:] # count from the second day data to match return\n",
    "print(variables_matrix)\n",
    "print(\"The shape of matrix: {}\".format(variables_matrix.shape))"
   ]
  },
  {
   "cell_type": "code",
   "execution_count": 152,
   "metadata": {},
   "outputs": [
    {
     "name": "stdout",
     "output_type": "stream",
     "text": [
      "0.001564383070836741\n"
     ]
    }
   ],
   "source": [
    "predictions = np.dot(variables_matrix,bh.T) # calculate predictions using coefficiencies (bh)\n",
    "epsilon_hat_square_sum = sum((Return-predictions)**2) # calculate sum of square errors\n",
    "var_epsilon = (epsilon_hat_square_sum/(variables_matrix.shape[0]-variables_matrix.shape[1]))[0]\n",
    "print(var_epsilon)"
   ]
  },
  {
   "cell_type": "code",
   "execution_count": 153,
   "metadata": {},
   "outputs": [
    {
     "name": "stdout",
     "output_type": "stream",
     "text": [
      "[[ 1.43673487e-06  3.18547889e-16 -2.57272882e-17]\n",
      " [ 3.18547889e-16  7.13291585e-25 -3.51725898e-26]\n",
      " [-2.57272882e-17 -3.51725898e-26  1.96931557e-27]]\n"
     ]
    }
   ],
   "source": [
    "X = variables_matrix\n",
    "\n",
    "var_beta_hat = np.mat(np.dot(X.T,X)).I*var_epsilon\n",
    "print(var_beta_hat)"
   ]
  },
  {
   "cell_type": "code",
   "execution_count": 154,
   "metadata": {},
   "outputs": [
    {
     "data": {
      "text/plain": [
       "matrix([[1.80400000e+03, 2.98799487e+12, 7.69341128e+13],\n",
       "        [2.98799487e+12, 2.33323403e+22, 4.55758263e+23],\n",
       "        [7.69341128e+13, 4.55758263e+23, 9.93943678e+24]])"
      ]
     },
     "execution_count": 154,
     "metadata": {},
     "output_type": "execute_result"
    }
   ],
   "source": [
    "np.mat(np.dot(X.T,X))"
   ]
  },
  {
   "cell_type": "code",
   "execution_count": 155,
   "metadata": {},
   "outputs": [
    {
     "name": "stdout",
     "output_type": "stream",
     "text": [
      "T test for beta_0: -1.0614 ; t for beta_1: 1.0217 ; t for beta_3: -0.5606.\n"
     ]
    }
   ],
   "source": [
    "t_beta0 = bh[0][0]/math.sqrt(np.array(var_beta_hat[0])[0][0])\n",
    "t_beta1 = bh[0][1]/math.sqrt(np.array(var_beta_hat[1])[0][1])\n",
    "t_beta2 = bh[0][2]/math.sqrt(np.array(var_beta_hat[2])[0][2])\n",
    "print('T test for beta_0: %.4f ; t for beta_1: %.4f ; t for beta_3: %.4f.'%(t_beta0,t_beta1,t_beta2))"
   ]
  },
  {
   "cell_type": "markdown",
   "metadata": {},
   "source": [
    "## Calculate R<sup>2</sup> :\n",
    "$$R^2 = 1-\\frac{SSE}{SSY} = 1-\\frac{\\sum_{t=1}^T{(Y_i-\\hat{Y}_i)^2}}{\\sum_{t=1}^T(Y_i-\\bar{Y})^2}$$"
   ]
  },
  {
   "cell_type": "code",
   "execution_count": 156,
   "metadata": {},
   "outputs": [
    {
     "name": "stdout",
     "output_type": "stream",
     "text": [
      "2.8174539105769703\n"
     ]
    }
   ],
   "source": [
    "# Sum of Squared errors\n",
    "SSE = epsilon_hat_square_sum[0]\n",
    "print(SSE)"
   ]
  },
  {
   "cell_type": "code",
   "execution_count": 157,
   "metadata": {},
   "outputs": [
    {
     "name": "stdout",
     "output_type": "stream",
     "text": [
      "2.821166850296025\n"
     ]
    }
   ],
   "source": [
    "# Sum of Squared deviation of Y\n",
    "SSY = ((Return - Return.mean())**2).sum()\n",
    "print(SSY)"
   ]
  },
  {
   "cell_type": "code",
   "execution_count": 158,
   "metadata": {},
   "outputs": [
    {
     "name": "stdout",
     "output_type": "stream",
     "text": [
      "0.001316100718631752\n"
     ]
    }
   ],
   "source": [
    "R2 = 1 - SSE/SSY\n",
    "print(R2)"
   ]
  },
  {
   "cell_type": "markdown",
   "metadata": {},
   "source": [
    "## Checking our R2 correctness Model with Linear Regression Model"
   ]
  },
  {
   "cell_type": "code",
   "execution_count": 159,
   "metadata": {},
   "outputs": [
    {
     "name": "stdout",
     "output_type": "stream",
     "text": [
      "Our R2 score: 0.00131610 ; build in R2 score: 0.00131610\n"
     ]
    }
   ],
   "source": [
    "regr = linear_model.LinearRegression(normalize = True)\n",
    "X = data[1:]\n",
    "# Train the model using the training sets\n",
    "regr.fit(X, Return)\n",
    "y_hat = regr.predict(X)\n",
    "r2 = r2_score(Return, y_hat)\n",
    "print('Our R2 score: %.8f ; build in R2 score: %.8f'%(R2,r2))"
   ]
  },
  {
   "cell_type": "markdown",
   "metadata": {},
   "source": [
    "## Calculate F test score:\n",
    "F-test equation is below:\n",
    "$$F = \\frac{{R^2}/(N-1)}{(1-R^2)/(T-N)}$$\n",
    "* N-1 is the number of variables (in our example, N = 3)\n",
    "* T is the number of total observations\n",
    "* in here $R^2$ is **NOT** $R$ with power 2; instead it is R squared score as we will calculate latter"
   ]
  },
  {
   "cell_type": "code",
   "execution_count": 160,
   "metadata": {},
   "outputs": [
    {
     "name": "stdout",
     "output_type": "stream",
     "text": [
      "1.1851507499525151\n"
     ]
    }
   ],
   "source": [
    "F_r2 = (R2/(N-1))/((1-R2**2)/(Return.size-N))\n",
    "print(F_r2)"
   ]
  },
  {
   "cell_type": "code",
   "execution_count": 161,
   "metadata": {},
   "outputs": [
    {
     "name": "stdout",
     "output_type": "stream",
     "text": [
      "0.001564383070836741\n"
     ]
    }
   ],
   "source": [
    "MSE = var_epsilon\n",
    "print(MSE)"
   ]
  },
  {
   "cell_type": "code",
   "execution_count": 162,
   "metadata": {},
   "outputs": [
    {
     "name": "stdout",
     "output_type": "stream",
     "text": [
      "0.0018564698595282944\n"
     ]
    }
   ],
   "source": [
    "MSM = (sum((predictions - Return.mean())**2) / (N-1))[0]\n",
    "print(MSM)"
   ]
  },
  {
   "cell_type": "code",
   "execution_count": 163,
   "metadata": {},
   "outputs": [
    {
     "name": "stdout",
     "output_type": "stream",
     "text": [
      "1.1867105277068264\n"
     ]
    }
   ],
   "source": [
    "F = MSM/MSE\n",
    "print(F) # this is different from F_r2, probably because of approximation problem"
   ]
  },
  {
   "cell_type": "code",
   "execution_count": 164,
   "metadata": {
    "collapsed": true
   },
   "outputs": [],
   "source": [
    "tt = var_beta_hat[1:,1:]"
   ]
  },
  {
   "cell_type": "code",
   "execution_count": 165,
   "metadata": {
    "collapsed": true
   },
   "outputs": [],
   "source": [
    "th = bh[0][1:].reshape(1,-1)"
   ]
  },
  {
   "cell_type": "code",
   "execution_count": 166,
   "metadata": {},
   "outputs": [
    {
     "data": {
      "text/plain": [
       "matrix([[1.18671053]])"
      ]
     },
     "execution_count": 166,
     "metadata": {},
     "output_type": "execute_result"
    }
   ],
   "source": [
    "th*tt.I*th.T/2"
   ]
  },
  {
   "cell_type": "code",
   "execution_count": 167,
   "metadata": {},
   "outputs": [
    {
     "name": "stdout",
     "output_type": "stream",
     "text": [
      "758.5805227821122\n"
     ]
    }
   ],
   "source": [
    "MSM = th*tt.I*th.T/2\n",
    "MSE = var_epsilon\n",
    "F = MSM / MSE\n",
    "F = np.array(F)[0][0] # extract scalar value from matrix format\n",
    "print(F) # this value is too much away from F values above"
   ]
  },
  {
   "cell_type": "markdown",
   "metadata": {},
   "source": [
    "- If we use var_beta_hat of $\\hat{\\beta}_1$ and $\\hat{\\beta}_2$:   $\\begin{bmatrix}\\hat{\\beta}_1 & \\hat{\\beta}_2\\end{bmatrix}\\begin{bmatrix}\\sigma(\\hat{\\beta}_1)^2 & cov(\\hat{\\beta}_1,\\hat{\\beta}_2) \\\\ cov(\\hat{\\beta}_2,\\hat{\\beta}_1) & \\sigma(\\hat{\\beta}_2)^2\\end{bmatrix}\\begin{bmatrix}\\hat{\\beta}_1 \\\\ \\hat{\\beta}_2\\end{bmatrix}$  \n",
    "We directly get the same result of F score. So $V_m(\\hat{\\beta})$ must not be $\\begin{bmatrix}\\sigma(\\hat{\\beta}_1)^2 & cov(\\hat{\\beta}_1,\\hat{\\beta}_2) \\\\ cov(\\hat{\\beta}_2,\\hat{\\beta}_1) & \\sigma(\\hat{\\beta}_2)^2\\end{bmatrix}$, otherwise we need to divided by MSE.  \n",
    "One possibility is that $V_m(\\hat{\\beta}) = var(\\epsilon)*\\begin{bmatrix}\\sigma(\\hat{\\beta}_1)^2 & cov(\\hat{\\beta}_1,\\hat{\\beta}_2) \\\\ cov(\\hat{\\beta}_2,\\hat{\\beta}_1) & \\sigma(\\hat{\\beta}_2)^2\\end{bmatrix}$ if \"two inverse matrix equal => these two matrix are equal\" holds, which I'm not sure."
   ]
  },
  {
   "cell_type": "markdown",
   "metadata": {
    "collapsed": true
   },
   "source": [
    "### Bollinger Band"
   ]
  },
  {
   "cell_type": "code",
   "execution_count": null,
   "metadata": {
    "collapsed": true
   },
   "outputs": [],
   "source": []
  },
  {
   "cell_type": "code",
   "execution_count": 168,
   "metadata": {},
   "outputs": [
    {
     "data": {
      "text/html": [
       "<div>\n",
       "<style>\n",
       "    .dataframe thead tr:only-child th {\n",
       "        text-align: right;\n",
       "    }\n",
       "\n",
       "    .dataframe thead th {\n",
       "        text-align: left;\n",
       "    }\n",
       "\n",
       "    .dataframe tbody tr th {\n",
       "        vertical-align: top;\n",
       "    }\n",
       "</style>\n",
       "<table border=\"1\" class=\"dataframe\">\n",
       "  <thead>\n",
       "    <tr style=\"text-align: right;\">\n",
       "      <th></th>\n",
       "      <th>Date</th>\n",
       "      <th>Open</th>\n",
       "      <th>High</th>\n",
       "      <th>Low</th>\n",
       "      <th>Close</th>\n",
       "      <th>Volume</th>\n",
       "      <th>Market Cap</th>\n",
       "      <th>Avg_Price</th>\n",
       "      <th>logVol</th>\n",
       "      <th>Previous Close</th>\n",
       "      <th>Previous Volume</th>\n",
       "    </tr>\n",
       "  </thead>\n",
       "  <tbody>\n",
       "    <tr>\n",
       "      <th>0</th>\n",
       "      <td>2018-12-05</td>\n",
       "      <td>3958.89</td>\n",
       "      <td>3969.54</td>\n",
       "      <td>3753.99</td>\n",
       "      <td>3753.99</td>\n",
       "      <td>5.302482e+09</td>\n",
       "      <td>65352496336</td>\n",
       "      <td>3807.8775</td>\n",
       "      <td>22.391441</td>\n",
       "      <td>0.00</td>\n",
       "      <td>0.000000e+00</td>\n",
       "    </tr>\n",
       "    <tr>\n",
       "      <th>1</th>\n",
       "      <td>2018-12-04</td>\n",
       "      <td>3886.29</td>\n",
       "      <td>4075.63</td>\n",
       "      <td>3832.75</td>\n",
       "      <td>3956.89</td>\n",
       "      <td>5.028069e+09</td>\n",
       "      <td>68878292608</td>\n",
       "      <td>3955.5400</td>\n",
       "      <td>22.338302</td>\n",
       "      <td>3753.99</td>\n",
       "      <td>5.302482e+09</td>\n",
       "    </tr>\n",
       "    <tr>\n",
       "      <th>2</th>\n",
       "      <td>2018-12-03</td>\n",
       "      <td>4147.32</td>\n",
       "      <td>4155.98</td>\n",
       "      <td>3840.45</td>\n",
       "      <td>3894.13</td>\n",
       "      <td>5.089571e+09</td>\n",
       "      <td>67779050170</td>\n",
       "      <td>3946.1725</td>\n",
       "      <td>22.350459</td>\n",
       "      <td>3956.89</td>\n",
       "      <td>5.028069e+09</td>\n",
       "    </tr>\n",
       "    <tr>\n",
       "      <th>3</th>\n",
       "      <td>2018-12-02</td>\n",
       "      <td>4200.73</td>\n",
       "      <td>4301.52</td>\n",
       "      <td>4110.98</td>\n",
       "      <td>4139.88</td>\n",
       "      <td>5.262698e+09</td>\n",
       "      <td>72050487506</td>\n",
       "      <td>4173.0650</td>\n",
       "      <td>22.383910</td>\n",
       "      <td>3894.13</td>\n",
       "      <td>5.089571e+09</td>\n",
       "    </tr>\n",
       "    <tr>\n",
       "      <th>4</th>\n",
       "      <td>2018-12-01</td>\n",
       "      <td>4024.46</td>\n",
       "      <td>4309.38</td>\n",
       "      <td>3969.71</td>\n",
       "      <td>4214.67</td>\n",
       "      <td>5.375314e+09</td>\n",
       "      <td>73346194969</td>\n",
       "      <td>4177.1075</td>\n",
       "      <td>22.405083</td>\n",
       "      <td>4139.88</td>\n",
       "      <td>5.262698e+09</td>\n",
       "    </tr>\n",
       "  </tbody>\n",
       "</table>\n",
       "</div>"
      ],
      "text/plain": [
       "        Date     Open     High      Low    Close        Volume   Market Cap  \\\n",
       "0 2018-12-05  3958.89  3969.54  3753.99  3753.99  5.302482e+09  65352496336   \n",
       "1 2018-12-04  3886.29  4075.63  3832.75  3956.89  5.028069e+09  68878292608   \n",
       "2 2018-12-03  4147.32  4155.98  3840.45  3894.13  5.089571e+09  67779050170   \n",
       "3 2018-12-02  4200.73  4301.52  4110.98  4139.88  5.262698e+09  72050487506   \n",
       "4 2018-12-01  4024.46  4309.38  3969.71  4214.67  5.375314e+09  73346194969   \n",
       "\n",
       "   Avg_Price     logVol  Previous Close  Previous Volume  \n",
       "0  3807.8775  22.391441            0.00     0.000000e+00  \n",
       "1  3955.5400  22.338302         3753.99     5.302482e+09  \n",
       "2  3946.1725  22.350459         3956.89     5.028069e+09  \n",
       "3  4173.0650  22.383910         3894.13     5.089571e+09  \n",
       "4  4177.1075  22.405083         4139.88     5.262698e+09  "
      ]
     },
     "execution_count": 168,
     "metadata": {},
     "output_type": "execute_result"
    }
   ],
   "source": [
    "df_bitcoin['Previous Close']=df_bitcoin['Close'].shift(1)\n",
    "df_bitcoin['Previous Volume']=df_bitcoin['Volume'].shift(1)\n",
    "df_bitcoin.fillna(0, inplace=True)\n",
    "df_bitcoin.head(5)\n"
   ]
  },
  {
   "cell_type": "code",
   "execution_count": 169,
   "metadata": {},
   "outputs": [],
   "source": [
    "from pandas import DatetimeIndex\n",
    "df_bitcoin.index = DatetimeIndex(df_bitcoin['Date'])"
   ]
  },
  {
   "cell_type": "code",
   "execution_count": null,
   "metadata": {},
   "outputs": [],
   "source": []
  },
  {
   "cell_type": "code",
   "execution_count": 170,
   "metadata": {
    "collapsed": true
   },
   "outputs": [],
   "source": [
    "ExData = df_bitcoin"
   ]
  },
  {
   "cell_type": "code",
   "execution_count": 171,
   "metadata": {},
   "outputs": [
    {
     "data": {
      "text/html": [
       "<div>\n",
       "<style>\n",
       "    .dataframe thead tr:only-child th {\n",
       "        text-align: right;\n",
       "    }\n",
       "\n",
       "    .dataframe thead th {\n",
       "        text-align: left;\n",
       "    }\n",
       "\n",
       "    .dataframe tbody tr th {\n",
       "        vertical-align: top;\n",
       "    }\n",
       "</style>\n",
       "<table border=\"1\" class=\"dataframe\">\n",
       "  <thead>\n",
       "    <tr style=\"text-align: right;\">\n",
       "      <th></th>\n",
       "      <th>Date</th>\n",
       "      <th>Open</th>\n",
       "      <th>High</th>\n",
       "      <th>Low</th>\n",
       "      <th>Close</th>\n",
       "      <th>Volume</th>\n",
       "      <th>Market Cap</th>\n",
       "      <th>Avg_Price</th>\n",
       "      <th>logVol</th>\n",
       "      <th>Previous Close</th>\n",
       "      <th>Previous Volume</th>\n",
       "    </tr>\n",
       "    <tr>\n",
       "      <th>Date</th>\n",
       "      <th></th>\n",
       "      <th></th>\n",
       "      <th></th>\n",
       "      <th></th>\n",
       "      <th></th>\n",
       "      <th></th>\n",
       "      <th></th>\n",
       "      <th></th>\n",
       "      <th></th>\n",
       "      <th></th>\n",
       "      <th></th>\n",
       "    </tr>\n",
       "  </thead>\n",
       "  <tbody>\n",
       "    <tr>\n",
       "      <th>2018-12-05</th>\n",
       "      <td>2018-12-05</td>\n",
       "      <td>3958.89</td>\n",
       "      <td>3969.54</td>\n",
       "      <td>3753.99</td>\n",
       "      <td>3753.99</td>\n",
       "      <td>5.302482e+09</td>\n",
       "      <td>65352496336</td>\n",
       "      <td>3807.8775</td>\n",
       "      <td>22.391441</td>\n",
       "      <td>0.00</td>\n",
       "      <td>0.000000e+00</td>\n",
       "    </tr>\n",
       "    <tr>\n",
       "      <th>2018-12-04</th>\n",
       "      <td>2018-12-04</td>\n",
       "      <td>3886.29</td>\n",
       "      <td>4075.63</td>\n",
       "      <td>3832.75</td>\n",
       "      <td>3956.89</td>\n",
       "      <td>5.028069e+09</td>\n",
       "      <td>68878292608</td>\n",
       "      <td>3955.5400</td>\n",
       "      <td>22.338302</td>\n",
       "      <td>3753.99</td>\n",
       "      <td>5.302482e+09</td>\n",
       "    </tr>\n",
       "    <tr>\n",
       "      <th>2018-12-03</th>\n",
       "      <td>2018-12-03</td>\n",
       "      <td>4147.32</td>\n",
       "      <td>4155.98</td>\n",
       "      <td>3840.45</td>\n",
       "      <td>3894.13</td>\n",
       "      <td>5.089571e+09</td>\n",
       "      <td>67779050170</td>\n",
       "      <td>3946.1725</td>\n",
       "      <td>22.350459</td>\n",
       "      <td>3956.89</td>\n",
       "      <td>5.028069e+09</td>\n",
       "    </tr>\n",
       "    <tr>\n",
       "      <th>2018-12-02</th>\n",
       "      <td>2018-12-02</td>\n",
       "      <td>4200.73</td>\n",
       "      <td>4301.52</td>\n",
       "      <td>4110.98</td>\n",
       "      <td>4139.88</td>\n",
       "      <td>5.262698e+09</td>\n",
       "      <td>72050487506</td>\n",
       "      <td>4173.0650</td>\n",
       "      <td>22.383910</td>\n",
       "      <td>3894.13</td>\n",
       "      <td>5.089571e+09</td>\n",
       "    </tr>\n",
       "    <tr>\n",
       "      <th>2018-12-01</th>\n",
       "      <td>2018-12-01</td>\n",
       "      <td>4024.46</td>\n",
       "      <td>4309.38</td>\n",
       "      <td>3969.71</td>\n",
       "      <td>4214.67</td>\n",
       "      <td>5.375314e+09</td>\n",
       "      <td>73346194969</td>\n",
       "      <td>4177.1075</td>\n",
       "      <td>22.405083</td>\n",
       "      <td>4139.88</td>\n",
       "      <td>5.262698e+09</td>\n",
       "    </tr>\n",
       "  </tbody>\n",
       "</table>\n",
       "</div>"
      ],
      "text/plain": [
       "                 Date     Open     High      Low    Close        Volume  \\\n",
       "Date                                                                      \n",
       "2018-12-05 2018-12-05  3958.89  3969.54  3753.99  3753.99  5.302482e+09   \n",
       "2018-12-04 2018-12-04  3886.29  4075.63  3832.75  3956.89  5.028069e+09   \n",
       "2018-12-03 2018-12-03  4147.32  4155.98  3840.45  3894.13  5.089571e+09   \n",
       "2018-12-02 2018-12-02  4200.73  4301.52  4110.98  4139.88  5.262698e+09   \n",
       "2018-12-01 2018-12-01  4024.46  4309.38  3969.71  4214.67  5.375314e+09   \n",
       "\n",
       "             Market Cap  Avg_Price     logVol  Previous Close  Previous Volume  \n",
       "Date                                                                            \n",
       "2018-12-05  65352496336  3807.8775  22.391441            0.00     0.000000e+00  \n",
       "2018-12-04  68878292608  3955.5400  22.338302         3753.99     5.302482e+09  \n",
       "2018-12-03  67779050170  3946.1725  22.350459         3956.89     5.028069e+09  \n",
       "2018-12-02  72050487506  4173.0650  22.383910         3894.13     5.089571e+09  \n",
       "2018-12-01  73346194969  4177.1075  22.405083         4139.88     5.262698e+09  "
      ]
     },
     "execution_count": 171,
     "metadata": {},
     "output_type": "execute_result"
    }
   ],
   "source": [
    "ExData.head()"
   ]
  },
  {
   "cell_type": "code",
   "execution_count": 172,
   "metadata": {},
   "outputs": [
    {
     "data": {
      "text/html": [
       "<div>\n",
       "<style>\n",
       "    .dataframe thead tr:only-child th {\n",
       "        text-align: right;\n",
       "    }\n",
       "\n",
       "    .dataframe thead th {\n",
       "        text-align: left;\n",
       "    }\n",
       "\n",
       "    .dataframe tbody tr th {\n",
       "        vertical-align: top;\n",
       "    }\n",
       "</style>\n",
       "<table border=\"1\" class=\"dataframe\">\n",
       "  <thead>\n",
       "    <tr style=\"text-align: right;\">\n",
       "      <th></th>\n",
       "      <th>Close</th>\n",
       "      <th>Previous Close</th>\n",
       "      <th>Previous Volume</th>\n",
       "    </tr>\n",
       "    <tr>\n",
       "      <th>Date</th>\n",
       "      <th></th>\n",
       "      <th></th>\n",
       "      <th></th>\n",
       "    </tr>\n",
       "  </thead>\n",
       "  <tbody>\n",
       "    <tr>\n",
       "      <th>2018-12-05</th>\n",
       "      <td>3753.99</td>\n",
       "      <td>0.00</td>\n",
       "      <td>0.000000e+00</td>\n",
       "    </tr>\n",
       "    <tr>\n",
       "      <th>2018-12-04</th>\n",
       "      <td>3956.89</td>\n",
       "      <td>3753.99</td>\n",
       "      <td>5.302482e+09</td>\n",
       "    </tr>\n",
       "    <tr>\n",
       "      <th>2018-12-03</th>\n",
       "      <td>3894.13</td>\n",
       "      <td>3956.89</td>\n",
       "      <td>5.028069e+09</td>\n",
       "    </tr>\n",
       "    <tr>\n",
       "      <th>2018-12-02</th>\n",
       "      <td>4139.88</td>\n",
       "      <td>3894.13</td>\n",
       "      <td>5.089571e+09</td>\n",
       "    </tr>\n",
       "    <tr>\n",
       "      <th>2018-12-01</th>\n",
       "      <td>4214.67</td>\n",
       "      <td>4139.88</td>\n",
       "      <td>5.262698e+09</td>\n",
       "    </tr>\n",
       "  </tbody>\n",
       "</table>\n",
       "</div>"
      ],
      "text/plain": [
       "              Close  Previous Close  Previous Volume\n",
       "Date                                                \n",
       "2018-12-05  3753.99            0.00     0.000000e+00\n",
       "2018-12-04  3956.89         3753.99     5.302482e+09\n",
       "2018-12-03  3894.13         3956.89     5.028069e+09\n",
       "2018-12-02  4139.88         3894.13     5.089571e+09\n",
       "2018-12-01  4214.67         4139.88     5.262698e+09"
      ]
     },
     "execution_count": 172,
     "metadata": {},
     "output_type": "execute_result"
    }
   ],
   "source": [
    "Predict = pd.DataFrame()\n",
    "Predict['Close']=df_bitcoin['Close']\n",
    "Predict['Previous Close']=ExData['Previous Close']\n",
    "Predict['Previous Volume']=ExData['Previous Volume']\n",
    "Predict.head()"
   ]
  },
  {
   "cell_type": "code",
   "execution_count": 173,
   "metadata": {
    "collapsed": true
   },
   "outputs": [],
   "source": [
    "X = Predict.iloc[:,1:].values\n",
    "y = Predict.iloc[:,0].values"
   ]
  },
  {
   "cell_type": "code",
   "execution_count": 174,
   "metadata": {
    "collapsed": true
   },
   "outputs": [],
   "source": [
    "y = y.reshape(len(X), 1)"
   ]
  },
  {
   "cell_type": "code",
   "execution_count": 175,
   "metadata": {},
   "outputs": [
    {
     "data": {
      "text/plain": [
       "array([[9.70041561e-01],\n",
       "       [3.63578938e-08]])"
      ]
     },
     "execution_count": 175,
     "metadata": {},
     "output_type": "execute_result"
    }
   ],
   "source": [
    "beta_hat = np.dot(np.dot((np.linalg.inv(np.dot(X.T, X))), X.T), y) #OLS estimator beta: N x 1\n",
    "beta_hat"
   ]
  },
  {
   "cell_type": "code",
   "execution_count": 176,
   "metadata": {
    "collapsed": true
   },
   "outputs": [],
   "source": [
    "y_hat = np.dot(X,beta_hat) #Predictive value of Y_t using OLS\n",
    "y_hat\n",
    "Predict['Regressed Close']=y_hat"
   ]
  },
  {
   "cell_type": "code",
   "execution_count": 177,
   "metadata": {
    "collapsed": true
   },
   "outputs": [],
   "source": [
    "residuals = y - y_hat #Residuals from OLS: Y - X*beta\n",
    "residuals\n",
    "Predict['Residuals']=residuals"
   ]
  },
  {
   "cell_type": "code",
   "execution_count": 178,
   "metadata": {},
   "outputs": [
    {
     "data": {
      "text/html": [
       "<div>\n",
       "<style>\n",
       "    .dataframe thead tr:only-child th {\n",
       "        text-align: right;\n",
       "    }\n",
       "\n",
       "    .dataframe thead th {\n",
       "        text-align: left;\n",
       "    }\n",
       "\n",
       "    .dataframe tbody tr th {\n",
       "        vertical-align: top;\n",
       "    }\n",
       "</style>\n",
       "<table border=\"1\" class=\"dataframe\">\n",
       "  <thead>\n",
       "    <tr style=\"text-align: right;\">\n",
       "      <th></th>\n",
       "      <th>Close</th>\n",
       "      <th>Previous Close</th>\n",
       "      <th>Previous Volume</th>\n",
       "      <th>Regressed Close</th>\n",
       "      <th>Residuals</th>\n",
       "    </tr>\n",
       "    <tr>\n",
       "      <th>Date</th>\n",
       "      <th></th>\n",
       "      <th></th>\n",
       "      <th></th>\n",
       "      <th></th>\n",
       "      <th></th>\n",
       "    </tr>\n",
       "  </thead>\n",
       "  <tbody>\n",
       "    <tr>\n",
       "      <th>2018-12-05</th>\n",
       "      <td>3753.99</td>\n",
       "      <td>0.00</td>\n",
       "      <td>0.000000e+00</td>\n",
       "      <td>0.000000</td>\n",
       "      <td>3753.990000</td>\n",
       "    </tr>\n",
       "    <tr>\n",
       "      <th>2018-12-04</th>\n",
       "      <td>3956.89</td>\n",
       "      <td>3753.99</td>\n",
       "      <td>5.302482e+09</td>\n",
       "      <td>3834.313382</td>\n",
       "      <td>122.576618</td>\n",
       "    </tr>\n",
       "    <tr>\n",
       "      <th>2018-12-03</th>\n",
       "      <td>3894.13</td>\n",
       "      <td>3956.89</td>\n",
       "      <td>5.028069e+09</td>\n",
       "      <td>4021.157760</td>\n",
       "      <td>-127.027760</td>\n",
       "    </tr>\n",
       "    <tr>\n",
       "      <th>2018-12-02</th>\n",
       "      <td>4139.88</td>\n",
       "      <td>3894.13</td>\n",
       "      <td>5.089571e+09</td>\n",
       "      <td>3962.514026</td>\n",
       "      <td>177.365974</td>\n",
       "    </tr>\n",
       "    <tr>\n",
       "      <th>2018-12-01</th>\n",
       "      <td>4214.67</td>\n",
       "      <td>4139.88</td>\n",
       "      <td>5.262698e+09</td>\n",
       "      <td>4207.196269</td>\n",
       "      <td>7.473731</td>\n",
       "    </tr>\n",
       "  </tbody>\n",
       "</table>\n",
       "</div>"
      ],
      "text/plain": [
       "              Close  Previous Close  Previous Volume  Regressed Close  \\\n",
       "Date                                                                    \n",
       "2018-12-05  3753.99            0.00     0.000000e+00         0.000000   \n",
       "2018-12-04  3956.89         3753.99     5.302482e+09      3834.313382   \n",
       "2018-12-03  3894.13         3956.89     5.028069e+09      4021.157760   \n",
       "2018-12-02  4139.88         3894.13     5.089571e+09      3962.514026   \n",
       "2018-12-01  4214.67         4139.88     5.262698e+09      4207.196269   \n",
       "\n",
       "              Residuals  \n",
       "Date                     \n",
       "2018-12-05  3753.990000  \n",
       "2018-12-04   122.576618  \n",
       "2018-12-03  -127.027760  \n",
       "2018-12-02   177.365974  \n",
       "2018-12-01     7.473731  "
      ]
     },
     "execution_count": 178,
     "metadata": {},
     "output_type": "execute_result"
    }
   ],
   "source": [
    "Predict.head()"
   ]
  },
  {
   "cell_type": "code",
   "execution_count": 179,
   "metadata": {},
   "outputs": [
    {
     "data": {
      "text/plain": [
       "0.9946346496826043"
      ]
     },
     "execution_count": 179,
     "metadata": {},
     "output_type": "execute_result"
    }
   ],
   "source": [
    "r_squared = 1 - ((np.var(residuals))/np.var(y))\n",
    "r_squared"
   ]
  },
  {
   "cell_type": "code",
   "execution_count": 180,
   "metadata": {},
   "outputs": [
    {
     "data": {
      "text/plain": [
       "17.023051319110152"
      ]
     },
     "execution_count": 180,
     "metadata": {},
     "output_type": "execute_result"
    }
   ],
   "source": [
    "np.mean(residuals)"
   ]
  },
  {
   "cell_type": "code",
   "execution_count": 181,
   "metadata": {
    "scrolled": true
   },
   "outputs": [
    {
     "data": {
      "text/html": [
       "<div>\n",
       "<style>\n",
       "    .dataframe thead tr:only-child th {\n",
       "        text-align: right;\n",
       "    }\n",
       "\n",
       "    .dataframe thead th {\n",
       "        text-align: left;\n",
       "    }\n",
       "\n",
       "    .dataframe tbody tr th {\n",
       "        vertical-align: top;\n",
       "    }\n",
       "</style>\n",
       "<table border=\"1\" class=\"dataframe\">\n",
       "  <thead>\n",
       "    <tr style=\"text-align: right;\">\n",
       "      <th></th>\n",
       "      <th>Close</th>\n",
       "      <th>Previous Close</th>\n",
       "      <th>Previous Volume</th>\n",
       "      <th>Regressed Close</th>\n",
       "      <th>Residuals</th>\n",
       "    </tr>\n",
       "    <tr>\n",
       "      <th>Date</th>\n",
       "      <th></th>\n",
       "      <th></th>\n",
       "      <th></th>\n",
       "      <th></th>\n",
       "      <th></th>\n",
       "    </tr>\n",
       "  </thead>\n",
       "  <tbody>\n",
       "    <tr>\n",
       "      <th>2013-12-31</th>\n",
       "      <td>793.7644</td>\n",
       "      <td>791.1448</td>\n",
       "      <td>39274075.76</td>\n",
       "      <td>768.871259</td>\n",
       "      <td>24.893141</td>\n",
       "    </tr>\n",
       "    <tr>\n",
       "      <th>2013-12-30</th>\n",
       "      <td>796.3550</td>\n",
       "      <td>793.7644</td>\n",
       "      <td>39414065.76</td>\n",
       "      <td>771.417470</td>\n",
       "      <td>24.937530</td>\n",
       "    </tr>\n",
       "    <tr>\n",
       "      <th>2013-12-29</th>\n",
       "      <td>798.7306</td>\n",
       "      <td>796.3550</td>\n",
       "      <td>39427917.76</td>\n",
       "      <td>773.930963</td>\n",
       "      <td>24.799637</td>\n",
       "    </tr>\n",
       "    <tr>\n",
       "      <th>2013-12-28</th>\n",
       "      <td>800.9546</td>\n",
       "      <td>798.7306</td>\n",
       "      <td>39169175.76</td>\n",
       "      <td>776.225987</td>\n",
       "      <td>24.728613</td>\n",
       "    </tr>\n",
       "    <tr>\n",
       "      <th>2013-12-27</th>\n",
       "      <td>802.6376</td>\n",
       "      <td>800.9546</td>\n",
       "      <td>39018057.76</td>\n",
       "      <td>778.377865</td>\n",
       "      <td>24.259735</td>\n",
       "    </tr>\n",
       "  </tbody>\n",
       "</table>\n",
       "</div>"
      ],
      "text/plain": [
       "               Close  Previous Close  Previous Volume  Regressed Close  \\\n",
       "Date                                                                     \n",
       "2013-12-31  793.7644        791.1448      39274075.76       768.871259   \n",
       "2013-12-30  796.3550        793.7644      39414065.76       771.417470   \n",
       "2013-12-29  798.7306        796.3550      39427917.76       773.930963   \n",
       "2013-12-28  800.9546        798.7306      39169175.76       776.225987   \n",
       "2013-12-27  802.6376        800.9546      39018057.76       778.377865   \n",
       "\n",
       "            Residuals  \n",
       "Date                   \n",
       "2013-12-31  24.893141  \n",
       "2013-12-30  24.937530  \n",
       "2013-12-29  24.799637  \n",
       "2013-12-28  24.728613  \n",
       "2013-12-27  24.259735  "
      ]
     },
     "execution_count": 181,
     "metadata": {},
     "output_type": "execute_result"
    }
   ],
   "source": [
    "short_rolling = Predict.rolling(window=5).mean()\n",
    "# Calculating the long-window simple moving average\n",
    "long_rolling = Predict.rolling(window=50).mean()\n",
    "#fixedData['long_rolling'] = long_rolling\n",
    "long_rolling.tail()"
   ]
  },
  {
   "cell_type": "code",
   "execution_count": null,
   "metadata": {
    "collapsed": true
   },
   "outputs": [],
   "source": []
  },
  {
   "cell_type": "code",
   "execution_count": null,
   "metadata": {},
   "outputs": [],
   "source": []
  },
  {
   "cell_type": "code",
   "execution_count": 195,
   "metadata": {},
   "outputs": [
    {
     "data": {
      "text/html": [
       "<iframe id=\"igraph\" scrolling=\"no\" style=\"border:none;\" seamless=\"seamless\" src=\"https://plot.ly/~khajanchi.a/12.embed\" height=\"525px\" width=\"100%\"></iframe>"
      ],
      "text/plain": [
       "<plotly.tools.PlotlyDisplay object>"
      ]
     },
     "execution_count": 195,
     "metadata": {},
     "output_type": "execute_result"
    }
   ],
   "source": [
    "# Calculate 20 Day Moving Average, Std Deviation, Upper Band and Lower Band\n",
    "\n",
    "Predict['20 Day MA'] = Predict['Regressed Close'].rolling(window=20).mean()\n",
    "Predict['20 Day STD'] = Predict['Regressed Close'].rolling(window=20).std()\n",
    "Predict['Upper Band'] = Predict['20 Day MA'] + (Predict['20 Day STD'] * 0.2)\n",
    "Predict['Lower Band'] = Predict['20 Day MA'] - (Predict['20 Day STD'] * 0.2)\n",
    "\n",
    "Predict.reindex(index=Predict.index[::-1])\n",
    "Predict.iplot(y=['Regressed Close','20 Day MA', 'Upper Band', 'Lower Band','Trading Signal'], title='Bollinger Bands')\n"
   ]
  },
  {
   "cell_type": "code",
   "execution_count": 183,
   "metadata": {},
   "outputs": [],
   "source": [
    "tradingSignal = pd.DataFrame(np.where(Predict['Regressed Close']>Predict['Upper Band'],-1,0),index=Predict['Regressed Close'].index,columns=['buy_sell'])"
   ]
  },
  {
   "cell_type": "code",
   "execution_count": 184,
   "metadata": {},
   "outputs": [],
   "source": [
    "tradingSignal = pd.DataFrame(np.where(Predict['Regressed Close']<Predict['Lower Band'],1,tradingSignal['buy_sell']),index=Predict['Regressed Close'].index,columns=['buy_sell'])"
   ]
  },
  {
   "cell_type": "code",
   "execution_count": 201,
   "metadata": {},
   "outputs": [
    {
     "data": {
      "text/plain": [
       "<matplotlib.axes._subplots.AxesSubplot at 0x1fc0ec0b898>"
      ]
     },
     "execution_count": 201,
     "metadata": {},
     "output_type": "execute_result"
    },
    {
     "data": {
      "image/png": "[encoded data removed]",
      "text/plain": [
       "<matplotlib.figure.Figure at 0x1fc0ea9b978>"
      ]
     },
     "metadata": {},
     "output_type": "display_data"
    }
   ],
   "source": [
    "%matplotlib inline\n",
    "plt.rcParams['figure.figsize'] = (15, 9)\n",
    "\n",
    "Predict['Trading Signal'].plot()\n",
    "# Predict.iplot(y=['Trading Signal'])"
   ]
  },
  {
   "cell_type": "code",
   "execution_count": 203,
   "metadata": {},
   "outputs": [],
   "source": [
    "Predict['Trading Signal'].to_csv(\"trading signal\")"
   ]
  },
  {
   "cell_type": "markdown",
   "metadata": {},
   "source": [
    "### Bollinger Band Compare Bitcoin, Ethereum, Litecoin"
   ]
  },
  {
   "cell_type": "code",
   "execution_count": 205,
   "metadata": {},
   "outputs": [
    {
     "name": "stdout",
     "output_type": "stream",
     "text": [
      " Volume in drive C is Windows\n",
      " Volume Serial Number is C639-9E04\n",
      "\n",
      " Directory of C:\\Users\\vivid\\Data\\ML-Finance\n",
      "\n",
      "12/07/2018  11:21 PM    <DIR>          .\n",
      "12/07/2018  11:21 PM    <DIR>          ..\n",
      "12/07/2018  10:35 PM    <DIR>          .ipynb_checkpoints\n",
      "09/14/2018  09:56 AM         5,953,360 BITCOIN.xlsx\n",
      "12/05/2018  09:47 PM           129,301 BITCOIN_Final.xlsx\n",
      "12/07/2018  10:47 PM           246,108 Buy-hold.ipynb\n",
      "09/14/2018  10:04 AM            77,951 ETHEREUM.xlsx\n",
      "11/29/2018  05:23 PM            30,127 LITECOIN.xlsx\n",
      "12/07/2018  11:21 PM           608,777 ML_Finance_Project_120118.ipynb\n",
      "12/07/2018  10:35 PM           883,455 Moving Average Stratergy.ipynb\n",
      "12/07/2018  10:11 PM           726,462 Random Forrest & Kalman Filter.ipynb\n",
      "12/07/2018  11:21 PM            26,039 trading signal\n",
      "09/15/2018  11:05 AM            59,351 Untitled.ipynb\n",
      "09/22/2018  09:35 AM            24,915 Untitled1.ipynb\n",
      "10/06/2018  10:59 AM            80,877 Untitled2.ipynb\n",
      "10/06/2018  11:30 AM             3,054 Untitled3.ipynb\n",
      "12/05/2018  09:13 PM            50,515 Untitled4.ipynb\n",
      "11/10/2018  11:04 AM           147,325 Untitled5.ipynb\n",
      "12/01/2018  04:25 PM           274,029 Untitled6.ipynb\n",
      "              16 File(s)      9,321,646 bytes\n",
      "               3 Dir(s)  253,689,884,672 bytes free\n"
     ]
    }
   ],
   "source": [
    "!dir"
   ]
  },
  {
   "cell_type": "code",
   "execution_count": 185,
   "metadata": {
    "collapsed": true
   },
   "outputs": [],
   "source": [
    "#Loading all thea csv files\n",
    "btc = pd.DataFrame(df_bitcoin['Close'])\n",
    "df_ethereum.rename(columns={'Close**':'Close'}, inplace=True)\n",
    "eth = pd.DataFrame(df_ethereum['Close'])\n",
    "df_litecoin.rename(columns={'Close**':'Close'}, inplace=True)\n",
    "ltc = pd.DataFrame(df_litecoin['Close'])"
   ]
  },
  {
   "cell_type": "code",
   "execution_count": null,
   "metadata": {
    "collapsed": true
   },
   "outputs": [],
   "source": []
  },
  {
   "cell_type": "code",
   "execution_count": 186,
   "metadata": {
    "scrolled": false
   },
   "outputs": [
    {
     "data": {
      "text/html": [
       "<iframe id=\"igraph\" scrolling=\"no\" style=\"border:none;\" seamless=\"seamless\" src=\"https://plot.ly/~khajanchi.a/42.embed\" height=\"525px\" width=\"100%\"></iframe>"
      ],
      "text/plain": [
       "<plotly.tools.PlotlyDisplay object>"
      ]
     },
     "execution_count": 186,
     "metadata": {},
     "output_type": "execute_result"
    }
   ],
   "source": [
    "for item in (btc, eth, ltc):\n",
    "    item['20 Day MA'] = item['Close'].rolling(window=20).mean()\n",
    "    item['20 Day STD'] = item['Close'].rolling(window=20).std()\n",
    "    item['Upper Band'] = item['20 Day MA'] + (item['20 Day STD'] * 2)\n",
    "    item['Lower Band'] = item['20 Day MA'] - (item['20 Day STD'] * 2)\n",
    "\n",
    "# Simple 30 Day Bollinger Band for Facebook (2016-2017)\n",
    "btc[['Close', '20 Day MA', 'Upper Band', 'Lower Band']].iplot()\n",
    "\n",
    "# plt.title('30 Day Bollinger Band for Bitcoin')\n",
    "# plt.ylabel('Price (USD)')\n",
    "# plt.show()"
   ]
  },
  {
   "cell_type": "code",
   "execution_count": 187,
   "metadata": {},
   "outputs": [
    {
     "data": {
      "text/html": [
       "<iframe id=\"igraph\" scrolling=\"no\" style=\"border:none;\" seamless=\"seamless\" src=\"https://plot.ly/~khajanchi.a/44.embed\" height=\"525px\" width=\"100%\"></iframe>"
      ],
      "text/plain": [
       "<plotly.tools.PlotlyDisplay object>"
      ]
     },
     "execution_count": 187,
     "metadata": {},
     "output_type": "execute_result"
    }
   ],
   "source": [
    "eth[['Close', '20 Day MA', 'Upper Band', 'Lower Band']].iplot()"
   ]
  },
  {
   "cell_type": "code",
   "execution_count": 188,
   "metadata": {},
   "outputs": [
    {
     "data": {
      "text/html": [
       "<iframe id=\"igraph\" scrolling=\"no\" style=\"border:none;\" seamless=\"seamless\" src=\"https://plot.ly/~khajanchi.a/46.embed\" height=\"525px\" width=\"100%\"></iframe>"
      ],
      "text/plain": [
       "<plotly.tools.PlotlyDisplay object>"
      ]
     },
     "execution_count": 188,
     "metadata": {},
     "output_type": "execute_result"
    }
   ],
   "source": [
    "ltc[['Close', '20 Day MA', 'Upper Band', 'Lower Band']].iplot()"
   ]
  },
  {
   "cell_type": "code",
   "execution_count": 189,
   "metadata": {
    "scrolled": false
   },
   "outputs": [
    {
     "data": {
      "image/png": "[encoded data removed]",
      "text/plain": [
       "<matplotlib.figure.Figure at 0x1fc0d5eca90>"
      ]
     },
     "metadata": {},
     "output_type": "display_data"
    }
   ],
   "source": [
    "plt.style.use('fivethirtyeight')\n",
    "fig = plt.figure(figsize=(12,6))\n",
    "ax = fig.add_subplot(111)\n",
    "\n",
    "# Get index values for the X axis for facebook DataFrame\n",
    "x_axis = btc.index.get_level_values(0)\n",
    "\n",
    "# Plot shaded 21 Day Bollinger Band for Facebook\n",
    "ax.fill_between(x_axis, btc['Upper Band'], btc['Lower Band'], color='grey')\n",
    "\n",
    "# Plot Adjust Closing Price and Moving Averages\n",
    "ax.plot(x_axis, btc['Close'], color='blue', lw=2)\n",
    "ax.plot(x_axis, btc['20 Day MA'], color='black', lw=2)\n",
    "\n",
    "# Set Title & Show the Image\n",
    "ax.set_title('20 Day Bollinger Band For Bitcoin')\n",
    "ax.set_xlabel('Date (Year/Month)')\n",
    "ax.set_ylabel('Price(USD)')\n",
    "ax.legend()\n",
    "plt.show();"
   ]
  }
 ],
 "metadata": {
  "kernelspec": {
   "display_name": "Python 3",
   "language": "python",
   "name": "python3"
  },
  "language_info": {
   "codemirror_mode": {
    "name": "ipython",
    "version": 3
   },
   "file_extension": ".py",
   "mimetype": "text/x-python",
   "name": "python",
   "nbconvert_exporter": "python",
   "pygments_lexer": "ipython3",
   "version": "3.6.3"
  }
 },
 "nbformat": 4,
 "nbformat_minor": 2
}
